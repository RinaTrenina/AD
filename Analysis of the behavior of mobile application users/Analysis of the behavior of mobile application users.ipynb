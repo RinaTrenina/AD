{
 "cells": [
  {
   "cell_type": "markdown",
   "metadata": {},
   "source": [
    "# АНАЛИЗ ПОВЕДЕНИЯ ПОЛЬЗОВАТЕЛЕЙ МОБИЛЬНОГО ПРИЛОЖЕНИЯ"
   ]
  },
  {
   "cell_type": "markdown",
   "metadata": {},
   "source": [
    "**ЦЕЛЬ:**   \n",
    "Необходимо разобраться, как ведут себя пользователи мобильного приложения по продаже продуктов питания.   \n",
    "\n",
    "**План:**\n",
    "- изучить и обработать данные;\n",
    "- изучить воронку продаж;\n",
    "- узнайть, как пользователи доходят до покупки. Сколько пользователей доходит до покупки, а сколько — «застревает» на предыдущих шагах? На каких именно;\n",
    "- исследовать результаты A/A/B-эксперимента по смене шрифта в приложениии. Договорились принять решение по результатам A/A/B-теста. Пользователей разбили на 3 группы: 2 контрольные со старыми шрифтами и одну экспериментальную — с новыми. Выяснить, какой шрифт лучше."
   ]
  },
  {
   "cell_type": "markdown",
   "metadata": {},
   "source": [
    "*Описание данных*   \n",
    "\n",
    "Каждая запись в логе — это действие пользователя, или событие. \n",
    "- EventName — название события;\n",
    "- DeviceIDHash — уникальный идентификатор пользователя;\n",
    "- EventTimestamp — время события;\n",
    "- ExpId — номер эксперимента: 246 и 247 — контрольные группы, а 248 — экспериментальная."
   ]
  },
  {
   "cell_type": "markdown",
   "metadata": {},
   "source": [
    "## Предобработка данных"
   ]
  },
  {
   "cell_type": "markdown",
   "metadata": {},
   "source": [
    "Импортируем необходимые библиотеки и загрузим данные, подобрав разделитель."
   ]
  },
  {
   "cell_type": "code",
   "execution_count": 1,
   "metadata": {},
   "outputs": [],
   "source": [
    "import pandas as pd\n",
    "import numpy as np\n",
    "import seaborn as sbn\n",
    "import matplotlib.pyplot as plt\n",
    "from scipy import stats as st\n",
    "import math as mth\n",
    "import plotly.express as px\n",
    "from plotly import graph_objects as go"
   ]
  },
  {
   "cell_type": "code",
   "execution_count": 2,
   "metadata": {},
   "outputs": [],
   "source": [
    "df = pd.read_csv('/datasets/logs_exp.csv', sep='\\t')"
   ]
  },
  {
   "cell_type": "markdown",
   "metadata": {},
   "source": [
    "Выведем первые строки датасета для ознакомления"
   ]
  },
  {
   "cell_type": "code",
   "execution_count": 3,
   "metadata": {},
   "outputs": [
    {
     "data": {
      "text/html": [
       "<div>\n",
       "<style scoped>\n",
       "    .dataframe tbody tr th:only-of-type {\n",
       "        vertical-align: middle;\n",
       "    }\n",
       "\n",
       "    .dataframe tbody tr th {\n",
       "        vertical-align: top;\n",
       "    }\n",
       "\n",
       "    .dataframe thead th {\n",
       "        text-align: right;\n",
       "    }\n",
       "</style>\n",
       "<table border=\"1\" class=\"dataframe\">\n",
       "  <thead>\n",
       "    <tr style=\"text-align: right;\">\n",
       "      <th></th>\n",
       "      <th>EventName</th>\n",
       "      <th>DeviceIDHash</th>\n",
       "      <th>EventTimestamp</th>\n",
       "      <th>ExpId</th>\n",
       "    </tr>\n",
       "  </thead>\n",
       "  <tbody>\n",
       "    <tr>\n",
       "      <th>0</th>\n",
       "      <td>MainScreenAppear</td>\n",
       "      <td>4575588528974610257</td>\n",
       "      <td>1564029816</td>\n",
       "      <td>246</td>\n",
       "    </tr>\n",
       "    <tr>\n",
       "      <th>1</th>\n",
       "      <td>MainScreenAppear</td>\n",
       "      <td>7416695313311560658</td>\n",
       "      <td>1564053102</td>\n",
       "      <td>246</td>\n",
       "    </tr>\n",
       "    <tr>\n",
       "      <th>2</th>\n",
       "      <td>PaymentScreenSuccessful</td>\n",
       "      <td>3518123091307005509</td>\n",
       "      <td>1564054127</td>\n",
       "      <td>248</td>\n",
       "    </tr>\n",
       "    <tr>\n",
       "      <th>3</th>\n",
       "      <td>CartScreenAppear</td>\n",
       "      <td>3518123091307005509</td>\n",
       "      <td>1564054127</td>\n",
       "      <td>248</td>\n",
       "    </tr>\n",
       "    <tr>\n",
       "      <th>4</th>\n",
       "      <td>PaymentScreenSuccessful</td>\n",
       "      <td>6217807653094995999</td>\n",
       "      <td>1564055322</td>\n",
       "      <td>248</td>\n",
       "    </tr>\n",
       "  </tbody>\n",
       "</table>\n",
       "</div>"
      ],
      "text/plain": [
       "                 EventName         DeviceIDHash  EventTimestamp  ExpId\n",
       "0         MainScreenAppear  4575588528974610257      1564029816    246\n",
       "1         MainScreenAppear  7416695313311560658      1564053102    246\n",
       "2  PaymentScreenSuccessful  3518123091307005509      1564054127    248\n",
       "3         CartScreenAppear  3518123091307005509      1564054127    248\n",
       "4  PaymentScreenSuccessful  6217807653094995999      1564055322    248"
      ]
     },
     "execution_count": 3,
     "metadata": {},
     "output_type": "execute_result"
    }
   ],
   "source": [
    "df.head()"
   ]
  },
  {
   "cell_type": "markdown",
   "metadata": {},
   "source": [
    "Создадим функцию для вывода общей информации по датафрейму: размер, типы данных и количество пропусков в солбцах, наименования столбцов отдельно"
   ]
  },
  {
   "cell_type": "code",
   "execution_count": 4,
   "metadata": {},
   "outputs": [],
   "source": [
    "def describe(df: pd.DataFrame):\n",
    "    display(f'Общая информация: {df.shape}')\n",
    "    display(df.info())\n",
    "    print('Дубликаты в массиве:', df.duplicated().sum(), 'в процентах:', round(df.duplicated().mean()*100, 2))\n",
    "    display(f'Названия столбцов: {df.columns}')"
   ]
  },
  {
   "cell_type": "code",
   "execution_count": 5,
   "metadata": {},
   "outputs": [
    {
     "data": {
      "text/plain": [
       "'Общая информация: (244126, 4)'"
      ]
     },
     "metadata": {},
     "output_type": "display_data"
    },
    {
     "name": "stdout",
     "output_type": "stream",
     "text": [
      "<class 'pandas.core.frame.DataFrame'>\n",
      "RangeIndex: 244126 entries, 0 to 244125\n",
      "Data columns (total 4 columns):\n",
      " #   Column          Non-Null Count   Dtype \n",
      "---  ------          --------------   ----- \n",
      " 0   EventName       244126 non-null  object\n",
      " 1   DeviceIDHash    244126 non-null  int64 \n",
      " 2   EventTimestamp  244126 non-null  int64 \n",
      " 3   ExpId           244126 non-null  int64 \n",
      "dtypes: int64(3), object(1)\n",
      "memory usage: 7.5+ MB\n"
     ]
    },
    {
     "data": {
      "text/plain": [
       "None"
      ]
     },
     "metadata": {},
     "output_type": "display_data"
    },
    {
     "name": "stdout",
     "output_type": "stream",
     "text": [
      "Дубликаты в массиве: 413 в процентах: 0.17\n"
     ]
    },
    {
     "data": {
      "text/plain": [
       "\"Названия столбцов: Index(['EventName', 'DeviceIDHash', 'EventTimestamp', 'ExpId'], dtype='object')\""
      ]
     },
     "metadata": {},
     "output_type": "display_data"
    }
   ],
   "source": [
    "describe(df)"
   ]
  },
  {
   "cell_type": "markdown",
   "metadata": {},
   "source": [
    "Количество строк-дубликатов по отношению к общему объему данных невелико (0,17%), поэтому их можно удалить."
   ]
  },
  {
   "cell_type": "code",
   "execution_count": 6,
   "metadata": {},
   "outputs": [
    {
     "name": "stdout",
     "output_type": "stream",
     "text": [
      "<class 'pandas.core.frame.DataFrame'>\n",
      "RangeIndex: 243713 entries, 0 to 243712\n",
      "Data columns (total 4 columns):\n",
      " #   Column          Non-Null Count   Dtype \n",
      "---  ------          --------------   ----- \n",
      " 0   EventName       243713 non-null  object\n",
      " 1   DeviceIDHash    243713 non-null  int64 \n",
      " 2   EventTimestamp  243713 non-null  int64 \n",
      " 3   ExpId           243713 non-null  int64 \n",
      "dtypes: int64(3), object(1)\n",
      "memory usage: 7.4+ MB\n"
     ]
    }
   ],
   "source": [
    "df = df.drop_duplicates().reset_index(drop=True)\n",
    "df.info()"
   ]
  },
  {
   "cell_type": "markdown",
   "metadata": {},
   "source": [
    "Переименуем столбцы массива:"
   ]
  },
  {
   "cell_type": "code",
   "execution_count": 7,
   "metadata": {},
   "outputs": [
    {
     "data": {
      "text/html": [
       "<div>\n",
       "<style scoped>\n",
       "    .dataframe tbody tr th:only-of-type {\n",
       "        vertical-align: middle;\n",
       "    }\n",
       "\n",
       "    .dataframe tbody tr th {\n",
       "        vertical-align: top;\n",
       "    }\n",
       "\n",
       "    .dataframe thead th {\n",
       "        text-align: right;\n",
       "    }\n",
       "</style>\n",
       "<table border=\"1\" class=\"dataframe\">\n",
       "  <thead>\n",
       "    <tr style=\"text-align: right;\">\n",
       "      <th></th>\n",
       "      <th>event</th>\n",
       "      <th>user_id</th>\n",
       "      <th>timestamp</th>\n",
       "      <th>group</th>\n",
       "    </tr>\n",
       "  </thead>\n",
       "  <tbody>\n",
       "    <tr>\n",
       "      <th>0</th>\n",
       "      <td>MainScreenAppear</td>\n",
       "      <td>4575588528974610257</td>\n",
       "      <td>1564029816</td>\n",
       "      <td>246</td>\n",
       "    </tr>\n",
       "    <tr>\n",
       "      <th>1</th>\n",
       "      <td>MainScreenAppear</td>\n",
       "      <td>7416695313311560658</td>\n",
       "      <td>1564053102</td>\n",
       "      <td>246</td>\n",
       "    </tr>\n",
       "    <tr>\n",
       "      <th>2</th>\n",
       "      <td>PaymentScreenSuccessful</td>\n",
       "      <td>3518123091307005509</td>\n",
       "      <td>1564054127</td>\n",
       "      <td>248</td>\n",
       "    </tr>\n",
       "    <tr>\n",
       "      <th>3</th>\n",
       "      <td>CartScreenAppear</td>\n",
       "      <td>3518123091307005509</td>\n",
       "      <td>1564054127</td>\n",
       "      <td>248</td>\n",
       "    </tr>\n",
       "    <tr>\n",
       "      <th>4</th>\n",
       "      <td>PaymentScreenSuccessful</td>\n",
       "      <td>6217807653094995999</td>\n",
       "      <td>1564055322</td>\n",
       "      <td>248</td>\n",
       "    </tr>\n",
       "  </tbody>\n",
       "</table>\n",
       "</div>"
      ],
      "text/plain": [
       "                     event              user_id   timestamp  group\n",
       "0         MainScreenAppear  4575588528974610257  1564029816    246\n",
       "1         MainScreenAppear  7416695313311560658  1564053102    246\n",
       "2  PaymentScreenSuccessful  3518123091307005509  1564054127    248\n",
       "3         CartScreenAppear  3518123091307005509  1564054127    248\n",
       "4  PaymentScreenSuccessful  6217807653094995999  1564055322    248"
      ]
     },
     "execution_count": 7,
     "metadata": {},
     "output_type": "execute_result"
    }
   ],
   "source": [
    "df = df.rename(columns={'EventName': 'event', 'DeviceIDHash': 'user_id', 'EventTimestamp': 'timestamp', 'ExpId': 'group'})\n",
    "df.head()"
   ]
  },
  {
   "cell_type": "markdown",
   "metadata": {},
   "source": [
    "Приведем данные в столбце с датами к соответствующему формату, учитывая что время дано в формате UTC."
   ]
  },
  {
   "cell_type": "code",
   "execution_count": 8,
   "metadata": {},
   "outputs": [
    {
     "data": {
      "text/html": [
       "<div>\n",
       "<style scoped>\n",
       "    .dataframe tbody tr th:only-of-type {\n",
       "        vertical-align: middle;\n",
       "    }\n",
       "\n",
       "    .dataframe tbody tr th {\n",
       "        vertical-align: top;\n",
       "    }\n",
       "\n",
       "    .dataframe thead th {\n",
       "        text-align: right;\n",
       "    }\n",
       "</style>\n",
       "<table border=\"1\" class=\"dataframe\">\n",
       "  <thead>\n",
       "    <tr style=\"text-align: right;\">\n",
       "      <th></th>\n",
       "      <th>event</th>\n",
       "      <th>user_id</th>\n",
       "      <th>timestamp</th>\n",
       "      <th>group</th>\n",
       "      <th>timedate</th>\n",
       "    </tr>\n",
       "  </thead>\n",
       "  <tbody>\n",
       "    <tr>\n",
       "      <th>0</th>\n",
       "      <td>MainScreenAppear</td>\n",
       "      <td>4575588528974610257</td>\n",
       "      <td>1564029816</td>\n",
       "      <td>246</td>\n",
       "      <td>2019-07-25 04:43:36</td>\n",
       "    </tr>\n",
       "    <tr>\n",
       "      <th>1</th>\n",
       "      <td>MainScreenAppear</td>\n",
       "      <td>7416695313311560658</td>\n",
       "      <td>1564053102</td>\n",
       "      <td>246</td>\n",
       "      <td>2019-07-25 11:11:42</td>\n",
       "    </tr>\n",
       "    <tr>\n",
       "      <th>2</th>\n",
       "      <td>PaymentScreenSuccessful</td>\n",
       "      <td>3518123091307005509</td>\n",
       "      <td>1564054127</td>\n",
       "      <td>248</td>\n",
       "      <td>2019-07-25 11:28:47</td>\n",
       "    </tr>\n",
       "    <tr>\n",
       "      <th>3</th>\n",
       "      <td>CartScreenAppear</td>\n",
       "      <td>3518123091307005509</td>\n",
       "      <td>1564054127</td>\n",
       "      <td>248</td>\n",
       "      <td>2019-07-25 11:28:47</td>\n",
       "    </tr>\n",
       "    <tr>\n",
       "      <th>4</th>\n",
       "      <td>PaymentScreenSuccessful</td>\n",
       "      <td>6217807653094995999</td>\n",
       "      <td>1564055322</td>\n",
       "      <td>248</td>\n",
       "      <td>2019-07-25 11:48:42</td>\n",
       "    </tr>\n",
       "  </tbody>\n",
       "</table>\n",
       "</div>"
      ],
      "text/plain": [
       "                     event              user_id   timestamp  group  \\\n",
       "0         MainScreenAppear  4575588528974610257  1564029816    246   \n",
       "1         MainScreenAppear  7416695313311560658  1564053102    246   \n",
       "2  PaymentScreenSuccessful  3518123091307005509  1564054127    248   \n",
       "3         CartScreenAppear  3518123091307005509  1564054127    248   \n",
       "4  PaymentScreenSuccessful  6217807653094995999  1564055322    248   \n",
       "\n",
       "             timedate  \n",
       "0 2019-07-25 04:43:36  \n",
       "1 2019-07-25 11:11:42  \n",
       "2 2019-07-25 11:28:47  \n",
       "3 2019-07-25 11:28:47  \n",
       "4 2019-07-25 11:48:42  "
      ]
     },
     "execution_count": 8,
     "metadata": {},
     "output_type": "execute_result"
    }
   ],
   "source": [
    "df['timedate'] = pd.to_datetime(df['timestamp'], unit='s')\n",
    "df.head()"
   ]
  },
  {
   "cell_type": "markdown",
   "metadata": {},
   "source": [
    "Добавим столбец только с датой в нужном формате:"
   ]
  },
  {
   "cell_type": "code",
   "execution_count": 9,
   "metadata": {},
   "outputs": [
    {
     "data": {
      "text/html": [
       "<div>\n",
       "<style scoped>\n",
       "    .dataframe tbody tr th:only-of-type {\n",
       "        vertical-align: middle;\n",
       "    }\n",
       "\n",
       "    .dataframe tbody tr th {\n",
       "        vertical-align: top;\n",
       "    }\n",
       "\n",
       "    .dataframe thead th {\n",
       "        text-align: right;\n",
       "    }\n",
       "</style>\n",
       "<table border=\"1\" class=\"dataframe\">\n",
       "  <thead>\n",
       "    <tr style=\"text-align: right;\">\n",
       "      <th></th>\n",
       "      <th>event</th>\n",
       "      <th>user_id</th>\n",
       "      <th>timestamp</th>\n",
       "      <th>group</th>\n",
       "      <th>timedate</th>\n",
       "      <th>date</th>\n",
       "    </tr>\n",
       "  </thead>\n",
       "  <tbody>\n",
       "    <tr>\n",
       "      <th>0</th>\n",
       "      <td>MainScreenAppear</td>\n",
       "      <td>4575588528974610257</td>\n",
       "      <td>1564029816</td>\n",
       "      <td>246</td>\n",
       "      <td>2019-07-25 04:43:36</td>\n",
       "      <td>2019-07-25</td>\n",
       "    </tr>\n",
       "    <tr>\n",
       "      <th>1</th>\n",
       "      <td>MainScreenAppear</td>\n",
       "      <td>7416695313311560658</td>\n",
       "      <td>1564053102</td>\n",
       "      <td>246</td>\n",
       "      <td>2019-07-25 11:11:42</td>\n",
       "      <td>2019-07-25</td>\n",
       "    </tr>\n",
       "    <tr>\n",
       "      <th>2</th>\n",
       "      <td>PaymentScreenSuccessful</td>\n",
       "      <td>3518123091307005509</td>\n",
       "      <td>1564054127</td>\n",
       "      <td>248</td>\n",
       "      <td>2019-07-25 11:28:47</td>\n",
       "      <td>2019-07-25</td>\n",
       "    </tr>\n",
       "    <tr>\n",
       "      <th>3</th>\n",
       "      <td>CartScreenAppear</td>\n",
       "      <td>3518123091307005509</td>\n",
       "      <td>1564054127</td>\n",
       "      <td>248</td>\n",
       "      <td>2019-07-25 11:28:47</td>\n",
       "      <td>2019-07-25</td>\n",
       "    </tr>\n",
       "    <tr>\n",
       "      <th>4</th>\n",
       "      <td>PaymentScreenSuccessful</td>\n",
       "      <td>6217807653094995999</td>\n",
       "      <td>1564055322</td>\n",
       "      <td>248</td>\n",
       "      <td>2019-07-25 11:48:42</td>\n",
       "      <td>2019-07-25</td>\n",
       "    </tr>\n",
       "  </tbody>\n",
       "</table>\n",
       "</div>"
      ],
      "text/plain": [
       "                     event              user_id   timestamp  group  \\\n",
       "0         MainScreenAppear  4575588528974610257  1564029816    246   \n",
       "1         MainScreenAppear  7416695313311560658  1564053102    246   \n",
       "2  PaymentScreenSuccessful  3518123091307005509  1564054127    248   \n",
       "3         CartScreenAppear  3518123091307005509  1564054127    248   \n",
       "4  PaymentScreenSuccessful  6217807653094995999  1564055322    248   \n",
       "\n",
       "             timedate        date  \n",
       "0 2019-07-25 04:43:36  2019-07-25  \n",
       "1 2019-07-25 11:11:42  2019-07-25  \n",
       "2 2019-07-25 11:28:47  2019-07-25  \n",
       "3 2019-07-25 11:28:47  2019-07-25  \n",
       "4 2019-07-25 11:48:42  2019-07-25  "
      ]
     },
     "execution_count": 9,
     "metadata": {},
     "output_type": "execute_result"
    }
   ],
   "source": [
    "df['date'] = df['timedate'].dt.date\n",
    "df.head()"
   ]
  },
  {
   "cell_type": "code",
   "execution_count": 10,
   "metadata": {},
   "outputs": [
    {
     "name": "stdout",
     "output_type": "stream",
     "text": [
      "<class 'pandas.core.frame.DataFrame'>\n",
      "RangeIndex: 243713 entries, 0 to 243712\n",
      "Data columns (total 6 columns):\n",
      " #   Column     Non-Null Count   Dtype         \n",
      "---  ------     --------------   -----         \n",
      " 0   event      243713 non-null  object        \n",
      " 1   user_id    243713 non-null  int64         \n",
      " 2   timestamp  243713 non-null  int64         \n",
      " 3   group      243713 non-null  int64         \n",
      " 4   timedate   243713 non-null  datetime64[ns]\n",
      " 5   date       243713 non-null  datetime64[ns]\n",
      "dtypes: datetime64[ns](2), int64(3), object(1)\n",
      "memory usage: 11.2+ MB\n"
     ]
    }
   ],
   "source": [
    "df['date'] = pd.to_datetime(df['date'])\n",
    "df.info()"
   ]
  },
  {
   "cell_type": "markdown",
   "metadata": {},
   "source": [
    "**Вывод:**  после загрузки библиотек и данных, первичного ознакомления с данными - была проведена обработка.   \n",
    "\n",
    "В процессе предобработки:\n",
    "- заменены названия столбцов со сменой регистра;\n",
    "- проверены пропуски и типы данных. Откорректированы;\n",
    "- удалены полные дубликаты строк;\n",
    "- добавлен столбец даты и времени, а также отдельный столбец дат."
   ]
  },
  {
   "cell_type": "markdown",
   "metadata": {},
   "source": [
    "## Изучение и проверка данных"
   ]
  },
  {
   "cell_type": "markdown",
   "metadata": {},
   "source": [
    "После обработки данных в нашем массиве 43713 строк с событиями. Выведем типы этих событий и их количество."
   ]
  },
  {
   "cell_type": "code",
   "execution_count": 11,
   "metadata": {},
   "outputs": [
    {
     "data": {
      "text/plain": [
       "243713"
      ]
     },
     "execution_count": 11,
     "metadata": {},
     "output_type": "execute_result"
    }
   ],
   "source": [
    "events=len(df['event'])\n",
    "events"
   ]
  },
  {
   "cell_type": "code",
   "execution_count": 12,
   "metadata": {},
   "outputs": [
    {
     "data": {
      "text/plain": [
       "MainScreenAppear           119101\n",
       "OffersScreenAppear          46808\n",
       "CartScreenAppear            42668\n",
       "PaymentScreenSuccessful     34118\n",
       "Tutorial                     1018\n",
       "Name: event, dtype: int64"
      ]
     },
     "execution_count": 12,
     "metadata": {},
     "output_type": "execute_result"
    }
   ],
   "source": [
    "df['event'].value_counts()"
   ]
  },
  {
   "cell_type": "markdown",
   "metadata": {},
   "source": [
    "Узнаем количество пользователей с уникальными идентификаторами."
   ]
  },
  {
   "cell_type": "code",
   "execution_count": 13,
   "metadata": {},
   "outputs": [
    {
     "data": {
      "text/plain": [
       "7551"
      ]
     },
     "execution_count": 13,
     "metadata": {},
     "output_type": "execute_result"
    }
   ],
   "source": [
    "users1 = len(df['user_id'].unique())\n",
    "users1"
   ]
  },
  {
   "cell_type": "markdown",
   "metadata": {},
   "source": [
    "Подсчитаем количество событий на пользователя в среднем"
   ]
  },
  {
   "cell_type": "code",
   "execution_count": 14,
   "metadata": {},
   "outputs": [
    {
     "data": {
      "text/plain": [
       "32.0"
      ]
     },
     "execution_count": 14,
     "metadata": {},
     "output_type": "execute_result"
    }
   ],
   "source": [
    "visits = df.groupby('user_id')['event'].count()\n",
    "visits.mean().round()"
   ]
  },
  {
   "cell_type": "code",
   "execution_count": 15,
   "metadata": {},
   "outputs": [
    {
     "data": {
      "image/png": "[encoded data removed]",
      "text/plain": [
       "<Figure size 1080x288 with 1 Axes>"
      ]
     },
     "metadata": {
      "needs_background": "light"
     },
     "output_type": "display_data"
    }
   ],
   "source": [
    "plt.figure(figsize=(15,4))\n",
    "plt.hist(visits, bins=100, range=(0,500)) \n",
    "plt.xlabel('Пользователи')\n",
    "plt.grid()\n",
    "plt.ylabel('События')\n",
    "plt.title('Количество событий на пользователя')\n",
    "plt.show()"
   ]
  },
  {
   "cell_type": "code",
   "execution_count": 16,
   "metadata": {},
   "outputs": [
    {
     "data": {
      "text/plain": [
       "count    7551.000000\n",
       "mean       32.275593\n",
       "std        65.154219\n",
       "min         1.000000\n",
       "25%         9.000000\n",
       "50%        20.000000\n",
       "75%        37.000000\n",
       "max      2307.000000\n",
       "Name: event, dtype: float64"
      ]
     },
     "execution_count": 16,
     "metadata": {},
     "output_type": "execute_result"
    }
   ],
   "source": [
    "visits.describe()"
   ]
  },
  {
   "cell_type": "markdown",
   "metadata": {},
   "source": [
    "Распределение скошено влево. Большая разница в максимуме и минимуме. Есть смысл рассмотреть все стат. характеристики и учитывать медиану, равную 20, а не среднее."
   ]
  },
  {
   "cell_type": "markdown",
   "metadata": {},
   "source": [
    "Определим, данными за какой период мы располагаем:"
   ]
  },
  {
   "cell_type": "code",
   "execution_count": 17,
   "metadata": {},
   "outputs": [
    {
     "data": {
      "text/plain": [
       "'Максимальная дата привлечения пользователей 2019-08-07'"
      ]
     },
     "metadata": {},
     "output_type": "display_data"
    }
   ],
   "source": [
    "max = df['date'].dt.date.max()\n",
    "display('Максимальная дата привлечения пользователей {}'.format(max))"
   ]
  },
  {
   "cell_type": "code",
   "execution_count": 18,
   "metadata": {},
   "outputs": [
    {
     "data": {
      "text/plain": [
       "'Минимальная дата привлечения пользователей 2019-07-25'"
      ]
     },
     "metadata": {},
     "output_type": "display_data"
    }
   ],
   "source": [
    "min = df['date'].dt.date.min()\n",
    "display('Минимальная дата привлечения пользователей {}'.format(min))"
   ]
  },
  {
   "cell_type": "markdown",
   "metadata": {},
   "source": [
    "Имеются данные с 25 июля по 7 августа 2019 года, за 2 недели. Построим гистограмму, чтобы увидеть распределение данных во времени."
   ]
  },
  {
   "cell_type": "code",
   "execution_count": 19,
   "metadata": {},
   "outputs": [
    {
     "data": {
      "image/png": "[encoded data removed]",
      "text/plain": [
       "<Figure size 1008x360 with 1 Axes>"
      ]
     },
     "metadata": {
      "needs_background": "light"
     },
     "output_type": "display_data"
    }
   ],
   "source": [
    "df['timedate'].hist(bins=14*24, figsize=(14, 5))\n",
    "plt.xlabel('Даты')\n",
    "plt.ylabel('Частота')\n",
    "plt.title('Распределение данных во времени')\n",
    "plt.show()"
   ]
  },
  {
   "cell_type": "markdown",
   "metadata": {},
   "source": [
    "Основное количество данных приходится на вторую неделю, начиная с 01.08.2019. Отбросим данные за июль."
   ]
  },
  {
   "cell_type": "code",
   "execution_count": 20,
   "metadata": {},
   "outputs": [
    {
     "data": {
      "text/html": [
       "<div>\n",
       "<style scoped>\n",
       "    .dataframe tbody tr th:only-of-type {\n",
       "        vertical-align: middle;\n",
       "    }\n",
       "\n",
       "    .dataframe tbody tr th {\n",
       "        vertical-align: top;\n",
       "    }\n",
       "\n",
       "    .dataframe thead th {\n",
       "        text-align: right;\n",
       "    }\n",
       "</style>\n",
       "<table border=\"1\" class=\"dataframe\">\n",
       "  <thead>\n",
       "    <tr style=\"text-align: right;\">\n",
       "      <th></th>\n",
       "      <th>event</th>\n",
       "      <th>user_id</th>\n",
       "      <th>timestamp</th>\n",
       "      <th>group</th>\n",
       "      <th>timedate</th>\n",
       "      <th>date</th>\n",
       "    </tr>\n",
       "  </thead>\n",
       "  <tbody>\n",
       "    <tr>\n",
       "      <th>3058</th>\n",
       "      <td>OffersScreenAppear</td>\n",
       "      <td>3875442471617517817</td>\n",
       "      <td>1564621956</td>\n",
       "      <td>248</td>\n",
       "      <td>2019-08-01 01:12:36</td>\n",
       "      <td>2019-08-01</td>\n",
       "    </tr>\n",
       "    <tr>\n",
       "      <th>31802</th>\n",
       "      <td>PaymentScreenSuccessful</td>\n",
       "      <td>4899590676214355127</td>\n",
       "      <td>1564680918</td>\n",
       "      <td>247</td>\n",
       "      <td>2019-08-01 17:35:18</td>\n",
       "      <td>2019-08-01</td>\n",
       "    </tr>\n",
       "    <tr>\n",
       "      <th>237559</th>\n",
       "      <td>MainScreenAppear</td>\n",
       "      <td>2380122902375934285</td>\n",
       "      <td>1565197118</td>\n",
       "      <td>248</td>\n",
       "      <td>2019-08-07 16:58:38</td>\n",
       "      <td>2019-08-07</td>\n",
       "    </tr>\n",
       "    <tr>\n",
       "      <th>118657</th>\n",
       "      <td>PaymentScreenSuccessful</td>\n",
       "      <td>8118046800480174342</td>\n",
       "      <td>1564914757</td>\n",
       "      <td>246</td>\n",
       "      <td>2019-08-04 10:32:37</td>\n",
       "      <td>2019-08-04</td>\n",
       "    </tr>\n",
       "    <tr>\n",
       "      <th>114715</th>\n",
       "      <td>CartScreenAppear</td>\n",
       "      <td>7843962283443313652</td>\n",
       "      <td>1564908003</td>\n",
       "      <td>248</td>\n",
       "      <td>2019-08-04 08:40:03</td>\n",
       "      <td>2019-08-04</td>\n",
       "    </tr>\n",
       "    <tr>\n",
       "      <th>171529</th>\n",
       "      <td>MainScreenAppear</td>\n",
       "      <td>5789644074976722636</td>\n",
       "      <td>1565028513</td>\n",
       "      <td>248</td>\n",
       "      <td>2019-08-05 18:08:33</td>\n",
       "      <td>2019-08-05</td>\n",
       "    </tr>\n",
       "    <tr>\n",
       "      <th>156920</th>\n",
       "      <td>OffersScreenAppear</td>\n",
       "      <td>3051480192517827706</td>\n",
       "      <td>1565008790</td>\n",
       "      <td>246</td>\n",
       "      <td>2019-08-05 12:39:50</td>\n",
       "      <td>2019-08-05</td>\n",
       "    </tr>\n",
       "  </tbody>\n",
       "</table>\n",
       "</div>"
      ],
      "text/plain": [
       "                          event              user_id   timestamp  group  \\\n",
       "3058         OffersScreenAppear  3875442471617517817  1564621956    248   \n",
       "31802   PaymentScreenSuccessful  4899590676214355127  1564680918    247   \n",
       "237559         MainScreenAppear  2380122902375934285  1565197118    248   \n",
       "118657  PaymentScreenSuccessful  8118046800480174342  1564914757    246   \n",
       "114715         CartScreenAppear  7843962283443313652  1564908003    248   \n",
       "171529         MainScreenAppear  5789644074976722636  1565028513    248   \n",
       "156920       OffersScreenAppear  3051480192517827706  1565008790    246   \n",
       "\n",
       "                  timedate       date  \n",
       "3058   2019-08-01 01:12:36 2019-08-01  \n",
       "31802  2019-08-01 17:35:18 2019-08-01  \n",
       "237559 2019-08-07 16:58:38 2019-08-07  \n",
       "118657 2019-08-04 10:32:37 2019-08-04  \n",
       "114715 2019-08-04 08:40:03 2019-08-04  \n",
       "171529 2019-08-05 18:08:33 2019-08-05  \n",
       "156920 2019-08-05 12:39:50 2019-08-05  "
      ]
     },
     "execution_count": 20,
     "metadata": {},
     "output_type": "execute_result"
    }
   ],
   "source": [
    "data = df.query('date > \"2019-07-31\"')\n",
    "data.sample(n=7)"
   ]
  },
  {
   "cell_type": "markdown",
   "metadata": {},
   "source": [
    "Проверим, много ли событий и пользователей мы потеряли, отбросив часть данных."
   ]
  },
  {
   "cell_type": "code",
   "execution_count": 21,
   "metadata": {},
   "outputs": [
    {
     "data": {
      "text/plain": [
       "240887"
      ]
     },
     "execution_count": 21,
     "metadata": {},
     "output_type": "execute_result"
    }
   ],
   "source": [
    "all_events=len(data['event'])\n",
    "all_events"
   ]
  },
  {
   "cell_type": "code",
   "execution_count": 22,
   "metadata": {},
   "outputs": [
    {
     "name": "stdout",
     "output_type": "stream",
     "text": [
      "Количество пользователей с уникальными id: 7534\n"
     ]
    }
   ],
   "source": [
    "all_users=len(data['user_id'].unique())\n",
    "print('Количество пользователей с уникальными id:', all_users)"
   ]
  },
  {
   "cell_type": "code",
   "execution_count": 23,
   "metadata": {},
   "outputs": [
    {
     "name": "stdout",
     "output_type": "stream",
     "text": [
      "Первоначальное количество пользователей = 7551. После удаления = 7534. Разница = 17. Процент потери = 0.23%\n",
      "Первоначальное количество событий = 243713. После удаления = 240887. Разница = 2826. Процент потери = 1.16%\n"
     ]
    }
   ],
   "source": [
    "print(f'Первоначальное количество пользователей = {users1}. После удаления = {all_users}. Разница = {users1-all_users}. Процент потери = {round((users1-all_users)/users1*100,2)}%')\n",
    "\n",
    "new_events = df['event'].count()\n",
    "print(f'Первоначальное количество событий = {events}. После удаления = {all_events}. Разница = {events-all_events}. Процент потери = {round((events-all_events)/events*100,2)}%')"
   ]
  },
  {
   "cell_type": "markdown",
   "metadata": {},
   "source": [
    "Учитывая, что ранее мы удалили дубликаты, количество событий равно количеству строк в массиве. Ранее было 243713 события, теперь 240887. Потеряли менее 3000 событий. И 7551 - 7534 = 17 пользователей. Не так уж много. Проверим наличие пользователей всех трех экспериментальных групп в новом массиве:"
   ]
  },
  {
   "cell_type": "code",
   "execution_count": 24,
   "metadata": {},
   "outputs": [
    {
     "data": {
      "text/plain": [
       "array([246, 247, 248])"
      ]
     },
     "execution_count": 24,
     "metadata": {},
     "output_type": "execute_result"
    }
   ],
   "source": [
    "data['group'].unique()"
   ]
  },
  {
   "cell_type": "markdown",
   "metadata": {},
   "source": [
    "Проверка пересечения пользователей в группах:"
   ]
  },
  {
   "cell_type": "code",
   "execution_count": 25,
   "metadata": {},
   "outputs": [
    {
     "data": {
      "text/html": [
       "<div>\n",
       "<style scoped>\n",
       "    .dataframe tbody tr th:only-of-type {\n",
       "        vertical-align: middle;\n",
       "    }\n",
       "\n",
       "    .dataframe tbody tr th {\n",
       "        vertical-align: top;\n",
       "    }\n",
       "\n",
       "    .dataframe thead th {\n",
       "        text-align: right;\n",
       "    }\n",
       "</style>\n",
       "<table border=\"1\" class=\"dataframe\">\n",
       "  <thead>\n",
       "    <tr style=\"text-align: right;\">\n",
       "      <th></th>\n",
       "      <th>group</th>\n",
       "    </tr>\n",
       "    <tr>\n",
       "      <th>user_id</th>\n",
       "      <th></th>\n",
       "    </tr>\n",
       "  </thead>\n",
       "  <tbody>\n",
       "  </tbody>\n",
       "</table>\n",
       "</div>"
      ],
      "text/plain": [
       "Empty DataFrame\n",
       "Columns: [group]\n",
       "Index: []"
      ]
     },
     "execution_count": 25,
     "metadata": {},
     "output_type": "execute_result"
    }
   ],
   "source": [
    "data.groupby('user_id').agg({'group' : 'nunique'}).query('group>1')"
   ]
  },
  {
   "cell_type": "markdown",
   "metadata": {},
   "source": [
    "**Выводы:**   \n",
    "В результате изучения и проверки данных выянилось, что в массиве 43713 строк с 5 типами событий, 7551 уникальных идентификаторов пользователей.    \n",
    "Имеются данные с 25 июля по 7 августа 2019 года, за 2 недели. При этом большая часть событий приходится на 2-ую неделю нашего интервала времени. Поэтому было принято решение оставить данные только за август, начиная с 01.08.2019.    \n",
    "В результате потеряли менее 3000 событий и 17 пользователей. Также убедились в наличии пользователей всех трех экспериментальных групп в новом массиве."
   ]
  },
  {
   "cell_type": "markdown",
   "metadata": {},
   "source": [
    "## Изучение воронки событий"
   ]
  },
  {
   "cell_type": "markdown",
   "metadata": {},
   "source": [
    "Посмотрим, какие события есть в логах, как часто они встречаются. Отсортируем события по частоте."
   ]
  },
  {
   "cell_type": "code",
   "execution_count": 26,
   "metadata": {},
   "outputs": [
    {
     "data": {
      "text/plain": [
       "MainScreenAppear           117328\n",
       "OffersScreenAppear          46333\n",
       "CartScreenAppear            42303\n",
       "PaymentScreenSuccessful     33918\n",
       "Tutorial                     1005\n",
       "Name: event, dtype: int64"
      ]
     },
     "execution_count": 26,
     "metadata": {},
     "output_type": "execute_result"
    }
   ],
   "source": [
    "data['event'].value_counts()"
   ]
  },
  {
   "cell_type": "markdown",
   "metadata": {},
   "source": [
    "Посчитаем, сколько пользователей совершали каждое из этих событий. Отсортируем события по числу пользователей. "
   ]
  },
  {
   "cell_type": "code",
   "execution_count": 27,
   "metadata": {},
   "outputs": [
    {
     "data": {
      "text/html": [
       "<div>\n",
       "<style scoped>\n",
       "    .dataframe tbody tr th:only-of-type {\n",
       "        vertical-align: middle;\n",
       "    }\n",
       "\n",
       "    .dataframe tbody tr th {\n",
       "        vertical-align: top;\n",
       "    }\n",
       "\n",
       "    .dataframe thead th {\n",
       "        text-align: right;\n",
       "    }\n",
       "</style>\n",
       "<table border=\"1\" class=\"dataframe\">\n",
       "  <thead>\n",
       "    <tr style=\"text-align: right;\">\n",
       "      <th></th>\n",
       "      <th>event</th>\n",
       "      <th>user_sum</th>\n",
       "    </tr>\n",
       "  </thead>\n",
       "  <tbody>\n",
       "    <tr>\n",
       "      <th>0</th>\n",
       "      <td>MainScreenAppear</td>\n",
       "      <td>7419</td>\n",
       "    </tr>\n",
       "    <tr>\n",
       "      <th>1</th>\n",
       "      <td>OffersScreenAppear</td>\n",
       "      <td>4593</td>\n",
       "    </tr>\n",
       "    <tr>\n",
       "      <th>2</th>\n",
       "      <td>CartScreenAppear</td>\n",
       "      <td>3734</td>\n",
       "    </tr>\n",
       "    <tr>\n",
       "      <th>3</th>\n",
       "      <td>PaymentScreenSuccessful</td>\n",
       "      <td>3539</td>\n",
       "    </tr>\n",
       "    <tr>\n",
       "      <th>4</th>\n",
       "      <td>Tutorial</td>\n",
       "      <td>840</td>\n",
       "    </tr>\n",
       "  </tbody>\n",
       "</table>\n",
       "</div>"
      ],
      "text/plain": [
       "                     event  user_sum\n",
       "0         MainScreenAppear      7419\n",
       "1       OffersScreenAppear      4593\n",
       "2         CartScreenAppear      3734\n",
       "3  PaymentScreenSuccessful      3539\n",
       "4                 Tutorial       840"
      ]
     },
     "execution_count": 27,
     "metadata": {},
     "output_type": "execute_result"
    }
   ],
   "source": [
    "user_event = data.pivot_table(index=['event'], values='user_id', aggfunc='nunique').sort_values(by='user_id', ascending = False).reset_index()\n",
    "user_event.rename(columns={'user_id': 'user_sum'}, inplace=True)\n",
    "user_event"
   ]
  },
  {
   "cell_type": "markdown",
   "metadata": {},
   "source": [
    "Посчитаем долю пользователей, которые хоть раз совершали событие."
   ]
  },
  {
   "cell_type": "code",
   "execution_count": 28,
   "metadata": {},
   "outputs": [
    {
     "data": {
      "text/html": [
       "<div>\n",
       "<style scoped>\n",
       "    .dataframe tbody tr th:only-of-type {\n",
       "        vertical-align: middle;\n",
       "    }\n",
       "\n",
       "    .dataframe tbody tr th {\n",
       "        vertical-align: top;\n",
       "    }\n",
       "\n",
       "    .dataframe thead th {\n",
       "        text-align: right;\n",
       "    }\n",
       "</style>\n",
       "<table border=\"1\" class=\"dataframe\">\n",
       "  <thead>\n",
       "    <tr style=\"text-align: right;\">\n",
       "      <th></th>\n",
       "      <th>event</th>\n",
       "      <th>user_sum</th>\n",
       "      <th>part_user</th>\n",
       "    </tr>\n",
       "  </thead>\n",
       "  <tbody>\n",
       "    <tr>\n",
       "      <th>0</th>\n",
       "      <td>MainScreenAppear</td>\n",
       "      <td>7419</td>\n",
       "      <td>98.0</td>\n",
       "    </tr>\n",
       "    <tr>\n",
       "      <th>1</th>\n",
       "      <td>OffersScreenAppear</td>\n",
       "      <td>4593</td>\n",
       "      <td>61.0</td>\n",
       "    </tr>\n",
       "    <tr>\n",
       "      <th>2</th>\n",
       "      <td>CartScreenAppear</td>\n",
       "      <td>3734</td>\n",
       "      <td>50.0</td>\n",
       "    </tr>\n",
       "    <tr>\n",
       "      <th>3</th>\n",
       "      <td>PaymentScreenSuccessful</td>\n",
       "      <td>3539</td>\n",
       "      <td>47.0</td>\n",
       "    </tr>\n",
       "    <tr>\n",
       "      <th>4</th>\n",
       "      <td>Tutorial</td>\n",
       "      <td>840</td>\n",
       "      <td>11.0</td>\n",
       "    </tr>\n",
       "  </tbody>\n",
       "</table>\n",
       "</div>"
      ],
      "text/plain": [
       "                     event  user_sum  part_user\n",
       "0         MainScreenAppear      7419       98.0\n",
       "1       OffersScreenAppear      4593       61.0\n",
       "2         CartScreenAppear      3734       50.0\n",
       "3  PaymentScreenSuccessful      3539       47.0\n",
       "4                 Tutorial       840       11.0"
      ]
     },
     "execution_count": 28,
     "metadata": {},
     "output_type": "execute_result"
    }
   ],
   "source": [
    "user_event['part_user'] = (user_event['user_sum']/all_users*100).round()\n",
    "user_event.sort_values(by='part_user', ascending = False)"
   ]
  },
  {
   "cell_type": "markdown",
   "metadata": {},
   "source": [
    "В каком порядке происходят события, можно понять по распределению процентов пользователей, перешедших на страницу:\n",
    "- основной экран (MainScreenAppear) 98%;\n",
    "- предложения (OffersScreenAppear) 61%;\n",
    "- корзина (CartScreenAppear) 50%;\n",
    "- успешная оплата (PaymentScreenSuccessful) 47%.   \n",
    "А вот просмотр руководства/справки (Tutorial) - действие необязательное, его совершило всего 11% пользователей. В последовательность воронки событий оно не входит."
   ]
  },
  {
   "cell_type": "code",
   "execution_count": 29,
   "metadata": {},
   "outputs": [
    {
     "data": {
      "text/plain": [
       "MainScreenAppear           117328\n",
       "OffersScreenAppear          46333\n",
       "CartScreenAppear            42303\n",
       "PaymentScreenSuccessful     33918\n",
       "Name: event, dtype: int64"
      ]
     },
     "execution_count": 29,
     "metadata": {},
     "output_type": "execute_result"
    }
   ],
   "source": [
    "funofev=data.query('event != \"Tutorial\"')\n",
    "funofev['event'].value_counts()"
   ]
  },
  {
   "cell_type": "markdown",
   "metadata": {},
   "source": [
    "По воронке событий посчитаем конверсию перехода пользователей на следующий шаг воронки (от числа пользователей на предыдущем). Подготовим данные для расчета:"
   ]
  },
  {
   "cell_type": "code",
   "execution_count": 30,
   "metadata": {},
   "outputs": [
    {
     "data": {
      "text/html": [
       "<div>\n",
       "<style scoped>\n",
       "    .dataframe tbody tr th:only-of-type {\n",
       "        vertical-align: middle;\n",
       "    }\n",
       "\n",
       "    .dataframe tbody tr th {\n",
       "        vertical-align: top;\n",
       "    }\n",
       "\n",
       "    .dataframe thead th {\n",
       "        text-align: right;\n",
       "    }\n",
       "</style>\n",
       "<table border=\"1\" class=\"dataframe\">\n",
       "  <thead>\n",
       "    <tr style=\"text-align: right;\">\n",
       "      <th></th>\n",
       "      <th>event</th>\n",
       "      <th>user_sum</th>\n",
       "    </tr>\n",
       "  </thead>\n",
       "  <tbody>\n",
       "    <tr>\n",
       "      <th>0</th>\n",
       "      <td>MainScreenAppear</td>\n",
       "      <td>7419</td>\n",
       "    </tr>\n",
       "    <tr>\n",
       "      <th>1</th>\n",
       "      <td>OffersScreenAppear</td>\n",
       "      <td>4593</td>\n",
       "    </tr>\n",
       "    <tr>\n",
       "      <th>2</th>\n",
       "      <td>CartScreenAppear</td>\n",
       "      <td>3734</td>\n",
       "    </tr>\n",
       "    <tr>\n",
       "      <th>3</th>\n",
       "      <td>PaymentScreenSuccessful</td>\n",
       "      <td>3539</td>\n",
       "    </tr>\n",
       "  </tbody>\n",
       "</table>\n",
       "</div>"
      ],
      "text/plain": [
       "                     event  user_sum\n",
       "0         MainScreenAppear      7419\n",
       "1       OffersScreenAppear      4593\n",
       "2         CartScreenAppear      3734\n",
       "3  PaymentScreenSuccessful      3539"
      ]
     },
     "execution_count": 30,
     "metadata": {},
     "output_type": "execute_result"
    }
   ],
   "source": [
    "user_event_fun = funofev.pivot_table(index=['event'], values='user_id', aggfunc='nunique').sort_values(by='user_id', ascending = False).reset_index()\n",
    "user_event_fun.rename(columns={'user_id': 'user_sum'}, inplace=True)\n",
    "user_event_fun"
   ]
  },
  {
   "cell_type": "code",
   "execution_count": 31,
   "metadata": {},
   "outputs": [
    {
     "data": {
      "text/html": [
       "<div>\n",
       "<style scoped>\n",
       "    .dataframe tbody tr th:only-of-type {\n",
       "        vertical-align: middle;\n",
       "    }\n",
       "\n",
       "    .dataframe tbody tr th {\n",
       "        vertical-align: top;\n",
       "    }\n",
       "\n",
       "    .dataframe thead th {\n",
       "        text-align: right;\n",
       "    }\n",
       "</style>\n",
       "<table border=\"1\" class=\"dataframe\">\n",
       "  <thead>\n",
       "    <tr style=\"text-align: right;\">\n",
       "      <th></th>\n",
       "      <th>event</th>\n",
       "      <th>user_sum</th>\n",
       "      <th>conv</th>\n",
       "    </tr>\n",
       "  </thead>\n",
       "  <tbody>\n",
       "    <tr>\n",
       "      <th>0</th>\n",
       "      <td>MainScreenAppear</td>\n",
       "      <td>7419</td>\n",
       "      <td>100.0</td>\n",
       "    </tr>\n",
       "    <tr>\n",
       "      <th>1</th>\n",
       "      <td>OffersScreenAppear</td>\n",
       "      <td>4593</td>\n",
       "      <td>62.0</td>\n",
       "    </tr>\n",
       "    <tr>\n",
       "      <th>2</th>\n",
       "      <td>CartScreenAppear</td>\n",
       "      <td>3734</td>\n",
       "      <td>81.0</td>\n",
       "    </tr>\n",
       "    <tr>\n",
       "      <th>3</th>\n",
       "      <td>PaymentScreenSuccessful</td>\n",
       "      <td>3539</td>\n",
       "      <td>95.0</td>\n",
       "    </tr>\n",
       "  </tbody>\n",
       "</table>\n",
       "</div>"
      ],
      "text/plain": [
       "                     event  user_sum   conv\n",
       "0         MainScreenAppear      7419  100.0\n",
       "1       OffersScreenAppear      4593   62.0\n",
       "2         CartScreenAppear      3734   81.0\n",
       "3  PaymentScreenSuccessful      3539   95.0"
      ]
     },
     "execution_count": 31,
     "metadata": {},
     "output_type": "execute_result"
    }
   ],
   "source": [
    "user_event_fun['conv'] = round(user_event_fun['user_sum']*100/user_event_fun.shift(1)['user_sum'])\n",
    "user_event_fun.loc[0, 'conv'] = 100.0\n",
    "user_event_fun"
   ]
  },
  {
   "cell_type": "markdown",
   "metadata": {},
   "source": [
    "Видим, что больше всего пользователей теряется при переходе с основного экрана на экран предложений. Только 62% из них переходят к рассмотрению предложений. 81% из рассматривающих предложения наполняют свою корзину. И 95 % выкупают товары из корзины.   \n",
    "Теперь проверим, какая доля пользователей доходит от первого события до оплаты?"
   ]
  },
  {
   "cell_type": "code",
   "execution_count": 32,
   "metadata": {},
   "outputs": [
    {
     "name": "stdout",
     "output_type": "stream",
     "text": [
      "Доля пользователей, совершивших покупку, в %:  48\n"
     ]
    }
   ],
   "source": [
    "pay_part = round(user_event_fun.loc[3, 'user_sum']*100/user_event_fun.loc[0, 'user_sum'])\n",
    "print('Доля пользователей, совершивших покупку, в %: ', pay_part)"
   ]
  },
  {
   "cell_type": "markdown",
   "metadata": {},
   "source": [
    "Почти половина пользователей, зашедших на основную страницу приложения, успешно оплачивает покупку (48%)."
   ]
  },
  {
   "cell_type": "markdown",
   "metadata": {},
   "source": [
    "Посмотрим на воронку в графическом представлении:"
   ]
  },
  {
   "cell_type": "code",
   "execution_count": null,
   "metadata": {},
   "outputs": [],
   "source": [
    "fig = go.Figure(go.Funnel(x = user_event_fun['user_sum'], y = user_event_fun['event'], textinfo = \"value+percent initial+percent previous\"))\n",
    "fig.show()"
   ]
  },
  {
   "attachments": {
    "newplot%20%2815%29.png": {
     "image/png": "[encoded data removed]"
    }
   },
   "cell_type": "markdown",
   "metadata": {},
   "source": [
    "![newplot%20%2815%29.png](attachment:newplot%20%2815%29.png)"
   ]
  },
  {
   "cell_type": "markdown",
   "metadata": {},
   "source": [
    "После первого экрана теряется почти 40% пользователей. Если на основном экране есть возможность сразу положить популярный товар в корзину, минуя подробное изучение на странице с предложениями, то все не так уж плохо. Но если нет, то нужно внимательно изучить удобство и функциональность основной страницы, поискать новые способы \"заманить\" пользователей на следующую страницу.   \n",
    "Также необходимо учесть, что мы отбросили небольшую часть данных в процессе обработки, поэтому возможен вариант, что в нашей воронки есть пользователи, начавшие сразу со 2 или 3 шага. Правда, их процент невелик и вряд ли влияет очень существенно."
   ]
  },
  {
   "cell_type": "markdown",
   "metadata": {},
   "source": [
    "Расчет конверсии относительно первого экрана приложения:"
   ]
  },
  {
   "cell_type": "code",
   "execution_count": 34,
   "metadata": {},
   "outputs": [
    {
     "data": {
      "text/html": [
       "<div>\n",
       "<style scoped>\n",
       "    .dataframe tbody tr th:only-of-type {\n",
       "        vertical-align: middle;\n",
       "    }\n",
       "\n",
       "    .dataframe tbody tr th {\n",
       "        vertical-align: top;\n",
       "    }\n",
       "\n",
       "    .dataframe thead th {\n",
       "        text-align: right;\n",
       "    }\n",
       "</style>\n",
       "<table border=\"1\" class=\"dataframe\">\n",
       "  <thead>\n",
       "    <tr style=\"text-align: right;\">\n",
       "      <th></th>\n",
       "      <th>event</th>\n",
       "      <th>user_sum</th>\n",
       "      <th>conv</th>\n",
       "      <th>convfromone</th>\n",
       "    </tr>\n",
       "  </thead>\n",
       "  <tbody>\n",
       "    <tr>\n",
       "      <th>0</th>\n",
       "      <td>MainScreenAppear</td>\n",
       "      <td>7419</td>\n",
       "      <td>100.0</td>\n",
       "      <td>100.0</td>\n",
       "    </tr>\n",
       "    <tr>\n",
       "      <th>1</th>\n",
       "      <td>OffersScreenAppear</td>\n",
       "      <td>4593</td>\n",
       "      <td>62.0</td>\n",
       "      <td>62.0</td>\n",
       "    </tr>\n",
       "    <tr>\n",
       "      <th>2</th>\n",
       "      <td>CartScreenAppear</td>\n",
       "      <td>3734</td>\n",
       "      <td>81.0</td>\n",
       "      <td>50.0</td>\n",
       "    </tr>\n",
       "    <tr>\n",
       "      <th>3</th>\n",
       "      <td>PaymentScreenSuccessful</td>\n",
       "      <td>3539</td>\n",
       "      <td>95.0</td>\n",
       "      <td>48.0</td>\n",
       "    </tr>\n",
       "  </tbody>\n",
       "</table>\n",
       "</div>"
      ],
      "text/plain": [
       "                     event  user_sum   conv  convfromone\n",
       "0         MainScreenAppear      7419  100.0        100.0\n",
       "1       OffersScreenAppear      4593   62.0         62.0\n",
       "2         CartScreenAppear      3734   81.0         50.0\n",
       "3  PaymentScreenSuccessful      3539   95.0         48.0"
      ]
     },
     "execution_count": 34,
     "metadata": {},
     "output_type": "execute_result"
    }
   ],
   "source": [
    "user_event_fun['convfromone'] = round(user_event_fun['user_sum']*100/user_event_fun.loc[0,'user_sum'])\n",
    "user_event_fun"
   ]
  },
  {
   "cell_type": "markdown",
   "metadata": {},
   "source": [
    "**Выводы:**   \n",
    "Опредилили порядок событий по распределению процентов пользователей, перешедших на страницу:\n",
    "- основной экран (MainScreenAppear) 98%;\n",
    "- предложения (OffersScreenAppear) 61%;\n",
    "- корзина (CartScreenAppear) 50%;\n",
    "- успешная оплата (PaymentScreenSuccessful) 47%;\n",
    "- просмотр руководства/справки (Tutorial) 11%.\n",
    "Просмотр руководства не являются частью последовательности событий, оно может быть просмотрено в любой момент или вообще не открыто, что подтверждается 11% пользователей. Из воронки событий это событие можно исключить.   \n",
    "Построили воронку событий с конверсией перехода пользователей на следующий шаг. Увидели, что больше всего пользователей теряется при переходе с основного экрана на экран предложений. Только 62% из них переходят к рассмотрению предложений. 81% из рассматривающих предложения наполняют свою корзину. И 95 % выкупают товары из корзины.   \n",
    "После первого экрана теряется почти 40% пользователей. Если на основном экране есть возможность сразу положить популярный товар в корзину, минуя подробное изучение на странице с предложениями, то все не так уж плохо. Но если нет, то нужно внимательно изучить удобство и функциональность основной страницы, поискать новые способы \"заманить\" пользователей на следующую страницу.   \n",
    "Также необходимо учесть, что мы отбросили небольшую часть данных в процессе обработки, поэтому возможен вариант, что в нашей воронке есть пользователи, начавшие сразу со 2 или 3 шага.   \n",
    "Почти половина пользователей, зашедших на основную страницу приложения, успешно оплачивает покупку (48%)."
   ]
  },
  {
   "cell_type": "markdown",
   "metadata": {},
   "source": [
    "## Изучение результатов эксперимента"
   ]
  },
  {
   "cell_type": "markdown",
   "metadata": {},
   "source": [
    "Посчитаем количество пользователей в каждой экспериментальной группе:"
   ]
  },
  {
   "cell_type": "code",
   "execution_count": 35,
   "metadata": {},
   "outputs": [
    {
     "data": {
      "text/html": [
       "<div>\n",
       "<style scoped>\n",
       "    .dataframe tbody tr th:only-of-type {\n",
       "        vertical-align: middle;\n",
       "    }\n",
       "\n",
       "    .dataframe tbody tr th {\n",
       "        vertical-align: top;\n",
       "    }\n",
       "\n",
       "    .dataframe thead th {\n",
       "        text-align: right;\n",
       "    }\n",
       "</style>\n",
       "<table border=\"1\" class=\"dataframe\">\n",
       "  <thead>\n",
       "    <tr style=\"text-align: right;\">\n",
       "      <th></th>\n",
       "      <th>group</th>\n",
       "      <th>user_sum</th>\n",
       "    </tr>\n",
       "  </thead>\n",
       "  <tbody>\n",
       "    <tr>\n",
       "      <th>0</th>\n",
       "      <td>246</td>\n",
       "      <td>2483</td>\n",
       "    </tr>\n",
       "    <tr>\n",
       "      <th>1</th>\n",
       "      <td>247</td>\n",
       "      <td>2512</td>\n",
       "    </tr>\n",
       "    <tr>\n",
       "      <th>2</th>\n",
       "      <td>248</td>\n",
       "      <td>2535</td>\n",
       "    </tr>\n",
       "  </tbody>\n",
       "</table>\n",
       "</div>"
      ],
      "text/plain": [
       "   group  user_sum\n",
       "0    246      2483\n",
       "1    247      2512\n",
       "2    248      2535"
      ]
     },
     "execution_count": 35,
     "metadata": {},
     "output_type": "execute_result"
    }
   ],
   "source": [
    "user_group = funofev.pivot_table(index=['group'], values='user_id', aggfunc='nunique').reset_index()\n",
    "user_group.rename(columns={'user_id': 'user_sum'}, inplace=True)\n",
    "user_group"
   ]
  },
  {
   "cell_type": "markdown",
   "metadata": {},
   "source": [
    "Проверим, есть ли пересечения по пользователям в группах. Если какой-то из них попал в 2 или 3 группы одновременно, то сумма значений столбца 'user_sum' таблицы user_group будет больше количества уникальных пользователей первоначального массива funofev."
   ]
  },
  {
   "cell_type": "code",
   "execution_count": 36,
   "metadata": {},
   "outputs": [
    {
     "name": "stdout",
     "output_type": "stream",
     "text": [
      "Сумма пользователей по группам: 7530\n"
     ]
    }
   ],
   "source": [
    "sum = user_group['user_sum'].sum()\n",
    "print('Сумма пользователей по группам:', sum)"
   ]
  },
  {
   "cell_type": "code",
   "execution_count": 37,
   "metadata": {},
   "outputs": [
    {
     "name": "stdout",
     "output_type": "stream",
     "text": [
      "Количество пользователей с уникальными id: 7530\n"
     ]
    }
   ],
   "source": [
    "all=len(funofev['user_id'].unique())\n",
    "print('Количество пользователей с уникальными id:', all)"
   ]
  },
  {
   "cell_type": "markdown",
   "metadata": {},
   "source": [
    "Проанализируем, находят ли статистические критерии разницу между выборками 246 и 247. У нас есть размеры выборок в таблице user_group. Узнаем, сколько пользователей из каждой выборки доходит до успешной оплаты покупки."
   ]
  },
  {
   "cell_type": "code",
   "execution_count": 38,
   "metadata": {},
   "outputs": [
    {
     "data": {
      "text/html": [
       "<div>\n",
       "<style scoped>\n",
       "    .dataframe tbody tr th:only-of-type {\n",
       "        vertical-align: middle;\n",
       "    }\n",
       "\n",
       "    .dataframe tbody tr th {\n",
       "        vertical-align: top;\n",
       "    }\n",
       "\n",
       "    .dataframe thead th {\n",
       "        text-align: right;\n",
       "    }\n",
       "</style>\n",
       "<table border=\"1\" class=\"dataframe\">\n",
       "  <thead>\n",
       "    <tr style=\"text-align: right;\">\n",
       "      <th></th>\n",
       "      <th>user_id</th>\n",
       "    </tr>\n",
       "    <tr>\n",
       "      <th>group</th>\n",
       "      <th></th>\n",
       "    </tr>\n",
       "  </thead>\n",
       "  <tbody>\n",
       "    <tr>\n",
       "      <th>246</th>\n",
       "      <td>1200</td>\n",
       "    </tr>\n",
       "    <tr>\n",
       "      <th>247</th>\n",
       "      <td>1158</td>\n",
       "    </tr>\n",
       "    <tr>\n",
       "      <th>248</th>\n",
       "      <td>1181</td>\n",
       "    </tr>\n",
       "  </tbody>\n",
       "</table>\n",
       "</div>"
      ],
      "text/plain": [
       "       user_id\n",
       "group         \n",
       "246       1200\n",
       "247       1158\n",
       "248       1181"
      ]
     },
     "execution_count": 38,
     "metadata": {},
     "output_type": "execute_result"
    }
   ],
   "source": [
    "part = funofev.query('event == \"PaymentScreenSuccessful\"').groupby('group').agg({'user_id': 'nunique'})\n",
    "part"
   ]
  },
  {
   "cell_type": "markdown",
   "metadata": {},
   "source": [
    "Будем проводить проверку гипотез для пропорции или доли. Если некоторая доля генеральной совокупности обладает признаком, а другая её часть — нет, об этой доле можно судить по выборке из генеральной совокупности. Выборочные доли будут нормально распределены вокруг настоящей. Решим задачу сравнения пропорций двух генеральных совокупностей по выборкам из них. \n",
    "Разница между пропорциями, наблюдаемыми на выборках, будет нашей статистикой z_value. Так называется переменная, значения которой рассчитываются только по выборочным данным."
   ]
  },
  {
   "cell_type": "markdown",
   "metadata": {},
   "source": [
    "Подготовим данные для множественного эксперимента:\n",
    "- распределение пользователей по всем группам сравнения, включая сборную контрольную группу;\n",
    "- таблицу 'test', с распределением пользователей в воронке по событиям и их долями по всем группам для каждого события."
   ]
  },
  {
   "cell_type": "code",
   "execution_count": 39,
   "metadata": {},
   "outputs": [
    {
     "data": {
      "text/plain": [
       "group\n",
       "246     2483\n",
       "247     2512\n",
       "248     2535\n",
       "ctrl    4995\n",
       "Name: user_id, dtype: int64"
      ]
     },
     "execution_count": 39,
     "metadata": {},
     "output_type": "execute_result"
    }
   ],
   "source": [
    "usersbygroup = funofev.groupby('group')['user_id'].nunique()\n",
    "usersbygroup['ctrl'] = usersbygroup[246] + usersbygroup[247]\n",
    "usersbygroup"
   ]
  },
  {
   "cell_type": "code",
   "execution_count": 40,
   "metadata": {},
   "outputs": [
    {
     "data": {
      "text/html": [
       "<div>\n",
       "<style scoped>\n",
       "    .dataframe tbody tr th:only-of-type {\n",
       "        vertical-align: middle;\n",
       "    }\n",
       "\n",
       "    .dataframe tbody tr th {\n",
       "        vertical-align: top;\n",
       "    }\n",
       "\n",
       "    .dataframe thead th {\n",
       "        text-align: right;\n",
       "    }\n",
       "</style>\n",
       "<table border=\"1\" class=\"dataframe\">\n",
       "  <thead>\n",
       "    <tr style=\"text-align: right;\">\n",
       "      <th>group</th>\n",
       "      <th>event</th>\n",
       "      <th>246</th>\n",
       "      <th>247</th>\n",
       "      <th>248</th>\n",
       "      <th>ctrl</th>\n",
       "      <th>part246</th>\n",
       "      <th>part247</th>\n",
       "      <th>part248</th>\n",
       "      <th>part_ctrl</th>\n",
       "    </tr>\n",
       "  </thead>\n",
       "  <tbody>\n",
       "    <tr>\n",
       "      <th>0</th>\n",
       "      <td>CartScreenAppear</td>\n",
       "      <td>1266</td>\n",
       "      <td>1238</td>\n",
       "      <td>1230</td>\n",
       "      <td>2504</td>\n",
       "      <td>51.0</td>\n",
       "      <td>49.0</td>\n",
       "      <td>49.0</td>\n",
       "      <td>50.0</td>\n",
       "    </tr>\n",
       "    <tr>\n",
       "      <th>1</th>\n",
       "      <td>MainScreenAppear</td>\n",
       "      <td>2450</td>\n",
       "      <td>2476</td>\n",
       "      <td>2493</td>\n",
       "      <td>4926</td>\n",
       "      <td>99.0</td>\n",
       "      <td>99.0</td>\n",
       "      <td>98.0</td>\n",
       "      <td>99.0</td>\n",
       "    </tr>\n",
       "    <tr>\n",
       "      <th>2</th>\n",
       "      <td>OffersScreenAppear</td>\n",
       "      <td>1542</td>\n",
       "      <td>1520</td>\n",
       "      <td>1531</td>\n",
       "      <td>3062</td>\n",
       "      <td>62.0</td>\n",
       "      <td>61.0</td>\n",
       "      <td>60.0</td>\n",
       "      <td>61.0</td>\n",
       "    </tr>\n",
       "    <tr>\n",
       "      <th>3</th>\n",
       "      <td>PaymentScreenSuccessful</td>\n",
       "      <td>1200</td>\n",
       "      <td>1158</td>\n",
       "      <td>1181</td>\n",
       "      <td>2358</td>\n",
       "      <td>48.0</td>\n",
       "      <td>46.0</td>\n",
       "      <td>47.0</td>\n",
       "      <td>47.0</td>\n",
       "    </tr>\n",
       "  </tbody>\n",
       "</table>\n",
       "</div>"
      ],
      "text/plain": [
       "group                    event   246   247   248  ctrl  part246  part247  \\\n",
       "0             CartScreenAppear  1266  1238  1230  2504     51.0     49.0   \n",
       "1             MainScreenAppear  2450  2476  2493  4926     99.0     99.0   \n",
       "2           OffersScreenAppear  1542  1520  1531  3062     62.0     61.0   \n",
       "3      PaymentScreenSuccessful  1200  1158  1181  2358     48.0     46.0   \n",
       "\n",
       "group  part248  part_ctrl  \n",
       "0         49.0       50.0  \n",
       "1         98.0       99.0  \n",
       "2         60.0       61.0  \n",
       "3         47.0       47.0  "
      ]
     },
     "execution_count": 40,
     "metadata": {},
     "output_type": "execute_result"
    }
   ],
   "source": [
    "test = funofev.pivot_table(index='event', columns='group', values='user_id', aggfunc='nunique').reset_index()\n",
    "test['ctrl'] = test[246] + test[247]\n",
    "test['part246'] = (test[246]*100 / usersbygroup[246]).round()\n",
    "test['part247'] = (test[247]*100 / usersbygroup[247]).round()\n",
    "test['part248'] = (test[248]*100 / usersbygroup[248]).round()\n",
    "test['part_ctrl'] = (test['ctrl']*100 / usersbygroup['ctrl']).round()\n",
    "test"
   ]
  },
  {
   "cell_type": "markdown",
   "metadata": {},
   "source": [
    "По таким подготовленным данным видно, что различия между долями групп от 0 до 2 %. И разбиение на группы проведено корректно.   \n",
    "Самым популярным событием по этим данным является переход на основной экран MainScreenAppear для всех групп пользователей. Процент его совершения от 98 до 99. Будем считать, что миновали это событие 1-2% пользователей, чьи посещения мы откинули с данными за первую неделю(июль). Или перешедшие из поисковой строки, рассылки, рекламы прямо к рассмотрению или покупке."
   ]
  },
  {
   "cell_type": "markdown",
   "metadata": {},
   "source": [
    "Но необходимо проверить статистическую значимость этих различий. Для этого создадим функцию попарного сравнения данных разных групп:"
   ]
  },
  {
   "cell_type": "code",
   "execution_count": 41,
   "metadata": {},
   "outputs": [],
   "source": [
    "def zval_test(gr1, gr2, alpha):\n",
    "    for i in test.index:\n",
    "        # пропорция успехов в первой группе:\n",
    "        p1 = test[gr1][i] / usersbygroup[gr1]\n",
    "        # пропорция успехов во второй группе:\n",
    "        p2 = test[gr2][i] / usersbygroup[gr2]\n",
    "        # пропорция успехов в комбинированном датасете:\n",
    "        p_combined = ((test[gr1][i] + test[gr2][i]) / \n",
    "                      (usersbygroup[gr1] + usersbygroup[gr2]))\n",
    "        # разница пропорций в датасетах\n",
    "        difference = p1 - p2\n",
    "        # считаем статистику в ст.отклонениях стандартного нормального распределения\n",
    "        z_value = difference / mth.sqrt(p_combined * (1 - p_combined) * \n",
    "                                        (1/usersbygroup[gr1] + 1/usersbygroup[gr2]))\n",
    "        # задаем стандартное нормальное распределение (среднее 0, ст.отклонение 1)\n",
    "        distr = st.norm(0, 1) \n",
    "        p_value = (1 - distr.cdf(abs(z_value))) * 2\n",
    "        print('{} p-значение: {}'.format(test['event'][i], p_value))\n",
    "        if (p_value < alpha):\n",
    "            print(\"Отвергаем нулевую гипотезу: между долями есть значимая разница\")\n",
    "        else:\n",
    "            print(\"Не получилось отвергнуть нулевую гипотезу, нет оснований считать доли разными\")\n",
    "        print('')"
   ]
  },
  {
   "cell_type": "markdown",
   "metadata": {},
   "source": [
    "Сначала проведем А/А-тест - сравним результаты двух контрольных групп.\n",
    "Н0: доли рассматриваемых групп (уникальных посетителей, побывавших на этапе воронки) не имеют существенных различий. Н1: различия между долями уникальных посетителей, побывавших на этапе воронки, есть.\n",
    "Несколько сравнений, проводимых на одних и тех же данных — это множественный тест. Его важная особенность в том, что с каждой новой проверкой гипотезы растёт вероятность ошибки первого рода. Поэтому используем поправку по методу Бонферрони: делим уровень значимости ɑ на число событий 4 для 4 сравнений групп (246 и 247, 246 и 248, 247 и 248, 246+247 и 248), т.е. на 16."
   ]
  },
  {
   "cell_type": "code",
   "execution_count": 42,
   "metadata": {},
   "outputs": [
    {
     "name": "stdout",
     "output_type": "stream",
     "text": [
      "CartScreenAppear p-значение: 0.22867643757335676\n",
      "Не получилось отвергнуть нулевую гипотезу, нет оснований считать доли разными\n",
      "\n",
      "MainScreenAppear p-значение: 0.7526703436483038\n",
      "Не получилось отвергнуть нулевую гипотезу, нет оснований считать доли разными\n",
      "\n",
      "OffersScreenAppear p-значение: 0.24786096925282264\n",
      "Не получилось отвергнуть нулевую гипотезу, нет оснований считать доли разными\n",
      "\n",
      "PaymentScreenSuccessful p-значение: 0.11446627829276612\n",
      "Не получилось отвергнуть нулевую гипотезу, нет оснований считать доли разными\n",
      "\n"
     ]
    }
   ],
   "source": [
    "zval_test(246, 247, 0.05/16)"
   ]
  },
  {
   "cell_type": "markdown",
   "metadata": {},
   "source": [
    "Сравним экспериментальную группу с первой контрольной.  \n",
    "Н0: доли рассматриваемых групп (уникальных посетителей, побывавших на этапе воронки) не имеют существенных различий. Н1: различия между долями уникальных посетителей, побывавших на этапе воронки, есть."
   ]
  },
  {
   "cell_type": "code",
   "execution_count": 43,
   "metadata": {},
   "outputs": [
    {
     "name": "stdout",
     "output_type": "stream",
     "text": [
      "CartScreenAppear p-значение: 0.08067367598823139\n",
      "Не получилось отвергнуть нулевую гипотезу, нет оснований считать доли разными\n",
      "\n",
      "MainScreenAppear p-значение: 0.3387114076159288\n",
      "Не получилось отвергнуть нулевую гипотезу, нет оснований считать доли разными\n",
      "\n",
      "OffersScreenAppear p-значение: 0.21442476639710506\n",
      "Не получилось отвергнуть нулевую гипотезу, нет оснований считать доли разными\n",
      "\n",
      "PaymentScreenSuccessful p-значение: 0.21693033984516674\n",
      "Не получилось отвергнуть нулевую гипотезу, нет оснований считать доли разными\n",
      "\n"
     ]
    }
   ],
   "source": [
    "zval_test(246, 248, 0.05/16)"
   ]
  },
  {
   "cell_type": "markdown",
   "metadata": {},
   "source": [
    "Проведем последовательно сравнения экспериментальной группы со второй контрольной и с объединенной контрольной:"
   ]
  },
  {
   "cell_type": "code",
   "execution_count": 44,
   "metadata": {},
   "outputs": [
    {
     "name": "stdout",
     "output_type": "stream",
     "text": [
      "CartScreenAppear p-значение: 0.5878284605111943\n",
      "Не получилось отвергнуть нулевую гипотезу, нет оснований считать доли разными\n",
      "\n",
      "MainScreenAppear p-значение: 0.5194964354051703\n",
      "Не получилось отвергнуть нулевую гипотезу, нет оснований считать доли разными\n",
      "\n",
      "OffersScreenAppear p-значение: 0.9333751305879443\n",
      "Не получилось отвергнуть нулевую гипотезу, нет оснований считать доли разными\n",
      "\n",
      "PaymentScreenSuccessful p-значение: 0.7275718682261119\n",
      "Не получилось отвергнуть нулевую гипотезу, нет оснований считать доли разными\n",
      "\n"
     ]
    }
   ],
   "source": [
    "zval_test(247, 248, 0.05/16)"
   ]
  },
  {
   "cell_type": "code",
   "execution_count": 45,
   "metadata": {},
   "outputs": [
    {
     "name": "stdout",
     "output_type": "stream",
     "text": [
      "CartScreenAppear p-значение: 0.18683558686831558\n",
      "Не получилось отвергнуть нулевую гипотезу, нет оснований считать доли разными\n",
      "\n",
      "MainScreenAppear p-значение: 0.3486684291093256\n",
      "Не получилось отвергнуть нулевую гипотезу, нет оснований считать доли разными\n",
      "\n",
      "OffersScreenAppear p-значение: 0.44582745409482394\n",
      "Не получилось отвергнуть нулевую гипотезу, нет оснований считать доли разными\n",
      "\n",
      "PaymentScreenSuccessful p-значение: 0.6107918742187335\n",
      "Не получилось отвергнуть нулевую гипотезу, нет оснований считать доли разными\n",
      "\n"
     ]
    }
   ],
   "source": [
    "zval_test('ctrl', 248, 0.05/16)"
   ]
  },
  {
   "cell_type": "markdown",
   "metadata": {},
   "source": [
    "**Выводы:**   \n",
    "Проанализировали, находят ли статистические критерии разницу между выборками 246 и 247.   \n",
    "Выдвинули нулевую гипотезу Н0: между выборками нет статистически значимой разницы. Альтернативную гипотезу: между выборками есть значимая разница.\n",
    "Провели проверку гипотез для пропорции или доли. Получили p-значение:  0.1145. Не получилось отвергнуть нулевую гипотезу, нет оснований считать доли разными. Значит А/А-эксперимент будет проведен корректно. Если две контрольные группы равны, мы можем быть уверены в точности проведенного тестирования.   \n",
    "Далее подготовили данные для множественного эксперимента:\n",
    "- распределение пользователей по всем группам сравнения, включая сборную контрольную группу;\n",
    "- таблицу 'test', с распределением пользователей в воронке по событиям и их долями по всем группам для каждого события.   \n",
    "\n",
    "И создали функцию для попарного сравнения наших групп. Сравнили каждую контрольную группу (246 и 247) с экспериментальной (248), а также сборную контрольную (246+247) с 248. Гипотезы. Н0: доли рассматриваемых групп не имеют существенных различий. Н1: различия между долями в группах есть.   \n",
    "В результате всех проверок получили р-значение большее, чем критерий статистической значимости, и не отвергли нулевую гипотезу, т.к. нет оснований считать доли разными.  \n",
    "Несколько сравнений, проводимых на одних и тех же данных — это множественный тест. Его важная особенность в том, что с каждой новой проверкой гипотезы растёт вероятность ошибки первого рода. Поэтому использовали поправку Бонферрони: делили уровень значимости ɑ на число событий (4) для 3 сравнений групп (246 и 248, 247 и 248, 246+247 и 248), т.е. на 12.   \n",
    "\n",
    "Таким образом, нет повода считать, что изменение шрифтов как-либо повлияло на поведение пользователей."
   ]
  },
  {
   "cell_type": "markdown",
   "metadata": {},
   "source": [
    "## Общие выводы"
   ]
  },
  {
   "cell_type": "markdown",
   "metadata": {},
   "source": [
    "Для того, чтобы разобраться, как ведут себя пользователи мобильного приложения по продаже продуктов питания были осуществлены следующие действия:\n",
    "- изучение и обработка данных;\n",
    "- изучение воронки продаж;\n",
    "- исследование, как пользователи доходят до покупки. Сколько пользователей доходит до покупки, а сколько — «застревает» на предыдущих шагах? На каких именно;\n",
    "- проверка результатов A/A/B-эксперимента по смене шрифта в приложениии.    \n",
    "Договорились принять решение по результатам A/A/B-теста. Пользователей разбили на 3 группы: 2 контрольные (246 и 247) со старыми шрифтами и одну экспериментальную (248) — с новыми. Необходимо выяснить, какой шрифт лучше."
   ]
  },
  {
   "cell_type": "markdown",
   "metadata": {},
   "source": [
    "1)-2) **Изучение и обработка данных**(заменены названия столбцов со сменой регистра, проверены и откорректированы пропуски и типы данных, удалены полные дубликаты строк, добавлен столбец даты и времени, а также отдельный столбец дат). В результате изучения и проверки данных выянилось, что в массиве 43713 строк с 5 типами событий, 7551 уникальных идентификаторов пользователей. Имеются данные с 25 июля по 7 августа 2019 года, за 2 недели. При этом большая часть событий приходится на 2-ую неделю нашего интервала времени. Поэтому было принято решение оставить данные только за август, начиная с 01.08.2019. В результате потеряли менее 3000 событий и 17 пользователей. Также убедились в наличии пользователей всех трех экспериментальных групп в новом массиве."
   ]
  },
  {
   "cell_type": "markdown",
   "metadata": {},
   "source": [
    "3) **Изучение воронки продаж**   \n",
    "Определен порядок событий по переходам пользователей:\n",
    "  - основной экран (MainScreenAppear) 98%;\n",
    "  - предложения (OffersScreenAppear) 61%;\n",
    "  - корзина (CartScreenAppear) 50%;\n",
    "  - успешная оплата (PaymentScreenSuccessful) 47%;\n",
    "  - просмотр руководства/справки (Tutorial) 11%.   \n",
    "  Просмотр руководства не является частью последовательности событий, оно может быть просмотрено в любой момент или вообще не открыто. Из воронки событий это событие исключено.   \n",
    "  \n",
    "Построена воронка событий с конверсией перехода пользователей на следующий шаг. Сделан вывод, что больше всего пользователей теряется при переходе с основного экрана на экран предложений. Только 62% из них переходят к рассмотрению предложений. 81% из рассматривающих предложения наполняют свою корзину. И 95 % выкупают товары из корзины.\n",
    "После первого экрана теряется почти 40% пользователей. Если на основном экране есть возможность сразу положить популярный товар в корзину или осуществить быструю покупку, минуя подробное изучение на странице с предложениями, то все не так уж плохо. Но если нет, то нужно внимательно изучить удобство и функциональность основной страницы, поискать новые способы \"заманить\" пользователей на следующую страницу.\n",
    "Также необходимо учесть, что мы отбросили небольшую часть данных в процессе обработки, поэтому возможен вариант, что в нашей воронке есть пользователи, начавшие сразу со 2 или 3 шага.\n",
    "Судя по конверсии от первого шага до оплаты, почти половина пользователей, зашедших на основную страницу приложения, успешно оплачивает покупку (48%)."
   ]
  },
  {
   "cell_type": "markdown",
   "metadata": {},
   "source": [
    "4) **Проверка результатов A/A/B-эксперимента по смене шрифта в приложениии**   \n",
    "  \n",
    " Подготовили данные с количеством пользователей каждой группы на каждом шаге воронки событий. \n",
    " Сравнили выборки для проведения А/А-теста. Выдвинули нулевую гипотезу Н0: между выборками нет статистически значимой разницы. Альтернативную гипотезу: между выборками есть значимая разница. Провели проверку гипотез для пропорции или доли. Получили p-значение: 0.1145. Не получилось отвергнуть нулевую гипотезу, нет оснований считать доли разными. Значит А/А-эксперимент будет проведен корректно. Если две контрольные группы равны, мы можем быть уверены в точности проведенного тестирования.    \n",
    " И с помощью созданной функции сравнили каждую контрольную группу (246 и 247) с экспериментальной (248), а также сборную контрольную (246+247) с ней же.   \n",
    " Гипотезы. Н0: доли рассматриваемых групп не имеют существенных различий. Н1: различия между долями в группах есть.\n",
    "В результате всех проверок получили р-значение большее, чем критерий статистической значимости, и не отвергли нулевую гипотезу, т.к. нет оснований считать доли разными.\n",
    "Несколько сравнений, проводимых на одних и тех же данных — это множественный тест. Его важная особенность в том, что с каждой новой проверкой гипотезы растёт вероятность ошибки первого рода. Поэтому использовали поправку Бонферрони: делили уровень значимости ɑ на число событий (4) для 4 сравнений групп (246 и 247, 246 и 248, 247 и 248, 246+247 и 248), т.е. на 16.\n",
    "\n",
    "**Таким образом, нет повода считать, что изменение шрифтов как-либо повлияло на поведение пользователей.**"
   ]
  }
 ],
 "metadata": {
  "ExecuteTimeLog": [
   {
    "duration": 1280,
    "start_time": "2023-01-16T07:41:30.892Z"
   },
   {
    "duration": 989,
    "start_time": "2023-01-16T07:43:19.516Z"
   },
   {
    "duration": 10,
    "start_time": "2023-01-16T07:43:31.981Z"
   },
   {
    "duration": 72,
    "start_time": "2023-01-16T07:44:01.966Z"
   },
   {
    "duration": 121,
    "start_time": "2023-01-16T07:46:04.068Z"
   },
   {
    "duration": 7,
    "start_time": "2023-01-16T07:47:06.861Z"
   },
   {
    "duration": 151,
    "start_time": "2023-01-16T07:47:24.413Z"
   },
   {
    "duration": 7,
    "start_time": "2023-01-16T07:47:26.684Z"
   },
   {
    "duration": 8,
    "start_time": "2023-01-16T07:47:39.180Z"
   },
   {
    "duration": 1144,
    "start_time": "2023-01-16T07:50:27.360Z"
   },
   {
    "duration": 147,
    "start_time": "2023-01-16T07:50:28.506Z"
   },
   {
    "duration": 11,
    "start_time": "2023-01-16T07:50:28.655Z"
   },
   {
    "duration": 11,
    "start_time": "2023-01-16T07:50:28.668Z"
   },
   {
    "duration": 516,
    "start_time": "2023-01-16T07:50:28.681Z"
   },
   {
    "duration": 4,
    "start_time": "2023-01-16T07:52:15.037Z"
   },
   {
    "duration": 67,
    "start_time": "2023-01-16T07:52:17.157Z"
   },
   {
    "duration": 3,
    "start_time": "2023-01-16T07:53:33.642Z"
   },
   {
    "duration": 21,
    "start_time": "2023-01-16T07:53:36.756Z"
   },
   {
    "duration": 4,
    "start_time": "2023-01-16T07:57:02.371Z"
   },
   {
    "duration": 70,
    "start_time": "2023-01-16T07:57:05.539Z"
   },
   {
    "duration": 73,
    "start_time": "2023-01-16T07:58:04.573Z"
   },
   {
    "duration": 5,
    "start_time": "2023-01-16T07:58:34.762Z"
   },
   {
    "duration": 83,
    "start_time": "2023-01-16T07:58:36.947Z"
   },
   {
    "duration": 5,
    "start_time": "2023-01-16T07:58:59.811Z"
   },
   {
    "duration": 74,
    "start_time": "2023-01-16T07:59:02.042Z"
   },
   {
    "duration": 4,
    "start_time": "2023-01-16T07:59:29.636Z"
   },
   {
    "duration": 93,
    "start_time": "2023-01-16T07:59:32.332Z"
   },
   {
    "duration": 1255,
    "start_time": "2023-01-16T07:59:43.750Z"
   },
   {
    "duration": 147,
    "start_time": "2023-01-16T07:59:45.007Z"
   },
   {
    "duration": 12,
    "start_time": "2023-01-16T07:59:45.155Z"
   },
   {
    "duration": 10,
    "start_time": "2023-01-16T07:59:45.168Z"
   },
   {
    "duration": 87,
    "start_time": "2023-01-16T07:59:45.180Z"
   },
   {
    "duration": 70,
    "start_time": "2023-01-16T08:01:07.209Z"
   },
   {
    "duration": 70,
    "start_time": "2023-01-16T08:01:59.924Z"
   },
   {
    "duration": 11,
    "start_time": "2023-01-16T08:07:28.209Z"
   },
   {
    "duration": 14,
    "start_time": "2023-01-16T08:14:10.921Z"
   },
   {
    "duration": 1266,
    "start_time": "2023-01-16T08:14:31.650Z"
   },
   {
    "duration": 1076,
    "start_time": "2023-01-16T08:15:02.409Z"
   },
   {
    "duration": 143,
    "start_time": "2023-01-16T08:15:03.487Z"
   },
   {
    "duration": 10,
    "start_time": "2023-01-16T08:15:03.632Z"
   },
   {
    "duration": 4,
    "start_time": "2023-01-16T08:15:03.644Z"
   },
   {
    "duration": 92,
    "start_time": "2023-01-16T08:15:03.650Z"
   },
   {
    "duration": 75,
    "start_time": "2023-01-16T08:15:03.743Z"
   },
   {
    "duration": 13,
    "start_time": "2023-01-16T08:15:03.819Z"
   },
   {
    "duration": 73,
    "start_time": "2023-01-16T08:15:03.833Z"
   },
   {
    "duration": 16,
    "start_time": "2023-01-16T08:15:24.695Z"
   },
   {
    "duration": 19,
    "start_time": "2023-01-16T08:15:51.198Z"
   },
   {
    "duration": 9,
    "start_time": "2023-01-16T08:19:09.912Z"
   },
   {
    "duration": 16,
    "start_time": "2023-01-16T08:22:06.199Z"
   },
   {
    "duration": 1126,
    "start_time": "2023-01-16T08:22:17.277Z"
   },
   {
    "duration": 142,
    "start_time": "2023-01-16T08:22:18.405Z"
   },
   {
    "duration": 11,
    "start_time": "2023-01-16T08:22:18.548Z"
   },
   {
    "duration": 5,
    "start_time": "2023-01-16T08:22:18.561Z"
   },
   {
    "duration": 94,
    "start_time": "2023-01-16T08:22:18.567Z"
   },
   {
    "duration": 77,
    "start_time": "2023-01-16T08:22:18.662Z"
   },
   {
    "duration": 13,
    "start_time": "2023-01-16T08:22:18.740Z"
   },
   {
    "duration": 31,
    "start_time": "2023-01-16T08:22:18.755Z"
   },
   {
    "duration": 92,
    "start_time": "2023-01-16T09:57:22.591Z"
   },
   {
    "duration": 18,
    "start_time": "2023-01-16T09:57:35.788Z"
   },
   {
    "duration": 72,
    "start_time": "2023-01-16T10:11:48.535Z"
   },
   {
    "duration": 1151,
    "start_time": "2023-01-16T10:11:59.899Z"
   },
   {
    "duration": 153,
    "start_time": "2023-01-16T10:12:01.052Z"
   },
   {
    "duration": 11,
    "start_time": "2023-01-16T10:12:01.206Z"
   },
   {
    "duration": 47,
    "start_time": "2023-01-16T10:12:01.219Z"
   },
   {
    "duration": 138,
    "start_time": "2023-01-16T10:12:01.268Z"
   },
   {
    "duration": 75,
    "start_time": "2023-01-16T10:12:01.408Z"
   },
   {
    "duration": 24,
    "start_time": "2023-01-16T10:12:01.484Z"
   },
   {
    "duration": 70,
    "start_time": "2023-01-16T10:12:01.510Z"
   },
   {
    "duration": 66,
    "start_time": "2023-01-16T10:12:01.582Z"
   },
   {
    "duration": 120,
    "start_time": "2023-01-16T10:12:01.651Z"
   },
   {
    "duration": 88,
    "start_time": "2023-01-16T10:12:31.882Z"
   },
   {
    "duration": 80,
    "start_time": "2023-01-16T10:13:09.359Z"
   },
   {
    "duration": 82,
    "start_time": "2023-01-16T10:13:26.842Z"
   },
   {
    "duration": 96,
    "start_time": "2023-01-16T10:14:44.234Z"
   },
   {
    "duration": 173,
    "start_time": "2023-01-16T10:15:47.027Z"
   },
   {
    "duration": 85,
    "start_time": "2023-01-16T10:16:21.130Z"
   },
   {
    "duration": 3,
    "start_time": "2023-01-16T10:20:42.070Z"
   },
   {
    "duration": 195,
    "start_time": "2023-01-16T10:20:46.265Z"
   },
   {
    "duration": 4,
    "start_time": "2023-01-16T10:21:02.385Z"
   },
   {
    "duration": 184,
    "start_time": "2023-01-16T10:21:06.735Z"
   },
   {
    "duration": 4,
    "start_time": "2023-01-16T10:21:42.284Z"
   },
   {
    "duration": 183,
    "start_time": "2023-01-16T10:21:44.720Z"
   },
   {
    "duration": 4,
    "start_time": "2023-01-16T10:22:00.912Z"
   },
   {
    "duration": 201,
    "start_time": "2023-01-16T10:22:05.425Z"
   },
   {
    "duration": 4,
    "start_time": "2023-01-16T10:23:04.461Z"
   },
   {
    "duration": 186,
    "start_time": "2023-01-16T10:23:08.065Z"
   },
   {
    "duration": 1100,
    "start_time": "2023-01-16T10:25:14.315Z"
   },
   {
    "duration": 154,
    "start_time": "2023-01-16T10:25:15.417Z"
   },
   {
    "duration": 11,
    "start_time": "2023-01-16T10:25:15.572Z"
   },
   {
    "duration": 15,
    "start_time": "2023-01-16T10:25:15.585Z"
   },
   {
    "duration": 170,
    "start_time": "2023-01-16T10:25:15.602Z"
   },
   {
    "duration": 14,
    "start_time": "2023-01-16T10:25:15.774Z"
   },
   {
    "duration": 37,
    "start_time": "2023-01-16T10:25:15.790Z"
   },
   {
    "duration": 16,
    "start_time": "2023-01-16T10:25:15.829Z"
   },
   {
    "duration": 88,
    "start_time": "2023-01-16T10:25:15.846Z"
   },
   {
    "duration": 115,
    "start_time": "2023-01-16T10:25:15.936Z"
   },
   {
    "duration": 109,
    "start_time": "2023-01-16T10:39:29.181Z"
   },
   {
    "duration": 1136,
    "start_time": "2023-01-16T10:39:37.594Z"
   },
   {
    "duration": 149,
    "start_time": "2023-01-16T10:39:38.731Z"
   },
   {
    "duration": 12,
    "start_time": "2023-01-16T10:39:38.881Z"
   },
   {
    "duration": 24,
    "start_time": "2023-01-16T10:39:38.895Z"
   },
   {
    "duration": 170,
    "start_time": "2023-01-16T10:39:38.920Z"
   },
   {
    "duration": 100,
    "start_time": "2023-01-16T10:39:39.092Z"
   },
   {
    "duration": 12,
    "start_time": "2023-01-16T10:39:39.194Z"
   },
   {
    "duration": 25,
    "start_time": "2023-01-16T10:39:39.208Z"
   },
   {
    "duration": 24,
    "start_time": "2023-01-16T10:39:39.235Z"
   },
   {
    "duration": 98,
    "start_time": "2023-01-16T10:39:39.263Z"
   },
   {
    "duration": 143,
    "start_time": "2023-01-16T10:39:39.363Z"
   },
   {
    "duration": 142,
    "start_time": "2023-01-16T10:40:07.172Z"
   },
   {
    "duration": 97,
    "start_time": "2023-01-16T10:43:39.568Z"
   },
   {
    "duration": 3,
    "start_time": "2023-01-16T10:43:52.604Z"
   },
   {
    "duration": 171,
    "start_time": "2023-01-16T10:44:04.760Z"
   },
   {
    "duration": 1123,
    "start_time": "2023-01-16T10:44:14.025Z"
   },
   {
    "duration": 145,
    "start_time": "2023-01-16T10:44:15.150Z"
   },
   {
    "duration": 11,
    "start_time": "2023-01-16T10:44:15.296Z"
   },
   {
    "duration": 44,
    "start_time": "2023-01-16T10:44:15.309Z"
   },
   {
    "duration": 146,
    "start_time": "2023-01-16T10:44:15.355Z"
   },
   {
    "duration": 97,
    "start_time": "2023-01-16T10:44:15.503Z"
   },
   {
    "duration": 13,
    "start_time": "2023-01-16T10:44:15.602Z"
   },
   {
    "duration": 17,
    "start_time": "2023-01-16T10:44:15.617Z"
   },
   {
    "duration": 13,
    "start_time": "2023-01-16T10:44:15.635Z"
   },
   {
    "duration": 107,
    "start_time": "2023-01-16T10:44:15.650Z"
   },
   {
    "duration": 134,
    "start_time": "2023-01-16T10:44:15.759Z"
   },
   {
    "duration": 25,
    "start_time": "2023-01-16T10:45:15.165Z"
   },
   {
    "duration": 31,
    "start_time": "2023-01-16T10:46:01.069Z"
   },
   {
    "duration": 33,
    "start_time": "2023-01-16T10:46:12.804Z"
   },
   {
    "duration": 1242,
    "start_time": "2023-01-16T10:46:58.829Z"
   },
   {
    "duration": 167,
    "start_time": "2023-01-16T10:47:00.073Z"
   },
   {
    "duration": 13,
    "start_time": "2023-01-16T10:47:00.242Z"
   },
   {
    "duration": 63,
    "start_time": "2023-01-16T10:47:00.257Z"
   },
   {
    "duration": 170,
    "start_time": "2023-01-16T10:47:00.322Z"
   },
   {
    "duration": 103,
    "start_time": "2023-01-16T10:47:00.493Z"
   },
   {
    "duration": 13,
    "start_time": "2023-01-16T10:47:00.598Z"
   },
   {
    "duration": 24,
    "start_time": "2023-01-16T10:47:00.612Z"
   },
   {
    "duration": 20,
    "start_time": "2023-01-16T10:47:00.638Z"
   },
   {
    "duration": 106,
    "start_time": "2023-01-16T10:47:00.661Z"
   },
   {
    "duration": 69,
    "start_time": "2023-01-16T10:47:00.768Z"
   },
   {
    "duration": 11,
    "start_time": "2023-01-16T10:53:25.037Z"
   },
   {
    "duration": 20,
    "start_time": "2023-01-16T10:53:42.289Z"
   },
   {
    "duration": 104,
    "start_time": "2023-01-16T10:54:19.400Z"
   },
   {
    "duration": 148,
    "start_time": "2023-01-16T10:54:44.155Z"
   },
   {
    "duration": 15,
    "start_time": "2023-01-16T10:54:57.568Z"
   },
   {
    "duration": 18,
    "start_time": "2023-01-16T10:56:11.849Z"
   },
   {
    "duration": 21,
    "start_time": "2023-01-16T11:01:59.185Z"
   },
   {
    "duration": 9,
    "start_time": "2023-01-16T11:03:09.849Z"
   },
   {
    "duration": 6,
    "start_time": "2023-01-16T11:03:29.562Z"
   },
   {
    "duration": 6,
    "start_time": "2023-01-16T11:04:00.751Z"
   },
   {
    "duration": 13,
    "start_time": "2023-01-16T11:04:11.583Z"
   },
   {
    "duration": 7,
    "start_time": "2023-01-16T11:04:30.959Z"
   },
   {
    "duration": 7,
    "start_time": "2023-01-16T11:32:45.020Z"
   },
   {
    "duration": 6,
    "start_time": "2023-01-16T11:32:57.242Z"
   },
   {
    "duration": 7,
    "start_time": "2023-01-16T11:34:59.553Z"
   },
   {
    "duration": 13,
    "start_time": "2023-01-16T11:35:22.058Z"
   },
   {
    "duration": 16,
    "start_time": "2023-01-16T11:35:36.833Z"
   },
   {
    "duration": 23,
    "start_time": "2023-01-16T11:36:16.777Z"
   },
   {
    "duration": 14,
    "start_time": "2023-01-16T11:36:26.597Z"
   },
   {
    "duration": 20,
    "start_time": "2023-01-16T11:39:27.696Z"
   },
   {
    "duration": 29,
    "start_time": "2023-01-16T11:39:44.960Z"
   },
   {
    "duration": 18,
    "start_time": "2023-01-16T11:41:37.617Z"
   },
   {
    "duration": 24,
    "start_time": "2023-01-16T11:46:51.753Z"
   },
   {
    "duration": 18,
    "start_time": "2023-01-16T11:56:43.740Z"
   },
   {
    "duration": 11,
    "start_time": "2023-01-16T11:57:15.896Z"
   },
   {
    "duration": 56,
    "start_time": "2023-01-16T11:59:27.454Z"
   },
   {
    "duration": 366,
    "start_time": "2023-01-16T12:00:34.941Z"
   },
   {
    "duration": 26,
    "start_time": "2023-01-16T12:01:16.300Z"
   },
   {
    "duration": 29,
    "start_time": "2023-01-16T12:01:32.198Z"
   },
   {
    "duration": 28,
    "start_time": "2023-01-16T12:02:13.397Z"
   },
   {
    "duration": 14,
    "start_time": "2023-01-16T12:06:05.064Z"
   },
   {
    "duration": 15,
    "start_time": "2023-01-16T12:06:20.131Z"
   },
   {
    "duration": 16,
    "start_time": "2023-01-16T12:06:31.724Z"
   },
   {
    "duration": 18,
    "start_time": "2023-01-16T12:07:01.010Z"
   },
   {
    "duration": 1199,
    "start_time": "2023-01-16T12:07:36.452Z"
   },
   {
    "duration": 156,
    "start_time": "2023-01-16T12:07:37.653Z"
   },
   {
    "duration": 11,
    "start_time": "2023-01-16T12:07:37.810Z"
   },
   {
    "duration": 29,
    "start_time": "2023-01-16T12:07:37.823Z"
   },
   {
    "duration": 190,
    "start_time": "2023-01-16T12:07:37.854Z"
   },
   {
    "duration": 104,
    "start_time": "2023-01-16T12:07:38.046Z"
   },
   {
    "duration": 11,
    "start_time": "2023-01-16T12:07:38.152Z"
   },
   {
    "duration": 21,
    "start_time": "2023-01-16T12:07:38.177Z"
   },
   {
    "duration": 46,
    "start_time": "2023-01-16T12:07:38.199Z"
   },
   {
    "duration": 125,
    "start_time": "2023-01-16T12:07:38.247Z"
   },
   {
    "duration": 56,
    "start_time": "2023-01-16T12:07:38.373Z"
   },
   {
    "duration": 25,
    "start_time": "2023-01-16T12:07:38.431Z"
   },
   {
    "duration": 52,
    "start_time": "2023-01-16T12:07:38.458Z"
   },
   {
    "duration": 56,
    "start_time": "2023-01-16T12:07:38.512Z"
   },
   {
    "duration": 21,
    "start_time": "2023-01-16T12:16:01.099Z"
   },
   {
    "duration": 77,
    "start_time": "2023-01-16T12:16:19.274Z"
   },
   {
    "duration": 1798,
    "start_time": "2023-01-16T12:16:34.566Z"
   },
   {
    "duration": 187,
    "start_time": "2023-01-16T12:16:36.366Z"
   },
   {
    "duration": 14,
    "start_time": "2023-01-16T12:16:36.555Z"
   },
   {
    "duration": 19,
    "start_time": "2023-01-16T12:16:36.578Z"
   },
   {
    "duration": 199,
    "start_time": "2023-01-16T12:16:36.599Z"
   },
   {
    "duration": 111,
    "start_time": "2023-01-16T12:16:36.800Z"
   },
   {
    "duration": 31,
    "start_time": "2023-01-16T12:16:36.914Z"
   },
   {
    "duration": 33,
    "start_time": "2023-01-16T12:16:36.948Z"
   },
   {
    "duration": 1380,
    "start_time": "2023-01-16T12:16:36.986Z"
   },
   {
    "duration": 0,
    "start_time": "2023-01-16T12:16:38.368Z"
   },
   {
    "duration": 0,
    "start_time": "2023-01-16T12:16:38.370Z"
   },
   {
    "duration": 0,
    "start_time": "2023-01-16T12:16:38.371Z"
   },
   {
    "duration": 0,
    "start_time": "2023-01-16T12:16:38.372Z"
   },
   {
    "duration": 0,
    "start_time": "2023-01-16T12:16:38.374Z"
   },
   {
    "duration": 86,
    "start_time": "2023-01-16T12:17:06.010Z"
   },
   {
    "duration": 101,
    "start_time": "2023-01-16T12:17:31.704Z"
   },
   {
    "duration": 91,
    "start_time": "2023-01-16T12:17:49.464Z"
   },
   {
    "duration": 1326,
    "start_time": "2023-01-16T12:17:59.502Z"
   },
   {
    "duration": 168,
    "start_time": "2023-01-16T12:18:00.830Z"
   },
   {
    "duration": 12,
    "start_time": "2023-01-16T12:18:01.000Z"
   },
   {
    "duration": 20,
    "start_time": "2023-01-16T12:18:01.014Z"
   },
   {
    "duration": 197,
    "start_time": "2023-01-16T12:18:01.036Z"
   },
   {
    "duration": 109,
    "start_time": "2023-01-16T12:18:01.235Z"
   },
   {
    "duration": 11,
    "start_time": "2023-01-16T12:18:01.346Z"
   },
   {
    "duration": 53,
    "start_time": "2023-01-16T12:18:01.359Z"
   },
   {
    "duration": 86,
    "start_time": "2023-01-16T12:18:01.414Z"
   },
   {
    "duration": 50,
    "start_time": "2023-01-16T12:18:01.502Z"
   },
   {
    "duration": 40,
    "start_time": "2023-01-16T12:18:01.553Z"
   },
   {
    "duration": 25,
    "start_time": "2023-01-16T12:18:01.594Z"
   },
   {
    "duration": 63,
    "start_time": "2023-01-16T12:18:01.621Z"
   },
   {
    "duration": 1380,
    "start_time": "2023-01-16T12:18:01.687Z"
   },
   {
    "duration": 75,
    "start_time": "2023-01-16T12:19:17.400Z"
   },
   {
    "duration": 84,
    "start_time": "2023-01-16T12:20:22.944Z"
   },
   {
    "duration": 5,
    "start_time": "2023-01-16T12:22:02.671Z"
   },
   {
    "duration": 84,
    "start_time": "2023-01-16T12:22:30.639Z"
   },
   {
    "duration": 352,
    "start_time": "2023-01-16T12:36:53.741Z"
   },
   {
    "duration": 284,
    "start_time": "2023-01-16T12:38:47.891Z"
   },
   {
    "duration": 287,
    "start_time": "2023-01-16T12:40:27.619Z"
   },
   {
    "duration": 312,
    "start_time": "2023-01-16T12:40:46.602Z"
   },
   {
    "duration": 417,
    "start_time": "2023-01-16T12:41:00.075Z"
   },
   {
    "duration": 272,
    "start_time": "2023-01-16T12:41:12.985Z"
   },
   {
    "duration": 193,
    "start_time": "2023-01-16T12:44:16.600Z"
   },
   {
    "duration": 215,
    "start_time": "2023-01-16T12:46:46.609Z"
   },
   {
    "duration": 186,
    "start_time": "2023-01-16T12:53:03.578Z"
   },
   {
    "duration": 231,
    "start_time": "2023-01-16T12:53:32.849Z"
   },
   {
    "duration": 180,
    "start_time": "2023-01-16T12:55:50.688Z"
   },
   {
    "duration": 175,
    "start_time": "2023-01-16T12:57:03.274Z"
   },
   {
    "duration": 180,
    "start_time": "2023-01-16T13:06:37.182Z"
   },
   {
    "duration": 46,
    "start_time": "2023-01-16T13:15:47.812Z"
   },
   {
    "duration": 25,
    "start_time": "2023-01-16T13:16:22.397Z"
   },
   {
    "duration": 29,
    "start_time": "2023-01-16T13:24:07.868Z"
   },
   {
    "duration": 30,
    "start_time": "2023-01-16T13:24:21.442Z"
   },
   {
    "duration": 32,
    "start_time": "2023-01-16T13:24:30.293Z"
   },
   {
    "duration": 30,
    "start_time": "2023-01-16T13:24:46.036Z"
   },
   {
    "duration": 18,
    "start_time": "2023-01-16T13:31:08.866Z"
   },
   {
    "duration": 6,
    "start_time": "2023-01-16T13:32:02.578Z"
   },
   {
    "duration": 5,
    "start_time": "2023-01-16T13:38:53.617Z"
   },
   {
    "duration": 8,
    "start_time": "2023-01-16T13:39:54.034Z"
   },
   {
    "duration": 5,
    "start_time": "2023-01-16T13:40:05.799Z"
   },
   {
    "duration": 21,
    "start_time": "2023-01-16T13:46:04.054Z"
   },
   {
    "duration": 1152,
    "start_time": "2023-01-16T13:47:21.260Z"
   },
   {
    "duration": 142,
    "start_time": "2023-01-16T13:47:22.414Z"
   },
   {
    "duration": 11,
    "start_time": "2023-01-16T13:47:22.558Z"
   },
   {
    "duration": 12,
    "start_time": "2023-01-16T13:47:22.579Z"
   },
   {
    "duration": 171,
    "start_time": "2023-01-16T13:47:22.592Z"
   },
   {
    "duration": 121,
    "start_time": "2023-01-16T13:47:22.765Z"
   },
   {
    "duration": 10,
    "start_time": "2023-01-16T13:47:22.889Z"
   },
   {
    "duration": 19,
    "start_time": "2023-01-16T13:47:22.901Z"
   },
   {
    "duration": 110,
    "start_time": "2023-01-16T13:47:22.922Z"
   },
   {
    "duration": 0,
    "start_time": "2023-01-16T13:47:23.034Z"
   },
   {
    "duration": 0,
    "start_time": "2023-01-16T13:47:23.035Z"
   },
   {
    "duration": 0,
    "start_time": "2023-01-16T13:47:23.037Z"
   },
   {
    "duration": 0,
    "start_time": "2023-01-16T13:47:23.039Z"
   },
   {
    "duration": 0,
    "start_time": "2023-01-16T13:47:23.040Z"
   },
   {
    "duration": 0,
    "start_time": "2023-01-16T13:47:23.041Z"
   },
   {
    "duration": 0,
    "start_time": "2023-01-16T13:47:23.042Z"
   },
   {
    "duration": 0,
    "start_time": "2023-01-16T13:47:23.044Z"
   },
   {
    "duration": 0,
    "start_time": "2023-01-16T13:47:23.045Z"
   },
   {
    "duration": 0,
    "start_time": "2023-01-16T13:47:23.046Z"
   },
   {
    "duration": 0,
    "start_time": "2023-01-16T13:47:23.047Z"
   },
   {
    "duration": 0,
    "start_time": "2023-01-16T13:47:23.049Z"
   },
   {
    "duration": 0,
    "start_time": "2023-01-16T13:47:23.050Z"
   },
   {
    "duration": 1130,
    "start_time": "2023-01-16T13:49:27.590Z"
   },
   {
    "duration": 145,
    "start_time": "2023-01-16T13:49:28.722Z"
   },
   {
    "duration": 14,
    "start_time": "2023-01-16T13:49:28.869Z"
   },
   {
    "duration": 5,
    "start_time": "2023-01-16T13:49:28.885Z"
   },
   {
    "duration": 165,
    "start_time": "2023-01-16T13:49:28.892Z"
   },
   {
    "duration": 107,
    "start_time": "2023-01-16T13:49:29.059Z"
   },
   {
    "duration": 13,
    "start_time": "2023-01-16T13:49:29.177Z"
   },
   {
    "duration": 17,
    "start_time": "2023-01-16T13:49:29.192Z"
   },
   {
    "duration": 86,
    "start_time": "2023-01-16T13:49:29.211Z"
   },
   {
    "duration": 54,
    "start_time": "2023-01-16T13:49:29.300Z"
   },
   {
    "duration": 32,
    "start_time": "2023-01-16T13:49:29.356Z"
   },
   {
    "duration": 10,
    "start_time": "2023-01-16T13:49:29.390Z"
   },
   {
    "duration": 22,
    "start_time": "2023-01-16T13:49:29.401Z"
   },
   {
    "duration": 89,
    "start_time": "2023-01-16T13:49:29.425Z"
   },
   {
    "duration": 79,
    "start_time": "2023-01-16T13:49:29.516Z"
   },
   {
    "duration": 281,
    "start_time": "2023-01-16T13:49:29.597Z"
   },
   {
    "duration": 26,
    "start_time": "2023-01-16T13:49:29.880Z"
   },
   {
    "duration": 20,
    "start_time": "2023-01-16T13:49:29.908Z"
   },
   {
    "duration": 8,
    "start_time": "2023-01-16T13:49:29.930Z"
   },
   {
    "duration": 23,
    "start_time": "2023-01-16T13:49:29.940Z"
   },
   {
    "duration": 38,
    "start_time": "2023-01-16T13:49:29.965Z"
   },
   {
    "duration": 84,
    "start_time": "2023-01-17T05:25:00.022Z"
   },
   {
    "duration": 77,
    "start_time": "2023-01-17T05:25:39.871Z"
   },
   {
    "duration": 72,
    "start_time": "2023-01-17T05:26:17.648Z"
   },
   {
    "duration": 95,
    "start_time": "2023-01-17T05:26:24.647Z"
   },
   {
    "duration": 176,
    "start_time": "2023-01-17T05:29:45.062Z"
   },
   {
    "duration": 34,
    "start_time": "2023-01-17T05:30:07.157Z"
   },
   {
    "duration": 36,
    "start_time": "2023-01-17T05:30:30.422Z"
   },
   {
    "duration": 27,
    "start_time": "2023-01-17T05:30:52.221Z"
   },
   {
    "duration": 30,
    "start_time": "2023-01-17T05:31:04.213Z"
   },
   {
    "duration": 67,
    "start_time": "2023-01-17T05:31:37.863Z"
   },
   {
    "duration": 4,
    "start_time": "2023-01-17T05:33:29.438Z"
   },
   {
    "duration": 7,
    "start_time": "2023-01-17T05:33:37.332Z"
   },
   {
    "duration": 10,
    "start_time": "2023-01-17T05:36:33.732Z"
   },
   {
    "duration": 9,
    "start_time": "2023-01-17T05:37:41.051Z"
   },
   {
    "duration": 9,
    "start_time": "2023-01-17T05:38:10.580Z"
   },
   {
    "duration": 10,
    "start_time": "2023-01-17T05:38:37.204Z"
   },
   {
    "duration": 29,
    "start_time": "2023-01-17T05:50:13.536Z"
   },
   {
    "duration": 49,
    "start_time": "2023-01-17T05:50:33.931Z"
   },
   {
    "duration": 87,
    "start_time": "2023-01-17T06:06:53.910Z"
   },
   {
    "duration": 72,
    "start_time": "2023-01-17T06:07:15.525Z"
   },
   {
    "duration": 82,
    "start_time": "2023-01-17T06:07:24.077Z"
   },
   {
    "duration": 11,
    "start_time": "2023-01-17T06:07:28.994Z"
   },
   {
    "duration": 70,
    "start_time": "2023-01-17T06:07:40.133Z"
   },
   {
    "duration": 89,
    "start_time": "2023-01-17T06:08:17.150Z"
   },
   {
    "duration": 80,
    "start_time": "2023-01-17T06:08:54.959Z"
   },
   {
    "duration": 76,
    "start_time": "2023-01-17T06:09:07.165Z"
   },
   {
    "duration": 10,
    "start_time": "2023-01-17T06:09:25.820Z"
   },
   {
    "duration": 39,
    "start_time": "2023-01-17T06:09:41.372Z"
   },
   {
    "duration": 60,
    "start_time": "2023-01-17T06:15:10.540Z"
   },
   {
    "duration": 10,
    "start_time": "2023-01-17T06:19:47.466Z"
   },
   {
    "duration": 12,
    "start_time": "2023-01-17T06:21:33.906Z"
   },
   {
    "duration": 10,
    "start_time": "2023-01-17T06:22:30.986Z"
   },
   {
    "duration": 11,
    "start_time": "2023-01-17T06:22:53.986Z"
   },
   {
    "duration": 8,
    "start_time": "2023-01-17T06:25:21.681Z"
   },
   {
    "duration": 9,
    "start_time": "2023-01-17T06:25:32.569Z"
   },
   {
    "duration": 10,
    "start_time": "2023-01-17T06:25:53.730Z"
   },
   {
    "duration": 1304,
    "start_time": "2023-01-17T06:40:58.310Z"
   },
   {
    "duration": 656,
    "start_time": "2023-01-17T06:41:23.277Z"
   },
   {
    "duration": 1289,
    "start_time": "2023-01-17T06:41:41.461Z"
   },
   {
    "duration": 4,
    "start_time": "2023-01-17T06:43:16.054Z"
   },
   {
    "duration": 5,
    "start_time": "2023-01-17T06:44:00.924Z"
   },
   {
    "duration": 8,
    "start_time": "2023-01-17T06:44:11.861Z"
   },
   {
    "duration": 5,
    "start_time": "2023-01-17T06:45:07.509Z"
   },
   {
    "duration": 1179,
    "start_time": "2023-01-17T06:50:11.567Z"
   },
   {
    "duration": 173,
    "start_time": "2023-01-17T06:50:12.748Z"
   },
   {
    "duration": 12,
    "start_time": "2023-01-17T06:50:12.923Z"
   },
   {
    "duration": 9,
    "start_time": "2023-01-17T06:50:12.938Z"
   },
   {
    "duration": 197,
    "start_time": "2023-01-17T06:50:12.949Z"
   },
   {
    "duration": 104,
    "start_time": "2023-01-17T06:50:13.147Z"
   },
   {
    "duration": 34,
    "start_time": "2023-01-17T06:50:13.253Z"
   },
   {
    "duration": 17,
    "start_time": "2023-01-17T06:50:13.291Z"
   },
   {
    "duration": 85,
    "start_time": "2023-01-17T06:50:13.310Z"
   },
   {
    "duration": 51,
    "start_time": "2023-01-17T06:50:13.399Z"
   },
   {
    "duration": 20,
    "start_time": "2023-01-17T06:50:13.452Z"
   },
   {
    "duration": 25,
    "start_time": "2023-01-17T06:50:13.478Z"
   },
   {
    "duration": 19,
    "start_time": "2023-01-17T06:50:13.505Z"
   },
   {
    "duration": 81,
    "start_time": "2023-01-17T06:50:13.525Z"
   },
   {
    "duration": 88,
    "start_time": "2023-01-17T06:50:13.608Z"
   },
   {
    "duration": 304,
    "start_time": "2023-01-17T06:50:13.698Z"
   },
   {
    "duration": 40,
    "start_time": "2023-01-17T06:50:14.005Z"
   },
   {
    "duration": 44,
    "start_time": "2023-01-17T06:50:14.048Z"
   },
   {
    "duration": 13,
    "start_time": "2023-01-17T06:50:14.094Z"
   },
   {
    "duration": 18,
    "start_time": "2023-01-17T06:50:14.109Z"
   },
   {
    "duration": 29,
    "start_time": "2023-01-17T06:50:14.129Z"
   },
   {
    "duration": 91,
    "start_time": "2023-01-17T06:50:14.160Z"
   },
   {
    "duration": 26,
    "start_time": "2023-01-17T06:50:14.253Z"
   },
   {
    "duration": 40,
    "start_time": "2023-01-17T06:50:14.284Z"
   },
   {
    "duration": 83,
    "start_time": "2023-01-17T06:50:14.326Z"
   },
   {
    "duration": 12,
    "start_time": "2023-01-17T06:50:14.410Z"
   },
   {
    "duration": 19,
    "start_time": "2023-01-17T06:50:14.424Z"
   },
   {
    "duration": 13,
    "start_time": "2023-01-17T06:50:14.448Z"
   },
   {
    "duration": 73,
    "start_time": "2023-01-17T06:52:17.899Z"
   },
   {
    "duration": 5,
    "start_time": "2023-01-17T06:52:28.226Z"
   },
   {
    "duration": 5,
    "start_time": "2023-01-17T06:52:37.003Z"
   },
   {
    "duration": 6,
    "start_time": "2023-01-17T06:54:16.666Z"
   },
   {
    "duration": 6,
    "start_time": "2023-01-17T06:54:23.810Z"
   },
   {
    "duration": 45,
    "start_time": "2023-01-17T07:01:41.328Z"
   },
   {
    "duration": 7,
    "start_time": "2023-01-17T07:04:36.288Z"
   },
   {
    "duration": 3,
    "start_time": "2023-01-17T07:10:11.944Z"
   },
   {
    "duration": 4,
    "start_time": "2023-01-17T07:10:51.039Z"
   },
   {
    "duration": 97,
    "start_time": "2023-01-17T07:30:44.827Z"
   },
   {
    "duration": 1140,
    "start_time": "2023-01-17T07:31:21.189Z"
   },
   {
    "duration": 141,
    "start_time": "2023-01-17T07:31:22.330Z"
   },
   {
    "duration": 13,
    "start_time": "2023-01-17T07:31:22.472Z"
   },
   {
    "duration": 3,
    "start_time": "2023-01-17T07:31:22.487Z"
   },
   {
    "duration": 156,
    "start_time": "2023-01-17T07:31:22.492Z"
   },
   {
    "duration": 97,
    "start_time": "2023-01-17T07:31:22.649Z"
   },
   {
    "duration": 11,
    "start_time": "2023-01-17T07:31:22.747Z"
   },
   {
    "duration": 27,
    "start_time": "2023-01-17T07:31:22.759Z"
   },
   {
    "duration": 75,
    "start_time": "2023-01-17T07:31:22.787Z"
   },
   {
    "duration": 49,
    "start_time": "2023-01-17T07:31:22.877Z"
   },
   {
    "duration": 22,
    "start_time": "2023-01-17T07:31:22.928Z"
   },
   {
    "duration": 27,
    "start_time": "2023-01-17T07:31:22.952Z"
   },
   {
    "duration": 18,
    "start_time": "2023-01-17T07:31:22.981Z"
   },
   {
    "duration": 88,
    "start_time": "2023-01-17T07:31:23.001Z"
   },
   {
    "duration": 72,
    "start_time": "2023-01-17T07:31:23.090Z"
   },
   {
    "duration": 279,
    "start_time": "2023-01-17T07:31:23.163Z"
   },
   {
    "duration": 36,
    "start_time": "2023-01-17T07:31:23.444Z"
   },
   {
    "duration": 20,
    "start_time": "2023-01-17T07:31:23.482Z"
   },
   {
    "duration": 7,
    "start_time": "2023-01-17T07:31:23.504Z"
   },
   {
    "duration": 21,
    "start_time": "2023-01-17T07:31:23.513Z"
   },
   {
    "duration": 22,
    "start_time": "2023-01-17T07:31:23.535Z"
   },
   {
    "duration": 77,
    "start_time": "2023-01-17T07:31:23.559Z"
   },
   {
    "duration": 10,
    "start_time": "2023-01-17T07:31:23.637Z"
   },
   {
    "duration": 47,
    "start_time": "2023-01-17T07:31:23.648Z"
   },
   {
    "duration": 64,
    "start_time": "2023-01-17T07:31:23.696Z"
   },
   {
    "duration": 22,
    "start_time": "2023-01-17T07:31:23.762Z"
   },
   {
    "duration": 14,
    "start_time": "2023-01-17T07:31:23.786Z"
   },
   {
    "duration": 52,
    "start_time": "2023-01-17T07:31:23.803Z"
   },
   {
    "duration": 3,
    "start_time": "2023-01-17T07:31:23.857Z"
   },
   {
    "duration": 19,
    "start_time": "2023-01-17T07:31:23.862Z"
   },
   {
    "duration": 44,
    "start_time": "2023-01-17T07:31:23.883Z"
   },
   {
    "duration": 103,
    "start_time": "2023-01-17T07:42:33.593Z"
   },
   {
    "duration": 1168,
    "start_time": "2023-01-17T07:43:23.639Z"
   },
   {
    "duration": 166,
    "start_time": "2023-01-17T07:43:24.809Z"
   },
   {
    "duration": 12,
    "start_time": "2023-01-17T07:43:24.977Z"
   },
   {
    "duration": 20,
    "start_time": "2023-01-17T07:43:24.991Z"
   },
   {
    "duration": 164,
    "start_time": "2023-01-17T07:43:25.012Z"
   },
   {
    "duration": 88,
    "start_time": "2023-01-17T07:43:25.178Z"
   },
   {
    "duration": 17,
    "start_time": "2023-01-17T07:43:25.267Z"
   },
   {
    "duration": 19,
    "start_time": "2023-01-17T07:43:25.285Z"
   },
   {
    "duration": 84,
    "start_time": "2023-01-17T07:43:25.306Z"
   },
   {
    "duration": 45,
    "start_time": "2023-01-17T07:43:25.393Z"
   },
   {
    "duration": 37,
    "start_time": "2023-01-17T07:43:25.440Z"
   },
   {
    "duration": 23,
    "start_time": "2023-01-17T07:43:25.478Z"
   },
   {
    "duration": 28,
    "start_time": "2023-01-17T07:43:25.502Z"
   },
   {
    "duration": 70,
    "start_time": "2023-01-17T07:43:25.531Z"
   },
   {
    "duration": 90,
    "start_time": "2023-01-17T07:43:25.602Z"
   },
   {
    "duration": 269,
    "start_time": "2023-01-17T07:43:25.694Z"
   },
   {
    "duration": 32,
    "start_time": "2023-01-17T07:43:25.964Z"
   },
   {
    "duration": 25,
    "start_time": "2023-01-17T07:43:25.998Z"
   },
   {
    "duration": 11,
    "start_time": "2023-01-17T07:43:26.025Z"
   },
   {
    "duration": 26,
    "start_time": "2023-01-17T07:43:26.038Z"
   },
   {
    "duration": 36,
    "start_time": "2023-01-17T07:43:26.065Z"
   },
   {
    "duration": 77,
    "start_time": "2023-01-17T07:43:26.103Z"
   },
   {
    "duration": 10,
    "start_time": "2023-01-17T07:43:26.181Z"
   },
   {
    "duration": 46,
    "start_time": "2023-01-17T07:43:26.192Z"
   },
   {
    "duration": 70,
    "start_time": "2023-01-17T07:43:26.240Z"
   },
   {
    "duration": 8,
    "start_time": "2023-01-17T07:43:26.311Z"
   },
   {
    "duration": 19,
    "start_time": "2023-01-17T07:43:26.321Z"
   },
   {
    "duration": 72,
    "start_time": "2023-01-17T07:43:26.343Z"
   },
   {
    "duration": 3,
    "start_time": "2023-01-17T07:43:26.417Z"
   },
   {
    "duration": 19,
    "start_time": "2023-01-17T07:43:26.421Z"
   },
   {
    "duration": 71,
    "start_time": "2023-01-17T07:43:26.442Z"
   },
   {
    "duration": 0,
    "start_time": "2023-01-17T07:43:26.515Z"
   },
   {
    "duration": 0,
    "start_time": "2023-01-17T07:43:26.516Z"
   },
   {
    "duration": 98,
    "start_time": "2023-01-17T07:43:42.856Z"
   },
   {
    "duration": 22,
    "start_time": "2023-01-17T07:44:06.232Z"
   },
   {
    "duration": 24,
    "start_time": "2023-01-17T07:44:36.329Z"
   },
   {
    "duration": 21,
    "start_time": "2023-01-17T07:44:45.488Z"
   },
   {
    "duration": 17,
    "start_time": "2023-01-17T07:45:00.553Z"
   },
   {
    "duration": 19,
    "start_time": "2023-01-17T07:45:09.934Z"
   },
   {
    "duration": 42,
    "start_time": "2023-01-17T07:46:56.687Z"
   },
   {
    "duration": 7,
    "start_time": "2023-01-17T07:47:25.063Z"
   },
   {
    "duration": 15,
    "start_time": "2023-01-17T10:37:35.440Z"
   },
   {
    "duration": 12,
    "start_time": "2023-01-17T10:37:55.318Z"
   },
   {
    "duration": 1359,
    "start_time": "2023-01-17T10:38:13.278Z"
   },
   {
    "duration": 166,
    "start_time": "2023-01-17T10:38:14.639Z"
   },
   {
    "duration": 12,
    "start_time": "2023-01-17T10:38:14.807Z"
   },
   {
    "duration": 5,
    "start_time": "2023-01-17T10:38:14.820Z"
   },
   {
    "duration": 196,
    "start_time": "2023-01-17T10:38:14.826Z"
   },
   {
    "duration": 121,
    "start_time": "2023-01-17T10:38:15.024Z"
   },
   {
    "duration": 10,
    "start_time": "2023-01-17T10:38:15.147Z"
   },
   {
    "duration": 32,
    "start_time": "2023-01-17T10:38:15.159Z"
   },
   {
    "duration": 96,
    "start_time": "2023-01-17T10:38:15.194Z"
   },
   {
    "duration": 64,
    "start_time": "2023-01-17T10:38:15.293Z"
   },
   {
    "duration": 36,
    "start_time": "2023-01-17T10:38:15.359Z"
   },
   {
    "duration": 7,
    "start_time": "2023-01-17T10:38:15.397Z"
   },
   {
    "duration": 30,
    "start_time": "2023-01-17T10:38:15.406Z"
   },
   {
    "duration": 107,
    "start_time": "2023-01-17T10:38:15.438Z"
   },
   {
    "duration": 89,
    "start_time": "2023-01-17T10:38:15.548Z"
   },
   {
    "duration": 316,
    "start_time": "2023-01-17T10:38:15.639Z"
   },
   {
    "duration": 36,
    "start_time": "2023-01-17T10:38:15.957Z"
   },
   {
    "duration": 20,
    "start_time": "2023-01-17T10:38:15.995Z"
   },
   {
    "duration": 7,
    "start_time": "2023-01-17T10:38:16.017Z"
   },
   {
    "duration": 9,
    "start_time": "2023-01-17T10:38:16.025Z"
   },
   {
    "duration": 58,
    "start_time": "2023-01-17T10:38:16.037Z"
   },
   {
    "duration": 109,
    "start_time": "2023-01-17T10:38:16.097Z"
   },
   {
    "duration": 10,
    "start_time": "2023-01-17T10:38:16.208Z"
   },
   {
    "duration": 38,
    "start_time": "2023-01-17T10:38:16.220Z"
   },
   {
    "duration": 66,
    "start_time": "2023-01-17T10:38:16.278Z"
   },
   {
    "duration": 10,
    "start_time": "2023-01-17T10:38:16.346Z"
   },
   {
    "duration": 23,
    "start_time": "2023-01-17T10:38:16.358Z"
   },
   {
    "duration": 47,
    "start_time": "2023-01-17T10:38:16.384Z"
   },
   {
    "duration": 4,
    "start_time": "2023-01-17T10:38:16.433Z"
   },
   {
    "duration": 14,
    "start_time": "2023-01-17T10:38:16.439Z"
   },
   {
    "duration": 27,
    "start_time": "2023-01-17T10:38:16.478Z"
   },
   {
    "duration": 9,
    "start_time": "2023-01-17T10:38:16.507Z"
   },
   {
    "duration": 127,
    "start_time": "2023-01-17T10:43:46.982Z"
   },
   {
    "duration": 11,
    "start_time": "2023-01-17T10:51:49.714Z"
   },
   {
    "duration": 10,
    "start_time": "2023-01-17T10:53:06.292Z"
   },
   {
    "duration": 56,
    "start_time": "2023-01-17T11:13:01.184Z"
   },
   {
    "duration": 49,
    "start_time": "2023-01-17T11:13:30.966Z"
   },
   {
    "duration": 33,
    "start_time": "2023-01-17T11:19:19.717Z"
   },
   {
    "duration": 1027,
    "start_time": "2023-01-17T11:19:33.437Z"
   },
   {
    "duration": 52,
    "start_time": "2023-01-17T11:19:53.947Z"
   },
   {
    "duration": 39,
    "start_time": "2023-01-17T11:20:03.974Z"
   },
   {
    "duration": 13,
    "start_time": "2023-01-17T11:28:55.219Z"
   },
   {
    "duration": 71,
    "start_time": "2023-01-17T11:29:07.475Z"
   },
   {
    "duration": 77,
    "start_time": "2023-01-17T11:29:14.739Z"
   },
   {
    "duration": 73,
    "start_time": "2023-01-17T11:30:09.259Z"
   },
   {
    "duration": 78,
    "start_time": "2023-01-17T11:32:19.843Z"
   },
   {
    "duration": 1262,
    "start_time": "2023-01-17T11:32:41.027Z"
   },
   {
    "duration": 73,
    "start_time": "2023-01-17T11:34:03.787Z"
   },
   {
    "duration": 1294,
    "start_time": "2023-01-17T11:34:50.410Z"
   },
   {
    "duration": 76,
    "start_time": "2023-01-17T11:35:07.978Z"
   },
   {
    "duration": 1190,
    "start_time": "2023-01-17T11:38:51.033Z"
   },
   {
    "duration": 78,
    "start_time": "2023-01-17T11:39:02.802Z"
   },
   {
    "duration": 81,
    "start_time": "2023-01-17T11:39:19.199Z"
   },
   {
    "duration": 78,
    "start_time": "2023-01-17T11:40:11.136Z"
   },
   {
    "duration": 100,
    "start_time": "2023-01-17T11:46:54.912Z"
   },
   {
    "duration": 82,
    "start_time": "2023-01-17T11:48:14.504Z"
   },
   {
    "duration": 1862,
    "start_time": "2023-01-17T12:04:08.475Z"
   },
   {
    "duration": 13,
    "start_time": "2023-01-17T12:04:53.180Z"
   },
   {
    "duration": 12,
    "start_time": "2023-01-17T12:05:37.332Z"
   },
   {
    "duration": 11,
    "start_time": "2023-01-17T12:05:45.811Z"
   },
   {
    "duration": 5,
    "start_time": "2023-01-17T12:17:10.201Z"
   },
   {
    "duration": 10,
    "start_time": "2023-01-17T12:17:13.232Z"
   },
   {
    "duration": 11,
    "start_time": "2023-01-17T12:34:44.519Z"
   },
   {
    "duration": 6,
    "start_time": "2023-01-17T12:34:50.998Z"
   },
   {
    "duration": 9,
    "start_time": "2023-01-17T12:34:53.631Z"
   },
   {
    "duration": 9,
    "start_time": "2023-01-17T12:34:56.350Z"
   },
   {
    "duration": 9,
    "start_time": "2023-01-17T12:35:20.309Z"
   },
   {
    "duration": 1233,
    "start_time": "2023-01-17T13:23:40.362Z"
   },
   {
    "duration": 155,
    "start_time": "2023-01-17T13:23:41.597Z"
   },
   {
    "duration": 11,
    "start_time": "2023-01-17T13:23:41.753Z"
   },
   {
    "duration": 12,
    "start_time": "2023-01-17T13:23:41.766Z"
   },
   {
    "duration": 243,
    "start_time": "2023-01-17T13:23:41.780Z"
   },
   {
    "duration": 105,
    "start_time": "2023-01-17T13:23:42.025Z"
   },
   {
    "duration": 12,
    "start_time": "2023-01-17T13:23:42.132Z"
   },
   {
    "duration": 33,
    "start_time": "2023-01-17T13:23:42.145Z"
   },
   {
    "duration": 84,
    "start_time": "2023-01-17T13:23:42.180Z"
   },
   {
    "duration": 51,
    "start_time": "2023-01-17T13:23:42.277Z"
   },
   {
    "duration": 19,
    "start_time": "2023-01-17T13:23:42.330Z"
   },
   {
    "duration": 17,
    "start_time": "2023-01-17T13:23:42.350Z"
   },
   {
    "duration": 28,
    "start_time": "2023-01-17T13:23:42.368Z"
   },
   {
    "duration": 96,
    "start_time": "2023-01-17T13:23:42.398Z"
   },
   {
    "duration": 93,
    "start_time": "2023-01-17T13:23:42.495Z"
   },
   {
    "duration": 311,
    "start_time": "2023-01-17T13:23:42.590Z"
   },
   {
    "duration": 27,
    "start_time": "2023-01-17T13:23:42.902Z"
   },
   {
    "duration": 21,
    "start_time": "2023-01-17T13:23:42.931Z"
   },
   {
    "duration": 12,
    "start_time": "2023-01-17T13:23:42.954Z"
   },
   {
    "duration": 17,
    "start_time": "2023-01-17T13:23:42.968Z"
   },
   {
    "duration": 38,
    "start_time": "2023-01-17T13:23:42.987Z"
   },
   {
    "duration": 80,
    "start_time": "2023-01-17T13:23:43.027Z"
   },
   {
    "duration": 10,
    "start_time": "2023-01-17T13:23:43.109Z"
   },
   {
    "duration": 44,
    "start_time": "2023-01-17T13:23:43.120Z"
   },
   {
    "duration": 69,
    "start_time": "2023-01-17T13:23:43.166Z"
   },
   {
    "duration": 12,
    "start_time": "2023-01-17T13:23:43.237Z"
   },
   {
    "duration": 60,
    "start_time": "2023-01-17T13:23:43.251Z"
   },
   {
    "duration": 135,
    "start_time": "2023-01-17T13:23:43.315Z"
   },
   {
    "duration": 29,
    "start_time": "2023-01-17T13:23:43.452Z"
   },
   {
    "duration": 15,
    "start_time": "2023-01-17T13:23:43.483Z"
   },
   {
    "duration": 108,
    "start_time": "2023-01-17T13:23:43.500Z"
   },
   {
    "duration": 3,
    "start_time": "2023-01-17T13:23:43.610Z"
   },
   {
    "duration": 64,
    "start_time": "2023-01-17T13:23:43.615Z"
   },
   {
    "duration": 32,
    "start_time": "2023-01-17T13:23:43.681Z"
   },
   {
    "duration": 8,
    "start_time": "2023-01-17T13:23:43.715Z"
   },
   {
    "duration": 55,
    "start_time": "2023-01-17T13:23:43.724Z"
   },
   {
    "duration": 117,
    "start_time": "2023-01-17T13:23:43.781Z"
   },
   {
    "duration": 5,
    "start_time": "2023-01-17T13:23:43.902Z"
   },
   {
    "duration": 46,
    "start_time": "2023-01-17T13:23:43.909Z"
   },
   {
    "duration": 25,
    "start_time": "2023-01-17T13:23:43.958Z"
   },
   {
    "duration": 28,
    "start_time": "2023-01-17T13:23:43.985Z"
   },
   {
    "duration": 1253,
    "start_time": "2023-01-17T13:51:53.967Z"
   },
   {
    "duration": 156,
    "start_time": "2023-01-17T13:51:55.222Z"
   },
   {
    "duration": 14,
    "start_time": "2023-01-17T13:51:55.386Z"
   },
   {
    "duration": 18,
    "start_time": "2023-01-17T13:51:55.402Z"
   },
   {
    "duration": 173,
    "start_time": "2023-01-17T13:51:55.421Z"
   },
   {
    "duration": 106,
    "start_time": "2023-01-17T13:51:55.596Z"
   },
   {
    "duration": 13,
    "start_time": "2023-01-17T13:51:55.704Z"
   },
   {
    "duration": 16,
    "start_time": "2023-01-17T13:51:55.718Z"
   },
   {
    "duration": 113,
    "start_time": "2023-01-17T13:51:55.735Z"
   },
   {
    "duration": 63,
    "start_time": "2023-01-17T13:51:55.850Z"
   },
   {
    "duration": 33,
    "start_time": "2023-01-17T13:51:55.915Z"
   },
   {
    "duration": 20,
    "start_time": "2023-01-17T13:51:55.950Z"
   },
   {
    "duration": 29,
    "start_time": "2023-01-17T13:51:55.982Z"
   },
   {
    "duration": 91,
    "start_time": "2023-01-17T13:51:56.013Z"
   },
   {
    "duration": 88,
    "start_time": "2023-01-17T13:51:56.106Z"
   },
   {
    "duration": 297,
    "start_time": "2023-01-17T13:51:56.195Z"
   },
   {
    "duration": 28,
    "start_time": "2023-01-17T13:51:56.495Z"
   },
   {
    "duration": 31,
    "start_time": "2023-01-17T13:51:56.525Z"
   },
   {
    "duration": 30,
    "start_time": "2023-01-17T13:51:56.558Z"
   },
   {
    "duration": 10,
    "start_time": "2023-01-17T13:51:56.590Z"
   },
   {
    "duration": 32,
    "start_time": "2023-01-17T13:51:56.602Z"
   },
   {
    "duration": 84,
    "start_time": "2023-01-17T13:51:56.636Z"
   },
   {
    "duration": 13,
    "start_time": "2023-01-17T13:51:56.722Z"
   },
   {
    "duration": 67,
    "start_time": "2023-01-17T13:51:56.738Z"
   },
   {
    "duration": 87,
    "start_time": "2023-01-17T13:51:56.807Z"
   },
   {
    "duration": 12,
    "start_time": "2023-01-17T13:51:56.896Z"
   },
   {
    "duration": 15,
    "start_time": "2023-01-17T13:51:56.910Z"
   },
   {
    "duration": 147,
    "start_time": "2023-01-17T13:51:56.929Z"
   },
   {
    "duration": 15,
    "start_time": "2023-01-17T13:51:57.078Z"
   },
   {
    "duration": 18,
    "start_time": "2023-01-17T13:51:57.094Z"
   },
   {
    "duration": 107,
    "start_time": "2023-01-17T13:51:57.114Z"
   },
   {
    "duration": 4,
    "start_time": "2023-01-17T13:51:57.223Z"
   },
   {
    "duration": 57,
    "start_time": "2023-01-17T13:51:57.229Z"
   },
   {
    "duration": 35,
    "start_time": "2023-01-17T13:51:57.288Z"
   },
   {
    "duration": 9,
    "start_time": "2023-01-17T13:51:57.325Z"
   },
   {
    "duration": 64,
    "start_time": "2023-01-17T13:51:57.337Z"
   },
   {
    "duration": 98,
    "start_time": "2023-01-17T13:51:57.403Z"
   },
   {
    "duration": 5,
    "start_time": "2023-01-17T13:51:57.503Z"
   },
   {
    "duration": 19,
    "start_time": "2023-01-17T13:51:57.509Z"
   },
   {
    "duration": 28,
    "start_time": "2023-01-17T13:51:57.530Z"
   },
   {
    "duration": 16,
    "start_time": "2023-01-17T13:51:57.560Z"
   },
   {
    "duration": 1337,
    "start_time": "2023-01-17T14:10:29.914Z"
   },
   {
    "duration": 156,
    "start_time": "2023-01-17T14:10:31.253Z"
   },
   {
    "duration": 11,
    "start_time": "2023-01-17T14:10:31.411Z"
   },
   {
    "duration": 19,
    "start_time": "2023-01-17T14:10:31.425Z"
   },
   {
    "duration": 176,
    "start_time": "2023-01-17T14:10:31.446Z"
   },
   {
    "duration": 88,
    "start_time": "2023-01-17T14:10:31.624Z"
   },
   {
    "duration": 11,
    "start_time": "2023-01-17T14:10:31.713Z"
   },
   {
    "duration": 26,
    "start_time": "2023-01-17T14:10:31.726Z"
   },
   {
    "duration": 139,
    "start_time": "2023-01-17T14:10:31.753Z"
   },
   {
    "duration": 110,
    "start_time": "2023-01-17T14:10:31.896Z"
   },
   {
    "duration": 22,
    "start_time": "2023-01-17T14:10:32.007Z"
   },
   {
    "duration": 20,
    "start_time": "2023-01-17T14:10:32.031Z"
   },
   {
    "duration": 39,
    "start_time": "2023-01-17T14:10:32.052Z"
   },
   {
    "duration": 185,
    "start_time": "2023-01-17T14:10:32.094Z"
   },
   {
    "duration": 160,
    "start_time": "2023-01-17T14:10:32.281Z"
   },
   {
    "duration": 335,
    "start_time": "2023-01-17T14:10:32.443Z"
   },
   {
    "duration": 32,
    "start_time": "2023-01-17T14:10:32.779Z"
   },
   {
    "duration": 19,
    "start_time": "2023-01-17T14:10:32.813Z"
   },
   {
    "duration": 7,
    "start_time": "2023-01-17T14:10:32.834Z"
   },
   {
    "duration": 36,
    "start_time": "2023-01-17T14:10:32.843Z"
   },
   {
    "duration": 20,
    "start_time": "2023-01-17T14:10:32.880Z"
   },
   {
    "duration": 81,
    "start_time": "2023-01-17T14:10:32.901Z"
   },
   {
    "duration": 11,
    "start_time": "2023-01-17T14:10:32.983Z"
   },
   {
    "duration": 48,
    "start_time": "2023-01-17T14:10:32.995Z"
   },
   {
    "duration": 85,
    "start_time": "2023-01-17T14:10:33.045Z"
   },
   {
    "duration": 10,
    "start_time": "2023-01-17T14:10:33.132Z"
   },
   {
    "duration": 9,
    "start_time": "2023-01-17T14:10:33.143Z"
   },
   {
    "duration": 135,
    "start_time": "2023-01-17T14:10:33.155Z"
   },
   {
    "duration": 10,
    "start_time": "2023-01-17T14:10:33.291Z"
   },
   {
    "duration": 80,
    "start_time": "2023-01-17T14:10:33.303Z"
   },
   {
    "duration": 60,
    "start_time": "2023-01-17T14:10:33.385Z"
   },
   {
    "duration": 4,
    "start_time": "2023-01-17T14:10:33.446Z"
   },
   {
    "duration": 31,
    "start_time": "2023-01-17T14:10:33.451Z"
   },
   {
    "duration": 22,
    "start_time": "2023-01-17T14:10:33.484Z"
   },
   {
    "duration": 7,
    "start_time": "2023-01-17T14:10:33.508Z"
   },
   {
    "duration": 46,
    "start_time": "2023-01-17T14:10:33.516Z"
   },
   {
    "duration": 86,
    "start_time": "2023-01-17T14:10:33.577Z"
   },
   {
    "duration": 5,
    "start_time": "2023-01-17T14:10:33.677Z"
   },
   {
    "duration": 23,
    "start_time": "2023-01-17T14:10:33.684Z"
   },
   {
    "duration": 10,
    "start_time": "2023-01-17T14:10:33.709Z"
   },
   {
    "duration": 72,
    "start_time": "2023-01-17T14:10:33.721Z"
   },
   {
    "duration": 1425,
    "start_time": "2023-01-17T17:10:32.955Z"
   },
   {
    "duration": 657,
    "start_time": "2023-01-17T17:10:34.382Z"
   },
   {
    "duration": 11,
    "start_time": "2023-01-17T17:10:35.041Z"
   },
   {
    "duration": 15,
    "start_time": "2023-01-17T17:10:35.054Z"
   },
   {
    "duration": 185,
    "start_time": "2023-01-17T17:10:35.071Z"
   },
   {
    "duration": 115,
    "start_time": "2023-01-17T17:10:35.257Z"
   },
   {
    "duration": 11,
    "start_time": "2023-01-17T17:10:35.374Z"
   },
   {
    "duration": 27,
    "start_time": "2023-01-17T17:10:35.387Z"
   },
   {
    "duration": 88,
    "start_time": "2023-01-17T17:10:35.416Z"
   },
   {
    "duration": 71,
    "start_time": "2023-01-17T17:10:35.506Z"
   },
   {
    "duration": 25,
    "start_time": "2023-01-17T17:10:35.578Z"
   },
   {
    "duration": 19,
    "start_time": "2023-01-17T17:10:35.605Z"
   },
   {
    "duration": 20,
    "start_time": "2023-01-17T17:10:35.626Z"
   },
   {
    "duration": 89,
    "start_time": "2023-01-17T17:10:35.649Z"
   },
   {
    "duration": 86,
    "start_time": "2023-01-17T17:10:35.740Z"
   },
   {
    "duration": 299,
    "start_time": "2023-01-17T17:10:35.828Z"
   },
   {
    "duration": 30,
    "start_time": "2023-01-17T17:10:36.129Z"
   },
   {
    "duration": 19,
    "start_time": "2023-01-17T17:10:36.160Z"
   },
   {
    "duration": 8,
    "start_time": "2023-01-17T17:10:36.181Z"
   },
   {
    "duration": 28,
    "start_time": "2023-01-17T17:10:36.191Z"
   },
   {
    "duration": 41,
    "start_time": "2023-01-17T17:10:36.220Z"
   },
   {
    "duration": 92,
    "start_time": "2023-01-17T17:10:36.263Z"
   },
   {
    "duration": 10,
    "start_time": "2023-01-17T17:10:36.357Z"
   },
   {
    "duration": 58,
    "start_time": "2023-01-17T17:10:36.368Z"
   },
   {
    "duration": 71,
    "start_time": "2023-01-17T17:10:36.428Z"
   },
   {
    "duration": 10,
    "start_time": "2023-01-17T17:10:36.501Z"
   },
   {
    "duration": 29,
    "start_time": "2023-01-17T17:10:36.513Z"
   },
   {
    "duration": 312,
    "start_time": "2023-01-17T17:10:36.544Z"
   },
   {
    "duration": 11,
    "start_time": "2023-01-17T17:10:36.858Z"
   },
   {
    "duration": 39,
    "start_time": "2023-01-17T17:10:36.870Z"
   },
   {
    "duration": 76,
    "start_time": "2023-01-17T17:10:36.910Z"
   },
   {
    "duration": 3,
    "start_time": "2023-01-17T17:10:36.988Z"
   },
   {
    "duration": 43,
    "start_time": "2023-01-17T17:10:36.993Z"
   },
   {
    "duration": 29,
    "start_time": "2023-01-17T17:10:37.038Z"
   },
   {
    "duration": 11,
    "start_time": "2023-01-17T17:10:37.068Z"
   },
   {
    "duration": 72,
    "start_time": "2023-01-17T17:10:37.081Z"
   },
   {
    "duration": 97,
    "start_time": "2023-01-17T17:10:37.155Z"
   },
   {
    "duration": 5,
    "start_time": "2023-01-17T17:10:37.254Z"
   },
   {
    "duration": 37,
    "start_time": "2023-01-17T17:10:37.261Z"
   },
   {
    "duration": 32,
    "start_time": "2023-01-17T17:10:37.300Z"
   },
   {
    "duration": 31,
    "start_time": "2023-01-17T17:10:37.336Z"
   },
   {
    "duration": 609,
    "start_time": "2023-01-17T17:14:56.300Z"
   },
   {
    "duration": 48,
    "start_time": "2023-01-18T05:19:55.268Z"
   },
   {
    "duration": 1344,
    "start_time": "2023-01-18T05:20:23.309Z"
   },
   {
    "duration": 512,
    "start_time": "2023-01-18T05:20:24.655Z"
   },
   {
    "duration": 10,
    "start_time": "2023-01-18T05:20:25.169Z"
   },
   {
    "duration": 3,
    "start_time": "2023-01-18T05:20:25.181Z"
   },
   {
    "duration": 137,
    "start_time": "2023-01-18T05:20:25.185Z"
   },
   {
    "duration": 99,
    "start_time": "2023-01-18T05:20:25.324Z"
   },
   {
    "duration": 9,
    "start_time": "2023-01-18T05:20:25.425Z"
   },
   {
    "duration": 24,
    "start_time": "2023-01-18T05:20:25.436Z"
   },
   {
    "duration": 71,
    "start_time": "2023-01-18T05:20:25.462Z"
   },
   {
    "duration": 53,
    "start_time": "2023-01-18T05:20:25.550Z"
   },
   {
    "duration": 23,
    "start_time": "2023-01-18T05:20:25.605Z"
   },
   {
    "duration": 21,
    "start_time": "2023-01-18T05:20:25.630Z"
   },
   {
    "duration": 22,
    "start_time": "2023-01-18T05:20:25.652Z"
   },
   {
    "duration": 4,
    "start_time": "2023-01-18T05:20:25.676Z"
   },
   {
    "duration": 95,
    "start_time": "2023-01-18T05:20:25.682Z"
   },
   {
    "duration": 86,
    "start_time": "2023-01-18T05:20:25.778Z"
   },
   {
    "duration": 271,
    "start_time": "2023-01-18T05:20:25.866Z"
   },
   {
    "duration": 591,
    "start_time": "2023-01-18T05:20:26.139Z"
   },
   {
    "duration": 33,
    "start_time": "2023-01-18T05:20:26.731Z"
   },
   {
    "duration": 19,
    "start_time": "2023-01-18T05:20:26.766Z"
   },
   {
    "duration": 6,
    "start_time": "2023-01-18T05:20:26.786Z"
   },
   {
    "duration": 5,
    "start_time": "2023-01-18T05:20:26.794Z"
   },
   {
    "duration": 27,
    "start_time": "2023-01-18T05:20:26.801Z"
   },
   {
    "duration": 64,
    "start_time": "2023-01-18T05:20:26.848Z"
   },
   {
    "duration": 9,
    "start_time": "2023-01-18T05:20:26.913Z"
   },
   {
    "duration": 54,
    "start_time": "2023-01-18T05:20:26.924Z"
   },
   {
    "duration": 72,
    "start_time": "2023-01-18T05:20:26.980Z"
   },
   {
    "duration": 10,
    "start_time": "2023-01-18T05:20:27.054Z"
   },
   {
    "duration": 21,
    "start_time": "2023-01-18T05:20:27.066Z"
   },
   {
    "duration": 258,
    "start_time": "2023-01-18T05:20:27.089Z"
   },
   {
    "duration": 13,
    "start_time": "2023-01-18T05:20:27.349Z"
   },
   {
    "duration": 13,
    "start_time": "2023-01-18T05:20:27.364Z"
   },
   {
    "duration": 92,
    "start_time": "2023-01-18T05:20:27.378Z"
   },
   {
    "duration": 10,
    "start_time": "2023-01-18T05:20:27.472Z"
   },
   {
    "duration": 6,
    "start_time": "2023-01-18T05:20:27.483Z"
   },
   {
    "duration": 72,
    "start_time": "2023-01-18T05:20:27.490Z"
   },
   {
    "duration": 7,
    "start_time": "2023-01-18T05:20:27.563Z"
   },
   {
    "duration": 90,
    "start_time": "2023-01-18T05:20:27.571Z"
   },
   {
    "duration": 187,
    "start_time": "2023-01-18T05:20:27.662Z"
   },
   {
    "duration": 5,
    "start_time": "2023-01-18T05:20:27.851Z"
   },
   {
    "duration": 13,
    "start_time": "2023-01-18T05:20:27.857Z"
   },
   {
    "duration": 9,
    "start_time": "2023-01-18T05:20:27.872Z"
   },
   {
    "duration": 9,
    "start_time": "2023-01-18T05:20:27.882Z"
   },
   {
    "duration": 5,
    "start_time": "2023-01-18T05:21:11.863Z"
   },
   {
    "duration": 251,
    "start_time": "2023-01-18T05:25:07.020Z"
   },
   {
    "duration": 254,
    "start_time": "2023-01-18T05:25:23.254Z"
   },
   {
    "duration": 303,
    "start_time": "2023-01-18T05:26:13.390Z"
   },
   {
    "duration": 235,
    "start_time": "2023-01-18T05:26:31.823Z"
   },
   {
    "duration": 254,
    "start_time": "2023-01-18T05:26:51.927Z"
   },
   {
    "duration": 324,
    "start_time": "2023-01-18T05:27:03.038Z"
   },
   {
    "duration": 9,
    "start_time": "2023-01-18T05:33:09.877Z"
   },
   {
    "duration": 5,
    "start_time": "2023-01-18T05:35:57.100Z"
   },
   {
    "duration": 4,
    "start_time": "2023-01-18T05:39:13.021Z"
   },
   {
    "duration": 4,
    "start_time": "2023-01-18T05:39:56.723Z"
   },
   {
    "duration": 105,
    "start_time": "2023-01-18T05:42:37.226Z"
   },
   {
    "duration": 12,
    "start_time": "2023-01-18T05:43:04.924Z"
   },
   {
    "duration": 11,
    "start_time": "2023-01-18T05:46:42.003Z"
   },
   {
    "duration": 9,
    "start_time": "2023-01-18T05:47:16.537Z"
   },
   {
    "duration": 1222,
    "start_time": "2023-01-18T05:50:44.615Z"
   },
   {
    "duration": 158,
    "start_time": "2023-01-18T05:50:45.839Z"
   },
   {
    "duration": 11,
    "start_time": "2023-01-18T05:50:45.998Z"
   },
   {
    "duration": 9,
    "start_time": "2023-01-18T05:50:46.012Z"
   },
   {
    "duration": 139,
    "start_time": "2023-01-18T05:50:46.022Z"
   },
   {
    "duration": 115,
    "start_time": "2023-01-18T05:50:46.163Z"
   },
   {
    "duration": 15,
    "start_time": "2023-01-18T05:50:46.281Z"
   },
   {
    "duration": 19,
    "start_time": "2023-01-18T05:50:46.298Z"
   },
   {
    "duration": 101,
    "start_time": "2023-01-18T05:50:46.321Z"
   },
   {
    "duration": 71,
    "start_time": "2023-01-18T05:50:46.425Z"
   },
   {
    "duration": 4,
    "start_time": "2023-01-18T05:50:46.498Z"
   },
   {
    "duration": 27,
    "start_time": "2023-01-18T05:50:46.504Z"
   },
   {
    "duration": 21,
    "start_time": "2023-01-18T05:50:46.533Z"
   },
   {
    "duration": 19,
    "start_time": "2023-01-18T05:50:46.556Z"
   },
   {
    "duration": 277,
    "start_time": "2023-01-18T05:50:46.576Z"
   },
   {
    "duration": 8,
    "start_time": "2023-01-18T05:50:46.855Z"
   },
   {
    "duration": 91,
    "start_time": "2023-01-18T05:50:46.865Z"
   },
   {
    "duration": 76,
    "start_time": "2023-01-18T05:50:46.958Z"
   },
   {
    "duration": 299,
    "start_time": "2023-01-18T05:50:47.036Z"
   },
   {
    "duration": 536,
    "start_time": "2023-01-18T05:50:47.337Z"
   },
   {
    "duration": 24,
    "start_time": "2023-01-18T05:50:47.875Z"
   },
   {
    "duration": 4,
    "start_time": "2023-01-18T05:50:47.900Z"
   },
   {
    "duration": 8,
    "start_time": "2023-01-18T05:50:47.906Z"
   },
   {
    "duration": 111,
    "start_time": "2023-01-18T05:50:47.915Z"
   },
   {
    "duration": 13,
    "start_time": "2023-01-18T05:50:48.028Z"
   },
   {
    "duration": 23,
    "start_time": "2023-01-18T05:50:48.048Z"
   },
   {
    "duration": 68,
    "start_time": "2023-01-18T05:50:48.072Z"
   },
   {
    "duration": 10,
    "start_time": "2023-01-18T05:50:48.147Z"
   },
   {
    "duration": 35,
    "start_time": "2023-01-18T05:50:48.159Z"
   },
   {
    "duration": 92,
    "start_time": "2023-01-18T05:50:48.196Z"
   },
   {
    "duration": 9,
    "start_time": "2023-01-18T05:50:48.290Z"
   },
   {
    "duration": 8,
    "start_time": "2023-01-18T05:50:48.301Z"
   },
   {
    "duration": 170,
    "start_time": "2023-01-18T05:50:48.311Z"
   },
   {
    "duration": 10,
    "start_time": "2023-01-18T05:50:48.482Z"
   },
   {
    "duration": 77,
    "start_time": "2023-01-18T05:50:48.494Z"
   },
   {
    "duration": 4,
    "start_time": "2023-01-18T05:50:48.573Z"
   },
   {
    "duration": 13,
    "start_time": "2023-01-18T05:50:48.578Z"
   },
   {
    "duration": 60,
    "start_time": "2023-01-18T05:50:48.593Z"
   },
   {
    "duration": 9,
    "start_time": "2023-01-18T05:50:48.655Z"
   },
   {
    "duration": 38,
    "start_time": "2023-01-18T05:50:48.665Z"
   },
   {
    "duration": 97,
    "start_time": "2023-01-18T05:50:48.705Z"
   },
   {
    "duration": 5,
    "start_time": "2023-01-18T05:50:48.803Z"
   },
   {
    "duration": 14,
    "start_time": "2023-01-18T05:50:48.810Z"
   },
   {
    "duration": 10,
    "start_time": "2023-01-18T05:50:48.826Z"
   },
   {
    "duration": 8,
    "start_time": "2023-01-18T05:50:48.849Z"
   },
   {
    "duration": 53,
    "start_time": "2023-01-18T05:53:39.479Z"
   },
   {
    "duration": 39,
    "start_time": "2023-01-18T05:54:11.784Z"
   },
   {
    "duration": 8,
    "start_time": "2023-01-18T06:12:25.756Z"
   },
   {
    "duration": 9,
    "start_time": "2023-01-18T06:12:46.058Z"
   },
   {
    "duration": 1145,
    "start_time": "2023-01-18T06:13:15.999Z"
   },
   {
    "duration": 183,
    "start_time": "2023-01-18T06:13:17.146Z"
   },
   {
    "duration": 11,
    "start_time": "2023-01-18T06:13:17.331Z"
   },
   {
    "duration": 5,
    "start_time": "2023-01-18T06:13:17.348Z"
   },
   {
    "duration": 148,
    "start_time": "2023-01-18T06:13:17.354Z"
   },
   {
    "duration": 101,
    "start_time": "2023-01-18T06:13:17.504Z"
   },
   {
    "duration": 12,
    "start_time": "2023-01-18T06:13:17.607Z"
   },
   {
    "duration": 13,
    "start_time": "2023-01-18T06:13:17.621Z"
   },
   {
    "duration": 89,
    "start_time": "2023-01-18T06:13:17.636Z"
   },
   {
    "duration": 60,
    "start_time": "2023-01-18T06:13:17.728Z"
   },
   {
    "duration": 4,
    "start_time": "2023-01-18T06:13:17.789Z"
   },
   {
    "duration": 25,
    "start_time": "2023-01-18T06:13:17.795Z"
   },
   {
    "duration": 12,
    "start_time": "2023-01-18T06:13:17.821Z"
   },
   {
    "duration": 26,
    "start_time": "2023-01-18T06:13:17.849Z"
   },
   {
    "duration": 258,
    "start_time": "2023-01-18T06:13:17.877Z"
   },
   {
    "duration": 15,
    "start_time": "2023-01-18T06:13:18.137Z"
   },
   {
    "duration": 115,
    "start_time": "2023-01-18T06:13:18.154Z"
   },
   {
    "duration": 107,
    "start_time": "2023-01-18T06:13:18.271Z"
   },
   {
    "duration": 295,
    "start_time": "2023-01-18T06:13:18.379Z"
   },
   {
    "duration": 548,
    "start_time": "2023-01-18T06:13:18.676Z"
   },
   {
    "duration": 33,
    "start_time": "2023-01-18T06:13:19.226Z"
   },
   {
    "duration": 4,
    "start_time": "2023-01-18T06:13:19.261Z"
   },
   {
    "duration": 20,
    "start_time": "2023-01-18T06:13:19.266Z"
   },
   {
    "duration": 101,
    "start_time": "2023-01-18T06:13:19.288Z"
   },
   {
    "duration": 9,
    "start_time": "2023-01-18T06:13:19.391Z"
   },
   {
    "duration": 50,
    "start_time": "2023-01-18T06:13:19.401Z"
   },
   {
    "duration": 21,
    "start_time": "2023-01-18T06:13:19.453Z"
   },
   {
    "duration": 77,
    "start_time": "2023-01-18T06:13:19.477Z"
   },
   {
    "duration": 9,
    "start_time": "2023-01-18T06:13:19.555Z"
   },
   {
    "duration": 36,
    "start_time": "2023-01-18T06:13:19.566Z"
   },
   {
    "duration": 78,
    "start_time": "2023-01-18T06:13:19.604Z"
   },
   {
    "duration": 11,
    "start_time": "2023-01-18T06:13:19.684Z"
   },
   {
    "duration": 5,
    "start_time": "2023-01-18T06:13:19.696Z"
   },
   {
    "duration": 188,
    "start_time": "2023-01-18T06:13:19.703Z"
   },
   {
    "duration": 14,
    "start_time": "2023-01-18T06:13:19.892Z"
   },
   {
    "duration": 72,
    "start_time": "2023-01-18T06:13:19.908Z"
   },
   {
    "duration": 4,
    "start_time": "2023-01-18T06:13:19.982Z"
   },
   {
    "duration": 18,
    "start_time": "2023-01-18T06:13:19.987Z"
   },
   {
    "duration": 53,
    "start_time": "2023-01-18T06:13:20.006Z"
   },
   {
    "duration": 33,
    "start_time": "2023-01-18T06:13:20.060Z"
   },
   {
    "duration": 100,
    "start_time": "2023-01-18T06:13:20.096Z"
   },
   {
    "duration": 5,
    "start_time": "2023-01-18T06:13:20.198Z"
   },
   {
    "duration": 14,
    "start_time": "2023-01-18T06:13:20.204Z"
   },
   {
    "duration": 14,
    "start_time": "2023-01-18T06:13:20.219Z"
   },
   {
    "duration": 19,
    "start_time": "2023-01-18T06:13:20.235Z"
   },
   {
    "duration": 12,
    "start_time": "2023-01-18T06:13:20.255Z"
   },
   {
    "duration": 1210,
    "start_time": "2023-01-18T06:24:19.042Z"
   },
   {
    "duration": 159,
    "start_time": "2023-01-18T06:24:20.254Z"
   },
   {
    "duration": 10,
    "start_time": "2023-01-18T06:24:20.415Z"
   },
   {
    "duration": 4,
    "start_time": "2023-01-18T06:24:20.427Z"
   },
   {
    "duration": 156,
    "start_time": "2023-01-18T06:24:20.432Z"
   },
   {
    "duration": 97,
    "start_time": "2023-01-18T06:24:20.589Z"
   },
   {
    "duration": 9,
    "start_time": "2023-01-18T06:24:20.687Z"
   },
   {
    "duration": 15,
    "start_time": "2023-01-18T06:24:20.697Z"
   },
   {
    "duration": 84,
    "start_time": "2023-01-18T06:24:20.714Z"
   },
   {
    "duration": 60,
    "start_time": "2023-01-18T06:24:20.801Z"
   },
   {
    "duration": 4,
    "start_time": "2023-01-18T06:24:20.863Z"
   },
   {
    "duration": 33,
    "start_time": "2023-01-18T06:24:20.868Z"
   },
   {
    "duration": 9,
    "start_time": "2023-01-18T06:24:20.902Z"
   },
   {
    "duration": 34,
    "start_time": "2023-01-18T06:24:20.912Z"
   },
   {
    "duration": 267,
    "start_time": "2023-01-18T06:24:20.947Z"
   },
   {
    "duration": 9,
    "start_time": "2023-01-18T06:24:21.215Z"
   },
   {
    "duration": 90,
    "start_time": "2023-01-18T06:24:21.225Z"
   },
   {
    "duration": 89,
    "start_time": "2023-01-18T06:24:21.317Z"
   },
   {
    "duration": 278,
    "start_time": "2023-01-18T06:24:21.408Z"
   },
   {
    "duration": 541,
    "start_time": "2023-01-18T06:24:21.688Z"
   },
   {
    "duration": 25,
    "start_time": "2023-01-18T06:24:22.249Z"
   },
   {
    "duration": 4,
    "start_time": "2023-01-18T06:24:22.275Z"
   },
   {
    "duration": 9,
    "start_time": "2023-01-18T06:24:22.280Z"
   },
   {
    "duration": 92,
    "start_time": "2023-01-18T06:24:22.290Z"
   },
   {
    "duration": 16,
    "start_time": "2023-01-18T06:24:22.384Z"
   },
   {
    "duration": 41,
    "start_time": "2023-01-18T06:24:22.401Z"
   },
   {
    "duration": 24,
    "start_time": "2023-01-18T06:24:22.443Z"
   },
   {
    "duration": 72,
    "start_time": "2023-01-18T06:24:22.470Z"
   },
   {
    "duration": 10,
    "start_time": "2023-01-18T06:24:22.544Z"
   },
   {
    "duration": 41,
    "start_time": "2023-01-18T06:24:22.556Z"
   },
   {
    "duration": 76,
    "start_time": "2023-01-18T06:24:22.598Z"
   },
   {
    "duration": 9,
    "start_time": "2023-01-18T06:24:22.676Z"
   },
   {
    "duration": 6,
    "start_time": "2023-01-18T06:24:22.687Z"
   },
   {
    "duration": 256,
    "start_time": "2023-01-18T06:24:22.695Z"
   },
   {
    "duration": 10,
    "start_time": "2023-01-18T06:24:22.954Z"
   },
   {
    "duration": 100,
    "start_time": "2023-01-18T06:24:22.966Z"
   },
   {
    "duration": 3,
    "start_time": "2023-01-18T06:24:23.068Z"
   },
   {
    "duration": 11,
    "start_time": "2023-01-18T06:24:23.073Z"
   },
   {
    "duration": 68,
    "start_time": "2023-01-18T06:24:23.085Z"
   },
   {
    "duration": 32,
    "start_time": "2023-01-18T06:24:23.154Z"
   },
   {
    "duration": 102,
    "start_time": "2023-01-18T06:24:23.187Z"
   },
   {
    "duration": 5,
    "start_time": "2023-01-18T06:24:23.290Z"
   },
   {
    "duration": 14,
    "start_time": "2023-01-18T06:24:23.296Z"
   },
   {
    "duration": 8,
    "start_time": "2023-01-18T06:24:23.311Z"
   },
   {
    "duration": 28,
    "start_time": "2023-01-18T06:24:23.320Z"
   },
   {
    "duration": 8,
    "start_time": "2023-01-18T06:24:23.350Z"
   },
   {
    "duration": 1168,
    "start_time": "2023-01-18T06:28:02.083Z"
   },
   {
    "duration": 167,
    "start_time": "2023-01-18T06:28:03.253Z"
   },
   {
    "duration": 11,
    "start_time": "2023-01-18T06:28:03.421Z"
   },
   {
    "duration": 10,
    "start_time": "2023-01-18T06:28:03.434Z"
   },
   {
    "duration": 150,
    "start_time": "2023-01-18T06:28:03.449Z"
   },
   {
    "duration": 96,
    "start_time": "2023-01-18T06:28:03.601Z"
   },
   {
    "duration": 9,
    "start_time": "2023-01-18T06:28:03.699Z"
   },
   {
    "duration": 15,
    "start_time": "2023-01-18T06:28:03.709Z"
   },
   {
    "duration": 98,
    "start_time": "2023-01-18T06:28:03.725Z"
   },
   {
    "duration": 62,
    "start_time": "2023-01-18T06:28:03.826Z"
   },
   {
    "duration": 4,
    "start_time": "2023-01-18T06:28:03.889Z"
   },
   {
    "duration": 25,
    "start_time": "2023-01-18T06:28:03.894Z"
   },
   {
    "duration": 14,
    "start_time": "2023-01-18T06:28:03.921Z"
   },
   {
    "duration": 25,
    "start_time": "2023-01-18T06:28:03.936Z"
   },
   {
    "duration": 260,
    "start_time": "2023-01-18T06:28:03.963Z"
   },
   {
    "duration": 9,
    "start_time": "2023-01-18T06:28:04.225Z"
   },
   {
    "duration": 96,
    "start_time": "2023-01-18T06:28:04.236Z"
   },
   {
    "duration": 81,
    "start_time": "2023-01-18T06:28:04.333Z"
   },
   {
    "duration": 262,
    "start_time": "2023-01-18T06:28:04.416Z"
   },
   {
    "duration": 524,
    "start_time": "2023-01-18T06:28:04.680Z"
   },
   {
    "duration": 24,
    "start_time": "2023-01-18T06:28:05.206Z"
   },
   {
    "duration": 3,
    "start_time": "2023-01-18T06:28:05.232Z"
   },
   {
    "duration": 8,
    "start_time": "2023-01-18T06:28:05.248Z"
   },
   {
    "duration": 103,
    "start_time": "2023-01-18T06:28:05.258Z"
   },
   {
    "duration": 16,
    "start_time": "2023-01-18T06:28:05.363Z"
   },
   {
    "duration": 41,
    "start_time": "2023-01-18T06:28:05.381Z"
   },
   {
    "duration": 28,
    "start_time": "2023-01-18T06:28:05.423Z"
   },
   {
    "duration": 62,
    "start_time": "2023-01-18T06:28:05.454Z"
   },
   {
    "duration": 8,
    "start_time": "2023-01-18T06:28:05.518Z"
   },
   {
    "duration": 49,
    "start_time": "2023-01-18T06:28:05.528Z"
   },
   {
    "duration": 73,
    "start_time": "2023-01-18T06:28:05.579Z"
   },
   {
    "duration": 10,
    "start_time": "2023-01-18T06:28:05.653Z"
   },
   {
    "duration": 7,
    "start_time": "2023-01-18T06:28:05.665Z"
   },
   {
    "duration": 155,
    "start_time": "2023-01-18T06:28:05.674Z"
   },
   {
    "duration": 12,
    "start_time": "2023-01-18T06:28:05.831Z"
   },
   {
    "duration": 101,
    "start_time": "2023-01-18T06:28:05.849Z"
   },
   {
    "duration": 4,
    "start_time": "2023-01-18T06:28:05.951Z"
   },
   {
    "duration": 24,
    "start_time": "2023-01-18T06:28:05.956Z"
   },
   {
    "duration": 21,
    "start_time": "2023-01-18T06:28:05.981Z"
   },
   {
    "duration": 50,
    "start_time": "2023-01-18T06:28:06.003Z"
   },
   {
    "duration": 134,
    "start_time": "2023-01-18T06:28:06.054Z"
   },
   {
    "duration": 4,
    "start_time": "2023-01-18T06:28:06.189Z"
   },
   {
    "duration": 21,
    "start_time": "2023-01-18T06:28:06.195Z"
   },
   {
    "duration": 19,
    "start_time": "2023-01-18T06:28:06.218Z"
   },
   {
    "duration": 18,
    "start_time": "2023-01-18T06:28:06.239Z"
   },
   {
    "duration": 14,
    "start_time": "2023-01-18T06:28:06.258Z"
   },
   {
    "duration": 68,
    "start_time": "2023-01-19T05:24:43.406Z"
   },
   {
    "duration": 1484,
    "start_time": "2023-01-19T05:24:56.016Z"
   },
   {
    "duration": 604,
    "start_time": "2023-01-19T05:24:57.503Z"
   },
   {
    "duration": 14,
    "start_time": "2023-01-19T05:24:58.109Z"
   },
   {
    "duration": 15,
    "start_time": "2023-01-19T05:24:58.126Z"
   },
   {
    "duration": 202,
    "start_time": "2023-01-19T05:24:58.144Z"
   },
   {
    "duration": 135,
    "start_time": "2023-01-19T05:24:58.348Z"
   },
   {
    "duration": 13,
    "start_time": "2023-01-19T05:24:58.485Z"
   },
   {
    "duration": 23,
    "start_time": "2023-01-19T05:24:58.501Z"
   },
   {
    "duration": 123,
    "start_time": "2023-01-19T05:24:58.527Z"
   },
   {
    "duration": 84,
    "start_time": "2023-01-19T05:24:58.653Z"
   },
   {
    "duration": 5,
    "start_time": "2023-01-19T05:24:58.739Z"
   },
   {
    "duration": 49,
    "start_time": "2023-01-19T05:24:58.745Z"
   },
   {
    "duration": 13,
    "start_time": "2023-01-19T05:24:58.796Z"
   },
   {
    "duration": 44,
    "start_time": "2023-01-19T05:24:58.811Z"
   },
   {
    "duration": 361,
    "start_time": "2023-01-19T05:24:58.858Z"
   },
   {
    "duration": 11,
    "start_time": "2023-01-19T05:24:59.221Z"
   },
   {
    "duration": 150,
    "start_time": "2023-01-19T05:24:59.233Z"
   },
   {
    "duration": 105,
    "start_time": "2023-01-19T05:24:59.385Z"
   },
   {
    "duration": 293,
    "start_time": "2023-01-19T05:24:59.493Z"
   },
   {
    "duration": 692,
    "start_time": "2023-01-19T05:24:59.788Z"
   },
   {
    "duration": 31,
    "start_time": "2023-01-19T05:25:00.482Z"
   },
   {
    "duration": 24,
    "start_time": "2023-01-19T05:25:00.516Z"
   },
   {
    "duration": 34,
    "start_time": "2023-01-19T05:25:00.542Z"
   },
   {
    "duration": 138,
    "start_time": "2023-01-19T05:25:00.578Z"
   },
   {
    "duration": 19,
    "start_time": "2023-01-19T05:25:00.718Z"
   },
   {
    "duration": 65,
    "start_time": "2023-01-19T05:25:00.739Z"
   },
   {
    "duration": 31,
    "start_time": "2023-01-19T05:25:00.807Z"
   },
   {
    "duration": 95,
    "start_time": "2023-01-19T05:25:00.842Z"
   },
   {
    "duration": 15,
    "start_time": "2023-01-19T05:25:00.939Z"
   },
   {
    "duration": 67,
    "start_time": "2023-01-19T05:25:00.968Z"
   },
   {
    "duration": 113,
    "start_time": "2023-01-19T05:25:01.038Z"
   },
   {
    "duration": 24,
    "start_time": "2023-01-19T05:25:01.154Z"
   },
   {
    "duration": 26,
    "start_time": "2023-01-19T05:25:01.180Z"
   },
   {
    "duration": 264,
    "start_time": "2023-01-19T05:25:01.208Z"
   },
   {
    "duration": 11,
    "start_time": "2023-01-19T05:25:01.475Z"
   },
   {
    "duration": 124,
    "start_time": "2023-01-19T05:25:01.488Z"
   },
   {
    "duration": 53,
    "start_time": "2023-01-19T05:25:01.615Z"
   },
   {
    "duration": 8,
    "start_time": "2023-01-19T05:25:01.670Z"
   },
   {
    "duration": 57,
    "start_time": "2023-01-19T05:25:01.680Z"
   },
   {
    "duration": 59,
    "start_time": "2023-01-19T05:25:01.739Z"
   },
   {
    "duration": 105,
    "start_time": "2023-01-19T05:25:01.800Z"
   },
   {
    "duration": 6,
    "start_time": "2023-01-19T05:25:01.906Z"
   },
   {
    "duration": 66,
    "start_time": "2023-01-19T05:25:01.914Z"
   },
   {
    "duration": 33,
    "start_time": "2023-01-19T05:25:01.982Z"
   },
   {
    "duration": 38,
    "start_time": "2023-01-19T05:25:02.017Z"
   },
   {
    "duration": 33,
    "start_time": "2023-01-19T05:25:02.057Z"
   },
   {
    "duration": 51,
    "start_time": "2023-03-16T11:32:43.039Z"
   },
   {
    "duration": 56,
    "start_time": "2023-04-27T05:14:43.218Z"
   },
   {
    "duration": 1535,
    "start_time": "2023-04-27T05:14:54.960Z"
   },
   {
    "duration": 342,
    "start_time": "2023-04-27T05:14:56.498Z"
   },
   {
    "duration": 12,
    "start_time": "2023-04-27T05:14:56.842Z"
   },
   {
    "duration": 4,
    "start_time": "2023-04-27T05:14:56.856Z"
   },
   {
    "duration": 186,
    "start_time": "2023-04-27T05:14:56.862Z"
   },
   {
    "duration": 113,
    "start_time": "2023-04-27T05:14:57.049Z"
   },
   {
    "duration": 11,
    "start_time": "2023-04-27T05:14:57.164Z"
   },
   {
    "duration": 18,
    "start_time": "2023-04-27T05:14:57.177Z"
   },
   {
    "duration": 108,
    "start_time": "2023-04-27T05:14:57.198Z"
   },
   {
    "duration": 65,
    "start_time": "2023-04-27T05:14:57.309Z"
   },
   {
    "duration": 4,
    "start_time": "2023-04-27T05:14:57.375Z"
   },
   {
    "duration": 30,
    "start_time": "2023-04-27T05:14:57.381Z"
   },
   {
    "duration": 25,
    "start_time": "2023-04-27T05:14:57.413Z"
   },
   {
    "duration": 30,
    "start_time": "2023-04-27T05:14:57.439Z"
   },
   {
    "duration": 320,
    "start_time": "2023-04-27T05:14:57.471Z"
   },
   {
    "duration": 9,
    "start_time": "2023-04-27T05:14:57.793Z"
   },
   {
    "duration": 109,
    "start_time": "2023-04-27T05:14:57.804Z"
   },
   {
    "duration": 105,
    "start_time": "2023-04-27T05:14:57.916Z"
   },
   {
    "duration": 717,
    "start_time": "2023-04-27T05:14:58.024Z"
   },
   {
    "duration": 35,
    "start_time": "2023-04-27T05:14:58.743Z"
   },
   {
    "duration": 5,
    "start_time": "2023-04-27T05:14:58.780Z"
   },
   {
    "duration": 12,
    "start_time": "2023-04-27T05:14:58.787Z"
   },
   {
    "duration": 41,
    "start_time": "2023-04-27T05:14:58.801Z"
   },
   {
    "duration": 9,
    "start_time": "2023-04-27T05:14:58.845Z"
   },
   {
    "duration": 63,
    "start_time": "2023-04-27T05:14:58.855Z"
   },
   {
    "duration": 30,
    "start_time": "2023-04-27T05:14:58.919Z"
   },
   {
    "duration": 83,
    "start_time": "2023-04-27T05:14:58.951Z"
   },
   {
    "duration": 11,
    "start_time": "2023-04-27T05:14:59.038Z"
   },
   {
    "duration": 46,
    "start_time": "2023-04-27T05:14:59.051Z"
   },
   {
    "duration": 94,
    "start_time": "2023-04-27T05:14:59.098Z"
   },
   {
    "duration": 12,
    "start_time": "2023-04-27T05:14:59.193Z"
   },
   {
    "duration": 8,
    "start_time": "2023-04-27T05:14:59.206Z"
   },
   {
    "duration": 268,
    "start_time": "2023-04-27T05:14:59.216Z"
   },
   {
    "duration": 11,
    "start_time": "2023-04-27T05:14:59.485Z"
   },
   {
    "duration": 74,
    "start_time": "2023-04-27T05:14:59.498Z"
   },
   {
    "duration": 3,
    "start_time": "2023-04-27T05:14:59.574Z"
   },
   {
    "duration": 6,
    "start_time": "2023-04-27T05:14:59.634Z"
   },
   {
    "duration": 31,
    "start_time": "2023-04-27T05:14:59.642Z"
   },
   {
    "duration": 35,
    "start_time": "2023-04-27T05:14:59.674Z"
   },
   {
    "duration": 110,
    "start_time": "2023-04-27T05:14:59.710Z"
   },
   {
    "duration": 5,
    "start_time": "2023-04-27T05:14:59.833Z"
   },
   {
    "duration": 52,
    "start_time": "2023-04-27T05:14:59.840Z"
   },
   {
    "duration": 16,
    "start_time": "2023-04-27T05:14:59.894Z"
   },
   {
    "duration": 11,
    "start_time": "2023-04-27T05:14:59.913Z"
   },
   {
    "duration": 20,
    "start_time": "2023-04-27T05:14:59.926Z"
   },
   {
    "duration": 667,
    "start_time": "2023-04-27T05:15:30.851Z"
   },
   {
    "duration": 717,
    "start_time": "2023-04-27T05:15:36.657Z"
   },
   {
    "duration": 792,
    "start_time": "2023-04-27T05:16:05.577Z"
   },
   {
    "duration": 1426,
    "start_time": "2023-04-27T05:23:01.919Z"
   },
   {
    "duration": 181,
    "start_time": "2023-04-27T05:23:03.347Z"
   },
   {
    "duration": 12,
    "start_time": "2023-04-27T05:23:03.530Z"
   },
   {
    "duration": 17,
    "start_time": "2023-04-27T05:23:03.545Z"
   },
   {
    "duration": 197,
    "start_time": "2023-04-27T05:23:03.563Z"
   },
   {
    "duration": 111,
    "start_time": "2023-04-27T05:23:03.762Z"
   },
   {
    "duration": 14,
    "start_time": "2023-04-27T05:23:03.875Z"
   },
   {
    "duration": 29,
    "start_time": "2023-04-27T05:23:03.890Z"
   },
   {
    "duration": 88,
    "start_time": "2023-04-27T05:23:03.920Z"
   },
   {
    "duration": 74,
    "start_time": "2023-04-27T05:23:04.011Z"
   },
   {
    "duration": 7,
    "start_time": "2023-04-27T05:23:04.087Z"
   },
   {
    "duration": 45,
    "start_time": "2023-04-27T05:23:04.096Z"
   },
   {
    "duration": 27,
    "start_time": "2023-04-27T05:23:04.143Z"
   },
   {
    "duration": 42,
    "start_time": "2023-04-27T05:23:04.172Z"
   },
   {
    "duration": 294,
    "start_time": "2023-04-27T05:23:04.215Z"
   },
   {
    "duration": 9,
    "start_time": "2023-04-27T05:23:04.511Z"
   },
   {
    "duration": 91,
    "start_time": "2023-04-27T05:23:04.534Z"
   },
   {
    "duration": 104,
    "start_time": "2023-04-27T05:23:04.634Z"
   },
   {
    "duration": 730,
    "start_time": "2023-04-27T05:23:04.740Z"
   },
   {
    "duration": 33,
    "start_time": "2023-04-27T05:23:05.472Z"
   },
   {
    "duration": 5,
    "start_time": "2023-04-27T05:23:05.507Z"
   },
   {
    "duration": 34,
    "start_time": "2023-04-27T05:23:05.513Z"
   },
   {
    "duration": 36,
    "start_time": "2023-04-27T05:23:05.550Z"
   },
   {
    "duration": 25,
    "start_time": "2023-04-27T05:23:05.588Z"
   },
   {
    "duration": 94,
    "start_time": "2023-04-27T05:23:05.615Z"
   },
   {
    "duration": 28,
    "start_time": "2023-04-27T05:23:05.711Z"
   },
   {
    "duration": 99,
    "start_time": "2023-04-27T05:23:05.741Z"
   },
   {
    "duration": 12,
    "start_time": "2023-04-27T05:23:05.844Z"
   },
   {
    "duration": 60,
    "start_time": "2023-04-27T05:23:05.858Z"
   },
   {
    "duration": 91,
    "start_time": "2023-04-27T05:23:05.919Z"
   },
   {
    "duration": 12,
    "start_time": "2023-04-27T05:23:06.012Z"
   },
   {
    "duration": 80,
    "start_time": "2023-04-27T05:23:06.038Z"
   },
   {
    "duration": 300,
    "start_time": "2023-04-27T05:23:06.121Z"
   },
   {
    "duration": 15,
    "start_time": "2023-04-27T05:23:06.423Z"
   },
   {
    "duration": 134,
    "start_time": "2023-04-27T05:23:06.440Z"
   },
   {
    "duration": 6,
    "start_time": "2023-04-27T05:23:06.576Z"
   },
   {
    "duration": 96,
    "start_time": "2023-04-27T05:23:06.585Z"
   },
   {
    "duration": 75,
    "start_time": "2023-04-27T05:23:06.685Z"
   },
   {
    "duration": 65,
    "start_time": "2023-04-27T05:23:06.762Z"
   },
   {
    "duration": 146,
    "start_time": "2023-04-27T05:23:06.829Z"
   },
   {
    "duration": 36,
    "start_time": "2023-04-27T05:23:06.978Z"
   },
   {
    "duration": 56,
    "start_time": "2023-04-27T05:23:07.016Z"
   },
   {
    "duration": 49,
    "start_time": "2023-04-27T05:23:07.075Z"
   },
   {
    "duration": 43,
    "start_time": "2023-04-27T05:23:07.126Z"
   },
   {
    "duration": 45,
    "start_time": "2023-04-27T05:23:07.172Z"
   }
  ],
  "kernelspec": {
   "display_name": "Python 3 (ipykernel)",
   "language": "python",
   "name": "python3"
  },
  "language_info": {
   "codemirror_mode": {
    "name": "ipython",
    "version": 3
   },
   "file_extension": ".py",
   "mimetype": "text/x-python",
   "name": "python",
   "nbconvert_exporter": "python",
   "pygments_lexer": "ipython3",
   "version": "3.9.5"
  },
  "toc": {
   "base_numbering": 1,
   "nav_menu": {},
   "number_sections": false,
   "sideBar": true,
   "skip_h1_title": false,
   "title_cell": "Table of Contents",
   "title_sidebar": "Contents",
   "toc_cell": false,
   "toc_position": {
    "height": "740px",
    "left": "84px",
    "top": "111.125px",
    "width": "181.179px"
   },
   "toc_section_display": true,
   "toc_window_display": true
  }
 },
 "nbformat": 4,
 "nbformat_minor": 2
}
