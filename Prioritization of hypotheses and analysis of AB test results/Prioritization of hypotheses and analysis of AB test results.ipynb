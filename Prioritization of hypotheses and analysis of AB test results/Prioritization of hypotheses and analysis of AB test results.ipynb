{
 "cells": [
  {
   "cell_type": "markdown",
   "metadata": {},
   "source": [
    "## Приоритизация гипотез и анализ результатов А/В-теста"
   ]
  },
  {
   "cell_type": "markdown",
   "metadata": {},
   "source": [
    "**Совместно с отделом маркетинга подготовлен список гипотез для увеличения выручки. Необходимо приоритизировать гипотезы, запустить A/B-тест и проанализировать результаты.**"
   ]
  },
  {
   "cell_type": "markdown",
   "metadata": {},
   "source": [
    "**Описание данных**   \n",
    "\n",
    "*Данные для первой части:*  \n",
    "- Hypothesis — краткое описание гипотезы;\n",
    "- Reach — охват пользователей по 10-балльной шкале;\n",
    "- Impact — влияние на пользователей по 10-балльной шкале;\n",
    "- Confidence — уверенность в гипотезе по 10-балльной шкале;\n",
    "- Efforts — затраты ресурсов на проверку гипотезы по 10-балльной шкале. Чем больше значение Efforts, тем дороже проверка гипотезы.   \n",
    "\n",
    "*Данные для второй части:*\n",
    "- transactionId — идентификатор заказа;\n",
    "- visitorId — идентификатор пользователя, совершившего заказ;\n",
    "- date — дата, когда был совершён заказ;\n",
    "- revenue — выручка заказа;\n",
    "- group — группа A/B-теста, в которую попал заказ."
   ]
  },
  {
   "cell_type": "markdown",
   "metadata": {},
   "source": [
    "План работ по первой части проекта:\n",
    "- применить фреймворк ICE для приоритизации гипотез. Выбрать приоритетные.\n",
    "- примените фреймворк RICE для приоритизации гипотез. Отсортировать по приоритету.\n",
    "- выбрать приоритетные гипотезы в результате применения обоих методик."
   ]
  },
  {
   "cell_type": "markdown",
   "metadata": {},
   "source": [
    "План работ по второй части проекта:\n",
    "- проанализировать A/B-тест:\n",
    "- построить график кумулятивной выручки по группам;\n",
    "- построить график кумулятивного среднего чека по группам;\n",
    "- построить график относительного изменения кумулятивного среднего чека группы B к группе A;\n",
    "- построить график кумулятивного среднего количества заказов на посетителя по группам;\n",
    "- построить график относительного изменения кумулятивного среднего количества заказов на посетителя группы B к группе A;\n",
    "- построить точечный график количества заказов по пользователям;\n",
    "- посчитать 95-й и 99-й перцентили количества заказов на пользователя. Выберать границу для определения аномальных пользователей;\n",
    "- построить точечный график стоимостей заказов;\n",
    "- посчитать 95-й и 99-й перцентили стоимости заказов. Выберать границу для определения аномальных заказов;\n",
    "- построить статистическую значимость различий в среднем количестве заказов на посетителя между группами по «сырым» данным;\n",
    "- посчитать статистическую значимость различий в среднем чеке заказа между группами по «сырым» данным;\n",
    "- посчитать статистическую значимость различий в среднем количестве заказов на посетителя между группами по «очищенным» данным;\n",
    "- посчитать статистическую значимость различий в среднем чеке заказа между группами по «очищенным» данным;\n",
    "- принять решение по результатам теста."
   ]
  },
  {
   "cell_type": "markdown",
   "metadata": {},
   "source": [
    "### Предобработка данных"
   ]
  },
  {
   "cell_type": "markdown",
   "metadata": {},
   "source": [
    "Импортируем необходимые библиотеки и читаем данные, подобрав соответствующий разделитель."
   ]
  },
  {
   "cell_type": "code",
   "execution_count": 1,
   "metadata": {},
   "outputs": [],
   "source": [
    "import pandas as pd\n",
    "pd.options.display.max_colwidth = 130\n",
    "pd.set_option(\"expand_frame_repr\", False)"
   ]
  },
  {
   "cell_type": "code",
   "execution_count": 2,
   "metadata": {},
   "outputs": [],
   "source": [
    "data = pd.read_csv('/datasets/hypothesis.csv', sep=',')"
   ]
  },
  {
   "cell_type": "code",
   "execution_count": 3,
   "metadata": {},
   "outputs": [
    {
     "data": {
      "text/html": [
       "<div>\n",
       "<style scoped>\n",
       "    .dataframe tbody tr th:only-of-type {\n",
       "        vertical-align: middle;\n",
       "    }\n",
       "\n",
       "    .dataframe tbody tr th {\n",
       "        vertical-align: top;\n",
       "    }\n",
       "\n",
       "    .dataframe thead th {\n",
       "        text-align: right;\n",
       "    }\n",
       "</style>\n",
       "<table border=\"1\" class=\"dataframe\">\n",
       "  <thead>\n",
       "    <tr style=\"text-align: right;\">\n",
       "      <th></th>\n",
       "      <th>Hypothesis</th>\n",
       "      <th>Reach</th>\n",
       "      <th>Impact</th>\n",
       "      <th>Confidence</th>\n",
       "      <th>Efforts</th>\n",
       "    </tr>\n",
       "  </thead>\n",
       "  <tbody>\n",
       "    <tr>\n",
       "      <th>0</th>\n",
       "      <td>Добавить два новых канала привлечения трафика, что позволит привлекать на 30% больше пользователей</td>\n",
       "      <td>3</td>\n",
       "      <td>10</td>\n",
       "      <td>8</td>\n",
       "      <td>6</td>\n",
       "    </tr>\n",
       "    <tr>\n",
       "      <th>1</th>\n",
       "      <td>Запустить собственную службу доставки, что сократит срок доставки заказов</td>\n",
       "      <td>2</td>\n",
       "      <td>5</td>\n",
       "      <td>4</td>\n",
       "      <td>10</td>\n",
       "    </tr>\n",
       "    <tr>\n",
       "      <th>2</th>\n",
       "      <td>Добавить блоки рекомендаций товаров на сайт интернет магазина, чтобы повысить конверсию и средний чек заказа</td>\n",
       "      <td>8</td>\n",
       "      <td>3</td>\n",
       "      <td>7</td>\n",
       "      <td>3</td>\n",
       "    </tr>\n",
       "    <tr>\n",
       "      <th>3</th>\n",
       "      <td>Изменить структура категорий, что увеличит конверсию, т.к. пользователи быстрее найдут нужный товар</td>\n",
       "      <td>8</td>\n",
       "      <td>3</td>\n",
       "      <td>3</td>\n",
       "      <td>8</td>\n",
       "    </tr>\n",
       "    <tr>\n",
       "      <th>4</th>\n",
       "      <td>Изменить цвет фона главной страницы, чтобы увеличить вовлеченность пользователей</td>\n",
       "      <td>3</td>\n",
       "      <td>1</td>\n",
       "      <td>1</td>\n",
       "      <td>1</td>\n",
       "    </tr>\n",
       "    <tr>\n",
       "      <th>5</th>\n",
       "      <td>Добавить страницу отзывов клиентов о магазине, что позволит увеличить количество заказов</td>\n",
       "      <td>3</td>\n",
       "      <td>2</td>\n",
       "      <td>2</td>\n",
       "      <td>3</td>\n",
       "    </tr>\n",
       "    <tr>\n",
       "      <th>6</th>\n",
       "      <td>Показать на главной странице баннеры с актуальными акциями и распродажами, чтобы увеличить конверсию</td>\n",
       "      <td>5</td>\n",
       "      <td>3</td>\n",
       "      <td>8</td>\n",
       "      <td>3</td>\n",
       "    </tr>\n",
       "    <tr>\n",
       "      <th>7</th>\n",
       "      <td>Добавить форму подписки на все основные страницы, чтобы собрать базу клиентов для email-рассылок</td>\n",
       "      <td>10</td>\n",
       "      <td>7</td>\n",
       "      <td>8</td>\n",
       "      <td>5</td>\n",
       "    </tr>\n",
       "    <tr>\n",
       "      <th>8</th>\n",
       "      <td>Запустить акцию, дающую скидку на товар в день рождения</td>\n",
       "      <td>1</td>\n",
       "      <td>9</td>\n",
       "      <td>9</td>\n",
       "      <td>5</td>\n",
       "    </tr>\n",
       "  </tbody>\n",
       "</table>\n",
       "</div>"
      ],
      "text/plain": [
       "                                                                                                     Hypothesis  Reach  Impact  Confidence  Efforts\n",
       "0            Добавить два новых канала привлечения трафика, что позволит привлекать на 30% больше пользователей      3      10           8        6\n",
       "1                                     Запустить собственную службу доставки, что сократит срок доставки заказов      2       5           4       10\n",
       "2  Добавить блоки рекомендаций товаров на сайт интернет магазина, чтобы повысить конверсию и средний чек заказа      8       3           7        3\n",
       "3           Изменить структура категорий, что увеличит конверсию, т.к. пользователи быстрее найдут нужный товар      8       3           3        8\n",
       "4                              Изменить цвет фона главной страницы, чтобы увеличить вовлеченность пользователей      3       1           1        1\n",
       "5                      Добавить страницу отзывов клиентов о магазине, что позволит увеличить количество заказов      3       2           2        3\n",
       "6          Показать на главной странице баннеры с актуальными акциями и распродажами, чтобы увеличить конверсию      5       3           8        3\n",
       "7              Добавить форму подписки на все основные страницы, чтобы собрать базу клиентов для email-рассылок     10       7           8        5\n",
       "8                                                       Запустить акцию, дающую скидку на товар в день рождения      1       9           9        5"
      ]
     },
     "execution_count": 3,
     "metadata": {},
     "output_type": "execute_result"
    }
   ],
   "source": [
    "data"
   ]
  },
  {
   "cell_type": "markdown",
   "metadata": {},
   "source": [
    "Выведем общую информацию для проверки пропусков, типов данных и оценки размеров датасета."
   ]
  },
  {
   "cell_type": "code",
   "execution_count": 4,
   "metadata": {},
   "outputs": [
    {
     "name": "stdout",
     "output_type": "stream",
     "text": [
      "<class 'pandas.core.frame.DataFrame'>\n",
      "RangeIndex: 9 entries, 0 to 8\n",
      "Data columns (total 5 columns):\n",
      " #   Column      Non-Null Count  Dtype \n",
      "---  ------      --------------  ----- \n",
      " 0   Hypothesis  9 non-null      object\n",
      " 1   Reach       9 non-null      int64 \n",
      " 2   Impact      9 non-null      int64 \n",
      " 3   Confidence  9 non-null      int64 \n",
      " 4   Efforts     9 non-null      int64 \n",
      "dtypes: int64(4), object(1)\n",
      "memory usage: 488.0+ bytes\n"
     ]
    }
   ],
   "source": [
    "data.info()"
   ]
  },
  {
   "cell_type": "markdown",
   "metadata": {},
   "source": [
    "Приведем названия столбцов к стандартному виду"
   ]
  },
  {
   "cell_type": "code",
   "execution_count": 5,
   "metadata": {},
   "outputs": [
    {
     "data": {
      "text/plain": [
       "Index(['hypothesis', 'reach', 'impact', 'confidence', 'efforts'], dtype='object')"
      ]
     },
     "execution_count": 5,
     "metadata": {},
     "output_type": "execute_result"
    }
   ],
   "source": [
    "data.columns = data.columns.str.lower()\n",
    "data.columns"
   ]
  },
  {
   "cell_type": "markdown",
   "metadata": {},
   "source": [
    "В данных нет пропусков, типы данных соответствуют содержимому, дубликатов нет - это видно при выводе самого массива. Для последующей работы с данными изменены названия столбцов."
   ]
  },
  {
   "cell_type": "markdown",
   "metadata": {},
   "source": [
    "### Приоритизация гипотез"
   ]
  },
  {
   "cell_type": "markdown",
   "metadata": {},
   "source": [
    "Применим фреймворк ICE (impact, confidence, effort / ease «влияние, уверенность, усилия / простота») ) для приоритизации гипотез. Отсортируем их по убыванию приоритета."
   ]
  },
  {
   "cell_type": "code",
   "execution_count": 6,
   "metadata": {},
   "outputs": [
    {
     "data": {
      "text/html": [
       "<div>\n",
       "<style scoped>\n",
       "    .dataframe tbody tr th:only-of-type {\n",
       "        vertical-align: middle;\n",
       "    }\n",
       "\n",
       "    .dataframe tbody tr th {\n",
       "        vertical-align: top;\n",
       "    }\n",
       "\n",
       "    .dataframe thead th {\n",
       "        text-align: right;\n",
       "    }\n",
       "</style>\n",
       "<table border=\"1\" class=\"dataframe\">\n",
       "  <thead>\n",
       "    <tr style=\"text-align: right;\">\n",
       "      <th></th>\n",
       "      <th>hypothesis</th>\n",
       "      <th>ICE</th>\n",
       "    </tr>\n",
       "  </thead>\n",
       "  <tbody>\n",
       "    <tr>\n",
       "      <th>8</th>\n",
       "      <td>Запустить акцию, дающую скидку на товар в день рождения</td>\n",
       "      <td>16.20</td>\n",
       "    </tr>\n",
       "    <tr>\n",
       "      <th>0</th>\n",
       "      <td>Добавить два новых канала привлечения трафика, что позволит привлекать на 30% больше пользователей</td>\n",
       "      <td>13.33</td>\n",
       "    </tr>\n",
       "    <tr>\n",
       "      <th>7</th>\n",
       "      <td>Добавить форму подписки на все основные страницы, чтобы собрать базу клиентов для email-рассылок</td>\n",
       "      <td>11.20</td>\n",
       "    </tr>\n",
       "    <tr>\n",
       "      <th>6</th>\n",
       "      <td>Показать на главной странице баннеры с актуальными акциями и распродажами, чтобы увеличить конверсию</td>\n",
       "      <td>8.00</td>\n",
       "    </tr>\n",
       "    <tr>\n",
       "      <th>2</th>\n",
       "      <td>Добавить блоки рекомендаций товаров на сайт интернет магазина, чтобы повысить конверсию и средний чек заказа</td>\n",
       "      <td>7.00</td>\n",
       "    </tr>\n",
       "    <tr>\n",
       "      <th>1</th>\n",
       "      <td>Запустить собственную службу доставки, что сократит срок доставки заказов</td>\n",
       "      <td>2.00</td>\n",
       "    </tr>\n",
       "    <tr>\n",
       "      <th>5</th>\n",
       "      <td>Добавить страницу отзывов клиентов о магазине, что позволит увеличить количество заказов</td>\n",
       "      <td>1.33</td>\n",
       "    </tr>\n",
       "    <tr>\n",
       "      <th>3</th>\n",
       "      <td>Изменить структура категорий, что увеличит конверсию, т.к. пользователи быстрее найдут нужный товар</td>\n",
       "      <td>1.12</td>\n",
       "    </tr>\n",
       "    <tr>\n",
       "      <th>4</th>\n",
       "      <td>Изменить цвет фона главной страницы, чтобы увеличить вовлеченность пользователей</td>\n",
       "      <td>1.00</td>\n",
       "    </tr>\n",
       "  </tbody>\n",
       "</table>\n",
       "</div>"
      ],
      "text/plain": [
       "                                                                                                     hypothesis    ICE\n",
       "8                                                       Запустить акцию, дающую скидку на товар в день рождения  16.20\n",
       "0            Добавить два новых канала привлечения трафика, что позволит привлекать на 30% больше пользователей  13.33\n",
       "7              Добавить форму подписки на все основные страницы, чтобы собрать базу клиентов для email-рассылок  11.20\n",
       "6          Показать на главной странице баннеры с актуальными акциями и распродажами, чтобы увеличить конверсию   8.00\n",
       "2  Добавить блоки рекомендаций товаров на сайт интернет магазина, чтобы повысить конверсию и средний чек заказа   7.00\n",
       "1                                     Запустить собственную службу доставки, что сократит срок доставки заказов   2.00\n",
       "5                      Добавить страницу отзывов клиентов о магазине, что позволит увеличить количество заказов   1.33\n",
       "3           Изменить структура категорий, что увеличит конверсию, т.к. пользователи быстрее найдут нужный товар   1.12\n",
       "4                              Изменить цвет фона главной страницы, чтобы увеличить вовлеченность пользователей   1.00"
      ]
     },
     "metadata": {},
     "output_type": "display_data"
    }
   ],
   "source": [
    "data['ICE'] = (data['impact']*data['confidence'])/data['efforts']\n",
    "ice = data.loc[:, ['hypothesis','ICE']].sort_values(by='ICE',  ascending=False)\n",
    "display(ice.round(2))"
   ]
  },
  {
   "cell_type": "markdown",
   "metadata": {},
   "source": [
    "Наиболее перспективные гипотезы по ICE: \n",
    "- 8 Запустить акцию, дающую скидку на товар в день рождения;\n",
    "- 0 Добавить два новых канала привлечения трафика, что позволит привлекать на 30% больше пользователей;\n",
    "- 7 Добавить форму подписки на все основные страницы, чтобы собрать базу клиентов для email-рассылок;\n",
    "- 6 Показать на главной странице баннеры с актуальными акциями и распродажами, чтобы увеличить конверсию."
   ]
  },
  {
   "cell_type": "markdown",
   "metadata": {},
   "source": [
    "Применим фреймворк RICE для приоритизации гипотез, который, кроме параметров методики ICE, учитывает также охват пользователей. Параметр reach — скольких пользователей затронет изменение, которое вы хотите внести. Отсортируем их по убыванию приоритета."
   ]
  },
  {
   "cell_type": "code",
   "execution_count": 7,
   "metadata": {},
   "outputs": [
    {
     "data": {
      "text/html": [
       "<div>\n",
       "<style scoped>\n",
       "    .dataframe tbody tr th:only-of-type {\n",
       "        vertical-align: middle;\n",
       "    }\n",
       "\n",
       "    .dataframe tbody tr th {\n",
       "        vertical-align: top;\n",
       "    }\n",
       "\n",
       "    .dataframe thead th {\n",
       "        text-align: right;\n",
       "    }\n",
       "</style>\n",
       "<table border=\"1\" class=\"dataframe\">\n",
       "  <thead>\n",
       "    <tr style=\"text-align: right;\">\n",
       "      <th></th>\n",
       "      <th>hypothesis</th>\n",
       "      <th>RICE</th>\n",
       "    </tr>\n",
       "  </thead>\n",
       "  <tbody>\n",
       "    <tr>\n",
       "      <th>7</th>\n",
       "      <td>Добавить форму подписки на все основные страницы, чтобы собрать базу клиентов для email-рассылок</td>\n",
       "      <td>112.0</td>\n",
       "    </tr>\n",
       "    <tr>\n",
       "      <th>2</th>\n",
       "      <td>Добавить блоки рекомендаций товаров на сайт интернет магазина, чтобы повысить конверсию и средний чек заказа</td>\n",
       "      <td>56.0</td>\n",
       "    </tr>\n",
       "    <tr>\n",
       "      <th>0</th>\n",
       "      <td>Добавить два новых канала привлечения трафика, что позволит привлекать на 30% больше пользователей</td>\n",
       "      <td>40.0</td>\n",
       "    </tr>\n",
       "    <tr>\n",
       "      <th>6</th>\n",
       "      <td>Показать на главной странице баннеры с актуальными акциями и распродажами, чтобы увеличить конверсию</td>\n",
       "      <td>40.0</td>\n",
       "    </tr>\n",
       "    <tr>\n",
       "      <th>8</th>\n",
       "      <td>Запустить акцию, дающую скидку на товар в день рождения</td>\n",
       "      <td>16.2</td>\n",
       "    </tr>\n",
       "    <tr>\n",
       "      <th>3</th>\n",
       "      <td>Изменить структура категорий, что увеличит конверсию, т.к. пользователи быстрее найдут нужный товар</td>\n",
       "      <td>9.0</td>\n",
       "    </tr>\n",
       "    <tr>\n",
       "      <th>1</th>\n",
       "      <td>Запустить собственную службу доставки, что сократит срок доставки заказов</td>\n",
       "      <td>4.0</td>\n",
       "    </tr>\n",
       "    <tr>\n",
       "      <th>5</th>\n",
       "      <td>Добавить страницу отзывов клиентов о магазине, что позволит увеличить количество заказов</td>\n",
       "      <td>4.0</td>\n",
       "    </tr>\n",
       "    <tr>\n",
       "      <th>4</th>\n",
       "      <td>Изменить цвет фона главной страницы, чтобы увеличить вовлеченность пользователей</td>\n",
       "      <td>3.0</td>\n",
       "    </tr>\n",
       "  </tbody>\n",
       "</table>\n",
       "</div>"
      ],
      "text/plain": [
       "                                                                                                     hypothesis   RICE\n",
       "7              Добавить форму подписки на все основные страницы, чтобы собрать базу клиентов для email-рассылок  112.0\n",
       "2  Добавить блоки рекомендаций товаров на сайт интернет магазина, чтобы повысить конверсию и средний чек заказа   56.0\n",
       "0            Добавить два новых канала привлечения трафика, что позволит привлекать на 30% больше пользователей   40.0\n",
       "6          Показать на главной странице баннеры с актуальными акциями и распродажами, чтобы увеличить конверсию   40.0\n",
       "8                                                       Запустить акцию, дающую скидку на товар в день рождения   16.2\n",
       "3           Изменить структура категорий, что увеличит конверсию, т.к. пользователи быстрее найдут нужный товар    9.0\n",
       "1                                     Запустить собственную службу доставки, что сократит срок доставки заказов    4.0\n",
       "5                      Добавить страницу отзывов клиентов о магазине, что позволит увеличить количество заказов    4.0\n",
       "4                              Изменить цвет фона главной страницы, чтобы увеличить вовлеченность пользователей    3.0"
      ]
     },
     "metadata": {},
     "output_type": "display_data"
    }
   ],
   "source": [
    "data['RICE'] = (data['reach']*data['impact']*data['confidence'])/data['efforts']\n",
    "rice = data.loc[:, ['hypothesis','RICE']].sort_values(by='RICE',  ascending=False)\n",
    "display(rice)"
   ]
  },
  {
   "cell_type": "markdown",
   "metadata": {},
   "source": [
    "Наиболее перспективные гипотезы по RICE:\n",
    "- 7 Добавить форму подписки на все основные страницы, чтобы собрать базу клиентов для email-рассылок;\n",
    "- 2 Добавить блоки рекомендаций товаров на сайт интернет магазина, чтобы повысить конверсию и средний чек заказа; \n",
    "- 0 Добавить два новых канала привлечения трафика, что позволит привлекать на 30% больше пользователей; \n",
    "- 6  Показать на главной странице баннеры с актуальными акциями и распродажами, чтобы увеличить конверсию."
   ]
  },
  {
   "cell_type": "markdown",
   "metadata": {},
   "source": [
    "Приоритеты изменились, т.к. учитываем параметр охвата пользователей, которых затронет изменение - reach. У 7 гипотезы (\"Добавить форму подписки на все основные страницы\") этот параметр наибольший, что вывело ее на 1 место. Новая форма подписки затронет всех пользователей интернет-магазина. 8 гипотеза (скидка на товар в день рождения) теперь только на 5 месте, т.к. запущенная акция похоже мало кого затронет в один момент (оценка reach равна 1), хотя в нужных изменениях для именинников, мы сильно уверены. У 2 гипотезы (\"Добавить блоки рекомендаций товаров на сайт интернет магазина\") тоже довольно высока оценка охвата пользователей, многие прочитают рекомендации. А у 0 гипотезы (\"Добавить два новых канала привлечения трафика\") - большая оценка влияния на пользователей и велика наша уверенность, что это влияние именно такое, как нам нужно. Поэтому она в тройке приоритетов по обеим методикам.   \n",
    "\n",
    "Для дальнейшей работы, в первую очередь, следует рассмотреть гипотезы:\n",
    "- Добавить форму подписки на все основные страницы, чтобы собрать базу клиентов для email-рассылок (7); \n",
    "- Добавить два новых канала привлечения трафика, что позволит привлекать на 30% больше пользователей (0);\n",
    "- Показать на главной странице баннеры с актуальными акциями и распродажами, чтобы увеличить конверсию (6).   \n",
    "\n",
    "А также \"Запустить акцию, дающую скидку на товар в день рождения\" (8) и \"Добавить блоки рекомендаций товаров на сайт интернет магазина, чтобы повысить конверсию и средний чек заказа\" (2), если есть на это средства и невелики трудозатраты и материальные вложения."
   ]
  },
  {
   "cell_type": "markdown",
   "metadata": {},
   "source": [
    "### Анализ A/B-теста"
   ]
  },
  {
   "cell_type": "markdown",
   "metadata": {},
   "source": [
    "Был проведен A/B-тест и получены результаты в соответствующих файлах. Проанализируем эти результаты."
   ]
  },
  {
   "cell_type": "markdown",
   "metadata": {},
   "source": [
    "#### Предобработка"
   ]
  },
  {
   "cell_type": "markdown",
   "metadata": {},
   "source": [
    "Импортируем необходимые библиотеки и ознакомимся с полученными данными."
   ]
  },
  {
   "cell_type": "code",
   "execution_count": 8,
   "metadata": {},
   "outputs": [],
   "source": [
    "import pandas as pd\n",
    "import datetime as dt\n",
    "import numpy as np\n",
    "import matplotlib.pyplot as plt\n",
    "import scipy.stats as stats\n",
    "from scipy import stats as st"
   ]
  },
  {
   "cell_type": "code",
   "execution_count": 9,
   "metadata": {},
   "outputs": [],
   "source": [
    "orders = pd.read_csv('/datasets/orders.csv', sep=',')"
   ]
  },
  {
   "cell_type": "code",
   "execution_count": 10,
   "metadata": {},
   "outputs": [],
   "source": [
    "visitors = pd.read_csv('/datasets/visitors.csv', sep=',')"
   ]
  },
  {
   "cell_type": "code",
   "execution_count": 11,
   "metadata": {},
   "outputs": [
    {
     "name": "stdout",
     "output_type": "stream",
     "text": [
      "   transactionId   visitorId        date  revenue group\n",
      "0     3667963787  3312258926  2019-08-15     1650     B\n",
      "1     2804400009  3642806036  2019-08-15      730     B\n",
      "2     2961555356  4069496402  2019-08-15      400     A\n",
      "3     3797467345  1196621759  2019-08-15     9759     B\n",
      "4     2282983706  2322279887  2019-08-15     2308     B\n",
      "         date group  visitors\n",
      "0  2019-08-01     A       719\n",
      "1  2019-08-02     A       619\n",
      "2  2019-08-03     A       507\n",
      "3  2019-08-04     A       717\n",
      "4  2019-08-05     A       756\n"
     ]
    }
   ],
   "source": [
    "print(orders.head(5))\n",
    "print(visitors.head(5))"
   ]
  },
  {
   "cell_type": "markdown",
   "metadata": {},
   "source": [
    "Получим информацию о пропусках и типах данных."
   ]
  },
  {
   "cell_type": "code",
   "execution_count": 12,
   "metadata": {},
   "outputs": [
    {
     "name": "stdout",
     "output_type": "stream",
     "text": [
      "<class 'pandas.core.frame.DataFrame'>\n",
      "RangeIndex: 1197 entries, 0 to 1196\n",
      "Data columns (total 5 columns):\n",
      " #   Column         Non-Null Count  Dtype \n",
      "---  ------         --------------  ----- \n",
      " 0   transactionId  1197 non-null   int64 \n",
      " 1   visitorId      1197 non-null   int64 \n",
      " 2   date           1197 non-null   object\n",
      " 3   revenue        1197 non-null   int64 \n",
      " 4   group          1197 non-null   object\n",
      "dtypes: int64(3), object(2)\n",
      "memory usage: 46.9+ KB\n",
      "<class 'pandas.core.frame.DataFrame'>\n",
      "RangeIndex: 62 entries, 0 to 61\n",
      "Data columns (total 3 columns):\n",
      " #   Column    Non-Null Count  Dtype \n",
      "---  ------    --------------  ----- \n",
      " 0   date      62 non-null     object\n",
      " 1   group     62 non-null     object\n",
      " 2   visitors  62 non-null     int64 \n",
      "dtypes: int64(1), object(2)\n",
      "memory usage: 1.6+ KB\n"
     ]
    }
   ],
   "source": [
    "orders.info()\n",
    "visitors.info()"
   ]
  },
  {
   "cell_type": "markdown",
   "metadata": {},
   "source": [
    "Приведем даты к общепринятому типу данных."
   ]
  },
  {
   "cell_type": "code",
   "execution_count": 13,
   "metadata": {},
   "outputs": [
    {
     "data": {
      "text/plain": [
       "transactionId             int64\n",
       "visitorId                 int64\n",
       "date             datetime64[ns]\n",
       "revenue                   int64\n",
       "group                    object\n",
       "dtype: object"
      ]
     },
     "execution_count": 13,
     "metadata": {},
     "output_type": "execute_result"
    }
   ],
   "source": [
    "orders['date'] = orders['date'].map(lambda x: dt.datetime.strptime(x,'%Y-%m-%d'))\n",
    "orders.dtypes"
   ]
  },
  {
   "cell_type": "code",
   "execution_count": 14,
   "metadata": {
    "scrolled": true
   },
   "outputs": [
    {
     "data": {
      "text/plain": [
       "date        datetime64[ns]\n",
       "group               object\n",
       "visitors             int64\n",
       "dtype: object"
      ]
     },
     "execution_count": 14,
     "metadata": {},
     "output_type": "execute_result"
    }
   ],
   "source": [
    "visitors['date'] = visitors['date'].map(lambda x: dt.datetime.strptime(x,'%Y-%m-%d'))\n",
    "visitors.dtypes"
   ]
  },
  {
   "cell_type": "markdown",
   "metadata": {},
   "source": [
    "Проверим наличие дубликатов:"
   ]
  },
  {
   "cell_type": "code",
   "execution_count": 15,
   "metadata": {},
   "outputs": [
    {
     "data": {
      "text/plain": [
       "0"
      ]
     },
     "execution_count": 15,
     "metadata": {},
     "output_type": "execute_result"
    }
   ],
   "source": [
    "visitors.duplicated().sum()"
   ]
  },
  {
   "cell_type": "code",
   "execution_count": 16,
   "metadata": {},
   "outputs": [
    {
     "data": {
      "text/plain": [
       "0"
      ]
     },
     "execution_count": 16,
     "metadata": {},
     "output_type": "execute_result"
    }
   ],
   "source": [
    "orders.duplicated().sum()"
   ]
  },
  {
   "cell_type": "markdown",
   "metadata": {},
   "source": [
    "Получим статистику по данным массива."
   ]
  },
  {
   "cell_type": "code",
   "execution_count": 17,
   "metadata": {},
   "outputs": [
    {
     "data": {
      "text/html": [
       "<div>\n",
       "<style scoped>\n",
       "    .dataframe tbody tr th:only-of-type {\n",
       "        vertical-align: middle;\n",
       "    }\n",
       "\n",
       "    .dataframe tbody tr th {\n",
       "        vertical-align: top;\n",
       "    }\n",
       "\n",
       "    .dataframe thead th {\n",
       "        text-align: right;\n",
       "    }\n",
       "</style>\n",
       "<table border=\"1\" class=\"dataframe\">\n",
       "  <thead>\n",
       "    <tr style=\"text-align: right;\">\n",
       "      <th></th>\n",
       "      <th>transactionId</th>\n",
       "      <th>visitorId</th>\n",
       "      <th>revenue</th>\n",
       "    </tr>\n",
       "  </thead>\n",
       "  <tbody>\n",
       "    <tr>\n",
       "      <th>count</th>\n",
       "      <td>1.197000e+03</td>\n",
       "      <td>1.197000e+03</td>\n",
       "      <td>1197.0</td>\n",
       "    </tr>\n",
       "    <tr>\n",
       "      <th>mean</th>\n",
       "      <td>2.155621e+09</td>\n",
       "      <td>2.165960e+09</td>\n",
       "      <td>8348.0</td>\n",
       "    </tr>\n",
       "    <tr>\n",
       "      <th>std</th>\n",
       "      <td>1.229085e+09</td>\n",
       "      <td>1.236014e+09</td>\n",
       "      <td>39191.0</td>\n",
       "    </tr>\n",
       "    <tr>\n",
       "      <th>min</th>\n",
       "      <td>1.062393e+06</td>\n",
       "      <td>5.114589e+06</td>\n",
       "      <td>50.0</td>\n",
       "    </tr>\n",
       "    <tr>\n",
       "      <th>25%</th>\n",
       "      <td>1.166776e+09</td>\n",
       "      <td>1.111826e+09</td>\n",
       "      <td>1220.0</td>\n",
       "    </tr>\n",
       "    <tr>\n",
       "      <th>50%</th>\n",
       "      <td>2.145194e+09</td>\n",
       "      <td>2.217985e+09</td>\n",
       "      <td>2978.0</td>\n",
       "    </tr>\n",
       "    <tr>\n",
       "      <th>75%</th>\n",
       "      <td>3.237740e+09</td>\n",
       "      <td>3.177606e+09</td>\n",
       "      <td>8290.0</td>\n",
       "    </tr>\n",
       "    <tr>\n",
       "      <th>max</th>\n",
       "      <td>4.293856e+09</td>\n",
       "      <td>4.283872e+09</td>\n",
       "      <td>1294500.0</td>\n",
       "    </tr>\n",
       "  </tbody>\n",
       "</table>\n",
       "</div>"
      ],
      "text/plain": [
       "       transactionId     visitorId    revenue\n",
       "count   1.197000e+03  1.197000e+03     1197.0\n",
       "mean    2.155621e+09  2.165960e+09     8348.0\n",
       "std     1.229085e+09  1.236014e+09    39191.0\n",
       "min     1.062393e+06  5.114589e+06       50.0\n",
       "25%     1.166776e+09  1.111826e+09     1220.0\n",
       "50%     2.145194e+09  2.217985e+09     2978.0\n",
       "75%     3.237740e+09  3.177606e+09     8290.0\n",
       "max     4.293856e+09  4.283872e+09  1294500.0"
      ]
     },
     "execution_count": 17,
     "metadata": {},
     "output_type": "execute_result"
    }
   ],
   "source": [
    "orders.describe().round()"
   ]
  },
  {
   "cell_type": "markdown",
   "metadata": {},
   "source": [
    "Видим, что средняя выручка по заказу приближенно от 1 до 8 тысяч. При этом есть существенное отклонение и аномальный по отношению к основному массиву максимум."
   ]
  },
  {
   "cell_type": "code",
   "execution_count": 18,
   "metadata": {},
   "outputs": [
    {
     "data": {
      "text/html": [
       "<div>\n",
       "<style scoped>\n",
       "    .dataframe tbody tr th:only-of-type {\n",
       "        vertical-align: middle;\n",
       "    }\n",
       "\n",
       "    .dataframe tbody tr th {\n",
       "        vertical-align: top;\n",
       "    }\n",
       "\n",
       "    .dataframe thead th {\n",
       "        text-align: right;\n",
       "    }\n",
       "</style>\n",
       "<table border=\"1\" class=\"dataframe\">\n",
       "  <thead>\n",
       "    <tr style=\"text-align: right;\">\n",
       "      <th></th>\n",
       "      <th>visitors</th>\n",
       "    </tr>\n",
       "  </thead>\n",
       "  <tbody>\n",
       "    <tr>\n",
       "      <th>count</th>\n",
       "      <td>62.0</td>\n",
       "    </tr>\n",
       "    <tr>\n",
       "      <th>mean</th>\n",
       "      <td>607.0</td>\n",
       "    </tr>\n",
       "    <tr>\n",
       "      <th>std</th>\n",
       "      <td>114.0</td>\n",
       "    </tr>\n",
       "    <tr>\n",
       "      <th>min</th>\n",
       "      <td>361.0</td>\n",
       "    </tr>\n",
       "    <tr>\n",
       "      <th>25%</th>\n",
       "      <td>534.0</td>\n",
       "    </tr>\n",
       "    <tr>\n",
       "      <th>50%</th>\n",
       "      <td>624.0</td>\n",
       "    </tr>\n",
       "    <tr>\n",
       "      <th>75%</th>\n",
       "      <td>710.0</td>\n",
       "    </tr>\n",
       "    <tr>\n",
       "      <th>max</th>\n",
       "      <td>770.0</td>\n",
       "    </tr>\n",
       "  </tbody>\n",
       "</table>\n",
       "</div>"
      ],
      "text/plain": [
       "       visitors\n",
       "count      62.0\n",
       "mean      607.0\n",
       "std       114.0\n",
       "min       361.0\n",
       "25%       534.0\n",
       "50%       624.0\n",
       "75%       710.0\n",
       "max       770.0"
      ]
     },
     "execution_count": 18,
     "metadata": {},
     "output_type": "execute_result"
    }
   ],
   "source": [
    "visitors.describe().round()"
   ]
  },
  {
   "cell_type": "markdown",
   "metadata": {},
   "source": [
    "По количеству посетителей сайта данные достаточно \"гладкие\". От 534 до 710 посетителей в основной выборке. В среднем около 600. Максимум 770, минимум примерно в 2 раза меньше."
   ]
  },
  {
   "cell_type": "markdown",
   "metadata": {},
   "source": [
    "**Массивы обработаны, изменены типы данных - дат, не найдено полных дубликатов в строках. Получено первичное представление о содержимом массивов. Можно приступать к анализу данных теста.**"
   ]
  },
  {
   "cell_type": "markdown",
   "metadata": {},
   "source": [
    "#### Построим график кумулятивной выручки по группам"
   ]
  },
  {
   "cell_type": "code",
   "execution_count": 19,
   "metadata": {},
   "outputs": [],
   "source": [
    "# создаем массив уникальных пар значений дат и групп теста\n",
    "datesGroups = orders[['date','group']].drop_duplicates()"
   ]
  },
  {
   "cell_type": "code",
   "execution_count": 20,
   "metadata": {},
   "outputs": [],
   "source": [
    "# получаем агрегированные кумулятивные по дням данные о заказах \n",
    "ordersAggregated = datesGroups.apply(lambda x: orders[np.logical_and(orders['date'] <= x['date'], orders['group'] == x['group'])].agg({'date' : 'max', 'group' : 'max', 'transactionId' : 'nunique', 'visitorId' : 'nunique', 'revenue' : 'sum'}), axis=1).sort_values(by=['date','group'])"
   ]
  },
  {
   "cell_type": "code",
   "execution_count": 21,
   "metadata": {},
   "outputs": [],
   "source": [
    "# получаем агрегированные кумулятивные по дням данные о посетителях интернет-магазина \n",
    "visitorsAggregated = datesGroups.apply(lambda x: visitors[np.logical_and(visitors['date'] <= x['date'], visitors['group'] == x['group'])].agg({'date' : 'max', 'group' : 'max', 'visitors' : 'sum'}), axis=1).sort_values(by=['date','group'])"
   ]
  },
  {
   "cell_type": "code",
   "execution_count": 22,
   "metadata": {},
   "outputs": [],
   "source": [
    "# объединяем кумулятивные данные в одной таблице и присваиваем ее столбцам понятные названия\n",
    "cumulativeData = ordersAggregated.merge(visitorsAggregated, left_on=['date', 'group'], right_on=['date', 'group'])\n",
    "cumulativeData.columns = ['date', 'group', 'orders', 'buyers', 'revenue', 'visitors']"
   ]
  },
  {
   "cell_type": "code",
   "execution_count": 23,
   "metadata": {},
   "outputs": [
    {
     "name": "stdout",
     "output_type": "stream",
     "text": [
      "        date group  orders  buyers  revenue  visitors\n",
      "0 2019-08-01     A      24      20   148579       719\n",
      "1 2019-08-01     B      21      20   101217       713\n",
      "2 2019-08-02     A      44      38   242401      1338\n",
      "3 2019-08-02     B      45      43   266748      1294\n",
      "4 2019-08-03     A      68      62   354874      1845\n"
     ]
    }
   ],
   "source": [
    "print(cumulativeData.head(5))"
   ]
  },
  {
   "cell_type": "markdown",
   "metadata": {},
   "source": [
    "Сравним даты в исходных данных и в полученном массиве:"
   ]
  },
  {
   "cell_type": "code",
   "execution_count": 24,
   "metadata": {},
   "outputs": [
    {
     "name": "stdout",
     "output_type": "stream",
     "text": [
      "2019-08-01 00:00:00\n",
      "2019-08-31 00:00:00\n"
     ]
    }
   ],
   "source": [
    "print(cumulativeData['date'].min())\n",
    "print(cumulativeData['date'].max())"
   ]
  },
  {
   "cell_type": "code",
   "execution_count": 25,
   "metadata": {},
   "outputs": [
    {
     "name": "stdout",
     "output_type": "stream",
     "text": [
      "2019-08-01 00:00:00\n",
      "2019-08-31 00:00:00\n"
     ]
    }
   ],
   "source": [
    "print(orders['date'].min())\n",
    "print(orders['date'].max())"
   ]
  },
  {
   "cell_type": "code",
   "execution_count": 26,
   "metadata": {},
   "outputs": [],
   "source": [
    "# датафрейм с кумулятивным количеством заказов и кумулятивной выручкой по дням в группе А\n",
    "cumulativeRevenueA = cumulativeData[cumulativeData['group']=='A'][['date','revenue', 'orders']]"
   ]
  },
  {
   "cell_type": "code",
   "execution_count": 27,
   "metadata": {},
   "outputs": [],
   "source": [
    "# датафрейм с кумулятивным количеством заказов и кумулятивной выручкой по дням в группе B\n",
    "cumulativeRevenueB = cumulativeData[cumulativeData['group']=='B'][['date','revenue', 'orders']]"
   ]
  },
  {
   "cell_type": "code",
   "execution_count": 28,
   "metadata": {},
   "outputs": [
    {
     "data": {
      "image/png": "[encoded data removed]",
      "text/plain": [
       "<Figure size 1080x576 with 1 Axes>"
      ]
     },
     "metadata": {
      "needs_background": "light"
     },
     "output_type": "display_data"
    }
   ],
   "source": [
    "plt.figure(figsize=(15,8))\n",
    "# Строим график выручки группы А\n",
    "plt.plot(cumulativeRevenueA['date'], cumulativeRevenueA['revenue'], label='A')\n",
    "# Строим график выручки группы B\n",
    "plt.plot(cumulativeRevenueB['date'], cumulativeRevenueB['revenue'], label='B')\n",
    "plt.xticks(rotation = 45)\n",
    "plt.grid()\n",
    "plt.tick_params(axis='x', labelsize=10)\n",
    "plt.title('График кумулятивной выручки по группам')\n",
    "plt.xlabel('Дата')\n",
    "plt.ylabel('Выручка')\n",
    "plt.legend()\n",
    "plt.show()"
   ]
  },
  {
   "cell_type": "markdown",
   "metadata": {},
   "source": [
    "До 18.08.2019 выручка увеличивалась практически равномерно в 2-ух группах. Группа В стабильно опережала группу А, несколько раз выручка практически сравнивалась. 18.08-19.08 произошел скачок выручки группы В, после чего опережение увеличилось и стабилизировалось, если судить по графику. Видимо, в этот день кто-то совершил особо крупную покупку или было сделано очень много заказов. Это нужно проверить."
   ]
  },
  {
   "cell_type": "markdown",
   "metadata": {},
   "source": [
    "#### Построим графики среднего чека по группам — разделим кумулятивную выручку на кумулятивное число заказов:"
   ]
  },
  {
   "cell_type": "code",
   "execution_count": 29,
   "metadata": {},
   "outputs": [
    {
     "data": {
      "image/png": "[encoded data removed]",
      "text/plain": [
       "<Figure size 1080x576 with 1 Axes>"
      ]
     },
     "metadata": {
      "needs_background": "light"
     },
     "output_type": "display_data"
    }
   ],
   "source": [
    "plt.figure(figsize=(15,8))\n",
    "plt.plot(cumulativeRevenueA['date'], cumulativeRevenueA['revenue']/cumulativeRevenueA['orders'], label='A')\n",
    "plt.plot(cumulativeRevenueB['date'], cumulativeRevenueB['revenue']/cumulativeRevenueB['orders'], label='B')\n",
    "plt.xticks(rotation = 45)\n",
    "plt.grid()\n",
    "plt.tick_params(axis='x', labelsize=10)\n",
    "plt.title('Средний чек по группам')\n",
    "plt.xlabel('Дата')\n",
    "plt.ylabel('Чек')\n",
    "plt.legend()\n",
    "plt.show()"
   ]
  },
  {
   "cell_type": "markdown",
   "metadata": {},
   "source": [
    "Средний чек по группам довольно сильно колеблется. Скачок чека от 7 до примерно 10 тысяч 18.08 подтверждается, после чего начинается уменьшение суммы чека. Но пока рано делать выводы на основании этих данных. Требуется дополнительный анализ выбросов, которые могут искажать результаты."
   ]
  },
  {
   "cell_type": "markdown",
   "metadata": {},
   "source": [
    "#### Построим график относительного различия для среднего чека"
   ]
  },
  {
   "cell_type": "code",
   "execution_count": 30,
   "metadata": {},
   "outputs": [],
   "source": [
    "# собираем данные в одном датафрейме\n",
    "mergedCumulativeRevenue = cumulativeRevenueA.merge(cumulativeRevenueB, left_on='date', right_on='date', how='left', suffixes=['A', 'B'])"
   ]
  },
  {
   "cell_type": "code",
   "execution_count": 31,
   "metadata": {},
   "outputs": [
    {
     "data": {
      "image/png": "[encoded data removed]",
      "text/plain": [
       "<Figure size 1080x576 with 1 Axes>"
      ]
     },
     "metadata": {
      "needs_background": "light"
     },
     "output_type": "display_data"
    }
   ],
   "source": [
    "# cтроим отношение средних чеков\n",
    "plt.figure(figsize=(15,8))\n",
    "plt.plot(mergedCumulativeRevenue['date'], (mergedCumulativeRevenue['revenueB']/mergedCumulativeRevenue['ordersB'])/(mergedCumulativeRevenue['revenueA']/mergedCumulativeRevenue['ordersA'])-1)\n",
    "plt.xticks(rotation = 45)\n",
    "plt.grid()\n",
    "plt.tick_params(axis='x', labelsize=10)\n",
    "plt.title('График относительно различия кумулятивного среднего чека группы B к группе A')\n",
    "plt.xlabel('Дата')\n",
    "plt.ylabel('Чек')\n",
    "\n",
    "# добавляем ось X\n",
    "plt.axhline(y=0, color='black', linestyle='--')\n",
    "plt.show()"
   ]
  },
  {
   "cell_type": "markdown",
   "metadata": {},
   "source": [
    "Наблюдаются резкие скачки, которые могут указывать на крупные покупки и выбросы."
   ]
  },
  {
   "cell_type": "markdown",
   "metadata": {},
   "source": [
    "#### Проанализируем график кумулятивной конверсии"
   ]
  },
  {
   "cell_type": "code",
   "execution_count": 32,
   "metadata": {},
   "outputs": [],
   "source": [
    "# считаем кумулятивную конверсию\n",
    "cumulativeData['conversion'] = cumulativeData['orders']/cumulativeData['visitors']\n",
    "\n",
    "# отделяем данные по группе A\n",
    "cumulativeDataA = cumulativeData[cumulativeData['group']=='A']\n",
    "\n",
    "# отделяем данные по группе B\n",
    "cumulativeDataB = cumulativeData[cumulativeData['group']=='B']"
   ]
  },
  {
   "cell_type": "code",
   "execution_count": 33,
   "metadata": {},
   "outputs": [
    {
     "data": {
      "image/png": "[encoded data removed]",
      "text/plain": [
       "<Figure size 1080x576 with 1 Axes>"
      ]
     },
     "metadata": {
      "needs_background": "light"
     },
     "output_type": "display_data"
    }
   ],
   "source": [
    "# строим графики\n",
    "plt.figure(figsize=(15,8))\n",
    "plt.plot(cumulativeDataA['date'], cumulativeDataA['conversion'], label='A')\n",
    "plt.plot(cumulativeDataB['date'], cumulativeDataB['conversion'], label='B')\n",
    "plt.legend()\n",
    "plt.grid()\n",
    "plt.tick_params(axis='x', labelsize=10)\n",
    "plt.title('График кумулятивного среднего количества заказов на посетителя по группам')\n",
    "plt.xlabel('Дата')\n",
    "plt.ylabel('Конверсия')\n",
    "# задаем масштаб осей\n",
    "plt.axis([dt.datetime(2019, 8, 1), dt.datetime(2019, 8, 31), 0.025, 0.04])\n",
    "plt.show()"
   ]
  },
  {
   "cell_type": "markdown",
   "metadata": {},
   "source": [
    "В начале месяца конверсия сегмента А была выше сегмента В, потом они поменялись местами и устаноились примерно около одного значения, конверсия группы В выше конверсии группы А."
   ]
  },
  {
   "cell_type": "markdown",
   "metadata": {},
   "source": [
    "#### Построим график относительного изменения кумулятивного среднего количества заказов на посетителя группы B к группе A"
   ]
  },
  {
   "cell_type": "code",
   "execution_count": 34,
   "metadata": {},
   "outputs": [],
   "source": [
    "mergedCumulativeConversions = cumulativeDataA[['date','conversion']].merge(cumulativeDataB[['date','conversion']], left_on='date', right_on='date', how='left', suffixes=['A', 'B'])"
   ]
  },
  {
   "cell_type": "code",
   "execution_count": 35,
   "metadata": {},
   "outputs": [
    {
     "data": {
      "image/png": "[encoded data removed]",
      "text/plain": [
       "<Figure size 1080x576 with 1 Axes>"
      ]
     },
     "metadata": {
      "needs_background": "light"
     },
     "output_type": "display_data"
    }
   ],
   "source": [
    "plt.figure(figsize=(15,8))\n",
    "plt.plot(mergedCumulativeConversions['date'], mergedCumulativeConversions['conversionB']/mergedCumulativeConversions['conversionA']-1, label=\"Относительный прирост конверсии группы B относительно группы A\")\n",
    "plt.xticks(rotation = 45)\n",
    "plt.grid()\n",
    "plt.tick_params(axis='x', labelsize=10)\n",
    "plt.title('График относительного изменения кумулятивного среднего количества заказов на посетителя группы B к группе A')\n",
    "plt.xlabel('Дата')\n",
    "plt.axhline(y=0.06, color='grey', linestyle='--')\n",
    "plt.axhline(y=0.15, color='black', linestyle='--')\n",
    "# задаем масштаб осей\n",
    "plt.axis([dt.datetime(2019, 8, 1), dt.datetime(2019, 8, 31), -0.1, 0.3])\n",
    "plt.show()"
   ]
  },
  {
   "cell_type": "markdown",
   "metadata": {},
   "source": [
    "В начале теста группа В сильно колебалась относительно группы А - то вырывалась вперед, то проигрывала. Но затем вырвалась вперед, ее конверсия увеличилась и стабилизировалась около 15% прироста относительно группы А."
   ]
  },
  {
   "cell_type": "markdown",
   "metadata": {},
   "source": [
    "#### Точечный график количества заказов по пользователям"
   ]
  },
  {
   "cell_type": "code",
   "execution_count": 36,
   "metadata": {},
   "outputs": [
    {
     "data": {
      "image/png": "[encoded data removed]",
      "text/plain": [
       "<Figure size 1080x576 with 1 Axes>"
      ]
     },
     "metadata": {
      "needs_background": "light"
     },
     "output_type": "display_data"
    }
   ],
   "source": [
    "ordersByUsers = (\n",
    "    orders.groupby('visitorId', as_index=False)\n",
    "    .agg({'transactionId': 'nunique'})\n",
    ")\n",
    "ordersByUsers.columns = ['userId', 'orders']\n",
    "\n",
    "# серия из чисел от 0 до количества наблюдений в ordersByUsers\n",
    "x_values = pd.Series(range(0, len(ordersByUsers)))\n",
    "plt.figure(figsize=(15,8))\n",
    "plt.scatter(x_values, ordersByUsers['orders'])\n",
    "plt.title('Точечный график количества заказов по пользователям')\n",
    "plt.xlabel('Пользователи')\n",
    "plt.ylabel('Заказы')\n",
    "plt.grid()\n",
    "plt.show()"
   ]
  },
  {
   "cell_type": "markdown",
   "metadata": {},
   "source": [
    "Пользователей, сделавших больше 2 заказов мало, а больше 4 - ничтожно мало. Чтобы понять, какое количество заказов отнести к аномальным значениям, нужно посчитать выборочные прецентили."
   ]
  },
  {
   "cell_type": "markdown",
   "metadata": {},
   "source": [
    "Посчитаем 95-й и 99-й перцентили количества заказов на пользователя. Выберем границу для определения аномальных пользователей"
   ]
  },
  {
   "cell_type": "code",
   "execution_count": 37,
   "metadata": {},
   "outputs": [
    {
     "name": "stdout",
     "output_type": "stream",
     "text": [
      "[2. 4.]\n"
     ]
    }
   ],
   "source": [
    "print(np.percentile(ordersByUsers['orders'], [95, 99])) \n",
    "perc_order99 = np.percentile(ordersByUsers['orders'], [99])\n",
    "perc_order = round(perc_order99[0])"
   ]
  },
  {
   "cell_type": "code",
   "execution_count": 38,
   "metadata": {},
   "outputs": [
    {
     "data": {
      "text/plain": [
       "4"
      ]
     },
     "execution_count": 38,
     "metadata": {},
     "output_type": "execute_result"
    }
   ],
   "source": [
    "perc_order"
   ]
  },
  {
   "cell_type": "markdown",
   "metadata": {},
   "source": [
    "Не более 1% пользователей заказали больше 4 раз и не более 5% - более 2 раз(заказов). Можно провести границу на отметке больше 4-х заказов."
   ]
  },
  {
   "cell_type": "markdown",
   "metadata": {},
   "source": [
    " #### Исследуем точечный график стоимостей заказов"
   ]
  },
  {
   "cell_type": "code",
   "execution_count": 39,
   "metadata": {},
   "outputs": [
    {
     "data": {
      "image/png": "[encoded data removed]",
      "text/plain": [
       "<Figure size 1080x576 with 1 Axes>"
      ]
     },
     "metadata": {
      "needs_background": "light"
     },
     "output_type": "display_data"
    }
   ],
   "source": [
    "orders['revenue'] = orders['revenue']/1000\n",
    "x_values = pd.Series(range(0,len(orders['revenue'])))\n",
    "plt.figure(figsize=(15,8))\n",
    "plt.scatter(x_values, orders['revenue'])\n",
    "plt.title('Точечный график стоимости заказов')\n",
    "plt.xlabel('Заказы')\n",
    "plt.ylabel('Стоимость заказов')\n",
    "plt.grid()\n",
    "plt.show()"
   ]
  },
  {
   "cell_type": "code",
   "execution_count": 40,
   "metadata": {},
   "outputs": [
    {
     "data": {
      "image/png": "[encoded data removed]",
      "text/plain": [
       "<Figure size 1080x576 with 1 Axes>"
      ]
     },
     "metadata": {
      "needs_background": "light"
     },
     "output_type": "display_data"
    }
   ],
   "source": [
    "x_values = pd.Series(range(0,len(orders['revenue'])))\n",
    "plt.figure(figsize=(15,8))\n",
    "plt.scatter(x_values, orders['revenue'])\n",
    "plt.title('Точечный график стоимости заказов')\n",
    "plt.xlabel('Заказы')\n",
    "plt.ylabel('Стоимость заказов')\n",
    "plt.ylim(-10, 100)\n",
    "plt.grid()\n",
    "plt.show()"
   ]
  },
  {
   "cell_type": "markdown",
   "metadata": {},
   "source": [
    "По графику видно, что заказов дороже 100 тысяч практически нет. По укрупненному графику видим, что большая часть заказов находится в пределах стоимости до 60 тыс.руб."
   ]
  },
  {
   "cell_type": "markdown",
   "metadata": {},
   "source": [
    "Посчитаем 95-й и 99-й перцентили стоимости заказов. Выберем границу для определения аномальных заказов."
   ]
  },
  {
   "cell_type": "code",
   "execution_count": 41,
   "metadata": {},
   "outputs": [
    {
     "name": "stdout",
     "output_type": "stream",
     "text": [
      "[28.     58.2332]\n"
     ]
    }
   ],
   "source": [
    "print(np.percentile(orders['revenue'], [95, 99]))\n",
    "perc_rev99 = np.percentile(orders['revenue'], [99])\n",
    "perc_rev = round(perc_order99[0])"
   ]
  },
  {
   "cell_type": "markdown",
   "metadata": {},
   "source": [
    "Не более 5% заказов дороже 28 тысяч рублей и не более 1% - дороже 58 000 руб. В дальнейшем используем границы по 99-ому перцентилю. То есть 58 тыс.руб."
   ]
  },
  {
   "cell_type": "markdown",
   "metadata": {},
   "source": [
    "#### Статистическая значимость различий по \"сырым\" данным"
   ]
  },
  {
   "cell_type": "markdown",
   "metadata": {},
   "source": [
    "Посчитаем статистическую значимость различий в среднем числе заказов на пользователя и среднем чеке между группами по «сырым» данным — без удаления аномальных пользователей.\n",
    "Сформулируем гипотезы. Нулевая: различий в среднем количестве заказов между группами нет. Альтернативная: различия в среднем между группами есть."
   ]
  },
  {
   "cell_type": "code",
   "execution_count": 42,
   "metadata": {},
   "outputs": [],
   "source": [
    "visitorsADaily = visitors[visitors['group'] == 'A'][['date', 'visitors']]\n",
    "visitorsADaily.columns = ['date', 'visitorsPerDateA']\n",
    "\n",
    "visitorsACummulative = visitorsADaily.apply(\n",
    "    lambda x: visitorsADaily[visitorsADaily['date'] <= x['date']].agg(\n",
    "        {'date': 'max', 'visitorsPerDateA': 'sum'}\n",
    "    ),\n",
    "    axis=1,\n",
    ")\n",
    "visitorsACummulative.columns = ['date', 'visitorsCummulativeA']\n",
    "\n",
    "visitorsBDaily = visitors[visitors['group'] == 'B'][['date', 'visitors']]\n",
    "visitorsBDaily.columns = ['date', 'visitorsPerDateB']\n",
    "\n",
    "visitorsBCummulative = visitorsBDaily.apply(\n",
    "    lambda x: visitorsBDaily[visitorsBDaily['date'] <= x['date']].agg(\n",
    "        {'date': 'max', 'visitorsPerDateB': 'sum'}\n",
    "    ),\n",
    "    axis=1,\n",
    ")\n",
    "visitorsBCummulative.columns = ['date', 'visitorsCummulativeB']\n",
    "\n",
    "ordersADaily = (\n",
    "    orders[orders['group'] == 'A'][['date', 'transactionId', 'visitorId', 'revenue']]\n",
    "    .groupby('date', as_index=False)\n",
    "    .agg({'transactionId': pd.Series.nunique, 'revenue': 'sum'})\n",
    ")\n",
    "ordersADaily.columns = ['date', 'ordersPerDateA', 'revenuePerDateA']\n",
    "\n",
    "ordersACummulative = ordersADaily.apply(\n",
    "    lambda x: ordersADaily[ordersADaily['date'] <= x['date']].agg(\n",
    "        {'date': 'max', 'ordersPerDateA': 'sum', 'revenuePerDateA': 'sum'}\n",
    "    ),\n",
    "    axis=1,\n",
    ").sort_values(by=['date'])\n",
    "ordersACummulative.columns = [\n",
    "    'date',\n",
    "    'ordersCummulativeA',\n",
    "    'revenueCummulativeA',\n",
    "]\n",
    "\n",
    "ordersBDaily = (\n",
    "    orders[orders['group'] == 'B'][['date', 'transactionId', 'visitorId', 'revenue']]\n",
    "    .groupby('date', as_index=False)\n",
    "    .agg({'transactionId': pd.Series.nunique, 'revenue': 'sum'})\n",
    ")\n",
    "ordersBDaily.columns = ['date', 'ordersPerDateB', 'revenuePerDateB']\n",
    "\n",
    "ordersBCummulative = ordersBDaily.apply(\n",
    "    lambda x: ordersBDaily[ordersBDaily['date'] <= x['date']].agg(\n",
    "        {'date': 'max', 'ordersPerDateB': 'sum', 'revenuePerDateB': 'sum'}\n",
    "    ),\n",
    "    axis=1,\n",
    ").sort_values(by=['date'])\n",
    "ordersBCummulative.columns = [\n",
    "    'date',\n",
    "    'ordersCummulativeB',\n",
    "    'revenueCummulativeB',\n",
    "]\n",
    "\n",
    "data = (\n",
    "    ordersADaily.merge(\n",
    "        ordersBDaily, left_on='date', right_on='date', how='left'\n",
    "    )\n",
    "    .merge(ordersACummulative, left_on='date', right_on='date', how='left')\n",
    "    .merge(ordersBCummulative, left_on='date', right_on='date', how='left')\n",
    "    .merge(visitorsADaily, left_on='date', right_on='date', how='left')\n",
    "    .merge(visitorsBDaily, left_on='date', right_on='date', how='left')\n",
    "    .merge(visitorsACummulative, left_on='date', right_on='date', how='left')\n",
    "    .merge(visitorsBCummulative, left_on='date', right_on='date', how='left')\n",
    ")"
   ]
  },
  {
   "cell_type": "code",
   "execution_count": 43,
   "metadata": {},
   "outputs": [
    {
     "name": "stdout",
     "output_type": "stream",
     "text": [
      "p-value: 0.01679\n",
      "Различие в среднем числе заказов: 0.138\n"
     ]
    }
   ],
   "source": [
    "ordersByUsersA = (\n",
    "    orders[orders['group'] == 'A']\n",
    "    .groupby('visitorId', as_index=False)\n",
    "    .agg({'transactionId': pd.Series.nunique})\n",
    ")\n",
    "ordersByUsersA.columns = ['userId', 'orders']\n",
    "\n",
    "ordersByUsersB = (\n",
    "    orders[orders['group'] == 'B']\n",
    "    .groupby('visitorId', as_index=False)\n",
    "    .agg({'transactionId': pd.Series.nunique})\n",
    ")\n",
    "ordersByUsersB.columns = ['userId', 'orders'] \n",
    "sampleA = pd.concat([ordersByUsersA['orders'],pd.Series(0, index=np.arange(data['visitorsPerDateA'].sum() - len(ordersByUsersA['orders'])), name='orders')],axis=0)\n",
    "\n",
    "sampleB = pd.concat([ordersByUsersB['orders'],pd.Series(0, index=np.arange(data['visitorsPerDateB'].sum() - len(ordersByUsersB['orders'])), name='orders')],axis=0)\n",
    "\n",
    "print('p-value: '\"{0:.5f}\".format(stats.mannwhitneyu(sampleA, sampleB)[1]))\n",
    "\n",
    "print('Различие в среднем числе заказов: '\"{0:.3f}\".format(sampleB.mean() / sampleA.mean() - 1))"
   ]
  },
  {
   "cell_type": "markdown",
   "metadata": {},
   "source": [
    "Относительный прирост среднего группы В к группе А равен 13,7 %. p-value меньше 0,05, значит между средним числом заказов в группах есть статистически значимая разница."
   ]
  },
  {
   "cell_type": "markdown",
   "metadata": {},
   "source": [
    "Посчитаем статистическую значимость различия средних чеков между группами по «сырым» данным. \n",
    "Выведем p-value для сравнения средних чеков между группами и округлите до трёх знаков после запятой.\n",
    "Выведем относительный прирост среднего чека группы B, округлив до трёх знаков после запятой.   \n",
    "Выдвинем гипотезы. Нулевая гипотеза: различий в среднем чеке между группами нет. Альтернативная: различия в среднем чеке между группами есть."
   ]
  },
  {
   "cell_type": "code",
   "execution_count": 44,
   "metadata": {},
   "outputs": [
    {
     "name": "stdout",
     "output_type": "stream",
     "text": [
      "p-value: 0.729\n",
      "Различие в среднем чеке: 0.259\n"
     ]
    }
   ],
   "source": [
    "print('p-value: ''{0:.3f}'.format(stats.mannwhitneyu(orders[orders['group']=='A']['revenue'], orders[orders['group']=='B']['revenue'])[1]))\n",
    "print('Различие в среднем чеке: ''{0:.3f}'.format(orders[orders['group']=='B']['revenue'].mean()/orders[orders['group']=='A']['revenue'].mean()-1)) "
   ]
  },
  {
   "cell_type": "markdown",
   "metadata": {},
   "source": [
    "P-value значительно больше 0.05. Значит, причин отвергать нулевую гипотезу и считать, что в среднем чеке есть различия, нет. При этом средний чек группы B почти на 26% больше чека группы А"
   ]
  },
  {
   "cell_type": "markdown",
   "metadata": {},
   "source": [
    "#### Статистическая значимость различий по \"очищенным\" данным"
   ]
  },
  {
   "cell_type": "markdown",
   "metadata": {},
   "source": [
    "Посчитаем статистическую значимость различий в среднем количестве заказов на посетителя между группами по «очищенным» данным."
   ]
  },
  {
   "cell_type": "markdown",
   "metadata": {},
   "source": [
    "Примем за аномальных пользователей тех, кто совершил более 4 заказов или совершил заказ дороже 58 000 рублей. Так мы уберём 1% пользователей с наибольшим числом заказов и до 1% пользователей с дорогими заказами. Сделаем срезы пользователей с числом заказов больше 4 — usersWithManyOrders и пользователей, совершивших заказы дороже 58 000 — usersWithExpensiveOrders. Объединим их в таблице abnormalUsers. \n",
    "Узнаем, сколько всего аномальных пользователей атрибутом shape."
   ]
  },
  {
   "cell_type": "code",
   "execution_count": 45,
   "metadata": {},
   "outputs": [
    {
     "name": "stdout",
     "output_type": "stream",
     "text": [
      "227    2038680547\n",
      "326    2378935119\n",
      "278    2458001652\n",
      "499    4256040402\n",
      "dtype: int64\n",
      "4\n"
     ]
    }
   ],
   "source": [
    "usersWithManyOrders = pd.concat(\n",
    "    [\n",
    "        ordersByUsersA[ordersByUsersA['orders'] > perc_order]['userId'],\n",
    "        ordersByUsersB[ordersByUsersB['orders'] > perc_order]['userId'],\n",
    "    ],\n",
    "    axis=0,\n",
    ")\n",
    "usersWithExpensiveOrders = orders[orders['revenue'] > perc_rev*1000]['visitorId']\n",
    "abnormalUsers = (\n",
    "    pd.concat([usersWithManyOrders, usersWithExpensiveOrders], axis=0)\n",
    "    .drop_duplicates()\n",
    "    .sort_values()\n",
    ")\n",
    "print(abnormalUsers.head(5))\n",
    "print(abnormalUsers.shape[0])"
   ]
  },
  {
   "cell_type": "markdown",
   "metadata": {},
   "source": [
    "Всего 4 аномальных пользователя.   \n",
    "Узнаем, как их действия повлияли на результаты теста. Посчитаем статистическую значимость различий в среднем количестве заказов между группами теста по очищенным данным. Сначала подготовим выборки количества заказов по пользователям по группам теста. Применим статистический критерий Манна-Уитни к полученным выборкам:"
   ]
  },
  {
   "cell_type": "markdown",
   "metadata": {},
   "source": [
    "Проверяем гипотезы. Нулевая: различий в среднем количестве заказов между группами нет. Альтернативная: различия в среднем между группами есть."
   ]
  },
  {
   "cell_type": "code",
   "execution_count": 46,
   "metadata": {},
   "outputs": [
    {
     "name": "stdout",
     "output_type": "stream",
     "text": [
      "p-value: 0.016\n",
      "Разница между группами: 0.149\n"
     ]
    }
   ],
   "source": [
    "sampleAFiltered = pd.concat(\n",
    "    [\n",
    "        ordersByUsersA[\n",
    "            np.logical_not(ordersByUsersA['userId'].isin(abnormalUsers))\n",
    "        ]['orders'],\n",
    "        pd.Series(\n",
    "            0,\n",
    "            index=np.arange(\n",
    "                data['visitorsPerDateA'].sum() - len(ordersByUsersA['orders'])\n",
    "            ),\n",
    "            name='orders',\n",
    "        ),\n",
    "    ],\n",
    "    axis=0,\n",
    ")\n",
    "\n",
    "sampleBFiltered = pd.concat(\n",
    "    [\n",
    "        ordersByUsersB[\n",
    "            np.logical_not(ordersByUsersB['userId'].isin(abnormalUsers))\n",
    "        ]['orders'],\n",
    "        pd.Series(\n",
    "            0,\n",
    "            index=np.arange(\n",
    "                data['visitorsPerDateB'].sum() - len(ordersByUsersB['orders'])\n",
    "            ),\n",
    "            name='orders',\n",
    "        ),\n",
    "    ],\n",
    "    axis=0,\n",
    ")\n",
    "print('p-value: ''{0:.3f}'.format(stats.mannwhitneyu(sampleAFiltered, sampleBFiltered)[1]))\n",
    "print('Разница между группами: ''{0:.3f}'.format(sampleBFiltered.mean()/sampleAFiltered.mean()-1))"
   ]
  },
  {
   "cell_type": "markdown",
   "metadata": {},
   "source": [
    "Результаты по очищенным данным изменились, но не критически. Относительный прирост среднего группы В к группе А равен 14 %. p-value меньше 0,05, значит между средним числом заказов в группах есть статистически значимая разница. Группа В лидирует по числу заказов."
   ]
  },
  {
   "cell_type": "markdown",
   "metadata": {},
   "source": [
    "Проверим разницу по среднему чеку в группах после удвления пользователей с \"аномальными\" заказами.   \n",
    "Проверим гипотезы. Нулевая гипотеза: различий в среднем чеке между группами нет. Альтернативная: различия в среднем чеке между группами есть."
   ]
  },
  {
   "cell_type": "code",
   "execution_count": 47,
   "metadata": {},
   "outputs": [
    {
     "name": "stdout",
     "output_type": "stream",
     "text": [
      "p-value: 0.993\n",
      "Разница между группами: 0.242\n"
     ]
    }
   ],
   "source": [
    "print('p-value: '\n",
    "    '{0:.3f}'.format(\n",
    "        stats.mannwhitneyu(\n",
    "            orders[\n",
    "                np.logical_and(\n",
    "                    orders['group'] == 'A',\n",
    "                    np.logical_not(orders['visitorId'].isin(abnormalUsers)),\n",
    "                )\n",
    "            ]['revenue'],\n",
    "            orders[\n",
    "                np.logical_and(\n",
    "                    orders['group'] == 'B',\n",
    "                    np.logical_not(orders['visitorId'].isin(abnormalUsers)),\n",
    "                )\n",
    "            ]['revenue'],\n",
    "        )[1]\n",
    "    )\n",
    ")\n",
    "\n",
    "print('Разница между группами: '\n",
    "    \"{0:.3f}\".format(\n",
    "        orders[\n",
    "            np.logical_and(\n",
    "                orders['group'] == 'B',\n",
    "                np.logical_not(orders['visitorId'].isin(abnormalUsers)),\n",
    "            )\n",
    "        ]['revenue'].mean()\n",
    "        / orders[\n",
    "            np.logical_and(\n",
    "                orders['group'] == 'A',\n",
    "                np.logical_not(orders['visitorId'].isin(abnormalUsers)),\n",
    "            )\n",
    "        ]['revenue'].mean()\n",
    "        - 1\n",
    "    )\n",
    ")"
   ]
  },
  {
   "cell_type": "markdown",
   "metadata": {},
   "source": [
    "Результаты проверки по среднему чеку тоже практически не изменились. Р-value еще увеличилось, разница в среднем чеке сократилась с 26 до 24 %. При этом P-value стало еще выше 0.05. Значит, причин отвергать нулевую гипотезу и считать, что в среднем чеке есть существенные различия, нет."
   ]
  },
  {
   "cell_type": "markdown",
   "metadata": {},
   "source": [
    "### Решение по результатам теста"
   ]
  },
  {
   "cell_type": "markdown",
   "metadata": {},
   "source": [
    "**Выводы по приоритизации гипотез следующие:**   \n",
    "\n",
    "Для дальнейшей работы с учетом степени охвата аудитории, влияния изменений на пользователей и нашей уверенности в этом влиянии, а также усилий по достижению целей (методики ICE и RICE) следует рассмотреть гипотезы:\n",
    "- Добавить форму подписки на все основные страницы, чтобы собрать базу клиентов для email-рассылок (7); \n",
    "- Добавить два новых канала привлечения трафика, что позволит привлекать на 30% больше пользователей (0);\n",
    "- Показать на главной странице баннеры с актуальными акциями и распродажами, чтобы увеличить конверсию (6).   \n",
    "\n",
    "А также \"Запустить акцию, дающую скидку на товар в день рождения\" (8) и \"Добавить блоки рекомендаций товаров на сайт интернет магазина, чтобы повысить конверсию и средний чек заказа\" (2), если есть на это средства и невелики трудозатраты и материальные вложения.   \n",
    "\n",
    "**Сделаем выводы по проведенному А/В-тесту.**\n",
    "Имеющиеся факты:\n",
    "- есть статистически значимое различие по среднему количеству заказов между группами и по «сырым», и по данным после фильтрации аномалий. Группа В опережает группу А на 17% по очищенным данным;\n",
    "- нет статистически значимого различия по среднему чеку между группами ни по «сырым», ни по данным после фильтрации аномалий. Хотя и здесь средний чек группы В на 23% выше среднего чека группы А;\n",
    "- график кумулятивной выручки по группам сообщает, что результаты группы B стабильно лучше группы A и нет тенденции к изменению;\n",
    "- график различия среднего чека говорит о том, что результаты группы B, хоть и имеют тенденции к ухудшению, все равно выше результатов группы А более, чем на 20%;\n",
    "- график относительного изменения кумулятивного среднего количества заказов на посетителя группы B к группе A и график кумулятивного среднего количества заказов на посетителя по группам также подтверждают преимущество группы В.   \n",
    "\n",
    "\n",
    "**Исходя из обнаруженных фактов, тест следует остановить и признать сегмент В лидером по сравнению с сегментом А.** Продолжать смысла нет, потому как вероятность, что при имеющихся данных сегмента A станет лучше сегмента В, очень мала."
   ]
  }
 ],
 "metadata": {
  "ExecuteTimeLog": [
   {
    "duration": 45,
    "start_time": "2022-12-28T07:58:39.067Z"
   },
   {
    "duration": 423,
    "start_time": "2022-12-28T07:58:46.407Z"
   },
   {
    "duration": 60,
    "start_time": "2022-12-28T07:58:51.574Z"
   },
   {
    "duration": 14,
    "start_time": "2022-12-28T07:58:54.663Z"
   },
   {
    "duration": 422,
    "start_time": "2022-12-28T08:02:23.790Z"
   },
   {
    "duration": 29,
    "start_time": "2022-12-28T08:02:24.215Z"
   },
   {
    "duration": 11,
    "start_time": "2022-12-28T08:02:24.245Z"
   },
   {
    "duration": 50,
    "start_time": "2022-12-28T08:02:24.258Z"
   },
   {
    "duration": 404,
    "start_time": "2022-12-28T08:07:00.803Z"
   },
   {
    "duration": 27,
    "start_time": "2022-12-28T08:07:01.209Z"
   },
   {
    "duration": 9,
    "start_time": "2022-12-28T08:07:01.238Z"
   },
   {
    "duration": 30,
    "start_time": "2022-12-28T08:07:01.249Z"
   },
   {
    "duration": 1473,
    "start_time": "2022-12-28T08:10:02.396Z"
   },
   {
    "duration": 6,
    "start_time": "2022-12-28T08:13:30.916Z"
   },
   {
    "duration": 11,
    "start_time": "2022-12-28T08:13:58.765Z"
   },
   {
    "duration": 5,
    "start_time": "2022-12-28T08:20:42.636Z"
   },
   {
    "duration": 428,
    "start_time": "2022-12-28T08:22:41.598Z"
   },
   {
    "duration": 27,
    "start_time": "2022-12-28T08:22:42.028Z"
   },
   {
    "duration": 13,
    "start_time": "2022-12-28T08:22:42.056Z"
   },
   {
    "duration": 15,
    "start_time": "2022-12-28T08:22:42.070Z"
   },
   {
    "duration": 8,
    "start_time": "2022-12-28T08:22:42.086Z"
   },
   {
    "duration": 13,
    "start_time": "2022-12-28T08:22:42.096Z"
   },
   {
    "duration": 64,
    "start_time": "2022-12-28T08:27:32.762Z"
   },
   {
    "duration": 85,
    "start_time": "2022-12-28T08:27:52.257Z"
   },
   {
    "duration": 10,
    "start_time": "2022-12-28T08:30:00.067Z"
   },
   {
    "duration": 9,
    "start_time": "2022-12-28T08:33:11.577Z"
   },
   {
    "duration": 190,
    "start_time": "2022-12-28T08:51:21.071Z"
   },
   {
    "duration": 431,
    "start_time": "2022-12-28T08:53:59.416Z"
   },
   {
    "duration": 27,
    "start_time": "2022-12-28T08:53:59.849Z"
   },
   {
    "duration": 13,
    "start_time": "2022-12-28T08:53:59.877Z"
   },
   {
    "duration": 10,
    "start_time": "2022-12-28T08:53:59.892Z"
   },
   {
    "duration": 10,
    "start_time": "2022-12-28T08:53:59.903Z"
   },
   {
    "duration": 12,
    "start_time": "2022-12-28T08:53:59.915Z"
   },
   {
    "duration": 18,
    "start_time": "2022-12-28T08:53:59.929Z"
   },
   {
    "duration": 11,
    "start_time": "2022-12-28T08:53:59.949Z"
   },
   {
    "duration": 335,
    "start_time": "2022-12-28T08:53:59.961Z"
   },
   {
    "duration": 0,
    "start_time": "2022-12-28T08:54:00.298Z"
   },
   {
    "duration": 0,
    "start_time": "2022-12-28T08:54:00.299Z"
   },
   {
    "duration": 397,
    "start_time": "2022-12-28T08:55:37.427Z"
   },
   {
    "duration": 29,
    "start_time": "2022-12-28T08:55:37.826Z"
   },
   {
    "duration": 14,
    "start_time": "2022-12-28T08:55:37.857Z"
   },
   {
    "duration": 11,
    "start_time": "2022-12-28T08:55:37.873Z"
   },
   {
    "duration": 10,
    "start_time": "2022-12-28T08:55:37.885Z"
   },
   {
    "duration": 14,
    "start_time": "2022-12-28T08:55:37.897Z"
   },
   {
    "duration": 11,
    "start_time": "2022-12-28T08:55:37.913Z"
   },
   {
    "duration": 11,
    "start_time": "2022-12-28T08:55:37.925Z"
   },
   {
    "duration": 47,
    "start_time": "2022-12-28T08:55:37.938Z"
   },
   {
    "duration": 16,
    "start_time": "2022-12-28T08:55:37.987Z"
   },
   {
    "duration": 6,
    "start_time": "2022-12-28T08:55:38.005Z"
   },
   {
    "duration": 6,
    "start_time": "2022-12-28T09:01:39.175Z"
   },
   {
    "duration": 80,
    "start_time": "2022-12-28T09:02:08.221Z"
   },
   {
    "duration": 167,
    "start_time": "2022-12-28T09:05:29.597Z"
   },
   {
    "duration": 132,
    "start_time": "2022-12-28T09:06:46.532Z"
   },
   {
    "duration": 7,
    "start_time": "2022-12-28T09:07:06.244Z"
   },
   {
    "duration": 5,
    "start_time": "2022-12-28T09:07:22.722Z"
   },
   {
    "duration": 404,
    "start_time": "2022-12-28T09:09:00.494Z"
   },
   {
    "duration": 7,
    "start_time": "2022-12-28T09:09:06.928Z"
   },
   {
    "duration": 4,
    "start_time": "2022-12-28T09:09:09.599Z"
   },
   {
    "duration": 248,
    "start_time": "2022-12-28T09:09:19.623Z"
   },
   {
    "duration": 254,
    "start_time": "2022-12-28T09:09:33.300Z"
   },
   {
    "duration": 258,
    "start_time": "2022-12-28T09:10:10.490Z"
   },
   {
    "duration": 299,
    "start_time": "2022-12-28T09:12:00.433Z"
   },
   {
    "duration": 245,
    "start_time": "2022-12-28T09:12:11.851Z"
   },
   {
    "duration": 158,
    "start_time": "2022-12-28T09:13:06.645Z"
   },
   {
    "duration": 252,
    "start_time": "2022-12-28T09:13:26.725Z"
   },
   {
    "duration": 274,
    "start_time": "2022-12-28T09:22:55.051Z"
   },
   {
    "duration": 356,
    "start_time": "2022-12-28T09:23:03.843Z"
   },
   {
    "duration": 262,
    "start_time": "2022-12-28T09:23:56.802Z"
   },
   {
    "duration": 389,
    "start_time": "2022-12-28T09:24:12.798Z"
   },
   {
    "duration": 276,
    "start_time": "2022-12-28T09:24:32.092Z"
   },
   {
    "duration": 248,
    "start_time": "2022-12-28T09:24:52.770Z"
   },
   {
    "duration": 360,
    "start_time": "2022-12-28T09:26:04.946Z"
   },
   {
    "duration": 320,
    "start_time": "2022-12-28T09:26:16.441Z"
   },
   {
    "duration": 259,
    "start_time": "2022-12-28T09:26:57.105Z"
   },
   {
    "duration": 366,
    "start_time": "2022-12-28T09:29:48.761Z"
   },
   {
    "duration": 356,
    "start_time": "2022-12-28T09:33:25.329Z"
   },
   {
    "duration": 116,
    "start_time": "2022-12-28T09:34:27.433Z"
   },
   {
    "duration": 260,
    "start_time": "2022-12-28T09:34:55.618Z"
   },
   {
    "duration": 312,
    "start_time": "2022-12-28T09:36:21.176Z"
   },
   {
    "duration": 299,
    "start_time": "2022-12-28T09:37:38.264Z"
   },
   {
    "duration": 415,
    "start_time": "2022-12-28T09:37:52.202Z"
   },
   {
    "duration": 314,
    "start_time": "2022-12-28T09:38:04.864Z"
   },
   {
    "duration": 318,
    "start_time": "2022-12-28T09:38:51.220Z"
   },
   {
    "duration": 281,
    "start_time": "2022-12-28T11:59:32.005Z"
   },
   {
    "duration": 327,
    "start_time": "2022-12-28T12:00:09.800Z"
   },
   {
    "duration": 341,
    "start_time": "2022-12-28T12:00:41.373Z"
   },
   {
    "duration": 9,
    "start_time": "2022-12-28T12:06:50.307Z"
   },
   {
    "duration": 405,
    "start_time": "2022-12-28T12:07:09.512Z"
   },
   {
    "duration": 397,
    "start_time": "2022-12-28T12:07:32.618Z"
   },
   {
    "duration": 468,
    "start_time": "2022-12-28T12:07:59.665Z"
   },
   {
    "duration": 509,
    "start_time": "2022-12-28T12:08:12.770Z"
   },
   {
    "duration": 495,
    "start_time": "2022-12-28T12:08:42.546Z"
   },
   {
    "duration": 535,
    "start_time": "2022-12-28T12:10:31.265Z"
   },
   {
    "duration": 5,
    "start_time": "2022-12-28T12:16:24.033Z"
   },
   {
    "duration": 151,
    "start_time": "2022-12-28T12:16:37.654Z"
   },
   {
    "duration": 18,
    "start_time": "2022-12-28T12:18:10.143Z"
   },
   {
    "duration": 15,
    "start_time": "2022-12-28T12:18:17.750Z"
   },
   {
    "duration": 15,
    "start_time": "2022-12-28T12:18:39.838Z"
   },
   {
    "duration": 17,
    "start_time": "2022-12-28T12:25:55.964Z"
   },
   {
    "duration": 18,
    "start_time": "2022-12-28T12:26:05.276Z"
   },
   {
    "duration": 709,
    "start_time": "2022-12-28T12:28:20.915Z"
   },
   {
    "duration": 368,
    "start_time": "2022-12-28T12:28:37.070Z"
   },
   {
    "duration": 27,
    "start_time": "2022-12-28T12:28:37.440Z"
   },
   {
    "duration": 17,
    "start_time": "2022-12-28T12:28:37.469Z"
   },
   {
    "duration": 25,
    "start_time": "2022-12-28T12:28:37.488Z"
   },
   {
    "duration": 28,
    "start_time": "2022-12-28T12:28:37.515Z"
   },
   {
    "duration": 33,
    "start_time": "2022-12-28T12:28:37.545Z"
   },
   {
    "duration": 29,
    "start_time": "2022-12-28T12:28:37.580Z"
   },
   {
    "duration": 26,
    "start_time": "2022-12-28T12:28:37.611Z"
   },
   {
    "duration": 50,
    "start_time": "2022-12-28T12:28:37.638Z"
   },
   {
    "duration": 16,
    "start_time": "2022-12-28T12:28:37.692Z"
   },
   {
    "duration": 17,
    "start_time": "2022-12-28T12:28:37.709Z"
   },
   {
    "duration": 40,
    "start_time": "2022-12-28T12:28:37.728Z"
   },
   {
    "duration": 780,
    "start_time": "2022-12-28T12:28:37.769Z"
   },
   {
    "duration": 0,
    "start_time": "2022-12-28T12:28:38.550Z"
   },
   {
    "duration": 0,
    "start_time": "2022-12-28T12:28:38.551Z"
   },
   {
    "duration": 0,
    "start_time": "2022-12-28T12:28:38.552Z"
   },
   {
    "duration": 0,
    "start_time": "2022-12-28T12:28:38.554Z"
   },
   {
    "duration": 0,
    "start_time": "2022-12-28T12:28:38.555Z"
   },
   {
    "duration": 0,
    "start_time": "2022-12-28T12:28:38.556Z"
   },
   {
    "duration": 0,
    "start_time": "2022-12-28T12:28:38.557Z"
   },
   {
    "duration": 0,
    "start_time": "2022-12-28T12:28:38.559Z"
   },
   {
    "duration": 0,
    "start_time": "2022-12-28T12:28:38.559Z"
   },
   {
    "duration": 0,
    "start_time": "2022-12-28T12:28:38.560Z"
   },
   {
    "duration": 0,
    "start_time": "2022-12-28T12:28:38.561Z"
   },
   {
    "duration": 0,
    "start_time": "2022-12-28T12:28:38.562Z"
   },
   {
    "duration": 0,
    "start_time": "2022-12-28T12:28:38.563Z"
   },
   {
    "duration": 0,
    "start_time": "2022-12-28T12:28:38.564Z"
   },
   {
    "duration": 689,
    "start_time": "2022-12-28T12:29:11.162Z"
   },
   {
    "duration": 8,
    "start_time": "2022-12-28T12:30:03.875Z"
   },
   {
    "duration": 7,
    "start_time": "2022-12-28T12:30:43.642Z"
   },
   {
    "duration": 397,
    "start_time": "2022-12-28T12:31:01.058Z"
   },
   {
    "duration": 27,
    "start_time": "2022-12-28T12:31:01.458Z"
   },
   {
    "duration": 48,
    "start_time": "2022-12-28T12:31:01.487Z"
   },
   {
    "duration": 45,
    "start_time": "2022-12-28T12:31:01.538Z"
   },
   {
    "duration": 40,
    "start_time": "2022-12-28T12:31:01.585Z"
   },
   {
    "duration": 32,
    "start_time": "2022-12-28T12:31:01.628Z"
   },
   {
    "duration": 28,
    "start_time": "2022-12-28T12:31:01.662Z"
   },
   {
    "duration": 29,
    "start_time": "2022-12-28T12:31:01.692Z"
   },
   {
    "duration": 60,
    "start_time": "2022-12-28T12:31:01.724Z"
   },
   {
    "duration": 17,
    "start_time": "2022-12-28T12:31:01.789Z"
   },
   {
    "duration": 23,
    "start_time": "2022-12-28T12:31:01.809Z"
   },
   {
    "duration": 85,
    "start_time": "2022-12-28T12:31:01.834Z"
   },
   {
    "duration": 32,
    "start_time": "2022-12-28T12:31:01.921Z"
   },
   {
    "duration": 79,
    "start_time": "2022-12-28T12:31:01.955Z"
   },
   {
    "duration": 79,
    "start_time": "2022-12-28T12:31:02.036Z"
   },
   {
    "duration": 211,
    "start_time": "2022-12-28T12:31:02.118Z"
   },
   {
    "duration": 132,
    "start_time": "2022-12-28T12:31:02.330Z"
   },
   {
    "duration": 8,
    "start_time": "2022-12-28T12:31:02.464Z"
   },
   {
    "duration": 11,
    "start_time": "2022-12-28T12:31:02.474Z"
   },
   {
    "duration": 243,
    "start_time": "2022-12-28T12:31:02.486Z"
   },
   {
    "duration": 6,
    "start_time": "2022-12-28T12:31:02.730Z"
   },
   {
    "duration": 23,
    "start_time": "2022-12-28T12:31:02.737Z"
   },
   {
    "duration": 338,
    "start_time": "2022-12-28T12:31:02.762Z"
   },
   {
    "duration": 251,
    "start_time": "2022-12-28T12:31:03.102Z"
   },
   {
    "duration": 6,
    "start_time": "2022-12-28T12:31:03.356Z"
   },
   {
    "duration": 388,
    "start_time": "2022-12-28T12:31:03.364Z"
   },
   {
    "duration": 6,
    "start_time": "2022-12-28T12:31:03.753Z"
   },
   {
    "duration": 357,
    "start_time": "2022-12-28T12:31:03.762Z"
   },
   {
    "duration": 197,
    "start_time": "2022-12-28T12:35:11.714Z"
   },
   {
    "duration": 48,
    "start_time": "2022-12-28T12:39:01.009Z"
   },
   {
    "duration": 45,
    "start_time": "2022-12-28T12:39:20.353Z"
   },
   {
    "duration": 201,
    "start_time": "2022-12-28T12:39:36.846Z"
   },
   {
    "duration": 394,
    "start_time": "2022-12-28T12:39:50.039Z"
   },
   {
    "duration": 28,
    "start_time": "2022-12-28T12:39:50.435Z"
   },
   {
    "duration": 16,
    "start_time": "2022-12-28T12:39:50.465Z"
   },
   {
    "duration": 12,
    "start_time": "2022-12-28T12:39:50.483Z"
   },
   {
    "duration": 12,
    "start_time": "2022-12-28T12:39:50.497Z"
   },
   {
    "duration": 14,
    "start_time": "2022-12-28T12:39:50.511Z"
   },
   {
    "duration": 8,
    "start_time": "2022-12-28T12:39:50.527Z"
   },
   {
    "duration": 9,
    "start_time": "2022-12-28T12:39:50.537Z"
   },
   {
    "duration": 49,
    "start_time": "2022-12-28T12:39:50.548Z"
   },
   {
    "duration": 16,
    "start_time": "2022-12-28T12:39:50.600Z"
   },
   {
    "duration": 6,
    "start_time": "2022-12-28T12:39:50.618Z"
   },
   {
    "duration": 23,
    "start_time": "2022-12-28T12:39:50.626Z"
   },
   {
    "duration": 19,
    "start_time": "2022-12-28T12:39:50.651Z"
   },
   {
    "duration": 17,
    "start_time": "2022-12-28T12:39:50.671Z"
   },
   {
    "duration": 15,
    "start_time": "2022-12-28T12:39:50.690Z"
   },
   {
    "duration": 181,
    "start_time": "2022-12-28T12:39:50.707Z"
   },
   {
    "duration": 144,
    "start_time": "2022-12-28T12:39:50.890Z"
   },
   {
    "duration": 7,
    "start_time": "2022-12-28T12:39:51.036Z"
   },
   {
    "duration": 20,
    "start_time": "2022-12-28T12:39:51.044Z"
   },
   {
    "duration": 261,
    "start_time": "2022-12-28T12:39:51.066Z"
   },
   {
    "duration": 5,
    "start_time": "2022-12-28T12:39:51.329Z"
   },
   {
    "duration": 12,
    "start_time": "2022-12-28T12:39:51.336Z"
   },
   {
    "duration": 356,
    "start_time": "2022-12-28T12:39:51.350Z"
   },
   {
    "duration": 252,
    "start_time": "2022-12-28T12:39:51.707Z"
   },
   {
    "duration": 7,
    "start_time": "2022-12-28T12:39:51.961Z"
   },
   {
    "duration": 383,
    "start_time": "2022-12-28T12:39:51.969Z"
   },
   {
    "duration": 7,
    "start_time": "2022-12-28T12:39:52.355Z"
   },
   {
    "duration": 346,
    "start_time": "2022-12-28T12:39:52.366Z"
   },
   {
    "duration": 6,
    "start_time": "2022-12-28T12:44:45.069Z"
   },
   {
    "duration": 7,
    "start_time": "2022-12-28T12:46:38.460Z"
   },
   {
    "duration": 6,
    "start_time": "2022-12-28T12:46:50.157Z"
   },
   {
    "duration": 195,
    "start_time": "2022-12-28T13:33:21.145Z"
   },
   {
    "duration": 209,
    "start_time": "2022-12-28T13:33:55.103Z"
   },
   {
    "duration": 216,
    "start_time": "2022-12-28T13:34:29.931Z"
   },
   {
    "duration": 276,
    "start_time": "2022-12-28T13:35:42.273Z"
   },
   {
    "duration": 237,
    "start_time": "2022-12-28T13:38:05.633Z"
   },
   {
    "duration": 399,
    "start_time": "2022-12-28T13:38:29.727Z"
   },
   {
    "duration": 27,
    "start_time": "2022-12-28T13:38:30.128Z"
   },
   {
    "duration": 17,
    "start_time": "2022-12-28T13:38:30.157Z"
   },
   {
    "duration": 16,
    "start_time": "2022-12-28T13:38:30.176Z"
   },
   {
    "duration": 20,
    "start_time": "2022-12-28T13:38:30.194Z"
   },
   {
    "duration": 30,
    "start_time": "2022-12-28T13:38:30.215Z"
   },
   {
    "duration": 19,
    "start_time": "2022-12-28T13:38:30.247Z"
   },
   {
    "duration": 25,
    "start_time": "2022-12-28T13:38:30.268Z"
   },
   {
    "duration": 13,
    "start_time": "2022-12-28T13:38:30.295Z"
   },
   {
    "duration": 44,
    "start_time": "2022-12-28T13:38:30.313Z"
   },
   {
    "duration": 16,
    "start_time": "2022-12-28T13:38:30.358Z"
   },
   {
    "duration": 8,
    "start_time": "2022-12-28T13:38:30.376Z"
   },
   {
    "duration": 32,
    "start_time": "2022-12-28T13:38:30.386Z"
   },
   {
    "duration": 17,
    "start_time": "2022-12-28T13:38:30.420Z"
   },
   {
    "duration": 269,
    "start_time": "2022-12-28T13:38:30.438Z"
   },
   {
    "duration": 0,
    "start_time": "2022-12-28T13:38:30.708Z"
   },
   {
    "duration": 0,
    "start_time": "2022-12-28T13:38:30.710Z"
   },
   {
    "duration": 0,
    "start_time": "2022-12-28T13:38:30.711Z"
   },
   {
    "duration": 0,
    "start_time": "2022-12-28T13:38:30.713Z"
   },
   {
    "duration": 0,
    "start_time": "2022-12-28T13:38:30.713Z"
   },
   {
    "duration": 0,
    "start_time": "2022-12-28T13:38:30.715Z"
   },
   {
    "duration": 0,
    "start_time": "2022-12-28T13:38:30.716Z"
   },
   {
    "duration": 0,
    "start_time": "2022-12-28T13:38:30.717Z"
   },
   {
    "duration": 0,
    "start_time": "2022-12-28T13:38:30.718Z"
   },
   {
    "duration": 0,
    "start_time": "2022-12-28T13:38:30.719Z"
   },
   {
    "duration": 0,
    "start_time": "2022-12-28T13:38:30.720Z"
   },
   {
    "duration": 0,
    "start_time": "2022-12-28T13:38:30.722Z"
   },
   {
    "duration": 0,
    "start_time": "2022-12-28T13:38:30.723Z"
   },
   {
    "duration": 0,
    "start_time": "2022-12-28T13:38:30.724Z"
   },
   {
    "duration": 0,
    "start_time": "2022-12-28T13:38:30.725Z"
   },
   {
    "duration": 0,
    "start_time": "2022-12-28T13:38:30.726Z"
   },
   {
    "duration": 225,
    "start_time": "2022-12-28T13:39:02.478Z"
   },
   {
    "duration": 6,
    "start_time": "2022-12-28T13:39:26.240Z"
   },
   {
    "duration": 420,
    "start_time": "2022-12-28T13:39:52.643Z"
   },
   {
    "duration": 28,
    "start_time": "2022-12-28T13:39:53.064Z"
   },
   {
    "duration": 21,
    "start_time": "2022-12-28T13:39:53.095Z"
   },
   {
    "duration": 15,
    "start_time": "2022-12-28T13:39:53.118Z"
   },
   {
    "duration": 7,
    "start_time": "2022-12-28T13:39:53.135Z"
   },
   {
    "duration": 11,
    "start_time": "2022-12-28T13:39:53.143Z"
   },
   {
    "duration": 12,
    "start_time": "2022-12-28T13:39:53.156Z"
   },
   {
    "duration": 11,
    "start_time": "2022-12-28T13:39:53.170Z"
   },
   {
    "duration": 30,
    "start_time": "2022-12-28T13:39:53.183Z"
   },
   {
    "duration": 51,
    "start_time": "2022-12-28T13:39:53.218Z"
   },
   {
    "duration": 17,
    "start_time": "2022-12-28T13:39:53.271Z"
   },
   {
    "duration": 7,
    "start_time": "2022-12-28T13:39:53.290Z"
   },
   {
    "duration": 22,
    "start_time": "2022-12-28T13:39:53.299Z"
   },
   {
    "duration": 13,
    "start_time": "2022-12-28T13:39:53.323Z"
   },
   {
    "duration": 10,
    "start_time": "2022-12-28T13:39:53.338Z"
   },
   {
    "duration": 8,
    "start_time": "2022-12-28T13:39:53.350Z"
   },
   {
    "duration": 6,
    "start_time": "2022-12-28T13:39:53.360Z"
   },
   {
    "duration": 9,
    "start_time": "2022-12-28T13:39:53.368Z"
   },
   {
    "duration": 198,
    "start_time": "2022-12-28T13:39:53.379Z"
   },
   {
    "duration": 148,
    "start_time": "2022-12-28T13:39:53.579Z"
   },
   {
    "duration": 8,
    "start_time": "2022-12-28T13:39:53.729Z"
   },
   {
    "duration": 13,
    "start_time": "2022-12-28T13:39:53.739Z"
   },
   {
    "duration": 246,
    "start_time": "2022-12-28T13:39:53.754Z"
   },
   {
    "duration": 5,
    "start_time": "2022-12-28T13:39:54.002Z"
   },
   {
    "duration": 6,
    "start_time": "2022-12-28T13:39:54.012Z"
   },
   {
    "duration": 359,
    "start_time": "2022-12-28T13:39:54.019Z"
   },
   {
    "duration": 247,
    "start_time": "2022-12-28T13:39:54.380Z"
   },
   {
    "duration": 7,
    "start_time": "2022-12-28T13:39:54.631Z"
   },
   {
    "duration": 333,
    "start_time": "2022-12-28T13:39:54.640Z"
   },
   {
    "duration": 6,
    "start_time": "2022-12-28T13:39:54.975Z"
   },
   {
    "duration": 404,
    "start_time": "2022-12-28T13:39:54.983Z"
   },
   {
    "duration": 250,
    "start_time": "2022-12-28T13:42:19.941Z"
   },
   {
    "duration": 213,
    "start_time": "2022-12-28T13:43:22.409Z"
   },
   {
    "duration": 210,
    "start_time": "2022-12-28T13:43:45.407Z"
   },
   {
    "duration": 240,
    "start_time": "2022-12-28T13:44:54.608Z"
   },
   {
    "duration": 238,
    "start_time": "2022-12-28T13:47:05.419Z"
   },
   {
    "duration": 23,
    "start_time": "2022-12-28T13:50:17.659Z"
   },
   {
    "duration": 20,
    "start_time": "2022-12-28T13:51:09.309Z"
   },
   {
    "duration": 14,
    "start_time": "2022-12-28T13:51:37.891Z"
   },
   {
    "duration": 28,
    "start_time": "2022-12-28T13:52:06.403Z"
   },
   {
    "duration": 469,
    "start_time": "2022-12-28T13:59:43.713Z"
   },
   {
    "duration": 15,
    "start_time": "2022-12-28T14:00:17.477Z"
   },
   {
    "duration": 450,
    "start_time": "2022-12-28T14:00:56.991Z"
   },
   {
    "duration": 287,
    "start_time": "2022-12-28T14:01:17.136Z"
   },
   {
    "duration": 322,
    "start_time": "2022-12-28T14:01:28.112Z"
   },
   {
    "duration": 322,
    "start_time": "2022-12-28T14:01:39.104Z"
   },
   {
    "duration": 424,
    "start_time": "2022-12-28T14:02:12.903Z"
   },
   {
    "duration": 348,
    "start_time": "2022-12-28T14:02:23.272Z"
   },
   {
    "duration": 406,
    "start_time": "2022-12-28T14:05:14.785Z"
   },
   {
    "duration": 385,
    "start_time": "2022-12-28T14:05:25.492Z"
   },
   {
    "duration": 378,
    "start_time": "2022-12-28T14:05:34.455Z"
   },
   {
    "duration": 319,
    "start_time": "2022-12-28T14:05:55.863Z"
   },
   {
    "duration": 428,
    "start_time": "2022-12-28T14:07:31.848Z"
   },
   {
    "duration": 410,
    "start_time": "2022-12-28T14:07:49.441Z"
   },
   {
    "duration": 344,
    "start_time": "2022-12-28T14:08:15.142Z"
   },
   {
    "duration": 346,
    "start_time": "2022-12-28T14:08:58.910Z"
   },
   {
    "duration": 463,
    "start_time": "2022-12-28T14:13:42.461Z"
   },
   {
    "duration": 545,
    "start_time": "2022-12-28T14:14:16.108Z"
   },
   {
    "duration": 507,
    "start_time": "2022-12-28T14:14:32.516Z"
   },
   {
    "duration": 470,
    "start_time": "2022-12-28T14:14:53.300Z"
   },
   {
    "duration": 145,
    "start_time": "2022-12-28T14:21:23.107Z"
   },
   {
    "duration": 172,
    "start_time": "2022-12-28T14:21:54.686Z"
   },
   {
    "duration": 168,
    "start_time": "2022-12-28T14:23:03.659Z"
   },
   {
    "duration": 19,
    "start_time": "2022-12-28T14:33:56.048Z"
   },
   {
    "duration": 147,
    "start_time": "2022-12-28T14:34:12.688Z"
   },
   {
    "duration": 5,
    "start_time": "2022-12-28T14:40:00.586Z"
   },
   {
    "duration": 166,
    "start_time": "2022-12-28T14:48:51.837Z"
   },
   {
    "duration": 165,
    "start_time": "2022-12-28T14:52:43.547Z"
   },
   {
    "duration": 6,
    "start_time": "2022-12-28T14:57:56.707Z"
   },
   {
    "duration": 16,
    "start_time": "2022-12-29T07:11:00.025Z"
   },
   {
    "duration": 24,
    "start_time": "2022-12-29T07:11:40.302Z"
   },
   {
    "duration": 1201,
    "start_time": "2022-12-29T07:14:09.925Z"
   },
   {
    "duration": 103,
    "start_time": "2022-12-29T07:19:01.091Z"
   },
   {
    "duration": 115,
    "start_time": "2022-12-29T07:21:05.410Z"
   },
   {
    "duration": 230,
    "start_time": "2022-12-29T07:21:51.188Z"
   },
   {
    "duration": 188,
    "start_time": "2022-12-29T07:21:54.234Z"
   },
   {
    "duration": 481,
    "start_time": "2022-12-29T07:22:51.162Z"
   },
   {
    "duration": 229,
    "start_time": "2022-12-29T07:22:55.872Z"
   },
   {
    "duration": 149,
    "start_time": "2022-12-29T07:22:58.809Z"
   },
   {
    "duration": 155,
    "start_time": "2022-12-29T07:23:21.330Z"
   },
   {
    "duration": 149,
    "start_time": "2022-12-29T07:24:57.724Z"
   },
   {
    "duration": 173,
    "start_time": "2022-12-29T07:30:46.185Z"
   },
   {
    "duration": 228,
    "start_time": "2022-12-29T07:31:16.784Z"
   },
   {
    "duration": 176,
    "start_time": "2022-12-29T07:33:14.168Z"
   },
   {
    "duration": 3,
    "start_time": "2022-12-29T07:33:41.975Z"
   },
   {
    "duration": 223,
    "start_time": "2022-12-29T07:33:46.775Z"
   },
   {
    "duration": 183,
    "start_time": "2022-12-29T07:33:49.903Z"
   },
   {
    "duration": 170,
    "start_time": "2022-12-29T07:34:47.751Z"
   },
   {
    "duration": 370,
    "start_time": "2023-01-06T09:45:34.854Z"
   },
   {
    "duration": 59,
    "start_time": "2023-01-06T09:45:35.226Z"
   },
   {
    "duration": 16,
    "start_time": "2023-01-06T09:45:35.287Z"
   },
   {
    "duration": 19,
    "start_time": "2023-01-06T09:45:35.305Z"
   },
   {
    "duration": 25,
    "start_time": "2023-01-06T09:45:35.326Z"
   },
   {
    "duration": 35,
    "start_time": "2023-01-06T09:45:35.353Z"
   },
   {
    "duration": 9,
    "start_time": "2023-01-06T09:45:35.391Z"
   },
   {
    "duration": 6,
    "start_time": "2023-01-06T09:45:35.401Z"
   },
   {
    "duration": 94,
    "start_time": "2023-01-06T09:45:35.409Z"
   },
   {
    "duration": 51,
    "start_time": "2023-01-06T09:45:35.507Z"
   },
   {
    "duration": 7,
    "start_time": "2023-01-06T09:45:35.560Z"
   },
   {
    "duration": 20,
    "start_time": "2023-01-06T09:45:35.568Z"
   },
   {
    "duration": 11,
    "start_time": "2023-01-06T09:45:35.590Z"
   },
   {
    "duration": 10,
    "start_time": "2023-01-06T09:45:35.603Z"
   },
   {
    "duration": 9,
    "start_time": "2023-01-06T09:45:35.614Z"
   },
   {
    "duration": 11,
    "start_time": "2023-01-06T09:45:35.624Z"
   },
   {
    "duration": 17,
    "start_time": "2023-01-06T09:45:35.637Z"
   },
   {
    "duration": 11,
    "start_time": "2023-01-06T09:45:35.655Z"
   },
   {
    "duration": 10,
    "start_time": "2023-01-06T09:45:35.667Z"
   },
   {
    "duration": 167,
    "start_time": "2023-01-06T09:45:35.679Z"
   },
   {
    "duration": 117,
    "start_time": "2023-01-06T09:45:35.847Z"
   },
   {
    "duration": 6,
    "start_time": "2023-01-06T09:45:35.966Z"
   },
   {
    "duration": 15,
    "start_time": "2023-01-06T09:45:35.974Z"
   },
   {
    "duration": 357,
    "start_time": "2023-01-06T09:45:35.990Z"
   },
   {
    "duration": 6,
    "start_time": "2023-01-06T09:45:36.349Z"
   },
   {
    "duration": 10,
    "start_time": "2023-01-06T09:45:36.356Z"
   },
   {
    "duration": 328,
    "start_time": "2023-01-06T09:45:36.368Z"
   },
   {
    "duration": 238,
    "start_time": "2023-01-06T09:45:36.699Z"
   },
   {
    "duration": 7,
    "start_time": "2023-01-06T09:45:36.938Z"
   },
   {
    "duration": 406,
    "start_time": "2023-01-06T09:45:36.947Z"
   },
   {
    "duration": 6,
    "start_time": "2023-01-06T09:45:37.354Z"
   },
   {
    "duration": 307,
    "start_time": "2023-01-06T09:45:37.362Z"
   },
   {
    "duration": 9,
    "start_time": "2023-01-06T09:45:37.671Z"
   },
   {
    "duration": 347,
    "start_time": "2023-01-06T09:45:37.682Z"
   },
   {
    "duration": 139,
    "start_time": "2023-01-06T09:45:38.031Z"
   },
   {
    "duration": 4,
    "start_time": "2023-01-06T09:45:38.172Z"
   },
   {
    "duration": 160,
    "start_time": "2023-01-06T09:45:38.177Z"
   },
   {
    "duration": 4,
    "start_time": "2023-01-06T09:45:38.339Z"
   },
   {
    "duration": 401,
    "start_time": "2023-01-06T09:45:38.344Z"
   },
   {
    "duration": 236,
    "start_time": "2023-01-06T09:45:38.747Z"
   },
   {
    "duration": 155,
    "start_time": "2023-01-06T09:45:38.985Z"
   },
   {
    "duration": 900,
    "start_time": "2023-01-06T09:47:29.861Z"
   },
   {
    "duration": 360,
    "start_time": "2023-01-06T09:47:37.258Z"
   },
   {
    "duration": 27,
    "start_time": "2023-01-06T09:47:37.620Z"
   },
   {
    "duration": 14,
    "start_time": "2023-01-06T09:47:37.648Z"
   },
   {
    "duration": 9,
    "start_time": "2023-01-06T09:47:37.664Z"
   },
   {
    "duration": 5,
    "start_time": "2023-01-06T09:47:37.675Z"
   },
   {
    "duration": 15,
    "start_time": "2023-01-06T09:47:37.682Z"
   },
   {
    "duration": 8,
    "start_time": "2023-01-06T09:47:37.698Z"
   },
   {
    "duration": 5,
    "start_time": "2023-01-06T09:47:37.708Z"
   },
   {
    "duration": 35,
    "start_time": "2023-01-06T09:47:37.720Z"
   },
   {
    "duration": 14,
    "start_time": "2023-01-06T09:47:37.758Z"
   },
   {
    "duration": 7,
    "start_time": "2023-01-06T09:47:37.773Z"
   },
   {
    "duration": 15,
    "start_time": "2023-01-06T09:47:37.782Z"
   },
   {
    "duration": 14,
    "start_time": "2023-01-06T09:47:37.798Z"
   },
   {
    "duration": 9,
    "start_time": "2023-01-06T09:47:37.813Z"
   },
   {
    "duration": 794,
    "start_time": "2023-01-06T09:47:37.823Z"
   },
   {
    "duration": 0,
    "start_time": "2023-01-06T09:47:38.620Z"
   },
   {
    "duration": 0,
    "start_time": "2023-01-06T09:47:38.621Z"
   },
   {
    "duration": 0,
    "start_time": "2023-01-06T09:47:38.623Z"
   },
   {
    "duration": 1,
    "start_time": "2023-01-06T09:47:38.624Z"
   },
   {
    "duration": 0,
    "start_time": "2023-01-06T09:47:38.626Z"
   },
   {
    "duration": 0,
    "start_time": "2023-01-06T09:47:38.627Z"
   },
   {
    "duration": 0,
    "start_time": "2023-01-06T09:47:38.629Z"
   },
   {
    "duration": 0,
    "start_time": "2023-01-06T09:47:38.631Z"
   },
   {
    "duration": 0,
    "start_time": "2023-01-06T09:47:38.632Z"
   },
   {
    "duration": 0,
    "start_time": "2023-01-06T09:47:38.633Z"
   },
   {
    "duration": 0,
    "start_time": "2023-01-06T09:47:38.635Z"
   },
   {
    "duration": 0,
    "start_time": "2023-01-06T09:47:38.636Z"
   },
   {
    "duration": 0,
    "start_time": "2023-01-06T09:47:38.638Z"
   },
   {
    "duration": 0,
    "start_time": "2023-01-06T09:47:38.639Z"
   },
   {
    "duration": 0,
    "start_time": "2023-01-06T09:47:38.640Z"
   },
   {
    "duration": 0,
    "start_time": "2023-01-06T09:47:38.642Z"
   },
   {
    "duration": 0,
    "start_time": "2023-01-06T09:47:38.643Z"
   },
   {
    "duration": 0,
    "start_time": "2023-01-06T09:47:38.646Z"
   },
   {
    "duration": 0,
    "start_time": "2023-01-06T09:47:38.647Z"
   },
   {
    "duration": 0,
    "start_time": "2023-01-06T09:47:38.649Z"
   },
   {
    "duration": 0,
    "start_time": "2023-01-06T09:47:38.649Z"
   },
   {
    "duration": 0,
    "start_time": "2023-01-06T09:47:38.650Z"
   },
   {
    "duration": 0,
    "start_time": "2023-01-06T09:47:38.651Z"
   },
   {
    "duration": 0,
    "start_time": "2023-01-06T09:47:38.652Z"
   },
   {
    "duration": 0,
    "start_time": "2023-01-06T09:47:38.653Z"
   },
   {
    "duration": 0,
    "start_time": "2023-01-06T09:47:38.654Z"
   },
   {
    "duration": 687,
    "start_time": "2023-01-06T09:47:59.418Z"
   },
   {
    "duration": 354,
    "start_time": "2023-01-06T09:48:10.876Z"
   },
   {
    "duration": 26,
    "start_time": "2023-01-06T09:48:11.232Z"
   },
   {
    "duration": 13,
    "start_time": "2023-01-06T09:48:11.260Z"
   },
   {
    "duration": 12,
    "start_time": "2023-01-06T09:48:11.275Z"
   },
   {
    "duration": 15,
    "start_time": "2023-01-06T09:48:11.289Z"
   },
   {
    "duration": 16,
    "start_time": "2023-01-06T09:48:11.306Z"
   },
   {
    "duration": 8,
    "start_time": "2023-01-06T09:48:11.324Z"
   },
   {
    "duration": 20,
    "start_time": "2023-01-06T09:48:11.334Z"
   },
   {
    "duration": 55,
    "start_time": "2023-01-06T09:48:11.355Z"
   },
   {
    "duration": 15,
    "start_time": "2023-01-06T09:48:11.412Z"
   },
   {
    "duration": 6,
    "start_time": "2023-01-06T09:48:11.429Z"
   },
   {
    "duration": 26,
    "start_time": "2023-01-06T09:48:11.437Z"
   },
   {
    "duration": 18,
    "start_time": "2023-01-06T09:48:11.465Z"
   },
   {
    "duration": 12,
    "start_time": "2023-01-06T09:48:11.486Z"
   },
   {
    "duration": 792,
    "start_time": "2023-01-06T09:48:11.499Z"
   },
   {
    "duration": 0,
    "start_time": "2023-01-06T09:48:12.292Z"
   },
   {
    "duration": 0,
    "start_time": "2023-01-06T09:48:12.293Z"
   },
   {
    "duration": 0,
    "start_time": "2023-01-06T09:48:12.295Z"
   },
   {
    "duration": 0,
    "start_time": "2023-01-06T09:48:12.296Z"
   },
   {
    "duration": 0,
    "start_time": "2023-01-06T09:48:12.297Z"
   },
   {
    "duration": 0,
    "start_time": "2023-01-06T09:48:12.298Z"
   },
   {
    "duration": 0,
    "start_time": "2023-01-06T09:48:12.299Z"
   },
   {
    "duration": 0,
    "start_time": "2023-01-06T09:48:12.300Z"
   },
   {
    "duration": 0,
    "start_time": "2023-01-06T09:48:12.301Z"
   },
   {
    "duration": 0,
    "start_time": "2023-01-06T09:48:12.302Z"
   },
   {
    "duration": 0,
    "start_time": "2023-01-06T09:48:12.303Z"
   },
   {
    "duration": 0,
    "start_time": "2023-01-06T09:48:12.305Z"
   },
   {
    "duration": 0,
    "start_time": "2023-01-06T09:48:12.306Z"
   },
   {
    "duration": 0,
    "start_time": "2023-01-06T09:48:12.307Z"
   },
   {
    "duration": 0,
    "start_time": "2023-01-06T09:48:12.308Z"
   },
   {
    "duration": 0,
    "start_time": "2023-01-06T09:48:12.309Z"
   },
   {
    "duration": 0,
    "start_time": "2023-01-06T09:48:12.310Z"
   },
   {
    "duration": 0,
    "start_time": "2023-01-06T09:48:12.311Z"
   },
   {
    "duration": 0,
    "start_time": "2023-01-06T09:48:12.312Z"
   },
   {
    "duration": 0,
    "start_time": "2023-01-06T09:48:12.313Z"
   },
   {
    "duration": 0,
    "start_time": "2023-01-06T09:48:12.315Z"
   },
   {
    "duration": 0,
    "start_time": "2023-01-06T09:48:12.316Z"
   },
   {
    "duration": 0,
    "start_time": "2023-01-06T09:48:12.323Z"
   },
   {
    "duration": 0,
    "start_time": "2023-01-06T09:48:12.324Z"
   },
   {
    "duration": 0,
    "start_time": "2023-01-06T09:48:12.325Z"
   },
   {
    "duration": 0,
    "start_time": "2023-01-06T09:48:12.326Z"
   },
   {
    "duration": 5,
    "start_time": "2023-01-06T09:48:54.106Z"
   },
   {
    "duration": 4,
    "start_time": "2023-01-06T09:49:05.568Z"
   },
   {
    "duration": 7,
    "start_time": "2023-01-06T09:49:37.016Z"
   },
   {
    "duration": 369,
    "start_time": "2023-01-06T09:50:08.152Z"
   },
   {
    "duration": 27,
    "start_time": "2023-01-06T09:50:08.523Z"
   },
   {
    "duration": 16,
    "start_time": "2023-01-06T09:50:08.552Z"
   },
   {
    "duration": 11,
    "start_time": "2023-01-06T09:50:08.569Z"
   },
   {
    "duration": 12,
    "start_time": "2023-01-06T09:50:08.581Z"
   },
   {
    "duration": 19,
    "start_time": "2023-01-06T09:50:08.594Z"
   },
   {
    "duration": 8,
    "start_time": "2023-01-06T09:50:08.615Z"
   },
   {
    "duration": 22,
    "start_time": "2023-01-06T09:50:08.624Z"
   },
   {
    "duration": 43,
    "start_time": "2023-01-06T09:50:08.647Z"
   },
   {
    "duration": 14,
    "start_time": "2023-01-06T09:50:08.694Z"
   },
   {
    "duration": 7,
    "start_time": "2023-01-06T09:50:08.709Z"
   },
   {
    "duration": 23,
    "start_time": "2023-01-06T09:50:08.717Z"
   },
   {
    "duration": 13,
    "start_time": "2023-01-06T09:50:08.742Z"
   },
   {
    "duration": 10,
    "start_time": "2023-01-06T09:50:08.757Z"
   },
   {
    "duration": 7,
    "start_time": "2023-01-06T09:50:08.768Z"
   },
   {
    "duration": 16,
    "start_time": "2023-01-06T09:50:08.777Z"
   },
   {
    "duration": 19,
    "start_time": "2023-01-06T09:50:08.794Z"
   },
   {
    "duration": 10,
    "start_time": "2023-01-06T09:50:08.814Z"
   },
   {
    "duration": 11,
    "start_time": "2023-01-06T09:50:08.826Z"
   },
   {
    "duration": 158,
    "start_time": "2023-01-06T09:50:08.838Z"
   },
   {
    "duration": 115,
    "start_time": "2023-01-06T09:50:08.997Z"
   },
   {
    "duration": 10,
    "start_time": "2023-01-06T09:50:09.114Z"
   },
   {
    "duration": 10,
    "start_time": "2023-01-06T09:50:09.125Z"
   },
   {
    "duration": 221,
    "start_time": "2023-01-06T09:50:09.137Z"
   },
   {
    "duration": 5,
    "start_time": "2023-01-06T09:50:09.360Z"
   },
   {
    "duration": 13,
    "start_time": "2023-01-06T09:50:09.366Z"
   },
   {
    "duration": 297,
    "start_time": "2023-01-06T09:50:09.381Z"
   },
   {
    "duration": 256,
    "start_time": "2023-01-06T09:50:09.681Z"
   },
   {
    "duration": 5,
    "start_time": "2023-01-06T09:50:09.939Z"
   },
   {
    "duration": 347,
    "start_time": "2023-01-06T09:50:09.946Z"
   },
   {
    "duration": 7,
    "start_time": "2023-01-06T09:50:10.295Z"
   },
   {
    "duration": 313,
    "start_time": "2023-01-06T09:50:10.304Z"
   },
   {
    "duration": 7,
    "start_time": "2023-01-06T09:50:10.621Z"
   },
   {
    "duration": 331,
    "start_time": "2023-01-06T09:50:10.629Z"
   },
   {
    "duration": 138,
    "start_time": "2023-01-06T09:50:10.962Z"
   },
   {
    "duration": 4,
    "start_time": "2023-01-06T09:50:11.101Z"
   },
   {
    "duration": 175,
    "start_time": "2023-01-06T09:50:11.106Z"
   },
   {
    "duration": 4,
    "start_time": "2023-01-06T09:50:11.284Z"
   },
   {
    "duration": 425,
    "start_time": "2023-01-06T09:50:11.289Z"
   },
   {
    "duration": 225,
    "start_time": "2023-01-06T09:50:11.715Z"
   },
   {
    "duration": 202,
    "start_time": "2023-01-06T09:50:11.941Z"
   },
   {
    "duration": 12,
    "start_time": "2023-01-06T09:54:54.556Z"
   },
   {
    "duration": 844,
    "start_time": "2023-01-06T10:12:04.690Z"
   },
   {
    "duration": 9,
    "start_time": "2023-01-06T10:12:26.207Z"
   },
   {
    "duration": 8,
    "start_time": "2023-01-06T10:14:39.239Z"
   },
   {
    "duration": 28,
    "start_time": "2023-01-06T10:15:22.380Z"
   },
   {
    "duration": 725,
    "start_time": "2023-01-06T10:21:25.900Z"
   },
   {
    "duration": 16,
    "start_time": "2023-01-06T10:22:29.028Z"
   },
   {
    "duration": 461,
    "start_time": "2023-01-06T10:32:05.202Z"
   },
   {
    "duration": 26,
    "start_time": "2023-01-06T10:32:05.666Z"
   },
   {
    "duration": 14,
    "start_time": "2023-01-06T10:32:05.693Z"
   },
   {
    "duration": 10,
    "start_time": "2023-01-06T10:32:05.710Z"
   },
   {
    "duration": 11,
    "start_time": "2023-01-06T10:32:05.721Z"
   },
   {
    "duration": 24,
    "start_time": "2023-01-06T10:32:05.733Z"
   },
   {
    "duration": 9,
    "start_time": "2023-01-06T10:32:05.759Z"
   },
   {
    "duration": 3,
    "start_time": "2023-01-06T10:32:05.769Z"
   },
   {
    "duration": 44,
    "start_time": "2023-01-06T10:32:05.773Z"
   },
   {
    "duration": 15,
    "start_time": "2023-01-06T10:32:05.820Z"
   },
   {
    "duration": 6,
    "start_time": "2023-01-06T10:32:05.836Z"
   },
   {
    "duration": 21,
    "start_time": "2023-01-06T10:32:05.844Z"
   },
   {
    "duration": 13,
    "start_time": "2023-01-06T10:32:05.867Z"
   },
   {
    "duration": 11,
    "start_time": "2023-01-06T10:32:05.881Z"
   },
   {
    "duration": 8,
    "start_time": "2023-01-06T10:32:05.893Z"
   },
   {
    "duration": 14,
    "start_time": "2023-01-06T10:32:05.902Z"
   },
   {
    "duration": 27,
    "start_time": "2023-01-06T10:32:05.917Z"
   },
   {
    "duration": 13,
    "start_time": "2023-01-06T10:32:05.945Z"
   },
   {
    "duration": 16,
    "start_time": "2023-01-06T10:32:05.959Z"
   },
   {
    "duration": 156,
    "start_time": "2023-01-06T10:32:05.977Z"
   },
   {
    "duration": 112,
    "start_time": "2023-01-06T10:32:06.134Z"
   },
   {
    "duration": 6,
    "start_time": "2023-01-06T10:32:06.247Z"
   },
   {
    "duration": 15,
    "start_time": "2023-01-06T10:32:06.254Z"
   },
   {
    "duration": 202,
    "start_time": "2023-01-06T10:32:06.271Z"
   },
   {
    "duration": 5,
    "start_time": "2023-01-06T10:32:06.475Z"
   },
   {
    "duration": 7,
    "start_time": "2023-01-06T10:32:06.481Z"
   },
   {
    "duration": 301,
    "start_time": "2023-01-06T10:32:06.490Z"
   },
   {
    "duration": 218,
    "start_time": "2023-01-06T10:32:06.794Z"
   },
   {
    "duration": 10,
    "start_time": "2023-01-06T10:32:07.014Z"
   },
   {
    "duration": 324,
    "start_time": "2023-01-06T10:32:07.025Z"
   },
   {
    "duration": 5,
    "start_time": "2023-01-06T10:32:07.351Z"
   },
   {
    "duration": 272,
    "start_time": "2023-01-06T10:32:07.358Z"
   },
   {
    "duration": 7,
    "start_time": "2023-01-06T10:32:07.632Z"
   },
   {
    "duration": 304,
    "start_time": "2023-01-06T10:32:07.641Z"
   },
   {
    "duration": 140,
    "start_time": "2023-01-06T10:32:07.947Z"
   },
   {
    "duration": 3,
    "start_time": "2023-01-06T10:32:08.089Z"
   },
   {
    "duration": 150,
    "start_time": "2023-01-06T10:32:08.094Z"
   },
   {
    "duration": 3,
    "start_time": "2023-01-06T10:32:08.246Z"
   },
   {
    "duration": 366,
    "start_time": "2023-01-06T10:32:08.250Z"
   },
   {
    "duration": 224,
    "start_time": "2023-01-06T10:32:08.618Z"
   },
   {
    "duration": 154,
    "start_time": "2023-01-06T10:32:08.843Z"
   },
   {
    "duration": 10,
    "start_time": "2023-01-06T10:32:08.999Z"
   },
   {
    "duration": 9,
    "start_time": "2023-01-06T10:32:09.021Z"
   },
   {
    "duration": 32,
    "start_time": "2023-01-06T10:32:09.031Z"
   },
   {
    "duration": 12,
    "start_time": "2023-01-06T10:32:09.064Z"
   },
   {
    "duration": 433,
    "start_time": "2023-01-06T11:02:40.839Z"
   },
   {
    "duration": 27,
    "start_time": "2023-01-06T11:02:41.274Z"
   },
   {
    "duration": 13,
    "start_time": "2023-01-06T11:02:41.302Z"
   },
   {
    "duration": 33,
    "start_time": "2023-01-06T11:02:41.318Z"
   },
   {
    "duration": 17,
    "start_time": "2023-01-06T11:02:41.353Z"
   },
   {
    "duration": 23,
    "start_time": "2023-01-06T11:02:41.372Z"
   },
   {
    "duration": 25,
    "start_time": "2023-01-06T11:02:41.397Z"
   },
   {
    "duration": 25,
    "start_time": "2023-01-06T11:02:41.424Z"
   },
   {
    "duration": 66,
    "start_time": "2023-01-06T11:02:41.451Z"
   },
   {
    "duration": 14,
    "start_time": "2023-01-06T11:02:41.520Z"
   },
   {
    "duration": 44,
    "start_time": "2023-01-06T11:02:41.536Z"
   },
   {
    "duration": 38,
    "start_time": "2023-01-06T11:02:41.581Z"
   },
   {
    "duration": 16,
    "start_time": "2023-01-06T11:02:41.620Z"
   },
   {
    "duration": 24,
    "start_time": "2023-01-06T11:02:41.638Z"
   },
   {
    "duration": 27,
    "start_time": "2023-01-06T11:02:41.664Z"
   },
   {
    "duration": 27,
    "start_time": "2023-01-06T11:02:41.693Z"
   },
   {
    "duration": 56,
    "start_time": "2023-01-06T11:02:41.721Z"
   },
   {
    "duration": 11,
    "start_time": "2023-01-06T11:02:41.779Z"
   },
   {
    "duration": 25,
    "start_time": "2023-01-06T11:02:41.792Z"
   },
   {
    "duration": 181,
    "start_time": "2023-01-06T11:02:41.818Z"
   },
   {
    "duration": 128,
    "start_time": "2023-01-06T11:02:42.001Z"
   },
   {
    "duration": 9,
    "start_time": "2023-01-06T11:02:42.132Z"
   },
   {
    "duration": 21,
    "start_time": "2023-01-06T11:02:42.142Z"
   },
   {
    "duration": 240,
    "start_time": "2023-01-06T11:02:42.165Z"
   },
   {
    "duration": 4,
    "start_time": "2023-01-06T11:02:42.407Z"
   },
   {
    "duration": 30,
    "start_time": "2023-01-06T11:02:42.413Z"
   },
   {
    "duration": 328,
    "start_time": "2023-01-06T11:02:42.444Z"
   },
   {
    "duration": 276,
    "start_time": "2023-01-06T11:02:42.777Z"
   },
   {
    "duration": 5,
    "start_time": "2023-01-06T11:02:43.055Z"
   },
   {
    "duration": 340,
    "start_time": "2023-01-06T11:02:43.062Z"
   },
   {
    "duration": 5,
    "start_time": "2023-01-06T11:02:43.404Z"
   },
   {
    "duration": 289,
    "start_time": "2023-01-06T11:02:43.411Z"
   },
   {
    "duration": 7,
    "start_time": "2023-01-06T11:02:43.702Z"
   },
   {
    "duration": 332,
    "start_time": "2023-01-06T11:02:43.711Z"
   },
   {
    "duration": 140,
    "start_time": "2023-01-06T11:02:44.044Z"
   },
   {
    "duration": 4,
    "start_time": "2023-01-06T11:02:44.185Z"
   },
   {
    "duration": 165,
    "start_time": "2023-01-06T11:02:44.190Z"
   },
   {
    "duration": 3,
    "start_time": "2023-01-06T11:02:44.357Z"
   },
   {
    "duration": 458,
    "start_time": "2023-01-06T11:02:44.362Z"
   },
   {
    "duration": 218,
    "start_time": "2023-01-06T11:02:44.822Z"
   },
   {
    "duration": 167,
    "start_time": "2023-01-06T11:02:45.042Z"
   },
   {
    "duration": 12,
    "start_time": "2023-01-06T11:02:45.220Z"
   },
   {
    "duration": 21,
    "start_time": "2023-01-06T11:02:45.234Z"
   },
   {
    "duration": 51,
    "start_time": "2023-01-06T11:02:45.256Z"
   },
   {
    "duration": 13,
    "start_time": "2023-01-06T11:02:45.309Z"
   },
   {
    "duration": 294,
    "start_time": "2023-01-06T11:12:47.786Z"
   },
   {
    "duration": 391,
    "start_time": "2023-01-06T11:12:53.731Z"
   },
   {
    "duration": 26,
    "start_time": "2023-01-06T11:12:54.124Z"
   },
   {
    "duration": 14,
    "start_time": "2023-01-06T11:12:54.152Z"
   },
   {
    "duration": 11,
    "start_time": "2023-01-06T11:12:54.168Z"
   },
   {
    "duration": 6,
    "start_time": "2023-01-06T11:12:54.181Z"
   },
   {
    "duration": 13,
    "start_time": "2023-01-06T11:12:54.189Z"
   },
   {
    "duration": 20,
    "start_time": "2023-01-06T11:12:54.205Z"
   },
   {
    "duration": 8,
    "start_time": "2023-01-06T11:12:54.227Z"
   },
   {
    "duration": 41,
    "start_time": "2023-01-06T11:12:54.236Z"
   },
   {
    "duration": 15,
    "start_time": "2023-01-06T11:12:54.279Z"
   },
   {
    "duration": 7,
    "start_time": "2023-01-06T11:12:54.296Z"
   },
   {
    "duration": 18,
    "start_time": "2023-01-06T11:12:54.304Z"
   },
   {
    "duration": 18,
    "start_time": "2023-01-06T11:12:54.324Z"
   },
   {
    "duration": 8,
    "start_time": "2023-01-06T11:12:54.345Z"
   },
   {
    "duration": 9,
    "start_time": "2023-01-06T11:12:54.354Z"
   },
   {
    "duration": 15,
    "start_time": "2023-01-06T11:12:54.365Z"
   },
   {
    "duration": 21,
    "start_time": "2023-01-06T11:12:54.381Z"
   },
   {
    "duration": 24,
    "start_time": "2023-01-06T11:12:54.404Z"
   },
   {
    "duration": 13,
    "start_time": "2023-01-06T11:12:54.430Z"
   },
   {
    "duration": 168,
    "start_time": "2023-01-06T11:12:54.444Z"
   },
   {
    "duration": 119,
    "start_time": "2023-01-06T11:12:54.614Z"
   },
   {
    "duration": 5,
    "start_time": "2023-01-06T11:12:54.735Z"
   },
   {
    "duration": 8,
    "start_time": "2023-01-06T11:12:54.742Z"
   },
   {
    "duration": 218,
    "start_time": "2023-01-06T11:12:54.752Z"
   },
   {
    "duration": 5,
    "start_time": "2023-01-06T11:12:54.972Z"
   },
   {
    "duration": 10,
    "start_time": "2023-01-06T11:12:54.978Z"
   },
   {
    "duration": 361,
    "start_time": "2023-01-06T11:12:54.990Z"
   },
   {
    "duration": 260,
    "start_time": "2023-01-06T11:12:55.353Z"
   },
   {
    "duration": 6,
    "start_time": "2023-01-06T11:12:55.615Z"
   },
   {
    "duration": 331,
    "start_time": "2023-01-06T11:12:55.623Z"
   },
   {
    "duration": 6,
    "start_time": "2023-01-06T11:12:55.956Z"
   },
   {
    "duration": 279,
    "start_time": "2023-01-06T11:12:55.963Z"
   },
   {
    "duration": 7,
    "start_time": "2023-01-06T11:12:56.244Z"
   },
   {
    "duration": 299,
    "start_time": "2023-01-06T11:12:56.253Z"
   },
   {
    "duration": 145,
    "start_time": "2023-01-06T11:12:56.553Z"
   },
   {
    "duration": 4,
    "start_time": "2023-01-06T11:12:56.700Z"
   },
   {
    "duration": 150,
    "start_time": "2023-01-06T11:12:56.706Z"
   },
   {
    "duration": 3,
    "start_time": "2023-01-06T11:12:56.859Z"
   },
   {
    "duration": 429,
    "start_time": "2023-01-06T11:12:56.864Z"
   },
   {
    "duration": 224,
    "start_time": "2023-01-06T11:12:57.294Z"
   },
   {
    "duration": 168,
    "start_time": "2023-01-06T11:12:57.524Z"
   },
   {
    "duration": 11,
    "start_time": "2023-01-06T11:12:57.695Z"
   },
   {
    "duration": 11,
    "start_time": "2023-01-06T11:12:57.721Z"
   },
   {
    "duration": 38,
    "start_time": "2023-01-06T11:12:57.733Z"
   },
   {
    "duration": 13,
    "start_time": "2023-01-06T11:12:57.773Z"
   },
   {
    "duration": 388,
    "start_time": "2023-01-06T12:50:01.241Z"
   },
   {
    "duration": 28,
    "start_time": "2023-01-06T12:50:01.631Z"
   },
   {
    "duration": 52,
    "start_time": "2023-01-06T12:50:01.660Z"
   },
   {
    "duration": 55,
    "start_time": "2023-01-06T12:50:01.714Z"
   },
   {
    "duration": 30,
    "start_time": "2023-01-06T12:50:01.771Z"
   },
   {
    "duration": 44,
    "start_time": "2023-01-06T12:50:01.803Z"
   },
   {
    "duration": 65,
    "start_time": "2023-01-06T12:50:01.849Z"
   },
   {
    "duration": 57,
    "start_time": "2023-01-06T12:50:01.915Z"
   },
   {
    "duration": 75,
    "start_time": "2023-01-06T12:50:01.974Z"
   },
   {
    "duration": 16,
    "start_time": "2023-01-06T12:50:02.053Z"
   },
   {
    "duration": 11,
    "start_time": "2023-01-06T12:50:02.070Z"
   },
   {
    "duration": 43,
    "start_time": "2023-01-06T12:50:02.082Z"
   },
   {
    "duration": 27,
    "start_time": "2023-01-06T12:50:02.127Z"
   },
   {
    "duration": 22,
    "start_time": "2023-01-06T12:50:02.156Z"
   },
   {
    "duration": 76,
    "start_time": "2023-01-06T12:50:02.180Z"
   },
   {
    "duration": 46,
    "start_time": "2023-01-06T12:50:02.258Z"
   },
   {
    "duration": 41,
    "start_time": "2023-01-06T12:50:02.305Z"
   },
   {
    "duration": 47,
    "start_time": "2023-01-06T12:50:02.348Z"
   },
   {
    "duration": 38,
    "start_time": "2023-01-06T12:50:02.397Z"
   },
   {
    "duration": 187,
    "start_time": "2023-01-06T12:50:02.437Z"
   },
   {
    "duration": 138,
    "start_time": "2023-01-06T12:50:02.625Z"
   },
   {
    "duration": 7,
    "start_time": "2023-01-06T12:50:02.764Z"
   },
   {
    "duration": 78,
    "start_time": "2023-01-06T12:50:02.773Z"
   },
   {
    "duration": 259,
    "start_time": "2023-01-06T12:50:02.853Z"
   },
   {
    "duration": 7,
    "start_time": "2023-01-06T12:50:03.113Z"
   },
   {
    "duration": 44,
    "start_time": "2023-01-06T12:50:03.121Z"
   },
   {
    "duration": 360,
    "start_time": "2023-01-06T12:50:03.167Z"
   },
   {
    "duration": 237,
    "start_time": "2023-01-06T12:50:03.531Z"
   },
   {
    "duration": 6,
    "start_time": "2023-01-06T12:50:03.769Z"
   },
   {
    "duration": 376,
    "start_time": "2023-01-06T12:50:03.777Z"
   },
   {
    "duration": 6,
    "start_time": "2023-01-06T12:50:04.154Z"
   },
   {
    "duration": 324,
    "start_time": "2023-01-06T12:50:04.162Z"
   },
   {
    "duration": 7,
    "start_time": "2023-01-06T12:50:04.488Z"
   },
   {
    "duration": 352,
    "start_time": "2023-01-06T12:50:04.497Z"
   },
   {
    "duration": 173,
    "start_time": "2023-01-06T12:50:04.852Z"
   },
   {
    "duration": 4,
    "start_time": "2023-01-06T12:50:05.027Z"
   },
   {
    "duration": 227,
    "start_time": "2023-01-06T12:50:05.033Z"
   },
   {
    "duration": 4,
    "start_time": "2023-01-06T12:50:05.262Z"
   },
   {
    "duration": 460,
    "start_time": "2023-01-06T12:50:05.268Z"
   },
   {
    "duration": 235,
    "start_time": "2023-01-06T12:50:05.730Z"
   },
   {
    "duration": 166,
    "start_time": "2023-01-06T12:50:05.967Z"
   },
   {
    "duration": 12,
    "start_time": "2023-01-06T12:50:06.135Z"
   },
   {
    "duration": 43,
    "start_time": "2023-01-06T12:50:06.149Z"
   },
   {
    "duration": 68,
    "start_time": "2023-01-06T12:50:06.193Z"
   },
   {
    "duration": 25,
    "start_time": "2023-01-06T12:50:06.263Z"
   },
   {
    "duration": 427,
    "start_time": "2023-01-08T08:59:06.227Z"
   },
   {
    "duration": 3,
    "start_time": "2023-01-08T08:59:17.156Z"
   },
   {
    "duration": 59,
    "start_time": "2023-01-08T08:59:21.727Z"
   },
   {
    "duration": 14,
    "start_time": "2023-01-08T08:59:25.410Z"
   },
   {
    "duration": 417,
    "start_time": "2023-01-08T09:01:32.926Z"
   },
   {
    "duration": 27,
    "start_time": "2023-01-08T09:01:33.345Z"
   },
   {
    "duration": 13,
    "start_time": "2023-01-08T09:01:33.373Z"
   },
   {
    "duration": 15,
    "start_time": "2023-01-08T09:01:33.388Z"
   },
   {
    "duration": 9,
    "start_time": "2023-01-08T09:01:33.404Z"
   },
   {
    "duration": 16,
    "start_time": "2023-01-08T09:01:33.414Z"
   },
   {
    "duration": 8,
    "start_time": "2023-01-08T09:01:33.431Z"
   },
   {
    "duration": 6,
    "start_time": "2023-01-08T09:01:33.440Z"
   },
   {
    "duration": 135,
    "start_time": "2023-01-08T09:01:33.448Z"
   },
   {
    "duration": 50,
    "start_time": "2023-01-08T09:01:33.587Z"
   },
   {
    "duration": 7,
    "start_time": "2023-01-08T09:01:33.638Z"
   },
   {
    "duration": 29,
    "start_time": "2023-01-08T09:01:33.646Z"
   },
   {
    "duration": 13,
    "start_time": "2023-01-08T09:01:33.677Z"
   },
   {
    "duration": 7,
    "start_time": "2023-01-08T09:01:33.692Z"
   },
   {
    "duration": 7,
    "start_time": "2023-01-08T09:01:33.701Z"
   },
   {
    "duration": 6,
    "start_time": "2023-01-08T09:01:33.710Z"
   },
   {
    "duration": 34,
    "start_time": "2023-01-08T09:01:33.718Z"
   },
   {
    "duration": 11,
    "start_time": "2023-01-08T09:01:33.753Z"
   },
   {
    "duration": 14,
    "start_time": "2023-01-08T09:01:33.766Z"
   },
   {
    "duration": 166,
    "start_time": "2023-01-08T09:01:33.781Z"
   },
   {
    "duration": 128,
    "start_time": "2023-01-08T09:01:33.949Z"
   },
   {
    "duration": 6,
    "start_time": "2023-01-08T09:01:34.079Z"
   },
   {
    "duration": 11,
    "start_time": "2023-01-08T09:01:34.087Z"
   },
   {
    "duration": 382,
    "start_time": "2023-01-08T09:01:34.100Z"
   },
   {
    "duration": 6,
    "start_time": "2023-01-08T09:01:34.484Z"
   },
   {
    "duration": 12,
    "start_time": "2023-01-08T09:01:34.492Z"
   },
   {
    "duration": 312,
    "start_time": "2023-01-08T09:01:34.505Z"
   },
   {
    "duration": 242,
    "start_time": "2023-01-08T09:01:34.820Z"
   },
   {
    "duration": 6,
    "start_time": "2023-01-08T09:01:35.064Z"
   },
   {
    "duration": 432,
    "start_time": "2023-01-08T09:01:35.072Z"
   },
   {
    "duration": 5,
    "start_time": "2023-01-08T09:01:35.506Z"
   },
   {
    "duration": 360,
    "start_time": "2023-01-08T09:01:35.513Z"
   },
   {
    "duration": 8,
    "start_time": "2023-01-08T09:01:35.874Z"
   },
   {
    "duration": 335,
    "start_time": "2023-01-08T09:01:35.883Z"
   },
   {
    "duration": 141,
    "start_time": "2023-01-08T09:01:36.220Z"
   },
   {
    "duration": 4,
    "start_time": "2023-01-08T09:01:36.363Z"
   },
   {
    "duration": 168,
    "start_time": "2023-01-08T09:01:36.369Z"
   },
   {
    "duration": 4,
    "start_time": "2023-01-08T09:01:36.539Z"
   },
   {
    "duration": 395,
    "start_time": "2023-01-08T09:01:36.545Z"
   },
   {
    "duration": 224,
    "start_time": "2023-01-08T09:01:36.942Z"
   },
   {
    "duration": 162,
    "start_time": "2023-01-08T09:01:37.167Z"
   },
   {
    "duration": 10,
    "start_time": "2023-01-08T09:01:37.336Z"
   },
   {
    "duration": 9,
    "start_time": "2023-01-08T09:01:37.347Z"
   },
   {
    "duration": 27,
    "start_time": "2023-01-08T09:01:37.358Z"
   },
   {
    "duration": 13,
    "start_time": "2023-01-08T09:01:37.387Z"
   },
   {
    "duration": 410,
    "start_time": "2023-01-08T09:22:43.454Z"
   },
   {
    "duration": 27,
    "start_time": "2023-01-08T09:22:43.865Z"
   },
   {
    "duration": 15,
    "start_time": "2023-01-08T09:22:43.894Z"
   },
   {
    "duration": 12,
    "start_time": "2023-01-08T09:22:43.912Z"
   },
   {
    "duration": 37,
    "start_time": "2023-01-08T09:22:43.925Z"
   },
   {
    "duration": 26,
    "start_time": "2023-01-08T09:22:43.963Z"
   },
   {
    "duration": 10,
    "start_time": "2023-01-08T09:22:43.991Z"
   },
   {
    "duration": 8,
    "start_time": "2023-01-08T09:22:44.003Z"
   },
   {
    "duration": 41,
    "start_time": "2023-01-08T09:22:44.013Z"
   },
   {
    "duration": 16,
    "start_time": "2023-01-08T09:22:44.056Z"
   },
   {
    "duration": 10,
    "start_time": "2023-01-08T09:22:44.074Z"
   },
   {
    "duration": 25,
    "start_time": "2023-01-08T09:22:44.086Z"
   },
   {
    "duration": 21,
    "start_time": "2023-01-08T09:22:44.113Z"
   },
   {
    "duration": 26,
    "start_time": "2023-01-08T09:22:44.137Z"
   },
   {
    "duration": 18,
    "start_time": "2023-01-08T09:22:44.164Z"
   },
   {
    "duration": 20,
    "start_time": "2023-01-08T09:22:44.183Z"
   },
   {
    "duration": 22,
    "start_time": "2023-01-08T09:22:44.205Z"
   },
   {
    "duration": 18,
    "start_time": "2023-01-08T09:22:44.229Z"
   },
   {
    "duration": 13,
    "start_time": "2023-01-08T09:22:44.249Z"
   },
   {
    "duration": 171,
    "start_time": "2023-01-08T09:22:44.264Z"
   },
   {
    "duration": 132,
    "start_time": "2023-01-08T09:22:44.437Z"
   },
   {
    "duration": 6,
    "start_time": "2023-01-08T09:22:44.571Z"
   },
   {
    "duration": 24,
    "start_time": "2023-01-08T09:22:44.579Z"
   },
   {
    "duration": 250,
    "start_time": "2023-01-08T09:22:44.605Z"
   },
   {
    "duration": 5,
    "start_time": "2023-01-08T09:22:44.857Z"
   },
   {
    "duration": 37,
    "start_time": "2023-01-08T09:22:44.864Z"
   },
   {
    "duration": 335,
    "start_time": "2023-01-08T09:22:44.903Z"
   },
   {
    "duration": 260,
    "start_time": "2023-01-08T09:22:45.242Z"
   },
   {
    "duration": 7,
    "start_time": "2023-01-08T09:22:45.504Z"
   },
   {
    "duration": 365,
    "start_time": "2023-01-08T09:22:45.512Z"
   },
   {
    "duration": 6,
    "start_time": "2023-01-08T09:22:45.879Z"
   },
   {
    "duration": 303,
    "start_time": "2023-01-08T09:22:45.886Z"
   },
   {
    "duration": 8,
    "start_time": "2023-01-08T09:22:46.191Z"
   },
   {
    "duration": 399,
    "start_time": "2023-01-08T09:22:46.201Z"
   },
   {
    "duration": 178,
    "start_time": "2023-01-08T09:22:46.602Z"
   },
   {
    "duration": 5,
    "start_time": "2023-01-08T09:22:46.782Z"
   },
   {
    "duration": 176,
    "start_time": "2023-01-08T09:22:46.789Z"
   },
   {
    "duration": 5,
    "start_time": "2023-01-08T09:22:46.967Z"
   },
   {
    "duration": 452,
    "start_time": "2023-01-08T09:22:46.973Z"
   },
   {
    "duration": 234,
    "start_time": "2023-01-08T09:22:47.427Z"
   },
   {
    "duration": 158,
    "start_time": "2023-01-08T09:22:47.663Z"
   },
   {
    "duration": 20,
    "start_time": "2023-01-08T09:22:47.823Z"
   },
   {
    "duration": 19,
    "start_time": "2023-01-08T09:22:47.844Z"
   },
   {
    "duration": 57,
    "start_time": "2023-01-08T09:22:47.864Z"
   },
   {
    "duration": 14,
    "start_time": "2023-01-08T09:22:47.923Z"
   },
   {
    "duration": 3,
    "start_time": "2023-01-08T09:23:13.455Z"
   },
   {
    "duration": 433,
    "start_time": "2023-01-08T09:23:19.909Z"
   },
   {
    "duration": 27,
    "start_time": "2023-01-08T09:23:20.344Z"
   },
   {
    "duration": 15,
    "start_time": "2023-01-08T09:23:20.372Z"
   },
   {
    "duration": 16,
    "start_time": "2023-01-08T09:23:20.389Z"
   },
   {
    "duration": 16,
    "start_time": "2023-01-08T09:23:20.407Z"
   },
   {
    "duration": 21,
    "start_time": "2023-01-08T09:23:20.424Z"
   },
   {
    "duration": 8,
    "start_time": "2023-01-08T09:23:20.447Z"
   },
   {
    "duration": 8,
    "start_time": "2023-01-08T09:23:20.457Z"
   },
   {
    "duration": 56,
    "start_time": "2023-01-08T09:23:20.467Z"
   },
   {
    "duration": 16,
    "start_time": "2023-01-08T09:23:20.525Z"
   },
   {
    "duration": 7,
    "start_time": "2023-01-08T09:23:20.542Z"
   },
   {
    "duration": 31,
    "start_time": "2023-01-08T09:23:20.551Z"
   },
   {
    "duration": 35,
    "start_time": "2023-01-08T09:23:20.584Z"
   },
   {
    "duration": 11,
    "start_time": "2023-01-08T09:23:20.622Z"
   },
   {
    "duration": 18,
    "start_time": "2023-01-08T09:23:20.634Z"
   },
   {
    "duration": 7,
    "start_time": "2023-01-08T09:23:20.654Z"
   },
   {
    "duration": 31,
    "start_time": "2023-01-08T09:23:20.662Z"
   },
   {
    "duration": 12,
    "start_time": "2023-01-08T09:23:20.694Z"
   },
   {
    "duration": 17,
    "start_time": "2023-01-08T09:23:20.708Z"
   },
   {
    "duration": 175,
    "start_time": "2023-01-08T09:23:20.726Z"
   },
   {
    "duration": 146,
    "start_time": "2023-01-08T09:23:20.902Z"
   },
   {
    "duration": 8,
    "start_time": "2023-01-08T09:23:21.050Z"
   },
   {
    "duration": 25,
    "start_time": "2023-01-08T09:23:21.060Z"
   },
   {
    "duration": 250,
    "start_time": "2023-01-08T09:23:21.087Z"
   },
   {
    "duration": 5,
    "start_time": "2023-01-08T09:23:21.339Z"
   },
   {
    "duration": 13,
    "start_time": "2023-01-08T09:23:21.346Z"
   },
   {
    "duration": 350,
    "start_time": "2023-01-08T09:23:21.361Z"
   },
   {
    "duration": 252,
    "start_time": "2023-01-08T09:23:21.713Z"
   },
   {
    "duration": 6,
    "start_time": "2023-01-08T09:23:21.966Z"
   },
   {
    "duration": 374,
    "start_time": "2023-01-08T09:23:21.974Z"
   },
   {
    "duration": 6,
    "start_time": "2023-01-08T09:23:22.350Z"
   },
   {
    "duration": 352,
    "start_time": "2023-01-08T09:23:22.357Z"
   },
   {
    "duration": 8,
    "start_time": "2023-01-08T09:23:22.711Z"
   },
   {
    "duration": 350,
    "start_time": "2023-01-08T09:23:22.721Z"
   },
   {
    "duration": 145,
    "start_time": "2023-01-08T09:23:23.072Z"
   },
   {
    "duration": 4,
    "start_time": "2023-01-08T09:23:23.219Z"
   },
   {
    "duration": 233,
    "start_time": "2023-01-08T09:23:23.225Z"
   },
   {
    "duration": 5,
    "start_time": "2023-01-08T09:23:23.459Z"
   },
   {
    "duration": 688,
    "start_time": "2023-01-08T09:23:23.466Z"
   },
   {
    "duration": 509,
    "start_time": "2023-01-08T09:23:24.156Z"
   },
   {
    "duration": 381,
    "start_time": "2023-01-08T09:23:24.669Z"
   },
   {
    "duration": 11,
    "start_time": "2023-01-08T09:23:25.051Z"
   },
   {
    "duration": 11,
    "start_time": "2023-01-08T09:23:25.064Z"
   },
   {
    "duration": 82,
    "start_time": "2023-01-08T09:23:25.077Z"
   },
   {
    "duration": 16,
    "start_time": "2023-01-08T09:23:25.161Z"
   },
   {
    "duration": 3,
    "start_time": "2023-01-08T09:24:06.317Z"
   },
   {
    "duration": 364,
    "start_time": "2023-01-08T09:24:13.988Z"
   },
   {
    "duration": 27,
    "start_time": "2023-01-08T09:24:14.354Z"
   },
   {
    "duration": 13,
    "start_time": "2023-01-08T09:24:14.383Z"
   },
   {
    "duration": 10,
    "start_time": "2023-01-08T09:24:14.398Z"
   },
   {
    "duration": 9,
    "start_time": "2023-01-08T09:24:14.410Z"
   },
   {
    "duration": 15,
    "start_time": "2023-01-08T09:24:14.420Z"
   },
   {
    "duration": 8,
    "start_time": "2023-01-08T09:24:14.436Z"
   },
   {
    "duration": 4,
    "start_time": "2023-01-08T09:24:14.446Z"
   },
   {
    "duration": 43,
    "start_time": "2023-01-08T09:24:14.451Z"
   },
   {
    "duration": 14,
    "start_time": "2023-01-08T09:24:14.496Z"
   },
   {
    "duration": 7,
    "start_time": "2023-01-08T09:24:14.512Z"
   },
   {
    "duration": 21,
    "start_time": "2023-01-08T09:24:14.520Z"
   },
   {
    "duration": 14,
    "start_time": "2023-01-08T09:24:14.542Z"
   },
   {
    "duration": 12,
    "start_time": "2023-01-08T09:24:14.558Z"
   },
   {
    "duration": 11,
    "start_time": "2023-01-08T09:24:14.572Z"
   },
   {
    "duration": 8,
    "start_time": "2023-01-08T09:24:14.584Z"
   },
   {
    "duration": 26,
    "start_time": "2023-01-08T09:24:14.593Z"
   },
   {
    "duration": 22,
    "start_time": "2023-01-08T09:24:14.621Z"
   },
   {
    "duration": 7,
    "start_time": "2023-01-08T09:24:14.645Z"
   },
   {
    "duration": 165,
    "start_time": "2023-01-08T09:24:14.653Z"
   },
   {
    "duration": 135,
    "start_time": "2023-01-08T09:24:14.820Z"
   },
   {
    "duration": 7,
    "start_time": "2023-01-08T09:24:14.957Z"
   },
   {
    "duration": 8,
    "start_time": "2023-01-08T09:24:14.966Z"
   },
   {
    "duration": 230,
    "start_time": "2023-01-08T09:24:14.975Z"
   },
   {
    "duration": 5,
    "start_time": "2023-01-08T09:24:15.206Z"
   },
   {
    "duration": 10,
    "start_time": "2023-01-08T09:24:15.213Z"
   },
   {
    "duration": 332,
    "start_time": "2023-01-08T09:24:15.225Z"
   },
   {
    "duration": 234,
    "start_time": "2023-01-08T09:24:15.559Z"
   },
   {
    "duration": 7,
    "start_time": "2023-01-08T09:24:15.794Z"
   },
   {
    "duration": 389,
    "start_time": "2023-01-08T09:24:15.803Z"
   },
   {
    "duration": 7,
    "start_time": "2023-01-08T09:24:16.194Z"
   },
   {
    "duration": 300,
    "start_time": "2023-01-08T09:24:16.203Z"
   },
   {
    "duration": 11,
    "start_time": "2023-01-08T09:24:16.505Z"
   },
   {
    "duration": 537,
    "start_time": "2023-01-08T09:24:16.534Z"
   },
   {
    "duration": 292,
    "start_time": "2023-01-08T09:24:17.073Z"
   },
   {
    "duration": 4,
    "start_time": "2023-01-08T09:24:17.366Z"
   },
   {
    "duration": 310,
    "start_time": "2023-01-08T09:24:17.371Z"
   },
   {
    "duration": 56,
    "start_time": "2023-01-08T09:24:17.682Z"
   },
   {
    "duration": 636,
    "start_time": "2023-01-08T09:24:17.740Z"
   },
   {
    "duration": 348,
    "start_time": "2023-01-08T09:24:18.378Z"
   },
   {
    "duration": 167,
    "start_time": "2023-01-08T09:24:18.734Z"
   },
   {
    "duration": 12,
    "start_time": "2023-01-08T09:24:18.903Z"
   },
   {
    "duration": 27,
    "start_time": "2023-01-08T09:24:18.917Z"
   },
   {
    "duration": 36,
    "start_time": "2023-01-08T09:24:18.946Z"
   },
   {
    "duration": 15,
    "start_time": "2023-01-08T09:24:18.984Z"
   },
   {
    "duration": 812,
    "start_time": "2023-01-08T09:29:09.137Z"
   },
   {
    "duration": 704,
    "start_time": "2023-01-08T09:29:29.207Z"
   },
   {
    "duration": 784,
    "start_time": "2023-01-08T09:29:41.017Z"
   },
   {
    "duration": 423,
    "start_time": "2023-01-08T09:30:14.047Z"
   },
   {
    "duration": 29,
    "start_time": "2023-01-08T09:30:14.473Z"
   },
   {
    "duration": 16,
    "start_time": "2023-01-08T09:30:14.504Z"
   },
   {
    "duration": 32,
    "start_time": "2023-01-08T09:30:14.522Z"
   },
   {
    "duration": 20,
    "start_time": "2023-01-08T09:30:14.556Z"
   },
   {
    "duration": 32,
    "start_time": "2023-01-08T09:30:14.578Z"
   },
   {
    "duration": 13,
    "start_time": "2023-01-08T09:30:14.612Z"
   },
   {
    "duration": 21,
    "start_time": "2023-01-08T09:30:14.627Z"
   },
   {
    "duration": 51,
    "start_time": "2023-01-08T09:30:14.650Z"
   },
   {
    "duration": 15,
    "start_time": "2023-01-08T09:30:14.703Z"
   },
   {
    "duration": 9,
    "start_time": "2023-01-08T09:30:14.720Z"
   },
   {
    "duration": 37,
    "start_time": "2023-01-08T09:30:14.731Z"
   },
   {
    "duration": 28,
    "start_time": "2023-01-08T09:30:14.770Z"
   },
   {
    "duration": 24,
    "start_time": "2023-01-08T09:30:14.801Z"
   },
   {
    "duration": 33,
    "start_time": "2023-01-08T09:30:14.827Z"
   },
   {
    "duration": 28,
    "start_time": "2023-01-08T09:30:14.861Z"
   },
   {
    "duration": 27,
    "start_time": "2023-01-08T09:30:14.891Z"
   },
   {
    "duration": 39,
    "start_time": "2023-01-08T09:30:14.920Z"
   },
   {
    "duration": 42,
    "start_time": "2023-01-08T09:30:14.961Z"
   },
   {
    "duration": 197,
    "start_time": "2023-01-08T09:30:15.004Z"
   },
   {
    "duration": 137,
    "start_time": "2023-01-08T09:30:15.203Z"
   },
   {
    "duration": 12,
    "start_time": "2023-01-08T09:30:15.342Z"
   },
   {
    "duration": 25,
    "start_time": "2023-01-08T09:30:15.355Z"
   },
   {
    "duration": 255,
    "start_time": "2023-01-08T09:30:15.382Z"
   },
   {
    "duration": 6,
    "start_time": "2023-01-08T09:30:15.639Z"
   },
   {
    "duration": 14,
    "start_time": "2023-01-08T09:30:15.648Z"
   },
   {
    "duration": 348,
    "start_time": "2023-01-08T09:30:15.664Z"
   },
   {
    "duration": 258,
    "start_time": "2023-01-08T09:30:16.014Z"
   },
   {
    "duration": 6,
    "start_time": "2023-01-08T09:30:16.274Z"
   },
   {
    "duration": 417,
    "start_time": "2023-01-08T09:30:16.282Z"
   },
   {
    "duration": 7,
    "start_time": "2023-01-08T09:30:16.700Z"
   },
   {
    "duration": 337,
    "start_time": "2023-01-08T09:30:16.709Z"
   },
   {
    "duration": 9,
    "start_time": "2023-01-08T09:30:17.047Z"
   },
   {
    "duration": 325,
    "start_time": "2023-01-08T09:30:17.057Z"
   },
   {
    "duration": 160,
    "start_time": "2023-01-08T09:30:17.384Z"
   },
   {
    "duration": 5,
    "start_time": "2023-01-08T09:30:17.546Z"
   },
   {
    "duration": 178,
    "start_time": "2023-01-08T09:30:17.552Z"
   },
   {
    "duration": 5,
    "start_time": "2023-01-08T09:30:17.732Z"
   },
   {
    "duration": 420,
    "start_time": "2023-01-08T09:30:17.738Z"
   },
   {
    "duration": 243,
    "start_time": "2023-01-08T09:30:18.160Z"
   },
   {
    "duration": 170,
    "start_time": "2023-01-08T09:30:18.406Z"
   },
   {
    "duration": 12,
    "start_time": "2023-01-08T09:30:18.577Z"
   },
   {
    "duration": 20,
    "start_time": "2023-01-08T09:30:18.590Z"
   },
   {
    "duration": 63,
    "start_time": "2023-01-08T09:30:18.612Z"
   },
   {
    "duration": 17,
    "start_time": "2023-01-08T09:30:18.677Z"
   },
   {
    "duration": 3,
    "start_time": "2023-01-08T09:32:08.227Z"
   },
   {
    "duration": 414,
    "start_time": "2023-01-08T09:32:14.941Z"
   },
   {
    "duration": 28,
    "start_time": "2023-01-08T09:32:15.357Z"
   },
   {
    "duration": 14,
    "start_time": "2023-01-08T09:32:15.387Z"
   },
   {
    "duration": 17,
    "start_time": "2023-01-08T09:32:15.404Z"
   },
   {
    "duration": 22,
    "start_time": "2023-01-08T09:32:15.423Z"
   },
   {
    "duration": 30,
    "start_time": "2023-01-08T09:32:15.447Z"
   },
   {
    "duration": 18,
    "start_time": "2023-01-08T09:32:15.478Z"
   },
   {
    "duration": 15,
    "start_time": "2023-01-08T09:32:15.497Z"
   },
   {
    "duration": 51,
    "start_time": "2023-01-08T09:32:15.513Z"
   },
   {
    "duration": 15,
    "start_time": "2023-01-08T09:32:15.568Z"
   },
   {
    "duration": 7,
    "start_time": "2023-01-08T09:32:15.585Z"
   },
   {
    "duration": 23,
    "start_time": "2023-01-08T09:32:15.594Z"
   },
   {
    "duration": 15,
    "start_time": "2023-01-08T09:32:15.618Z"
   },
   {
    "duration": 17,
    "start_time": "2023-01-08T09:32:15.634Z"
   },
   {
    "duration": 15,
    "start_time": "2023-01-08T09:32:15.652Z"
   },
   {
    "duration": 8,
    "start_time": "2023-01-08T09:32:15.669Z"
   },
   {
    "duration": 37,
    "start_time": "2023-01-08T09:32:15.679Z"
   },
   {
    "duration": 20,
    "start_time": "2023-01-08T09:32:15.718Z"
   },
   {
    "duration": 21,
    "start_time": "2023-01-08T09:32:15.739Z"
   },
   {
    "duration": 174,
    "start_time": "2023-01-08T09:32:15.761Z"
   },
   {
    "duration": 136,
    "start_time": "2023-01-08T09:32:15.938Z"
   },
   {
    "duration": 7,
    "start_time": "2023-01-08T09:32:16.075Z"
   },
   {
    "duration": 12,
    "start_time": "2023-01-08T09:32:16.084Z"
   },
   {
    "duration": 240,
    "start_time": "2023-01-08T09:32:16.098Z"
   },
   {
    "duration": 5,
    "start_time": "2023-01-08T09:32:16.340Z"
   },
   {
    "duration": 12,
    "start_time": "2023-01-08T09:32:16.347Z"
   },
   {
    "duration": 350,
    "start_time": "2023-01-08T09:32:16.361Z"
   },
   {
    "duration": 265,
    "start_time": "2023-01-08T09:32:16.714Z"
   },
   {
    "duration": 6,
    "start_time": "2023-01-08T09:32:16.981Z"
   },
   {
    "duration": 384,
    "start_time": "2023-01-08T09:32:16.989Z"
   },
   {
    "duration": 6,
    "start_time": "2023-01-08T09:32:17.375Z"
   },
   {
    "duration": 310,
    "start_time": "2023-01-08T09:32:17.383Z"
   },
   {
    "duration": 9,
    "start_time": "2023-01-08T09:32:17.695Z"
   },
   {
    "duration": 535,
    "start_time": "2023-01-08T09:32:17.705Z"
   },
   {
    "duration": 300,
    "start_time": "2023-01-08T09:32:18.242Z"
   },
   {
    "duration": 5,
    "start_time": "2023-01-08T09:32:18.543Z"
   },
   {
    "duration": 392,
    "start_time": "2023-01-08T09:32:18.549Z"
   },
   {
    "duration": 4,
    "start_time": "2023-01-08T09:32:18.942Z"
   },
   {
    "duration": 715,
    "start_time": "2023-01-08T09:32:18.948Z"
   },
   {
    "duration": 381,
    "start_time": "2023-01-08T09:32:19.664Z"
   },
   {
    "duration": 207,
    "start_time": "2023-01-08T09:32:20.047Z"
   },
   {
    "duration": 11,
    "start_time": "2023-01-08T09:32:20.256Z"
   },
   {
    "duration": 10,
    "start_time": "2023-01-08T09:32:20.268Z"
   },
   {
    "duration": 32,
    "start_time": "2023-01-08T09:32:20.279Z"
   },
   {
    "duration": 33,
    "start_time": "2023-01-08T09:32:20.313Z"
   },
   {
    "duration": 2,
    "start_time": "2023-01-08T09:33:00.138Z"
   },
   {
    "duration": 392,
    "start_time": "2023-01-08T09:33:23.078Z"
   },
   {
    "duration": 27,
    "start_time": "2023-01-08T09:33:23.472Z"
   },
   {
    "duration": 15,
    "start_time": "2023-01-08T09:33:23.500Z"
   },
   {
    "duration": 11,
    "start_time": "2023-01-08T09:33:23.517Z"
   },
   {
    "duration": 9,
    "start_time": "2023-01-08T09:33:23.530Z"
   },
   {
    "duration": 15,
    "start_time": "2023-01-08T09:33:23.541Z"
   },
   {
    "duration": 9,
    "start_time": "2023-01-08T09:33:23.557Z"
   },
   {
    "duration": 9,
    "start_time": "2023-01-08T09:33:23.567Z"
   },
   {
    "duration": 41,
    "start_time": "2023-01-08T09:33:23.578Z"
   },
   {
    "duration": 16,
    "start_time": "2023-01-08T09:33:23.620Z"
   },
   {
    "duration": 8,
    "start_time": "2023-01-08T09:33:23.638Z"
   },
   {
    "duration": 23,
    "start_time": "2023-01-08T09:33:23.647Z"
   },
   {
    "duration": 14,
    "start_time": "2023-01-08T09:33:23.671Z"
   },
   {
    "duration": 12,
    "start_time": "2023-01-08T09:33:23.687Z"
   },
   {
    "duration": 19,
    "start_time": "2023-01-08T09:33:23.701Z"
   },
   {
    "duration": 13,
    "start_time": "2023-01-08T09:33:23.722Z"
   },
   {
    "duration": 17,
    "start_time": "2023-01-08T09:33:23.737Z"
   },
   {
    "duration": 10,
    "start_time": "2023-01-08T09:33:23.756Z"
   },
   {
    "duration": 7,
    "start_time": "2023-01-08T09:33:23.768Z"
   },
   {
    "duration": 175,
    "start_time": "2023-01-08T09:33:23.776Z"
   },
   {
    "duration": 133,
    "start_time": "2023-01-08T09:33:23.953Z"
   },
   {
    "duration": 8,
    "start_time": "2023-01-08T09:33:24.087Z"
   },
   {
    "duration": 12,
    "start_time": "2023-01-08T09:33:24.096Z"
   },
   {
    "duration": 232,
    "start_time": "2023-01-08T09:33:24.109Z"
   },
   {
    "duration": 5,
    "start_time": "2023-01-08T09:33:24.343Z"
   },
   {
    "duration": 14,
    "start_time": "2023-01-08T09:33:24.349Z"
   },
   {
    "duration": 332,
    "start_time": "2023-01-08T09:33:24.364Z"
   },
   {
    "duration": 253,
    "start_time": "2023-01-08T09:33:24.698Z"
   },
   {
    "duration": 6,
    "start_time": "2023-01-08T09:33:24.953Z"
   },
   {
    "duration": 337,
    "start_time": "2023-01-08T09:33:24.961Z"
   },
   {
    "duration": 5,
    "start_time": "2023-01-08T09:33:25.300Z"
   },
   {
    "duration": 313,
    "start_time": "2023-01-08T09:33:25.307Z"
   },
   {
    "duration": 20,
    "start_time": "2023-01-08T09:33:25.622Z"
   },
   {
    "duration": 516,
    "start_time": "2023-01-08T09:33:25.644Z"
   },
   {
    "duration": 306,
    "start_time": "2023-01-08T09:33:26.162Z"
   },
   {
    "duration": 5,
    "start_time": "2023-01-08T09:33:26.470Z"
   },
   {
    "duration": 386,
    "start_time": "2023-01-08T09:33:26.476Z"
   },
   {
    "duration": 4,
    "start_time": "2023-01-08T09:33:26.863Z"
   },
   {
    "duration": 706,
    "start_time": "2023-01-08T09:33:26.869Z"
   },
   {
    "duration": 418,
    "start_time": "2023-01-08T09:33:27.576Z"
   },
   {
    "duration": 173,
    "start_time": "2023-01-08T09:33:27.998Z"
   },
   {
    "duration": 11,
    "start_time": "2023-01-08T09:33:28.173Z"
   },
   {
    "duration": 13,
    "start_time": "2023-01-08T09:33:28.186Z"
   },
   {
    "duration": 54,
    "start_time": "2023-01-08T09:33:28.201Z"
   },
   {
    "duration": 14,
    "start_time": "2023-01-08T09:33:28.257Z"
   },
   {
    "duration": 468,
    "start_time": "2023-01-08T09:36:58.432Z"
   },
   {
    "duration": 27,
    "start_time": "2023-01-08T09:36:58.902Z"
   },
   {
    "duration": 17,
    "start_time": "2023-01-08T09:36:58.931Z"
   },
   {
    "duration": 22,
    "start_time": "2023-01-08T09:36:58.951Z"
   },
   {
    "duration": 19,
    "start_time": "2023-01-08T09:36:58.975Z"
   },
   {
    "duration": 16,
    "start_time": "2023-01-08T09:36:58.996Z"
   },
   {
    "duration": 14,
    "start_time": "2023-01-08T09:36:59.013Z"
   },
   {
    "duration": 21,
    "start_time": "2023-01-08T09:36:59.029Z"
   },
   {
    "duration": 53,
    "start_time": "2023-01-08T09:36:59.052Z"
   },
   {
    "duration": 15,
    "start_time": "2023-01-08T09:36:59.110Z"
   },
   {
    "duration": 17,
    "start_time": "2023-01-08T09:36:59.126Z"
   },
   {
    "duration": 38,
    "start_time": "2023-01-08T09:36:59.145Z"
   },
   {
    "duration": 33,
    "start_time": "2023-01-08T09:36:59.185Z"
   },
   {
    "duration": 15,
    "start_time": "2023-01-08T09:36:59.221Z"
   },
   {
    "duration": 21,
    "start_time": "2023-01-08T09:36:59.238Z"
   },
   {
    "duration": 16,
    "start_time": "2023-01-08T09:36:59.261Z"
   },
   {
    "duration": 25,
    "start_time": "2023-01-08T09:36:59.279Z"
   },
   {
    "duration": 12,
    "start_time": "2023-01-08T09:36:59.306Z"
   },
   {
    "duration": 13,
    "start_time": "2023-01-08T09:36:59.320Z"
   },
   {
    "duration": 179,
    "start_time": "2023-01-08T09:36:59.335Z"
   },
   {
    "duration": 143,
    "start_time": "2023-01-08T09:36:59.515Z"
   },
   {
    "duration": 7,
    "start_time": "2023-01-08T09:36:59.659Z"
   },
   {
    "duration": 14,
    "start_time": "2023-01-08T09:36:59.667Z"
   },
   {
    "duration": 242,
    "start_time": "2023-01-08T09:36:59.682Z"
   },
   {
    "duration": 10,
    "start_time": "2023-01-08T09:36:59.926Z"
   },
   {
    "duration": 29,
    "start_time": "2023-01-08T09:36:59.938Z"
   },
   {
    "duration": 376,
    "start_time": "2023-01-08T09:36:59.969Z"
   },
   {
    "duration": 253,
    "start_time": "2023-01-08T09:37:00.350Z"
   },
   {
    "duration": 7,
    "start_time": "2023-01-08T09:37:00.605Z"
   },
   {
    "duration": 427,
    "start_time": "2023-01-08T09:37:00.613Z"
   },
   {
    "duration": 6,
    "start_time": "2023-01-08T09:37:01.041Z"
   },
   {
    "duration": 317,
    "start_time": "2023-01-08T09:37:01.049Z"
   },
   {
    "duration": 8,
    "start_time": "2023-01-08T09:37:01.368Z"
   },
   {
    "duration": 408,
    "start_time": "2023-01-08T09:37:01.378Z"
   },
   {
    "duration": 162,
    "start_time": "2023-01-08T09:37:01.788Z"
   },
   {
    "duration": 5,
    "start_time": "2023-01-08T09:37:01.952Z"
   },
   {
    "duration": 321,
    "start_time": "2023-01-08T09:37:01.959Z"
   },
   {
    "duration": 56,
    "start_time": "2023-01-08T09:37:02.282Z"
   },
   {
    "duration": 804,
    "start_time": "2023-01-08T09:37:02.340Z"
   },
   {
    "duration": 505,
    "start_time": "2023-01-08T09:37:03.146Z"
   },
   {
    "duration": 386,
    "start_time": "2023-01-08T09:37:03.653Z"
   },
   {
    "duration": 13,
    "start_time": "2023-01-08T09:37:04.041Z"
   },
   {
    "duration": 17,
    "start_time": "2023-01-08T09:37:04.056Z"
   },
   {
    "duration": 85,
    "start_time": "2023-01-08T09:37:04.075Z"
   },
   {
    "duration": 15,
    "start_time": "2023-01-08T09:37:04.162Z"
   },
   {
    "duration": 3,
    "start_time": "2023-01-08T09:37:21.166Z"
   },
   {
    "duration": 433,
    "start_time": "2023-01-08T09:37:27.635Z"
   },
   {
    "duration": 27,
    "start_time": "2023-01-08T09:37:28.070Z"
   },
   {
    "duration": 14,
    "start_time": "2023-01-08T09:37:28.099Z"
   },
   {
    "duration": 15,
    "start_time": "2023-01-08T09:37:28.115Z"
   },
   {
    "duration": 11,
    "start_time": "2023-01-08T09:37:28.132Z"
   },
   {
    "duration": 17,
    "start_time": "2023-01-08T09:37:28.145Z"
   },
   {
    "duration": 9,
    "start_time": "2023-01-08T09:37:28.164Z"
   },
   {
    "duration": 15,
    "start_time": "2023-01-08T09:37:28.174Z"
   },
   {
    "duration": 45,
    "start_time": "2023-01-08T09:37:28.191Z"
   },
   {
    "duration": 17,
    "start_time": "2023-01-08T09:37:28.238Z"
   },
   {
    "duration": 7,
    "start_time": "2023-01-08T09:37:28.257Z"
   },
   {
    "duration": 31,
    "start_time": "2023-01-08T09:37:28.266Z"
   },
   {
    "duration": 18,
    "start_time": "2023-01-08T09:37:28.298Z"
   },
   {
    "duration": 16,
    "start_time": "2023-01-08T09:37:28.320Z"
   },
   {
    "duration": 14,
    "start_time": "2023-01-08T09:37:28.338Z"
   },
   {
    "duration": 19,
    "start_time": "2023-01-08T09:37:28.354Z"
   },
   {
    "duration": 26,
    "start_time": "2023-01-08T09:37:28.374Z"
   },
   {
    "duration": 13,
    "start_time": "2023-01-08T09:37:28.402Z"
   },
   {
    "duration": 18,
    "start_time": "2023-01-08T09:37:28.417Z"
   },
   {
    "duration": 173,
    "start_time": "2023-01-08T09:37:28.437Z"
   },
   {
    "duration": 134,
    "start_time": "2023-01-08T09:37:28.611Z"
   },
   {
    "duration": 7,
    "start_time": "2023-01-08T09:37:28.747Z"
   },
   {
    "duration": 23,
    "start_time": "2023-01-08T09:37:28.756Z"
   },
   {
    "duration": 265,
    "start_time": "2023-01-08T09:37:28.780Z"
   },
   {
    "duration": 5,
    "start_time": "2023-01-08T09:37:29.046Z"
   },
   {
    "duration": 20,
    "start_time": "2023-01-08T09:37:29.053Z"
   },
   {
    "duration": 360,
    "start_time": "2023-01-08T09:37:29.075Z"
   },
   {
    "duration": 248,
    "start_time": "2023-01-08T09:37:29.436Z"
   },
   {
    "duration": 6,
    "start_time": "2023-01-08T09:37:29.686Z"
   },
   {
    "duration": 394,
    "start_time": "2023-01-08T09:37:29.694Z"
   },
   {
    "duration": 6,
    "start_time": "2023-01-08T09:37:30.090Z"
   },
   {
    "duration": 307,
    "start_time": "2023-01-08T09:37:30.097Z"
   },
   {
    "duration": 9,
    "start_time": "2023-01-08T09:37:30.405Z"
   },
   {
    "duration": 360,
    "start_time": "2023-01-08T09:37:30.415Z"
   },
   {
    "duration": 169,
    "start_time": "2023-01-08T09:37:30.777Z"
   },
   {
    "duration": 4,
    "start_time": "2023-01-08T09:37:30.948Z"
   },
   {
    "duration": 205,
    "start_time": "2023-01-08T09:37:30.954Z"
   },
   {
    "duration": 4,
    "start_time": "2023-01-08T09:37:31.161Z"
   },
   {
    "duration": 488,
    "start_time": "2023-01-08T09:37:31.167Z"
   },
   {
    "duration": 236,
    "start_time": "2023-01-08T09:37:31.658Z"
   },
   {
    "duration": 340,
    "start_time": "2023-01-08T09:37:31.899Z"
   },
   {
    "duration": 11,
    "start_time": "2023-01-08T09:37:32.240Z"
   },
   {
    "duration": 18,
    "start_time": "2023-01-08T09:37:32.253Z"
   },
   {
    "duration": 87,
    "start_time": "2023-01-08T09:37:32.273Z"
   },
   {
    "duration": 84,
    "start_time": "2023-01-08T09:37:32.361Z"
   },
   {
    "duration": 421,
    "start_time": "2023-01-08T09:38:58.336Z"
   },
   {
    "duration": 27,
    "start_time": "2023-01-08T09:38:58.760Z"
   },
   {
    "duration": 15,
    "start_time": "2023-01-08T09:38:58.789Z"
   },
   {
    "duration": 26,
    "start_time": "2023-01-08T09:38:58.806Z"
   },
   {
    "duration": 18,
    "start_time": "2023-01-08T09:38:58.835Z"
   },
   {
    "duration": 43,
    "start_time": "2023-01-08T09:38:58.854Z"
   },
   {
    "duration": 21,
    "start_time": "2023-01-08T09:38:58.899Z"
   },
   {
    "duration": 9,
    "start_time": "2023-01-08T09:38:58.923Z"
   },
   {
    "duration": 47,
    "start_time": "2023-01-08T09:38:58.934Z"
   },
   {
    "duration": 15,
    "start_time": "2023-01-08T09:38:58.983Z"
   },
   {
    "duration": 7,
    "start_time": "2023-01-08T09:38:59.000Z"
   },
   {
    "duration": 22,
    "start_time": "2023-01-08T09:38:59.009Z"
   },
   {
    "duration": 15,
    "start_time": "2023-01-08T09:38:59.032Z"
   },
   {
    "duration": 27,
    "start_time": "2023-01-08T09:38:59.050Z"
   },
   {
    "duration": 12,
    "start_time": "2023-01-08T09:38:59.079Z"
   },
   {
    "duration": 16,
    "start_time": "2023-01-08T09:38:59.093Z"
   },
   {
    "duration": 23,
    "start_time": "2023-01-08T09:38:59.111Z"
   },
   {
    "duration": 12,
    "start_time": "2023-01-08T09:38:59.136Z"
   },
   {
    "duration": 14,
    "start_time": "2023-01-08T09:38:59.149Z"
   },
   {
    "duration": 177,
    "start_time": "2023-01-08T09:38:59.165Z"
   },
   {
    "duration": 122,
    "start_time": "2023-01-08T09:38:59.344Z"
   },
   {
    "duration": 7,
    "start_time": "2023-01-08T09:38:59.467Z"
   },
   {
    "duration": 17,
    "start_time": "2023-01-08T09:38:59.475Z"
   },
   {
    "duration": 227,
    "start_time": "2023-01-08T09:38:59.494Z"
   },
   {
    "duration": 6,
    "start_time": "2023-01-08T09:38:59.722Z"
   },
   {
    "duration": 15,
    "start_time": "2023-01-08T09:38:59.730Z"
   },
   {
    "duration": 334,
    "start_time": "2023-01-08T09:38:59.746Z"
   },
   {
    "duration": 251,
    "start_time": "2023-01-08T09:39:00.082Z"
   },
   {
    "duration": 7,
    "start_time": "2023-01-08T09:39:00.335Z"
   },
   {
    "duration": 356,
    "start_time": "2023-01-08T09:39:00.344Z"
   },
   {
    "duration": 6,
    "start_time": "2023-01-08T09:39:00.702Z"
   },
   {
    "duration": 564,
    "start_time": "2023-01-08T09:39:00.711Z"
   },
   {
    "duration": 61,
    "start_time": "2023-01-08T09:39:01.277Z"
   },
   {
    "duration": 541,
    "start_time": "2023-01-08T09:39:01.340Z"
   },
   {
    "duration": 297,
    "start_time": "2023-01-08T09:39:01.882Z"
   },
   {
    "duration": 4,
    "start_time": "2023-01-08T09:39:02.235Z"
   },
   {
    "duration": 403,
    "start_time": "2023-01-08T09:39:02.241Z"
   },
   {
    "duration": 6,
    "start_time": "2023-01-08T09:39:02.646Z"
   },
   {
    "duration": 498,
    "start_time": "2023-01-08T09:39:02.654Z"
   },
   {
    "duration": 241,
    "start_time": "2023-01-08T09:39:03.154Z"
   },
   {
    "duration": 183,
    "start_time": "2023-01-08T09:39:03.400Z"
   },
   {
    "duration": 13,
    "start_time": "2023-01-08T09:39:03.585Z"
   },
   {
    "duration": 13,
    "start_time": "2023-01-08T09:39:03.600Z"
   },
   {
    "duration": 46,
    "start_time": "2023-01-08T09:39:03.615Z"
   },
   {
    "duration": 16,
    "start_time": "2023-01-08T09:39:03.663Z"
   },
   {
    "duration": 3,
    "start_time": "2023-01-08T09:41:17.498Z"
   },
   {
    "duration": 401,
    "start_time": "2023-01-08T09:41:23.564Z"
   },
   {
    "duration": 28,
    "start_time": "2023-01-08T09:41:23.967Z"
   },
   {
    "duration": 16,
    "start_time": "2023-01-08T09:41:23.997Z"
   },
   {
    "duration": 11,
    "start_time": "2023-01-08T09:41:24.015Z"
   },
   {
    "duration": 14,
    "start_time": "2023-01-08T09:41:24.028Z"
   },
   {
    "duration": 19,
    "start_time": "2023-01-08T09:41:24.044Z"
   },
   {
    "duration": 9,
    "start_time": "2023-01-08T09:41:24.065Z"
   },
   {
    "duration": 9,
    "start_time": "2023-01-08T09:41:24.076Z"
   },
   {
    "duration": 52,
    "start_time": "2023-01-08T09:41:24.086Z"
   },
   {
    "duration": 16,
    "start_time": "2023-01-08T09:41:24.142Z"
   },
   {
    "duration": 8,
    "start_time": "2023-01-08T09:41:24.160Z"
   },
   {
    "duration": 25,
    "start_time": "2023-01-08T09:41:24.169Z"
   },
   {
    "duration": 15,
    "start_time": "2023-01-08T09:41:24.196Z"
   },
   {
    "duration": 23,
    "start_time": "2023-01-08T09:41:24.213Z"
   },
   {
    "duration": 17,
    "start_time": "2023-01-08T09:41:24.237Z"
   },
   {
    "duration": 10,
    "start_time": "2023-01-08T09:41:24.255Z"
   },
   {
    "duration": 23,
    "start_time": "2023-01-08T09:41:24.267Z"
   },
   {
    "duration": 13,
    "start_time": "2023-01-08T09:41:24.291Z"
   },
   {
    "duration": 14,
    "start_time": "2023-01-08T09:41:24.305Z"
   },
   {
    "duration": 176,
    "start_time": "2023-01-08T09:41:24.321Z"
   },
   {
    "duration": 127,
    "start_time": "2023-01-08T09:41:24.498Z"
   },
   {
    "duration": 8,
    "start_time": "2023-01-08T09:41:24.635Z"
   },
   {
    "duration": 13,
    "start_time": "2023-01-08T09:41:24.644Z"
   },
   {
    "duration": 237,
    "start_time": "2023-01-08T09:41:24.659Z"
   },
   {
    "duration": 5,
    "start_time": "2023-01-08T09:41:24.898Z"
   },
   {
    "duration": 18,
    "start_time": "2023-01-08T09:41:24.905Z"
   },
   {
    "duration": 350,
    "start_time": "2023-01-08T09:41:24.925Z"
   },
   {
    "duration": 265,
    "start_time": "2023-01-08T09:41:25.278Z"
   },
   {
    "duration": 7,
    "start_time": "2023-01-08T09:41:25.544Z"
   },
   {
    "duration": 349,
    "start_time": "2023-01-08T09:41:25.552Z"
   },
   {
    "duration": 6,
    "start_time": "2023-01-08T09:41:25.903Z"
   },
   {
    "duration": 333,
    "start_time": "2023-01-08T09:41:25.910Z"
   },
   {
    "duration": 8,
    "start_time": "2023-01-08T09:41:26.245Z"
   },
   {
    "duration": 605,
    "start_time": "2023-01-08T09:41:26.255Z"
   },
   {
    "duration": 314,
    "start_time": "2023-01-08T09:41:26.862Z"
   },
   {
    "duration": 58,
    "start_time": "2023-01-08T09:41:27.178Z"
   },
   {
    "duration": 328,
    "start_time": "2023-01-08T09:41:27.238Z"
   },
   {
    "duration": 4,
    "start_time": "2023-01-08T09:41:27.568Z"
   },
   {
    "duration": 768,
    "start_time": "2023-01-08T09:41:27.574Z"
   },
   {
    "duration": 293,
    "start_time": "2023-01-08T09:41:28.344Z"
   },
   {
    "duration": 171,
    "start_time": "2023-01-08T09:41:28.639Z"
   },
   {
    "duration": 24,
    "start_time": "2023-01-08T09:41:28.812Z"
   },
   {
    "duration": 10,
    "start_time": "2023-01-08T09:41:28.838Z"
   },
   {
    "duration": 47,
    "start_time": "2023-01-08T09:41:28.850Z"
   },
   {
    "duration": 16,
    "start_time": "2023-01-08T09:41:28.898Z"
   },
   {
    "duration": 4,
    "start_time": "2023-01-08T09:44:20.819Z"
   },
   {
    "duration": 440,
    "start_time": "2023-01-08T09:44:32.714Z"
   },
   {
    "duration": 27,
    "start_time": "2023-01-08T09:44:33.156Z"
   },
   {
    "duration": 14,
    "start_time": "2023-01-08T09:44:33.185Z"
   },
   {
    "duration": 23,
    "start_time": "2023-01-08T09:44:33.201Z"
   },
   {
    "duration": 27,
    "start_time": "2023-01-08T09:44:33.225Z"
   },
   {
    "duration": 27,
    "start_time": "2023-01-08T09:44:33.254Z"
   },
   {
    "duration": 13,
    "start_time": "2023-01-08T09:44:33.282Z"
   },
   {
    "duration": 35,
    "start_time": "2023-01-08T09:44:33.296Z"
   },
   {
    "duration": 49,
    "start_time": "2023-01-08T09:44:33.333Z"
   },
   {
    "duration": 23,
    "start_time": "2023-01-08T09:44:33.387Z"
   },
   {
    "duration": 18,
    "start_time": "2023-01-08T09:44:33.412Z"
   },
   {
    "duration": 24,
    "start_time": "2023-01-08T09:44:33.432Z"
   },
   {
    "duration": 29,
    "start_time": "2023-01-08T09:44:33.458Z"
   },
   {
    "duration": 29,
    "start_time": "2023-01-08T09:44:33.489Z"
   },
   {
    "duration": 21,
    "start_time": "2023-01-08T09:44:33.520Z"
   },
   {
    "duration": 12,
    "start_time": "2023-01-08T09:44:33.542Z"
   },
   {
    "duration": 37,
    "start_time": "2023-01-08T09:44:33.556Z"
   },
   {
    "duration": 15,
    "start_time": "2023-01-08T09:44:33.595Z"
   },
   {
    "duration": 26,
    "start_time": "2023-01-08T09:44:33.612Z"
   },
   {
    "duration": 190,
    "start_time": "2023-01-08T09:44:33.640Z"
   },
   {
    "duration": 127,
    "start_time": "2023-01-08T09:44:33.832Z"
   },
   {
    "duration": 7,
    "start_time": "2023-01-08T09:44:33.961Z"
   },
   {
    "duration": 28,
    "start_time": "2023-01-08T09:44:33.969Z"
   },
   {
    "duration": 238,
    "start_time": "2023-01-08T09:44:33.998Z"
   },
   {
    "duration": 6,
    "start_time": "2023-01-08T09:44:34.237Z"
   },
   {
    "duration": 24,
    "start_time": "2023-01-08T09:44:34.244Z"
   },
   {
    "duration": 361,
    "start_time": "2023-01-08T09:44:34.270Z"
   },
   {
    "duration": 256,
    "start_time": "2023-01-08T09:44:34.637Z"
   },
   {
    "duration": 6,
    "start_time": "2023-01-08T09:44:34.895Z"
   },
   {
    "duration": 480,
    "start_time": "2023-01-08T09:44:34.903Z"
   },
   {
    "duration": 55,
    "start_time": "2023-01-08T09:44:35.384Z"
   },
   {
    "duration": 609,
    "start_time": "2023-01-08T09:44:35.440Z"
   },
   {
    "duration": 8,
    "start_time": "2023-01-08T09:44:36.051Z"
   },
   {
    "duration": 585,
    "start_time": "2023-01-08T09:44:36.061Z"
   },
   {
    "duration": 404,
    "start_time": "2023-01-08T09:44:36.648Z"
   },
   {
    "duration": 4,
    "start_time": "2023-01-08T09:44:37.054Z"
   },
   {
    "duration": 254,
    "start_time": "2023-01-08T09:44:37.061Z"
   },
   {
    "duration": 5,
    "start_time": "2023-01-08T09:44:37.318Z"
   },
   {
    "duration": 423,
    "start_time": "2023-01-08T09:44:37.334Z"
   },
   {
    "duration": 241,
    "start_time": "2023-01-08T09:44:37.759Z"
   },
   {
    "duration": 177,
    "start_time": "2023-01-08T09:44:38.002Z"
   },
   {
    "duration": 11,
    "start_time": "2023-01-08T09:44:38.180Z"
   },
   {
    "duration": 18,
    "start_time": "2023-01-08T09:44:38.192Z"
   },
   {
    "duration": 40,
    "start_time": "2023-01-08T09:44:38.211Z"
   },
   {
    "duration": 14,
    "start_time": "2023-01-08T09:44:38.253Z"
   },
   {
    "duration": 4,
    "start_time": "2023-01-08T10:42:58.459Z"
   },
   {
    "duration": 5,
    "start_time": "2023-01-08T10:43:27.530Z"
   },
   {
    "duration": 4,
    "start_time": "2023-01-08T10:45:22.179Z"
   },
   {
    "duration": 709,
    "start_time": "2023-01-08T10:46:44.844Z"
   },
   {
    "duration": 29,
    "start_time": "2023-01-08T10:46:45.555Z"
   },
   {
    "duration": 12,
    "start_time": "2023-01-08T10:46:45.586Z"
   },
   {
    "duration": 14,
    "start_time": "2023-01-08T10:46:45.601Z"
   },
   {
    "duration": 12,
    "start_time": "2023-01-08T10:46:45.617Z"
   },
   {
    "duration": 13,
    "start_time": "2023-01-08T10:46:45.630Z"
   },
   {
    "duration": 10,
    "start_time": "2023-01-08T10:46:45.645Z"
   },
   {
    "duration": 28,
    "start_time": "2023-01-08T10:46:45.657Z"
   },
   {
    "duration": 55,
    "start_time": "2023-01-08T10:46:45.687Z"
   },
   {
    "duration": 16,
    "start_time": "2023-01-08T10:46:45.745Z"
   },
   {
    "duration": 8,
    "start_time": "2023-01-08T10:46:45.762Z"
   },
   {
    "duration": 22,
    "start_time": "2023-01-08T10:46:45.772Z"
   },
   {
    "duration": 46,
    "start_time": "2023-01-08T10:46:45.796Z"
   },
   {
    "duration": 12,
    "start_time": "2023-01-08T10:46:45.844Z"
   },
   {
    "duration": 19,
    "start_time": "2023-01-08T10:46:45.857Z"
   },
   {
    "duration": 23,
    "start_time": "2023-01-08T10:46:45.878Z"
   },
   {
    "duration": 27,
    "start_time": "2023-01-08T10:46:45.903Z"
   },
   {
    "duration": 20,
    "start_time": "2023-01-08T10:46:45.932Z"
   },
   {
    "duration": 17,
    "start_time": "2023-01-08T10:46:45.953Z"
   },
   {
    "duration": 191,
    "start_time": "2023-01-08T10:46:45.971Z"
   },
   {
    "duration": 137,
    "start_time": "2023-01-08T10:46:46.164Z"
   },
   {
    "duration": 7,
    "start_time": "2023-01-08T10:46:46.303Z"
   },
   {
    "duration": 26,
    "start_time": "2023-01-08T10:46:46.312Z"
   },
   {
    "duration": 9,
    "start_time": "2023-01-08T10:46:46.340Z"
   },
   {
    "duration": 12,
    "start_time": "2023-01-08T10:46:46.351Z"
   },
   {
    "duration": 19,
    "start_time": "2023-01-08T10:46:46.364Z"
   },
   {
    "duration": 22,
    "start_time": "2023-01-08T10:46:46.385Z"
   },
   {
    "duration": 370,
    "start_time": "2023-01-08T10:46:46.411Z"
   },
   {
    "duration": 270,
    "start_time": "2023-01-08T10:46:46.782Z"
   },
   {
    "duration": 7,
    "start_time": "2023-01-08T10:46:47.053Z"
   },
   {
    "duration": 343,
    "start_time": "2023-01-08T10:46:47.061Z"
   },
   {
    "duration": 5,
    "start_time": "2023-01-08T10:46:47.406Z"
   },
   {
    "duration": 304,
    "start_time": "2023-01-08T10:46:47.413Z"
   },
   {
    "duration": 17,
    "start_time": "2023-01-08T10:46:47.719Z"
   },
   {
    "duration": 357,
    "start_time": "2023-01-08T10:46:47.737Z"
   },
   {
    "duration": 154,
    "start_time": "2023-01-08T10:46:48.096Z"
   },
   {
    "duration": 5,
    "start_time": "2023-01-08T10:46:48.252Z"
   },
   {
    "duration": 176,
    "start_time": "2023-01-08T10:46:48.259Z"
   },
   {
    "duration": 8,
    "start_time": "2023-01-08T10:46:48.437Z"
   },
   {
    "duration": 450,
    "start_time": "2023-01-08T10:46:48.446Z"
   },
   {
    "duration": 274,
    "start_time": "2023-01-08T10:46:48.897Z"
   },
   {
    "duration": 198,
    "start_time": "2023-01-08T10:46:49.174Z"
   },
   {
    "duration": 12,
    "start_time": "2023-01-08T10:46:49.374Z"
   },
   {
    "duration": 10,
    "start_time": "2023-01-08T10:46:49.388Z"
   },
   {
    "duration": 60,
    "start_time": "2023-01-08T10:46:49.400Z"
   },
   {
    "duration": 16,
    "start_time": "2023-01-08T10:46:49.461Z"
   },
   {
    "duration": 165,
    "start_time": "2023-01-08T10:59:34.558Z"
   },
   {
    "duration": 246,
    "start_time": "2023-01-08T11:02:39.134Z"
   },
   {
    "duration": 3,
    "start_time": "2023-01-08T11:04:35.038Z"
   },
   {
    "duration": 474,
    "start_time": "2023-01-08T11:04:42.220Z"
   },
   {
    "duration": 26,
    "start_time": "2023-01-08T11:04:42.696Z"
   },
   {
    "duration": 15,
    "start_time": "2023-01-08T11:04:42.723Z"
   },
   {
    "duration": 32,
    "start_time": "2023-01-08T11:04:42.740Z"
   },
   {
    "duration": 20,
    "start_time": "2023-01-08T11:04:42.773Z"
   },
   {
    "duration": 13,
    "start_time": "2023-01-08T11:04:42.794Z"
   },
   {
    "duration": 25,
    "start_time": "2023-01-08T11:04:42.808Z"
   },
   {
    "duration": 652,
    "start_time": "2023-01-08T11:04:42.835Z"
   },
   {
    "duration": 36,
    "start_time": "2023-01-08T11:04:43.489Z"
   },
   {
    "duration": 21,
    "start_time": "2023-01-08T11:04:43.529Z"
   },
   {
    "duration": 32,
    "start_time": "2023-01-08T11:04:43.552Z"
   },
   {
    "duration": 76,
    "start_time": "2023-01-08T11:04:43.586Z"
   },
   {
    "duration": 67,
    "start_time": "2023-01-08T11:04:43.664Z"
   },
   {
    "duration": 37,
    "start_time": "2023-01-08T11:04:43.736Z"
   },
   {
    "duration": 33,
    "start_time": "2023-01-08T11:04:43.775Z"
   },
   {
    "duration": 30,
    "start_time": "2023-01-08T11:04:43.810Z"
   },
   {
    "duration": 33,
    "start_time": "2023-01-08T11:04:43.841Z"
   },
   {
    "duration": 24,
    "start_time": "2023-01-08T11:04:43.876Z"
   },
   {
    "duration": 30,
    "start_time": "2023-01-08T11:04:43.901Z"
   },
   {
    "duration": 171,
    "start_time": "2023-01-08T11:04:43.933Z"
   },
   {
    "duration": 115,
    "start_time": "2023-01-08T11:04:44.105Z"
   },
   {
    "duration": 17,
    "start_time": "2023-01-08T11:04:44.222Z"
   },
   {
    "duration": 10,
    "start_time": "2023-01-08T11:04:44.241Z"
   },
   {
    "duration": 10,
    "start_time": "2023-01-08T11:04:44.252Z"
   },
   {
    "duration": 10,
    "start_time": "2023-01-08T11:04:44.264Z"
   },
   {
    "duration": 7,
    "start_time": "2023-01-08T11:04:44.276Z"
   },
   {
    "duration": 7,
    "start_time": "2023-01-08T11:04:44.284Z"
   },
   {
    "duration": 312,
    "start_time": "2023-01-08T11:04:44.294Z"
   },
   {
    "duration": 237,
    "start_time": "2023-01-08T11:04:44.608Z"
   },
   {
    "duration": 6,
    "start_time": "2023-01-08T11:04:44.846Z"
   },
   {
    "duration": 324,
    "start_time": "2023-01-08T11:04:44.854Z"
   },
   {
    "duration": 6,
    "start_time": "2023-01-08T11:04:45.179Z"
   },
   {
    "duration": 237,
    "start_time": "2023-01-08T11:04:45.187Z"
   },
   {
    "duration": 13,
    "start_time": "2023-01-08T11:04:45.426Z"
   },
   {
    "duration": 333,
    "start_time": "2023-01-08T11:04:45.440Z"
   },
   {
    "duration": 176,
    "start_time": "2023-01-08T11:04:45.774Z"
   },
   {
    "duration": 5,
    "start_time": "2023-01-08T11:04:45.952Z"
   },
   {
    "duration": 207,
    "start_time": "2023-01-08T11:04:45.958Z"
   },
   {
    "duration": 5,
    "start_time": "2023-01-08T11:04:46.166Z"
   },
   {
    "duration": 255,
    "start_time": "2023-01-08T11:04:46.172Z"
   },
   {
    "duration": 173,
    "start_time": "2023-01-08T11:04:46.429Z"
   },
   {
    "duration": 11,
    "start_time": "2023-01-08T11:04:46.604Z"
   },
   {
    "duration": 24,
    "start_time": "2023-01-08T11:04:46.617Z"
   },
   {
    "duration": 31,
    "start_time": "2023-01-08T11:04:46.643Z"
   },
   {
    "duration": 14,
    "start_time": "2023-01-08T11:04:46.676Z"
   },
   {
    "duration": 197,
    "start_time": "2023-01-08T11:26:10.653Z"
   },
   {
    "duration": 256,
    "start_time": "2023-01-08T11:26:42.817Z"
   },
   {
    "duration": 180,
    "start_time": "2023-01-08T11:27:08.015Z"
   },
   {
    "duration": 177,
    "start_time": "2023-01-08T11:27:26.387Z"
   },
   {
    "duration": 424,
    "start_time": "2023-01-08T11:27:55.493Z"
   },
   {
    "duration": 26,
    "start_time": "2023-01-08T11:27:55.919Z"
   },
   {
    "duration": 15,
    "start_time": "2023-01-08T11:27:55.947Z"
   },
   {
    "duration": 31,
    "start_time": "2023-01-08T11:27:55.964Z"
   },
   {
    "duration": 15,
    "start_time": "2023-01-08T11:27:55.998Z"
   },
   {
    "duration": 30,
    "start_time": "2023-01-08T11:27:56.015Z"
   },
   {
    "duration": 14,
    "start_time": "2023-01-08T11:27:56.047Z"
   },
   {
    "duration": 763,
    "start_time": "2023-01-08T11:27:56.063Z"
   },
   {
    "duration": 37,
    "start_time": "2023-01-08T11:27:56.827Z"
   },
   {
    "duration": 15,
    "start_time": "2023-01-08T11:27:56.867Z"
   },
   {
    "duration": 9,
    "start_time": "2023-01-08T11:27:56.884Z"
   },
   {
    "duration": 34,
    "start_time": "2023-01-08T11:27:56.894Z"
   },
   {
    "duration": 27,
    "start_time": "2023-01-08T11:27:56.929Z"
   },
   {
    "duration": 20,
    "start_time": "2023-01-08T11:27:56.957Z"
   },
   {
    "duration": 16,
    "start_time": "2023-01-08T11:27:56.979Z"
   },
   {
    "duration": 17,
    "start_time": "2023-01-08T11:27:56.997Z"
   },
   {
    "duration": 41,
    "start_time": "2023-01-08T11:27:57.015Z"
   },
   {
    "duration": 20,
    "start_time": "2023-01-08T11:27:57.058Z"
   },
   {
    "duration": 34,
    "start_time": "2023-01-08T11:27:57.080Z"
   },
   {
    "duration": 202,
    "start_time": "2023-01-08T11:27:57.115Z"
   },
   {
    "duration": 141,
    "start_time": "2023-01-08T11:27:57.318Z"
   },
   {
    "duration": 26,
    "start_time": "2023-01-08T11:27:57.461Z"
   },
   {
    "duration": 44,
    "start_time": "2023-01-08T11:27:57.489Z"
   },
   {
    "duration": 33,
    "start_time": "2023-01-08T11:27:57.535Z"
   },
   {
    "duration": 23,
    "start_time": "2023-01-08T11:27:57.570Z"
   },
   {
    "duration": 16,
    "start_time": "2023-01-08T11:27:57.595Z"
   },
   {
    "duration": 35,
    "start_time": "2023-01-08T11:27:57.613Z"
   },
   {
    "duration": 352,
    "start_time": "2023-01-08T11:27:57.651Z"
   },
   {
    "duration": 262,
    "start_time": "2023-01-08T11:27:58.005Z"
   },
   {
    "duration": 6,
    "start_time": "2023-01-08T11:27:58.268Z"
   },
   {
    "duration": 359,
    "start_time": "2023-01-08T11:27:58.276Z"
   },
   {
    "duration": 6,
    "start_time": "2023-01-08T11:27:58.637Z"
   },
   {
    "duration": 260,
    "start_time": "2023-01-08T11:27:58.645Z"
   },
   {
    "duration": 8,
    "start_time": "2023-01-08T11:27:58.907Z"
   },
   {
    "duration": 367,
    "start_time": "2023-01-08T11:27:58.917Z"
   },
   {
    "duration": 182,
    "start_time": "2023-01-08T11:27:59.286Z"
   },
   {
    "duration": 5,
    "start_time": "2023-01-08T11:27:59.469Z"
   },
   {
    "duration": 193,
    "start_time": "2023-01-08T11:27:59.475Z"
   },
   {
    "duration": 185,
    "start_time": "2023-01-08T11:27:59.670Z"
   },
   {
    "duration": 5,
    "start_time": "2023-01-08T11:27:59.857Z"
   },
   {
    "duration": 331,
    "start_time": "2023-01-08T11:27:59.864Z"
   },
   {
    "duration": 191,
    "start_time": "2023-01-08T11:28:00.196Z"
   },
   {
    "duration": 12,
    "start_time": "2023-01-08T11:28:00.389Z"
   },
   {
    "duration": 43,
    "start_time": "2023-01-08T11:28:00.403Z"
   },
   {
    "duration": 62,
    "start_time": "2023-01-08T11:28:00.448Z"
   },
   {
    "duration": 60,
    "start_time": "2023-01-08T11:28:00.512Z"
   },
   {
    "duration": 180,
    "start_time": "2023-01-08T11:28:55.102Z"
   },
   {
    "duration": 179,
    "start_time": "2023-01-08T11:29:07.907Z"
   },
   {
    "duration": 179,
    "start_time": "2023-01-08T11:30:27.245Z"
   },
   {
    "duration": 183,
    "start_time": "2023-01-08T11:31:40.848Z"
   },
   {
    "duration": 455,
    "start_time": "2023-01-08T11:32:02.906Z"
   },
   {
    "duration": 28,
    "start_time": "2023-01-08T11:32:03.363Z"
   },
   {
    "duration": 15,
    "start_time": "2023-01-08T11:32:03.393Z"
   },
   {
    "duration": 13,
    "start_time": "2023-01-08T11:32:03.410Z"
   },
   {
    "duration": 17,
    "start_time": "2023-01-08T11:32:03.424Z"
   },
   {
    "duration": 16,
    "start_time": "2023-01-08T11:32:03.443Z"
   },
   {
    "duration": 9,
    "start_time": "2023-01-08T11:32:03.461Z"
   },
   {
    "duration": 744,
    "start_time": "2023-01-08T11:32:03.472Z"
   },
   {
    "duration": 36,
    "start_time": "2023-01-08T11:32:04.218Z"
   },
   {
    "duration": 18,
    "start_time": "2023-01-08T11:32:04.257Z"
   },
   {
    "duration": 9,
    "start_time": "2023-01-08T11:32:04.277Z"
   },
   {
    "duration": 33,
    "start_time": "2023-01-08T11:32:04.288Z"
   },
   {
    "duration": 25,
    "start_time": "2023-01-08T11:32:04.323Z"
   },
   {
    "duration": 14,
    "start_time": "2023-01-08T11:32:04.350Z"
   },
   {
    "duration": 11,
    "start_time": "2023-01-08T11:32:04.366Z"
   },
   {
    "duration": 13,
    "start_time": "2023-01-08T11:32:04.379Z"
   },
   {
    "duration": 25,
    "start_time": "2023-01-08T11:32:04.394Z"
   },
   {
    "duration": 24,
    "start_time": "2023-01-08T11:32:04.421Z"
   },
   {
    "duration": 11,
    "start_time": "2023-01-08T11:32:04.447Z"
   },
   {
    "duration": 193,
    "start_time": "2023-01-08T11:32:04.460Z"
   },
   {
    "duration": 145,
    "start_time": "2023-01-08T11:32:04.655Z"
   },
   {
    "duration": 7,
    "start_time": "2023-01-08T11:32:04.802Z"
   },
   {
    "duration": 29,
    "start_time": "2023-01-08T11:32:04.810Z"
   },
   {
    "duration": 14,
    "start_time": "2023-01-08T11:32:04.841Z"
   },
   {
    "duration": 7,
    "start_time": "2023-01-08T11:32:04.857Z"
   },
   {
    "duration": 13,
    "start_time": "2023-01-08T11:32:04.866Z"
   },
   {
    "duration": 12,
    "start_time": "2023-01-08T11:32:04.881Z"
   },
   {
    "duration": 360,
    "start_time": "2023-01-08T11:32:04.897Z"
   },
   {
    "duration": 267,
    "start_time": "2023-01-08T11:32:05.258Z"
   },
   {
    "duration": 9,
    "start_time": "2023-01-08T11:32:05.527Z"
   },
   {
    "duration": 360,
    "start_time": "2023-01-08T11:32:05.538Z"
   },
   {
    "duration": 7,
    "start_time": "2023-01-08T11:32:05.901Z"
   },
   {
    "duration": 297,
    "start_time": "2023-01-08T11:32:05.910Z"
   },
   {
    "duration": 11,
    "start_time": "2023-01-08T11:32:06.209Z"
   },
   {
    "duration": 365,
    "start_time": "2023-01-08T11:32:06.222Z"
   },
   {
    "duration": 210,
    "start_time": "2023-01-08T11:32:06.588Z"
   },
   {
    "duration": 6,
    "start_time": "2023-01-08T11:32:06.800Z"
   },
   {
    "duration": 204,
    "start_time": "2023-01-08T11:32:06.808Z"
   },
   {
    "duration": 213,
    "start_time": "2023-01-08T11:32:07.014Z"
   },
   {
    "duration": 7,
    "start_time": "2023-01-08T11:32:07.230Z"
   },
   {
    "duration": 350,
    "start_time": "2023-01-08T11:32:07.239Z"
   },
   {
    "duration": 211,
    "start_time": "2023-01-08T11:32:07.591Z"
   },
   {
    "duration": 33,
    "start_time": "2023-01-08T11:32:07.804Z"
   },
   {
    "duration": 28,
    "start_time": "2023-01-08T11:32:07.840Z"
   },
   {
    "duration": 42,
    "start_time": "2023-01-08T11:32:07.870Z"
   },
   {
    "duration": 25,
    "start_time": "2023-01-08T11:32:07.914Z"
   },
   {
    "duration": 182,
    "start_time": "2023-01-08T11:45:12.084Z"
   },
   {
    "duration": 159,
    "start_time": "2023-01-08T11:46:00.537Z"
   },
   {
    "duration": 15,
    "start_time": "2023-01-08T11:47:22.127Z"
   },
   {
    "duration": 14,
    "start_time": "2023-01-08T11:48:57.717Z"
   },
   {
    "duration": 5,
    "start_time": "2023-01-08T11:50:39.526Z"
   },
   {
    "duration": 119,
    "start_time": "2023-01-08T11:51:06.036Z"
   },
   {
    "duration": 16,
    "start_time": "2023-01-08T11:53:18.394Z"
   },
   {
    "duration": 9,
    "start_time": "2023-01-08T11:54:01.415Z"
   },
   {
    "duration": 15,
    "start_time": "2023-01-08T11:54:52.962Z"
   },
   {
    "duration": 56,
    "start_time": "2023-01-08T11:55:41.254Z"
   },
   {
    "duration": 16,
    "start_time": "2023-01-08T11:56:10.872Z"
   },
   {
    "duration": 6,
    "start_time": "2023-01-08T11:57:56.334Z"
   },
   {
    "duration": 14,
    "start_time": "2023-01-08T11:58:17.043Z"
   },
   {
    "duration": 12,
    "start_time": "2023-01-08T11:59:08.834Z"
   },
   {
    "duration": 10,
    "start_time": "2023-01-08T12:01:31.353Z"
   },
   {
    "duration": 434,
    "start_time": "2023-01-08T12:02:15.205Z"
   },
   {
    "duration": 26,
    "start_time": "2023-01-08T12:02:15.641Z"
   },
   {
    "duration": 15,
    "start_time": "2023-01-08T12:02:15.669Z"
   },
   {
    "duration": 17,
    "start_time": "2023-01-08T12:02:15.685Z"
   },
   {
    "duration": 17,
    "start_time": "2023-01-08T12:02:15.704Z"
   },
   {
    "duration": 17,
    "start_time": "2023-01-08T12:02:15.723Z"
   },
   {
    "duration": 27,
    "start_time": "2023-01-08T12:02:15.741Z"
   },
   {
    "duration": 700,
    "start_time": "2023-01-08T12:02:15.770Z"
   },
   {
    "duration": 38,
    "start_time": "2023-01-08T12:02:16.471Z"
   },
   {
    "duration": 15,
    "start_time": "2023-01-08T12:02:16.510Z"
   },
   {
    "duration": 16,
    "start_time": "2023-01-08T12:02:16.527Z"
   },
   {
    "duration": 24,
    "start_time": "2023-01-08T12:02:16.544Z"
   },
   {
    "duration": 18,
    "start_time": "2023-01-08T12:02:16.569Z"
   },
   {
    "duration": 8,
    "start_time": "2023-01-08T12:02:16.590Z"
   },
   {
    "duration": 8,
    "start_time": "2023-01-08T12:02:16.599Z"
   },
   {
    "duration": 8,
    "start_time": "2023-01-08T12:02:16.608Z"
   },
   {
    "duration": 22,
    "start_time": "2023-01-08T12:02:16.636Z"
   },
   {
    "duration": 15,
    "start_time": "2023-01-08T12:02:16.661Z"
   },
   {
    "duration": 12,
    "start_time": "2023-01-08T12:02:16.677Z"
   },
   {
    "duration": 204,
    "start_time": "2023-01-08T12:02:16.691Z"
   },
   {
    "duration": 130,
    "start_time": "2023-01-08T12:02:16.897Z"
   },
   {
    "duration": 8,
    "start_time": "2023-01-08T12:02:17.034Z"
   },
   {
    "duration": 8,
    "start_time": "2023-01-08T12:02:17.044Z"
   },
   {
    "duration": 8,
    "start_time": "2023-01-08T12:02:17.053Z"
   },
   {
    "duration": 5,
    "start_time": "2023-01-08T12:02:17.063Z"
   },
   {
    "duration": 7,
    "start_time": "2023-01-08T12:02:17.069Z"
   },
   {
    "duration": 6,
    "start_time": "2023-01-08T12:02:17.077Z"
   },
   {
    "duration": 369,
    "start_time": "2023-01-08T12:02:17.085Z"
   },
   {
    "duration": 269,
    "start_time": "2023-01-08T12:02:17.456Z"
   },
   {
    "duration": 12,
    "start_time": "2023-01-08T12:02:17.726Z"
   },
   {
    "duration": 360,
    "start_time": "2023-01-08T12:02:17.740Z"
   },
   {
    "duration": 6,
    "start_time": "2023-01-08T12:02:18.102Z"
   },
   {
    "duration": 248,
    "start_time": "2023-01-08T12:02:18.110Z"
   },
   {
    "duration": 10,
    "start_time": "2023-01-08T12:02:18.360Z"
   },
   {
    "duration": 317,
    "start_time": "2023-01-08T12:02:18.371Z"
   },
   {
    "duration": 169,
    "start_time": "2023-01-08T12:02:18.689Z"
   },
   {
    "duration": 5,
    "start_time": "2023-01-08T12:02:18.860Z"
   },
   {
    "duration": 201,
    "start_time": "2023-01-08T12:02:18.867Z"
   },
   {
    "duration": 212,
    "start_time": "2023-01-08T12:02:19.070Z"
   },
   {
    "duration": 4,
    "start_time": "2023-01-08T12:02:19.283Z"
   },
   {
    "duration": 335,
    "start_time": "2023-01-08T12:02:19.291Z"
   },
   {
    "duration": 180,
    "start_time": "2023-01-08T12:02:19.628Z"
   },
   {
    "duration": 26,
    "start_time": "2023-01-08T12:02:19.809Z"
   },
   {
    "duration": 10,
    "start_time": "2023-01-08T12:02:19.837Z"
   },
   {
    "duration": 32,
    "start_time": "2023-01-08T12:02:19.849Z"
   },
   {
    "duration": 15,
    "start_time": "2023-01-08T12:02:19.883Z"
   },
   {
    "duration": 4,
    "start_time": "2023-01-08T12:07:55.887Z"
   },
   {
    "duration": 90,
    "start_time": "2023-01-08T12:11:14.064Z"
   },
   {
    "duration": 12,
    "start_time": "2023-01-08T12:11:17.359Z"
   },
   {
    "duration": 6,
    "start_time": "2023-01-08T12:11:37.415Z"
   },
   {
    "duration": 4,
    "start_time": "2023-01-08T12:11:41.526Z"
   },
   {
    "duration": 6,
    "start_time": "2023-01-08T12:11:54.445Z"
   },
   {
    "duration": 5,
    "start_time": "2023-01-08T12:12:05.255Z"
   },
   {
    "duration": 5,
    "start_time": "2023-01-08T12:12:12.566Z"
   },
   {
    "duration": 11,
    "start_time": "2023-01-08T12:12:31.066Z"
   },
   {
    "duration": 9,
    "start_time": "2023-01-08T12:12:38.905Z"
   },
   {
    "duration": 4,
    "start_time": "2023-01-08T12:13:08.138Z"
   },
   {
    "duration": 6,
    "start_time": "2023-01-08T12:13:52.855Z"
   },
   {
    "duration": 9,
    "start_time": "2023-01-08T12:14:27.756Z"
   },
   {
    "duration": 9,
    "start_time": "2023-01-08T12:15:20.785Z"
   },
   {
    "duration": 414,
    "start_time": "2023-01-08T12:18:06.553Z"
   },
   {
    "duration": 26,
    "start_time": "2023-01-08T12:18:06.969Z"
   },
   {
    "duration": 13,
    "start_time": "2023-01-08T12:18:06.996Z"
   },
   {
    "duration": 10,
    "start_time": "2023-01-08T12:18:07.011Z"
   },
   {
    "duration": 5,
    "start_time": "2023-01-08T12:18:07.023Z"
   },
   {
    "duration": 12,
    "start_time": "2023-01-08T12:18:07.035Z"
   },
   {
    "duration": 10,
    "start_time": "2023-01-08T12:18:07.048Z"
   },
   {
    "duration": 663,
    "start_time": "2023-01-08T12:18:07.059Z"
   },
   {
    "duration": 36,
    "start_time": "2023-01-08T12:18:07.723Z"
   },
   {
    "duration": 14,
    "start_time": "2023-01-08T12:18:07.762Z"
   },
   {
    "duration": 9,
    "start_time": "2023-01-08T12:18:07.778Z"
   },
   {
    "duration": 19,
    "start_time": "2023-01-08T12:18:07.788Z"
   },
   {
    "duration": 13,
    "start_time": "2023-01-08T12:18:07.809Z"
   },
   {
    "duration": 7,
    "start_time": "2023-01-08T12:18:07.823Z"
   },
   {
    "duration": 12,
    "start_time": "2023-01-08T12:18:07.832Z"
   },
   {
    "duration": 34,
    "start_time": "2023-01-08T12:18:07.845Z"
   },
   {
    "duration": 29,
    "start_time": "2023-01-08T12:18:07.881Z"
   },
   {
    "duration": 12,
    "start_time": "2023-01-08T12:18:07.912Z"
   },
   {
    "duration": 6,
    "start_time": "2023-01-08T12:18:07.926Z"
   },
   {
    "duration": 166,
    "start_time": "2023-01-08T12:18:07.933Z"
   },
   {
    "duration": 121,
    "start_time": "2023-01-08T12:18:08.102Z"
   },
   {
    "duration": 13,
    "start_time": "2023-01-08T12:18:08.225Z"
   },
   {
    "duration": 15,
    "start_time": "2023-01-08T12:18:08.239Z"
   },
   {
    "duration": 10,
    "start_time": "2023-01-08T12:18:08.256Z"
   },
   {
    "duration": 8,
    "start_time": "2023-01-08T12:18:08.267Z"
   },
   {
    "duration": 9,
    "start_time": "2023-01-08T12:18:08.276Z"
   },
   {
    "duration": 20,
    "start_time": "2023-01-08T12:18:08.286Z"
   },
   {
    "duration": 322,
    "start_time": "2023-01-08T12:18:08.309Z"
   },
   {
    "duration": 259,
    "start_time": "2023-01-08T12:18:08.635Z"
   },
   {
    "duration": 6,
    "start_time": "2023-01-08T12:18:08.895Z"
   },
   {
    "duration": 362,
    "start_time": "2023-01-08T12:18:08.902Z"
   },
   {
    "duration": 6,
    "start_time": "2023-01-08T12:18:09.265Z"
   },
   {
    "duration": 231,
    "start_time": "2023-01-08T12:18:09.272Z"
   },
   {
    "duration": 7,
    "start_time": "2023-01-08T12:18:09.504Z"
   },
   {
    "duration": 363,
    "start_time": "2023-01-08T12:18:09.513Z"
   },
   {
    "duration": 181,
    "start_time": "2023-01-08T12:18:09.878Z"
   },
   {
    "duration": 5,
    "start_time": "2023-01-08T12:18:10.061Z"
   },
   {
    "duration": 19,
    "start_time": "2023-01-08T12:18:10.068Z"
   },
   {
    "duration": 214,
    "start_time": "2023-01-08T12:18:10.089Z"
   },
   {
    "duration": 199,
    "start_time": "2023-01-08T12:18:10.305Z"
   },
   {
    "duration": 4,
    "start_time": "2023-01-08T12:18:10.506Z"
   },
   {
    "duration": 329,
    "start_time": "2023-01-08T12:18:10.512Z"
   },
   {
    "duration": 180,
    "start_time": "2023-01-08T12:18:10.843Z"
   },
   {
    "duration": 16,
    "start_time": "2023-01-08T12:18:11.025Z"
   },
   {
    "duration": 9,
    "start_time": "2023-01-08T12:18:11.043Z"
   },
   {
    "duration": 29,
    "start_time": "2023-01-08T12:18:11.054Z"
   },
   {
    "duration": 14,
    "start_time": "2023-01-08T12:18:11.085Z"
   },
   {
    "duration": 28,
    "start_time": "2023-01-08T12:19:42.935Z"
   },
   {
    "duration": 16,
    "start_time": "2023-01-08T12:20:55.635Z"
   },
   {
    "duration": 439,
    "start_time": "2023-01-08T12:32:27.145Z"
   },
   {
    "duration": 27,
    "start_time": "2023-01-08T12:32:27.586Z"
   },
   {
    "duration": 14,
    "start_time": "2023-01-08T12:32:27.615Z"
   },
   {
    "duration": 11,
    "start_time": "2023-01-08T12:32:27.630Z"
   },
   {
    "duration": 9,
    "start_time": "2023-01-08T12:32:27.642Z"
   },
   {
    "duration": 27,
    "start_time": "2023-01-08T12:32:27.653Z"
   },
   {
    "duration": 15,
    "start_time": "2023-01-08T12:32:27.682Z"
   },
   {
    "duration": 701,
    "start_time": "2023-01-08T12:32:27.699Z"
   },
   {
    "duration": 37,
    "start_time": "2023-01-08T12:32:28.402Z"
   },
   {
    "duration": 15,
    "start_time": "2023-01-08T12:32:28.442Z"
   },
   {
    "duration": 7,
    "start_time": "2023-01-08T12:32:28.458Z"
   },
   {
    "duration": 28,
    "start_time": "2023-01-08T12:32:28.467Z"
   },
   {
    "duration": 24,
    "start_time": "2023-01-08T12:32:28.496Z"
   },
   {
    "duration": 25,
    "start_time": "2023-01-08T12:32:28.521Z"
   },
   {
    "duration": 15,
    "start_time": "2023-01-08T12:32:28.548Z"
   },
   {
    "duration": 13,
    "start_time": "2023-01-08T12:32:28.565Z"
   },
   {
    "duration": 24,
    "start_time": "2023-01-08T12:32:28.580Z"
   },
   {
    "duration": 22,
    "start_time": "2023-01-08T12:32:28.606Z"
   },
   {
    "duration": 21,
    "start_time": "2023-01-08T12:32:28.629Z"
   },
   {
    "duration": 169,
    "start_time": "2023-01-08T12:32:28.651Z"
   },
   {
    "duration": 127,
    "start_time": "2023-01-08T12:32:28.822Z"
   },
   {
    "duration": 7,
    "start_time": "2023-01-08T12:32:28.950Z"
   },
   {
    "duration": 12,
    "start_time": "2023-01-08T12:32:28.958Z"
   },
   {
    "duration": 30,
    "start_time": "2023-01-08T12:32:28.972Z"
   },
   {
    "duration": 8,
    "start_time": "2023-01-08T12:32:29.004Z"
   },
   {
    "duration": 10,
    "start_time": "2023-01-08T12:32:29.014Z"
   },
   {
    "duration": 12,
    "start_time": "2023-01-08T12:32:29.026Z"
   },
   {
    "duration": 361,
    "start_time": "2023-01-08T12:32:29.042Z"
   },
   {
    "duration": 262,
    "start_time": "2023-01-08T12:32:29.405Z"
   },
   {
    "duration": 7,
    "start_time": "2023-01-08T12:32:29.669Z"
   },
   {
    "duration": 360,
    "start_time": "2023-01-08T12:32:29.678Z"
   },
   {
    "duration": 6,
    "start_time": "2023-01-08T12:32:30.040Z"
   },
   {
    "duration": 245,
    "start_time": "2023-01-08T12:32:30.048Z"
   },
   {
    "duration": 8,
    "start_time": "2023-01-08T12:32:30.295Z"
   },
   {
    "duration": 402,
    "start_time": "2023-01-08T12:32:30.305Z"
   },
   {
    "duration": 180,
    "start_time": "2023-01-08T12:32:30.709Z"
   },
   {
    "duration": 6,
    "start_time": "2023-01-08T12:32:30.891Z"
   },
   {
    "duration": 29,
    "start_time": "2023-01-08T12:32:30.899Z"
   },
   {
    "duration": 194,
    "start_time": "2023-01-08T12:32:30.930Z"
   },
   {
    "duration": 200,
    "start_time": "2023-01-08T12:32:31.126Z"
   },
   {
    "duration": 10,
    "start_time": "2023-01-08T12:32:31.328Z"
   },
   {
    "duration": 333,
    "start_time": "2023-01-08T12:32:31.340Z"
   },
   {
    "duration": 173,
    "start_time": "2023-01-08T12:32:31.676Z"
   },
   {
    "duration": 11,
    "start_time": "2023-01-08T12:32:31.851Z"
   },
   {
    "duration": 34,
    "start_time": "2023-01-08T12:32:31.865Z"
   },
   {
    "duration": 39,
    "start_time": "2023-01-08T12:32:31.900Z"
   },
   {
    "duration": 20,
    "start_time": "2023-01-08T12:32:31.941Z"
   },
   {
    "duration": 69,
    "start_time": "2023-01-09T08:12:08.433Z"
   },
   {
    "duration": 387,
    "start_time": "2023-01-09T08:12:18.765Z"
   },
   {
    "duration": 82,
    "start_time": "2023-01-09T08:12:19.157Z"
   },
   {
    "duration": 18,
    "start_time": "2023-01-09T08:12:19.243Z"
   },
   {
    "duration": 13,
    "start_time": "2023-01-09T08:12:19.264Z"
   },
   {
    "duration": 9,
    "start_time": "2023-01-09T08:12:19.279Z"
   },
   {
    "duration": 17,
    "start_time": "2023-01-09T08:12:19.290Z"
   },
   {
    "duration": 10,
    "start_time": "2023-01-09T08:12:19.309Z"
   },
   {
    "duration": 839,
    "start_time": "2023-01-09T08:12:19.326Z"
   },
   {
    "duration": 90,
    "start_time": "2023-01-09T08:12:20.166Z"
   },
   {
    "duration": 82,
    "start_time": "2023-01-09T08:12:20.259Z"
   },
   {
    "duration": 8,
    "start_time": "2023-01-09T08:12:20.343Z"
   },
   {
    "duration": 26,
    "start_time": "2023-01-09T08:12:20.352Z"
   },
   {
    "duration": 14,
    "start_time": "2023-01-09T08:12:20.380Z"
   },
   {
    "duration": 9,
    "start_time": "2023-01-09T08:12:20.396Z"
   },
   {
    "duration": 13,
    "start_time": "2023-01-09T08:12:20.407Z"
   },
   {
    "duration": 18,
    "start_time": "2023-01-09T08:12:20.422Z"
   },
   {
    "duration": 27,
    "start_time": "2023-01-09T08:12:20.441Z"
   },
   {
    "duration": 11,
    "start_time": "2023-01-09T08:12:20.469Z"
   },
   {
    "duration": 15,
    "start_time": "2023-01-09T08:12:20.482Z"
   },
   {
    "duration": 179,
    "start_time": "2023-01-09T08:12:20.499Z"
   },
   {
    "duration": 155,
    "start_time": "2023-01-09T08:12:20.679Z"
   },
   {
    "duration": 11,
    "start_time": "2023-01-09T08:12:20.843Z"
   },
   {
    "duration": 12,
    "start_time": "2023-01-09T08:12:20.856Z"
   },
   {
    "duration": 13,
    "start_time": "2023-01-09T08:12:20.869Z"
   },
   {
    "duration": 9,
    "start_time": "2023-01-09T08:12:20.884Z"
   },
   {
    "duration": 14,
    "start_time": "2023-01-09T08:12:20.895Z"
   },
   {
    "duration": 7,
    "start_time": "2023-01-09T08:12:20.911Z"
   },
   {
    "duration": 341,
    "start_time": "2023-01-09T08:12:20.922Z"
   },
   {
    "duration": 243,
    "start_time": "2023-01-09T08:12:21.266Z"
   },
   {
    "duration": 6,
    "start_time": "2023-01-09T08:12:21.510Z"
   },
   {
    "duration": 493,
    "start_time": "2023-01-09T08:12:21.526Z"
   },
   {
    "duration": 17,
    "start_time": "2023-01-09T08:12:22.021Z"
   },
   {
    "duration": 240,
    "start_time": "2023-01-09T08:12:22.042Z"
   },
   {
    "duration": 8,
    "start_time": "2023-01-09T08:12:22.284Z"
   },
   {
    "duration": 390,
    "start_time": "2023-01-09T08:12:22.293Z"
   },
   {
    "duration": 177,
    "start_time": "2023-01-09T08:12:22.685Z"
   },
   {
    "duration": 5,
    "start_time": "2023-01-09T08:12:22.864Z"
   },
   {
    "duration": 8,
    "start_time": "2023-01-09T08:12:22.871Z"
   },
   {
    "duration": 204,
    "start_time": "2023-01-09T08:12:22.881Z"
   },
   {
    "duration": 258,
    "start_time": "2023-01-09T08:12:23.086Z"
   },
   {
    "duration": 5,
    "start_time": "2023-01-09T08:12:23.346Z"
   },
   {
    "duration": 224,
    "start_time": "2023-01-09T08:12:23.353Z"
   },
   {
    "duration": 178,
    "start_time": "2023-01-09T08:12:23.578Z"
   },
   {
    "duration": 13,
    "start_time": "2023-01-09T08:12:23.758Z"
   },
   {
    "duration": 10,
    "start_time": "2023-01-09T08:12:23.773Z"
   },
   {
    "duration": 54,
    "start_time": "2023-01-09T08:12:23.785Z"
   },
   {
    "duration": 19,
    "start_time": "2023-01-09T08:12:23.840Z"
   },
   {
    "duration": 373,
    "start_time": "2023-01-09T08:12:56.550Z"
   },
   {
    "duration": 36,
    "start_time": "2023-01-09T08:12:56.927Z"
   },
   {
    "duration": 12,
    "start_time": "2023-01-09T08:12:56.965Z"
   },
   {
    "duration": 10,
    "start_time": "2023-01-09T08:12:56.979Z"
   },
   {
    "duration": 8,
    "start_time": "2023-01-09T08:12:56.990Z"
   },
   {
    "duration": 16,
    "start_time": "2023-01-09T08:12:56.999Z"
   },
   {
    "duration": 16,
    "start_time": "2023-01-09T08:12:57.018Z"
   },
   {
    "duration": 705,
    "start_time": "2023-01-09T08:12:57.043Z"
   },
   {
    "duration": 36,
    "start_time": "2023-01-09T08:12:57.750Z"
   },
   {
    "duration": 14,
    "start_time": "2023-01-09T08:12:57.788Z"
   },
   {
    "duration": 8,
    "start_time": "2023-01-09T08:12:57.804Z"
   },
   {
    "duration": 38,
    "start_time": "2023-01-09T08:12:57.814Z"
   },
   {
    "duration": 30,
    "start_time": "2023-01-09T08:12:57.855Z"
   },
   {
    "duration": 11,
    "start_time": "2023-01-09T08:12:57.886Z"
   },
   {
    "duration": 8,
    "start_time": "2023-01-09T08:12:57.898Z"
   },
   {
    "duration": 7,
    "start_time": "2023-01-09T08:12:57.908Z"
   },
   {
    "duration": 30,
    "start_time": "2023-01-09T08:12:57.917Z"
   },
   {
    "duration": 18,
    "start_time": "2023-01-09T08:12:57.949Z"
   },
   {
    "duration": 8,
    "start_time": "2023-01-09T08:12:57.968Z"
   },
   {
    "duration": 180,
    "start_time": "2023-01-09T08:12:57.978Z"
   },
   {
    "duration": 133,
    "start_time": "2023-01-09T08:12:58.160Z"
   },
   {
    "duration": 7,
    "start_time": "2023-01-09T08:12:58.295Z"
   },
   {
    "duration": 37,
    "start_time": "2023-01-09T08:12:58.303Z"
   },
   {
    "duration": 10,
    "start_time": "2023-01-09T08:12:58.343Z"
   },
   {
    "duration": 36,
    "start_time": "2023-01-09T08:12:58.355Z"
   },
   {
    "duration": 28,
    "start_time": "2023-01-09T08:12:58.393Z"
   },
   {
    "duration": 54,
    "start_time": "2023-01-09T08:12:58.423Z"
   },
   {
    "duration": 332,
    "start_time": "2023-01-09T08:12:58.481Z"
   },
   {
    "duration": 245,
    "start_time": "2023-01-09T08:12:58.815Z"
   },
   {
    "duration": 6,
    "start_time": "2023-01-09T08:12:59.061Z"
   },
   {
    "duration": 333,
    "start_time": "2023-01-09T08:12:59.069Z"
   },
   {
    "duration": 6,
    "start_time": "2023-01-09T08:12:59.403Z"
   },
   {
    "duration": 257,
    "start_time": "2023-01-09T08:12:59.410Z"
   },
   {
    "duration": 8,
    "start_time": "2023-01-09T08:12:59.668Z"
   },
   {
    "duration": 385,
    "start_time": "2023-01-09T08:12:59.678Z"
   },
   {
    "duration": 196,
    "start_time": "2023-01-09T08:13:00.065Z"
   },
   {
    "duration": 6,
    "start_time": "2023-01-09T08:13:00.263Z"
   },
   {
    "duration": 21,
    "start_time": "2023-01-09T08:13:00.270Z"
   },
   {
    "duration": 193,
    "start_time": "2023-01-09T08:13:00.293Z"
   },
   {
    "duration": 198,
    "start_time": "2023-01-09T08:13:00.488Z"
   },
   {
    "duration": 5,
    "start_time": "2023-01-09T08:13:00.688Z"
   },
   {
    "duration": 335,
    "start_time": "2023-01-09T08:13:00.695Z"
   },
   {
    "duration": 170,
    "start_time": "2023-01-09T08:13:01.038Z"
   },
   {
    "duration": 25,
    "start_time": "2023-01-09T08:13:01.210Z"
   },
   {
    "duration": 66,
    "start_time": "2023-01-09T08:13:01.242Z"
   },
   {
    "duration": 63,
    "start_time": "2023-01-09T08:13:01.310Z"
   },
   {
    "duration": 47,
    "start_time": "2023-01-09T08:13:01.374Z"
   }
  ],
  "kernelspec": {
   "display_name": "Python 3 (ipykernel)",
   "language": "python",
   "name": "python3"
  },
  "language_info": {
   "codemirror_mode": {
    "name": "ipython",
    "version": 3
   },
   "file_extension": ".py",
   "mimetype": "text/x-python",
   "name": "python",
   "nbconvert_exporter": "python",
   "pygments_lexer": "ipython3",
   "version": "3.9.5"
  },
  "toc": {
   "base_numbering": 1,
   "nav_menu": {},
   "number_sections": true,
   "sideBar": true,
   "skip_h1_title": true,
   "title_cell": "Table of Contents",
   "title_sidebar": "Contents",
   "toc_cell": false,
   "toc_position": {
    "height": "calc(100% - 180px)",
    "left": "10px",
    "top": "150px",
    "width": "366.188px"
   },
   "toc_section_display": true,
   "toc_window_display": false
  }
 },
 "nbformat": 4,
 "nbformat_minor": 2
}
